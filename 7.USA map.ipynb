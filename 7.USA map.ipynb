{
 "cells": [
  {
   "cell_type": "markdown",
   "metadata": {},
   "source": [
    "# USA State Map\n",
    "\n",
    "This USA state map will dispaly the prediction of several crimes in the year 2019.\n",
    "In additon, Upon hovering each state it will consist the following:\n",
    "1) The predicted crime number in 2019.<br>\n",
    "2) Actual crime number for the year 2019 (normalized).<br>\n",
    "3) The diviation between the predicted and the actual number (percent).<br>\n",
    "\n",
    "The predicted crimes are:\n",
    "* Property crime\n",
    "* Vehicle theft \n",
    "* Aassault\n",
    "\n",
    "**All the values will be on scale from 0 to 1"
   ]
  },
  {
   "cell_type": "code",
   "execution_count": null,
   "metadata": {},
   "outputs": [],
   "source": [
    "import pandas as pd\n",
    "import plotly\n",
    "import plotly.express as px\n",
    "import plotly.graph_objects as go\n",
    "import dash\n",
    "import dash_core_components as dcc\n",
    "import dash_html_components as html\n",
    "from dash.dependencies import Input, Output, State\n",
    "from dash.exceptions import PreventUpdate"
   ]
  },
  {
   "cell_type": "code",
   "execution_count": 56,
   "metadata": {},
   "outputs": [],
   "source": [
    "#Data with code by state\n",
    "df = pd.read_csv('https://raw.githubusercontent.com/plotly/datasets/master/2011_us_ag_exports.csv')\n",
    "df.rename(columns={\"state\": \"State\"}, inplace=True)\n",
    "df_code=df.drop(df.iloc[:,2:], axis=1)\n",
    "\n",
    "#Liniar regretion model\n",
    "path='/Users/barbenshabat/Downloads/Datascience/project/'\n",
    "name='Lr models 123.xlsx'\n",
    "df_models=pd.read_excel(path+name, index_col=0) # read each file in the folder\n",
    "df_models.reset_index(drop=True, inplace=True)\n",
    "\n",
    "#Match state name to code\n",
    "df_models['State'] = df_models['State'].str.title()\n",
    "df_models['Total crime Prediction'] = df_models['Predict Aggravated assault'] + df_models['Predict Motor vehicle theft'] + df_models['Predict Property crime']\n",
    "\n",
    "\n",
    "df = pd.merge(df_models,df_code, how=\"left\", on=[\"State\"])\n",
    "first_column = df.pop('code')\n",
    "df.insert(0, 'code', first_column)\n"
   ]
  },
  {
   "cell_type": "code",
   "execution_count": 58,
   "metadata": {},
   "outputs": [
    {
     "data": {
      "application/vnd.plotly.v1+json": {
       "config": {
        "plotlyServerURL": "https://plot.ly"
       },
       "data": [
        {
         "autocolorscale": false,
         "colorbar": {
          "title": {
           "text": "Total predictoin"
          }
         },
         "colorscale": [
          [
           0,
           "rgb(247,251,255)"
          ],
          [
           0.125,
           "rgb(222,235,247)"
          ],
          [
           0.25,
           "rgb(198,219,239)"
          ],
          [
           0.375,
           "rgb(158,202,225)"
          ],
          [
           0.5,
           "rgb(107,174,214)"
          ],
          [
           0.625,
           "rgb(66,146,198)"
          ],
          [
           0.75,
           "rgb(33,113,181)"
          ],
          [
           0.875,
           "rgb(8,81,156)"
          ],
          [
           1,
           "rgb(8,48,107)"
          ]
         ],
         "hovertemplate": [
          "Alaska<br>----------------------------------------<br>Aassault 0.042<br>Predicted assault 0.018<br>Deviation: 1.226 % <br>----------------------------------------<br>Vehicle theft 0.016<br>Predicted Vehicle theft 0.024<br>Deviation: 0.583 % <br>----------------------------------------<br>Property crime 0.021<br>Predicted Property crime 0.013<br>Deviation: 0.884 % <br>----------------------------------------<br>Total crime presiction: 0.055<br>",
          "Arizona<br>----------------------------------------<br>Aassault 0.212<br>Predicted assault 0.157<br>Deviation: 2.694 % <br>----------------------------------------<br>Vehicle theft 0.114<br>Predicted Vehicle theft 0.095<br>Deviation: 1.248 % <br>----------------------------------------<br>Property crime 0.188<br>Predicted Property crime 0.15<br>Deviation: 4.294 % <br>----------------------------------------<br>Total crime presiction: 0.403<br>",
          "Arkansas<br>----------------------------------------<br>Aassault 0.128<br>Predicted assault 0.061<br>Deviation: 3.311 % <br>----------------------------------------<br>Vehicle theft 0.038<br>Predicted Vehicle theft 0.03<br>Deviation: 0.564 % <br>----------------------------------------<br>Property crime 0.077<br>Predicted Property crime 0.066<br>Deviation: 1.253 % <br>----------------------------------------<br>Total crime presiction: 0.157<br>",
          "California<br>----------------------------------------<br>Aassault 0.952<br>Predicted assault 0.979<br>Deviation: 1.347 % <br>----------------------------------------<br>Vehicle theft 0.777<br>Predicted Vehicle theft 0.966<br>Deviation: 12.933 % <br>----------------------------------------<br>Property crime 0.873<br>Predicted Property crime 0.781<br>Deviation: 10.641 % <br>----------------------------------------<br>Total crime presiction: 2.726<br>",
          "Colorado<br>----------------------------------------<br>Aassault 0.144<br>Predicted assault 0.148<br>Deviation: 0.194 % <br>----------------------------------------<br>Vehicle theft 0.128<br>Predicted Vehicle theft 0.069<br>Deviation: 4.057 % <br>----------------------------------------<br>Property crime 0.145<br>Predicted Property crime 0.11<br>Deviation: 4.124 % <br>----------------------------------------<br>Total crime presiction: 0.326<br>",
          "Connecticut<br>----------------------------------------<br>Aassault 0.035<br>Predicted assault 0.066<br>Deviation: 1.546 % <br>----------------------------------------<br>Vehicle theft 0.036<br>Predicted Vehicle theft 0.045<br>Deviation: 0.644 % <br>----------------------------------------<br>Property crime 0.052<br>Predicted Property crime 0.048<br>Deviation: 0.422 % <br>----------------------------------------<br>Total crime presiction: 0.159<br>",
          "Delaware<br>----------------------------------------<br>Aassault 0.016<br>Predicted assault 0.019<br>Deviation: 0.13 % <br>----------------------------------------<br>Vehicle theft 0.005<br>Predicted Vehicle theft 0.023<br>Deviation: 1.261 % <br>----------------------------------------<br>Property crime 0.01<br>Predicted Property crime 0.009<br>Deviation: 0.17 % <br>----------------------------------------<br>Total crime presiction: 0.051<br>",
          "District Of Columbia<br>----------------------------------------<br>Aassault 0.052<br>Predicted assault 0.028<br>Deviation: 1.19 % <br>----------------------------------------<br>Vehicle theft 0.017<br>Predicted Vehicle theft 0.028<br>Deviation: 0.728 % <br>----------------------------------------<br>Property crime 0.036<br>Predicted Property crime 0.008<br>Deviation: 3.284 % <br>----------------------------------------<br>Total crime presiction: 0.063<br>",
          "Florida<br>----------------------------------------<br>Aassault 0.369<br>Predicted assault 0.428<br>Deviation: 2.926 % <br>----------------------------------------<br>Vehicle theft 0.161<br>Predicted Vehicle theft 0.214<br>Deviation: 3.622 % <br>----------------------------------------<br>Property crime 0.326<br>Predicted Property crime 0.278<br>Deviation: 5.537 % <br>----------------------------------------<br>Total crime presiction: 0.921<br>",
          "Hawaii<br>----------------------------------------<br>Aassault 0.015<br>Predicted assault 0.027<br>Deviation: 0.572 % <br>----------------------------------------<br>Vehicle theft 0.029<br>Predicted Vehicle theft 0.066<br>Deviation: 2.53 % <br>----------------------------------------<br>Property crime 0.035<br>Predicted Property crime 0.024<br>Deviation: 1.267 % <br>----------------------------------------<br>Total crime presiction: 0.117<br>",
          "Idaho<br>----------------------------------------<br>Aassault 0.024<br>Predicted assault 0.038<br>Deviation: 0.682 % <br>----------------------------------------<br>Vehicle theft 0.008<br>Predicted Vehicle theft 0.027<br>Deviation: 1.302 % <br>----------------------------------------<br>Property crime 0.019<br>Predicted Property crime 0.025<br>Deviation: 0.662 % <br>----------------------------------------<br>Total crime presiction: 0.089<br>",
          "Illinois<br>----------------------------------------<br>Aassault 0.349<br>Predicted assault 0.281<br>Deviation: 3.321 % <br>----------------------------------------<br>Vehicle theft 0.112<br>Predicted Vehicle theft 0.125<br>Deviation: 0.918 % <br>----------------------------------------<br>Property crime 0.221<br>Predicted Property crime 0.21<br>Deviation: 1.209 % <br>----------------------------------------<br>Total crime presiction: 0.617<br>",
          "Indiana<br>----------------------------------------<br>Aassault 0.039<br>Predicted assault 0.138<br>Deviation: 4.88 % <br>----------------------------------------<br>Vehicle theft 0.022<br>Predicted Vehicle theft 0.046<br>Deviation: 1.602 % <br>----------------------------------------<br>Property crime 0.041<br>Predicted Property crime 0.077<br>Deviation: 4.058 % <br>----------------------------------------<br>Total crime presiction: 0.26<br>",
          "Iowa<br>----------------------------------------<br>Aassault 0.06<br>Predicted assault 0.061<br>Deviation: 0.026 % <br>----------------------------------------<br>Vehicle theft 0.03<br>Predicted Vehicle theft 0.03<br>Deviation: 0.034 % <br>----------------------------------------<br>Property crime 0.052<br>Predicted Property crime 0.06<br>Deviation: 0.915 % <br>----------------------------------------<br>Total crime presiction: 0.151<br>",
          "Kansas<br>----------------------------------------<br>Aassault 0.083<br>Predicted assault 0.057<br>Deviation: 1.281 % <br>----------------------------------------<br>Vehicle theft 0.036<br>Predicted Vehicle theft 0.034<br>Deviation: 0.145 % <br>----------------------------------------<br>Property crime 0.053<br>Predicted Property crime 0.05<br>Deviation: 0.286 % <br>----------------------------------------<br>Total crime presiction: 0.141<br>",
          "Kentucky<br>----------------------------------------<br>Aassault 0.059<br>Predicted assault 0.088<br>Deviation: 1.428 % <br>----------------------------------------<br>Vehicle theft 0.054<br>Predicted Vehicle theft 0.031<br>Deviation: 1.521 % <br>----------------------------------------<br>Property crime 0.077<br>Predicted Property crime 0.072<br>Deviation: 0.58 % <br>----------------------------------------<br>Total crime presiction: 0.192<br>",
          "Louisiana<br>----------------------------------------<br>Aassault 0.129<br>Predicted assault 0.102<br>Deviation: 1.307 % <br>----------------------------------------<br>Vehicle theft 0.05<br>Predicted Vehicle theft 0.032<br>Deviation: 1.176 % <br>----------------------------------------<br>Property crime 0.1<br>Predicted Property crime 0.091<br>Deviation: 1.082 % <br>----------------------------------------<br>Total crime presiction: 0.225<br>",
          "Maine<br>----------------------------------------<br>Aassault 0.005<br>Predicted assault 0.024<br>Deviation: 0.941 % <br>----------------------------------------<br>Vehicle theft 0.003<br>Predicted Vehicle theft 0.021<br>Deviation: 1.239 % <br>----------------------------------------<br>Property crime 0.015<br>Predicted Property crime 0.01<br>Deviation: 0.534 % <br>----------------------------------------<br>Total crime presiction: 0.056<br>",
          "Maryland<br>----------------------------------------<br>Aassault 0.099<br>Predicted assault 0.128<br>Deviation: 1.431 % <br>----------------------------------------<br>Vehicle theft 0.038<br>Predicted Vehicle theft 0.066<br>Deviation: 1.881 % <br>----------------------------------------<br>Property crime 0.054<br>Predicted Property crime 0.088<br>Deviation: 3.885 % <br>----------------------------------------<br>Total crime presiction: 0.281<br>",
          "Massachusetts<br>----------------------------------------<br>Aassault 0.165<br>Predicted assault 0.157<br>Deviation: 0.417 % <br>----------------------------------------<br>Vehicle theft 0.034<br>Predicted Vehicle theft 0.078<br>Deviation: 2.978 % <br>----------------------------------------<br>Property crime 0.075<br>Predicted Property crime 0.094<br>Deviation: 2.202 % <br>----------------------------------------<br>Total crime presiction: 0.329<br>",
          "Michigan<br>----------------------------------------<br>Aassault 0.329<br>Predicted assault 0.207<br>Deviation: 5.983 % <br>----------------------------------------<br>Vehicle theft 0.115<br>Predicted Vehicle theft 0.06<br>Deviation: 3.729 % <br>----------------------------------------<br>Property crime 0.152<br>Predicted Property crime 0.164<br>Deviation: 1.354 % <br>----------------------------------------<br>Total crime presiction: 0.431<br>",
          "Minnesota<br>----------------------------------------<br>Aassault 0.081<br>Predicted assault 0.123<br>Deviation: 2.114 % <br>----------------------------------------<br>Vehicle theft 0.072<br>Predicted Vehicle theft 0.051<br>Deviation: 1.433 % <br>----------------------------------------<br>Property crime 0.125<br>Predicted Property crime 0.106<br>Deviation: 2.191 % <br>----------------------------------------<br>Total crime presiction: 0.281<br>",
          "Mississippi<br>----------------------------------------<br>Aassault 0.008<br>Predicted assault 0.057<br>Deviation: 2.407 % <br>----------------------------------------<br>Vehicle theft 0.01<br>Predicted Vehicle theft 0.023<br>Deviation: 0.936 % <br>----------------------------------------<br>Property crime 0.022<br>Predicted Property crime 0.033<br>Deviation: 1.228 % <br>----------------------------------------<br>Total crime presiction: 0.113<br>",
          "Missouri<br>----------------------------------------<br>Aassault 0.206<br>Predicted assault 0.131<br>Deviation: 3.706 % <br>----------------------------------------<br>Vehicle theft 0.109<br>Predicted Vehicle theft 0.039<br>Deviation: 4.807 % <br>----------------------------------------<br>Property crime 0.136<br>Predicted Property crime 0.112<br>Deviation: 2.736 % <br>----------------------------------------<br>Total crime presiction: 0.282<br>",
          "Montana<br>----------------------------------------<br>Aassault 0.018<br>Predicted assault 0.02<br>Deviation: 0.111 % <br>----------------------------------------<br>Vehicle theft 0.01<br>Predicted Vehicle theft 0.021<br>Deviation: 0.734 % <br>----------------------------------------<br>Property crime 0.018<br>Predicted Property crime 0.011<br>Deviation: 0.853 % <br>----------------------------------------<br>Total crime presiction: 0.052<br>",
          "Nebraska<br>----------------------------------------<br>Aassault 0.041<br>Predicted assault 0.04<br>Deviation: 0.018 % <br>----------------------------------------<br>Vehicle theft 0.033<br>Predicted Vehicle theft 0.028<br>Deviation: 0.303 % <br>----------------------------------------<br>Property crime 0.042<br>Predicted Property crime 0.032<br>Deviation: 1.154 % <br>----------------------------------------<br>Total crime presiction: 0.1<br>",
          "Nevada<br>----------------------------------------<br>Aassault 0.086<br>Predicted assault 0.073<br>Deviation: 0.602 % <br>----------------------------------------<br>Vehicle theft 0.068<br>Predicted Vehicle theft 0.066<br>Deviation: 0.11 % <br>----------------------------------------<br>Property crime 0.069<br>Predicted Property crime 0.072<br>Deviation: 0.351 % <br>----------------------------------------<br>Total crime presiction: 0.211<br>",
          "New Hampshire<br>----------------------------------------<br>Aassault 0.011<br>Predicted assault 0.025<br>Deviation: 0.689 % <br>----------------------------------------<br>Vehicle theft 0.006<br>Predicted Vehicle theft 0.023<br>Deviation: 1.161 % <br>----------------------------------------<br>Property crime 0.017<br>Predicted Property crime 0.013<br>Deviation: 0.435 % <br>----------------------------------------<br>Total crime presiction: 0.061<br>",
          "New Jersey<br>----------------------------------------<br>Aassault 0.138<br>Predicted assault 0.176<br>Deviation: 1.89 % <br>----------------------------------------<br>Vehicle theft 0.076<br>Predicted Vehicle theft 0.126<br>Deviation: 3.437 % <br>----------------------------------------<br>Property crime 0.144<br>Predicted Property crime 0.148<br>Deviation: 0.459 % <br>----------------------------------------<br>Total crime presiction: 0.45<br>",
          "New Mexico<br>----------------------------------------<br>Aassault 0.08<br>Predicted assault 0.043<br>Deviation: 1.8 % <br>----------------------------------------<br>Vehicle theft 0.045<br>Predicted Vehicle theft 0.046<br>Deviation: 0.103 % <br>----------------------------------------<br>Property crime 0.005<br>Predicted Property crime 0.018<br>Deviation: 1.418 % <br>----------------------------------------<br>Total crime presiction: 0.107<br>",
          "New York<br>----------------------------------------<br>Aassault 0.546<br>Predicted assault 0.463<br>Deviation: 4.109 % <br>----------------------------------------<br>Vehicle theft 0.076<br>Predicted Vehicle theft 0.282<br>Deviation: 14.102 % <br>----------------------------------------<br>Property crime 0.261<br>Predicted Property crime 0.241<br>Deviation: 2.352 % <br>----------------------------------------<br>Total crime presiction: 0.986<br>",
          "North Dakota<br>----------------------------------------<br>Aassault 0.012<br>Predicted assault 0.018<br>Deviation: 0.316 % <br>----------------------------------------<br>Vehicle theft 0.009<br>Predicted Vehicle theft 0.02<br>Deviation: 0.727 % <br>----------------------------------------<br>Property crime 0.014<br>Predicted Property crime 0.011<br>Deviation: 0.301 % <br>----------------------------------------<br>Total crime presiction: 0.049<br>",
          "Ohio<br>----------------------------------------<br>Aassault 0.131<br>Predicted assault 0.244<br>Deviation: 5.561 % <br>----------------------------------------<br>Vehicle theft 0.064<br>Predicted Vehicle theft 0.058<br>Deviation: 0.434 % <br>----------------------------------------<br>Property crime 0.122<br>Predicted Property crime 0.174<br>Deviation: 5.976 % <br>----------------------------------------<br>Total crime presiction: 0.476<br>",
          "Oklahoma<br>----------------------------------------<br>Aassault 0.139<br>Predicted assault 0.087<br>Deviation: 2.585 % <br>----------------------------------------<br>Vehicle theft 0.084<br>Predicted Vehicle theft 0.038<br>Deviation: 3.201 % <br>----------------------------------------<br>Property crime 0.121<br>Predicted Property crime 0.118<br>Deviation: 0.435 % <br>----------------------------------------<br>Total crime presiction: 0.242<br>",
          "Oregon<br>----------------------------------------<br>Aassault 0.069<br>Predicted assault 0.097<br>Deviation: 1.355 % <br>----------------------------------------<br>Vehicle theft 0.087<br>Predicted Vehicle theft 0.064<br>Deviation: 1.57 % <br>----------------------------------------<br>Property crime 0.104<br>Predicted Property crime 0.068<br>Deviation: 4.104 % <br>----------------------------------------<br>Total crime presiction: 0.229<br>",
          "Pennsylvania<br>----------------------------------------<br>Aassault 0.064<br>Predicted assault 0.275<br>Deviation: 10.396 % <br>----------------------------------------<br>Vehicle theft 0.014<br>Predicted Vehicle theft 0.084<br>Deviation: 4.759 % <br>----------------------------------------<br>Property crime 0.039<br>Predicted Property crime 0.12<br>Deviation: 9.318 % <br>----------------------------------------<br>Total crime presiction: 0.478<br>",
          "Rhode Island<br>----------------------------------------<br>Aassault 0.016<br>Predicted assault 0.023<br>Deviation: 0.362 % <br>----------------------------------------<br>Vehicle theft 0.009<br>Predicted Vehicle theft 0.025<br>Deviation: 1.073 % <br>----------------------------------------<br>Property crime 0.018<br>Predicted Property crime 0.013<br>Deviation: 0.58 % <br>----------------------------------------<br>Total crime presiction: 0.061<br>",
          "South Carolina<br>----------------------------------------<br>Aassault 0.093<br>Predicted assault 0.104<br>Deviation: 0.538 % <br>----------------------------------------<br>Vehicle theft 0.04<br>Predicted Vehicle theft 0.035<br>Deviation: 0.321 % <br>----------------------------------------<br>Property crime 0.077<br>Predicted Property crime 0.07<br>Deviation: 0.76 % <br>----------------------------------------<br>Total crime presiction: 0.21<br>",
          "South Dakota<br>----------------------------------------<br>Aassault 0.02<br>Predicted assault 0.017<br>Deviation: 0.167 % <br>----------------------------------------<br>Vehicle theft 0.009<br>Predicted Vehicle theft 0.02<br>Deviation: 0.763 % <br>----------------------------------------<br>Property crime 0.014<br>Predicted Property crime 0.012<br>Deviation: 0.273 % <br>----------------------------------------<br>Total crime presiction: 0.049<br>",
          "Tennessee<br>----------------------------------------<br>Aassault 0.33<br>Predicted assault 0.15<br>Deviation: 8.897 % <br>----------------------------------------<br>Vehicle theft 0.105<br>Predicted Vehicle theft 0.044<br>Deviation: 4.168 % <br>----------------------------------------<br>Property crime 0.184<br>Predicted Property crime 0.138<br>Deviation: 5.28 % <br>----------------------------------------<br>Total crime presiction: 0.332<br>",
          "Texas<br>----------------------------------------<br>Aassault 0.759<br>Predicted assault 0.684<br>Deviation: 3.701 % <br>----------------------------------------<br>Vehicle theft 0.437<br>Predicted Vehicle theft 0.394<br>Deviation: 2.916 % <br>----------------------------------------<br>Property crime 0.645<br>Predicted Property crime 0.613<br>Deviation: 3.648 % <br>----------------------------------------<br>Total crime presiction: 1.692<br>",
          "Utah<br>----------------------------------------<br>Aassault 0.043<br>Predicted assault 0.076<br>Deviation: 1.615 % <br>----------------------------------------<br>Vehicle theft 0.038<br>Predicted Vehicle theft 0.036<br>Deviation: 0.109 % <br>----------------------------------------<br>Property crime 0.064<br>Predicted Property crime 0.067<br>Deviation: 0.394 % <br>----------------------------------------<br>Total crime presiction: 0.179<br>",
          "Vermont<br>----------------------------------------<br>Aassault 0.005<br>Predicted assault 0.011<br>Deviation: 0.284 % <br>----------------------------------------<br>Vehicle theft 0.001<br>Predicted Vehicle theft 0.02<br>Deviation: 1.303 % <br>----------------------------------------<br>Property crime 0.007<br>Predicted Property crime 0.003<br>Deviation: 0.436 % <br>----------------------------------------<br>Total crime presiction: 0.034<br>",
          "Virginia<br>----------------------------------------<br>Aassault 0.083<br>Predicted assault 0.173<br>Deviation: 4.445 % <br>----------------------------------------<br>Vehicle theft 0.044<br>Predicted Vehicle theft 0.08<br>Deviation: 2.475 % <br>----------------------------------------<br>Property crime 0.093<br>Predicted Property crime 0.109<br>Deviation: 1.801 % <br>----------------------------------------<br>Total crime presiction: 0.362<br>",
          "Washington<br>----------------------------------------<br>Aassault 0.129<br>Predicted assault 0.189<br>Deviation: 2.981 % <br>----------------------------------------<br>Vehicle theft 0.134<br>Predicted Vehicle theft 0.112<br>Deviation: 1.516 % <br>----------------------------------------<br>Property crime 0.196<br>Predicted Property crime 0.163<br>Deviation: 3.759 % <br>----------------------------------------<br>Total crime presiction: 0.465<br>",
          "West Virginia<br>----------------------------------------<br>Aassault 0.002<br>Predicted assault 0.031<br>Deviation: 1.438 % <br>----------------------------------------<br>Vehicle theft 0.002<br>Predicted Vehicle theft 0.021<br>Deviation: 1.339 % <br>----------------------------------------<br>Property crime 0.002<br>Predicted Property crime 0.01<br>Deviation: 0.863 % <br>----------------------------------------<br>Total crime presiction: 0.063<br>",
          "Wisconsin<br>----------------------------------------<br>Aassault 0.13<br>Predicted assault 0.115<br>Deviation: 0.716 % <br>----------------------------------------<br>Vehicle theft 0.048<br>Predicted Vehicle theft 0.043<br>Deviation: 0.368 % <br>----------------------------------------<br>Property crime 0.088<br>Predicted Property crime 0.088<br>Deviation: 0.082 % <br>----------------------------------------<br>Total crime presiction: 0.246<br>",
          "Wyoming<br>----------------------------------------<br>Aassault 0.004<br>Predicted assault 0.011<br>Deviation: 0.363 % <br>----------------------------------------<br>Vehicle theft 0.003<br>Predicted Vehicle theft 0.02<br>Deviation: 1.138 % <br>----------------------------------------<br>Property crime 0.007<br>Predicted Property crime 0.005<br>Deviation: 0.17 % <br>----------------------------------------<br>Total crime presiction: 0.036<br>"
         ],
         "hovertext": "False",
         "locationmode": "USA-states",
         "locations": [
          "AK",
          "AZ",
          "AR",
          "CA",
          "CO",
          "CT",
          "DE",
          "nan",
          "FL",
          "HI",
          "ID",
          "IL",
          "IN",
          "IA",
          "KS",
          "KY",
          "LA",
          "ME",
          "MD",
          "MA",
          "MI",
          "MN",
          "MS",
          "MO",
          "MT",
          "NE",
          "NV",
          "NH",
          "NJ",
          "NM",
          "NY",
          "ND",
          "OH",
          "OK",
          "OR",
          "PA",
          "RI",
          "SC",
          "SD",
          "TN",
          "TX",
          "UT",
          "VT",
          "VA",
          "WA",
          "WV",
          "WI",
          "WY"
         ],
         "marker": {
          "line": {
           "color": "Black"
          }
         },
         "showlegend": false,
         "text": [
          "Alaska<br>----------------------------------------<br>Aassault 0.042<br>Predicted assault 0.018<br>Deviation: 1.226 % <br>----------------------------------------<br>Vehicle theft 0.016<br>Predicted Vehicle theft 0.024<br>Deviation: 0.583 % <br>----------------------------------------<br>Property crime 0.021<br>Predicted Property crime 0.013<br>Deviation: 0.884 % <br>----------------------------------------<br>Total crime presiction: 0.055<br>",
          "Arizona<br>----------------------------------------<br>Aassault 0.212<br>Predicted assault 0.157<br>Deviation: 2.694 % <br>----------------------------------------<br>Vehicle theft 0.114<br>Predicted Vehicle theft 0.095<br>Deviation: 1.248 % <br>----------------------------------------<br>Property crime 0.188<br>Predicted Property crime 0.15<br>Deviation: 4.294 % <br>----------------------------------------<br>Total crime presiction: 0.403<br>",
          "Arkansas<br>----------------------------------------<br>Aassault 0.128<br>Predicted assault 0.061<br>Deviation: 3.311 % <br>----------------------------------------<br>Vehicle theft 0.038<br>Predicted Vehicle theft 0.03<br>Deviation: 0.564 % <br>----------------------------------------<br>Property crime 0.077<br>Predicted Property crime 0.066<br>Deviation: 1.253 % <br>----------------------------------------<br>Total crime presiction: 0.157<br>",
          "California<br>----------------------------------------<br>Aassault 0.952<br>Predicted assault 0.979<br>Deviation: 1.347 % <br>----------------------------------------<br>Vehicle theft 0.777<br>Predicted Vehicle theft 0.966<br>Deviation: 12.933 % <br>----------------------------------------<br>Property crime 0.873<br>Predicted Property crime 0.781<br>Deviation: 10.641 % <br>----------------------------------------<br>Total crime presiction: 2.726<br>",
          "Colorado<br>----------------------------------------<br>Aassault 0.144<br>Predicted assault 0.148<br>Deviation: 0.194 % <br>----------------------------------------<br>Vehicle theft 0.128<br>Predicted Vehicle theft 0.069<br>Deviation: 4.057 % <br>----------------------------------------<br>Property crime 0.145<br>Predicted Property crime 0.11<br>Deviation: 4.124 % <br>----------------------------------------<br>Total crime presiction: 0.326<br>",
          "Connecticut<br>----------------------------------------<br>Aassault 0.035<br>Predicted assault 0.066<br>Deviation: 1.546 % <br>----------------------------------------<br>Vehicle theft 0.036<br>Predicted Vehicle theft 0.045<br>Deviation: 0.644 % <br>----------------------------------------<br>Property crime 0.052<br>Predicted Property crime 0.048<br>Deviation: 0.422 % <br>----------------------------------------<br>Total crime presiction: 0.159<br>",
          "Delaware<br>----------------------------------------<br>Aassault 0.016<br>Predicted assault 0.019<br>Deviation: 0.13 % <br>----------------------------------------<br>Vehicle theft 0.005<br>Predicted Vehicle theft 0.023<br>Deviation: 1.261 % <br>----------------------------------------<br>Property crime 0.01<br>Predicted Property crime 0.009<br>Deviation: 0.17 % <br>----------------------------------------<br>Total crime presiction: 0.051<br>",
          "District Of Columbia<br>----------------------------------------<br>Aassault 0.052<br>Predicted assault 0.028<br>Deviation: 1.19 % <br>----------------------------------------<br>Vehicle theft 0.017<br>Predicted Vehicle theft 0.028<br>Deviation: 0.728 % <br>----------------------------------------<br>Property crime 0.036<br>Predicted Property crime 0.008<br>Deviation: 3.284 % <br>----------------------------------------<br>Total crime presiction: 0.063<br>",
          "Florida<br>----------------------------------------<br>Aassault 0.369<br>Predicted assault 0.428<br>Deviation: 2.926 % <br>----------------------------------------<br>Vehicle theft 0.161<br>Predicted Vehicle theft 0.214<br>Deviation: 3.622 % <br>----------------------------------------<br>Property crime 0.326<br>Predicted Property crime 0.278<br>Deviation: 5.537 % <br>----------------------------------------<br>Total crime presiction: 0.921<br>",
          "Hawaii<br>----------------------------------------<br>Aassault 0.015<br>Predicted assault 0.027<br>Deviation: 0.572 % <br>----------------------------------------<br>Vehicle theft 0.029<br>Predicted Vehicle theft 0.066<br>Deviation: 2.53 % <br>----------------------------------------<br>Property crime 0.035<br>Predicted Property crime 0.024<br>Deviation: 1.267 % <br>----------------------------------------<br>Total crime presiction: 0.117<br>",
          "Idaho<br>----------------------------------------<br>Aassault 0.024<br>Predicted assault 0.038<br>Deviation: 0.682 % <br>----------------------------------------<br>Vehicle theft 0.008<br>Predicted Vehicle theft 0.027<br>Deviation: 1.302 % <br>----------------------------------------<br>Property crime 0.019<br>Predicted Property crime 0.025<br>Deviation: 0.662 % <br>----------------------------------------<br>Total crime presiction: 0.089<br>",
          "Illinois<br>----------------------------------------<br>Aassault 0.349<br>Predicted assault 0.281<br>Deviation: 3.321 % <br>----------------------------------------<br>Vehicle theft 0.112<br>Predicted Vehicle theft 0.125<br>Deviation: 0.918 % <br>----------------------------------------<br>Property crime 0.221<br>Predicted Property crime 0.21<br>Deviation: 1.209 % <br>----------------------------------------<br>Total crime presiction: 0.617<br>",
          "Indiana<br>----------------------------------------<br>Aassault 0.039<br>Predicted assault 0.138<br>Deviation: 4.88 % <br>----------------------------------------<br>Vehicle theft 0.022<br>Predicted Vehicle theft 0.046<br>Deviation: 1.602 % <br>----------------------------------------<br>Property crime 0.041<br>Predicted Property crime 0.077<br>Deviation: 4.058 % <br>----------------------------------------<br>Total crime presiction: 0.26<br>",
          "Iowa<br>----------------------------------------<br>Aassault 0.06<br>Predicted assault 0.061<br>Deviation: 0.026 % <br>----------------------------------------<br>Vehicle theft 0.03<br>Predicted Vehicle theft 0.03<br>Deviation: 0.034 % <br>----------------------------------------<br>Property crime 0.052<br>Predicted Property crime 0.06<br>Deviation: 0.915 % <br>----------------------------------------<br>Total crime presiction: 0.151<br>",
          "Kansas<br>----------------------------------------<br>Aassault 0.083<br>Predicted assault 0.057<br>Deviation: 1.281 % <br>----------------------------------------<br>Vehicle theft 0.036<br>Predicted Vehicle theft 0.034<br>Deviation: 0.145 % <br>----------------------------------------<br>Property crime 0.053<br>Predicted Property crime 0.05<br>Deviation: 0.286 % <br>----------------------------------------<br>Total crime presiction: 0.141<br>",
          "Kentucky<br>----------------------------------------<br>Aassault 0.059<br>Predicted assault 0.088<br>Deviation: 1.428 % <br>----------------------------------------<br>Vehicle theft 0.054<br>Predicted Vehicle theft 0.031<br>Deviation: 1.521 % <br>----------------------------------------<br>Property crime 0.077<br>Predicted Property crime 0.072<br>Deviation: 0.58 % <br>----------------------------------------<br>Total crime presiction: 0.192<br>",
          "Louisiana<br>----------------------------------------<br>Aassault 0.129<br>Predicted assault 0.102<br>Deviation: 1.307 % <br>----------------------------------------<br>Vehicle theft 0.05<br>Predicted Vehicle theft 0.032<br>Deviation: 1.176 % <br>----------------------------------------<br>Property crime 0.1<br>Predicted Property crime 0.091<br>Deviation: 1.082 % <br>----------------------------------------<br>Total crime presiction: 0.225<br>",
          "Maine<br>----------------------------------------<br>Aassault 0.005<br>Predicted assault 0.024<br>Deviation: 0.941 % <br>----------------------------------------<br>Vehicle theft 0.003<br>Predicted Vehicle theft 0.021<br>Deviation: 1.239 % <br>----------------------------------------<br>Property crime 0.015<br>Predicted Property crime 0.01<br>Deviation: 0.534 % <br>----------------------------------------<br>Total crime presiction: 0.056<br>",
          "Maryland<br>----------------------------------------<br>Aassault 0.099<br>Predicted assault 0.128<br>Deviation: 1.431 % <br>----------------------------------------<br>Vehicle theft 0.038<br>Predicted Vehicle theft 0.066<br>Deviation: 1.881 % <br>----------------------------------------<br>Property crime 0.054<br>Predicted Property crime 0.088<br>Deviation: 3.885 % <br>----------------------------------------<br>Total crime presiction: 0.281<br>",
          "Massachusetts<br>----------------------------------------<br>Aassault 0.165<br>Predicted assault 0.157<br>Deviation: 0.417 % <br>----------------------------------------<br>Vehicle theft 0.034<br>Predicted Vehicle theft 0.078<br>Deviation: 2.978 % <br>----------------------------------------<br>Property crime 0.075<br>Predicted Property crime 0.094<br>Deviation: 2.202 % <br>----------------------------------------<br>Total crime presiction: 0.329<br>",
          "Michigan<br>----------------------------------------<br>Aassault 0.329<br>Predicted assault 0.207<br>Deviation: 5.983 % <br>----------------------------------------<br>Vehicle theft 0.115<br>Predicted Vehicle theft 0.06<br>Deviation: 3.729 % <br>----------------------------------------<br>Property crime 0.152<br>Predicted Property crime 0.164<br>Deviation: 1.354 % <br>----------------------------------------<br>Total crime presiction: 0.431<br>",
          "Minnesota<br>----------------------------------------<br>Aassault 0.081<br>Predicted assault 0.123<br>Deviation: 2.114 % <br>----------------------------------------<br>Vehicle theft 0.072<br>Predicted Vehicle theft 0.051<br>Deviation: 1.433 % <br>----------------------------------------<br>Property crime 0.125<br>Predicted Property crime 0.106<br>Deviation: 2.191 % <br>----------------------------------------<br>Total crime presiction: 0.281<br>",
          "Mississippi<br>----------------------------------------<br>Aassault 0.008<br>Predicted assault 0.057<br>Deviation: 2.407 % <br>----------------------------------------<br>Vehicle theft 0.01<br>Predicted Vehicle theft 0.023<br>Deviation: 0.936 % <br>----------------------------------------<br>Property crime 0.022<br>Predicted Property crime 0.033<br>Deviation: 1.228 % <br>----------------------------------------<br>Total crime presiction: 0.113<br>",
          "Missouri<br>----------------------------------------<br>Aassault 0.206<br>Predicted assault 0.131<br>Deviation: 3.706 % <br>----------------------------------------<br>Vehicle theft 0.109<br>Predicted Vehicle theft 0.039<br>Deviation: 4.807 % <br>----------------------------------------<br>Property crime 0.136<br>Predicted Property crime 0.112<br>Deviation: 2.736 % <br>----------------------------------------<br>Total crime presiction: 0.282<br>",
          "Montana<br>----------------------------------------<br>Aassault 0.018<br>Predicted assault 0.02<br>Deviation: 0.111 % <br>----------------------------------------<br>Vehicle theft 0.01<br>Predicted Vehicle theft 0.021<br>Deviation: 0.734 % <br>----------------------------------------<br>Property crime 0.018<br>Predicted Property crime 0.011<br>Deviation: 0.853 % <br>----------------------------------------<br>Total crime presiction: 0.052<br>",
          "Nebraska<br>----------------------------------------<br>Aassault 0.041<br>Predicted assault 0.04<br>Deviation: 0.018 % <br>----------------------------------------<br>Vehicle theft 0.033<br>Predicted Vehicle theft 0.028<br>Deviation: 0.303 % <br>----------------------------------------<br>Property crime 0.042<br>Predicted Property crime 0.032<br>Deviation: 1.154 % <br>----------------------------------------<br>Total crime presiction: 0.1<br>",
          "Nevada<br>----------------------------------------<br>Aassault 0.086<br>Predicted assault 0.073<br>Deviation: 0.602 % <br>----------------------------------------<br>Vehicle theft 0.068<br>Predicted Vehicle theft 0.066<br>Deviation: 0.11 % <br>----------------------------------------<br>Property crime 0.069<br>Predicted Property crime 0.072<br>Deviation: 0.351 % <br>----------------------------------------<br>Total crime presiction: 0.211<br>",
          "New Hampshire<br>----------------------------------------<br>Aassault 0.011<br>Predicted assault 0.025<br>Deviation: 0.689 % <br>----------------------------------------<br>Vehicle theft 0.006<br>Predicted Vehicle theft 0.023<br>Deviation: 1.161 % <br>----------------------------------------<br>Property crime 0.017<br>Predicted Property crime 0.013<br>Deviation: 0.435 % <br>----------------------------------------<br>Total crime presiction: 0.061<br>",
          "New Jersey<br>----------------------------------------<br>Aassault 0.138<br>Predicted assault 0.176<br>Deviation: 1.89 % <br>----------------------------------------<br>Vehicle theft 0.076<br>Predicted Vehicle theft 0.126<br>Deviation: 3.437 % <br>----------------------------------------<br>Property crime 0.144<br>Predicted Property crime 0.148<br>Deviation: 0.459 % <br>----------------------------------------<br>Total crime presiction: 0.45<br>",
          "New Mexico<br>----------------------------------------<br>Aassault 0.08<br>Predicted assault 0.043<br>Deviation: 1.8 % <br>----------------------------------------<br>Vehicle theft 0.045<br>Predicted Vehicle theft 0.046<br>Deviation: 0.103 % <br>----------------------------------------<br>Property crime 0.005<br>Predicted Property crime 0.018<br>Deviation: 1.418 % <br>----------------------------------------<br>Total crime presiction: 0.107<br>",
          "New York<br>----------------------------------------<br>Aassault 0.546<br>Predicted assault 0.463<br>Deviation: 4.109 % <br>----------------------------------------<br>Vehicle theft 0.076<br>Predicted Vehicle theft 0.282<br>Deviation: 14.102 % <br>----------------------------------------<br>Property crime 0.261<br>Predicted Property crime 0.241<br>Deviation: 2.352 % <br>----------------------------------------<br>Total crime presiction: 0.986<br>",
          "North Dakota<br>----------------------------------------<br>Aassault 0.012<br>Predicted assault 0.018<br>Deviation: 0.316 % <br>----------------------------------------<br>Vehicle theft 0.009<br>Predicted Vehicle theft 0.02<br>Deviation: 0.727 % <br>----------------------------------------<br>Property crime 0.014<br>Predicted Property crime 0.011<br>Deviation: 0.301 % <br>----------------------------------------<br>Total crime presiction: 0.049<br>",
          "Ohio<br>----------------------------------------<br>Aassault 0.131<br>Predicted assault 0.244<br>Deviation: 5.561 % <br>----------------------------------------<br>Vehicle theft 0.064<br>Predicted Vehicle theft 0.058<br>Deviation: 0.434 % <br>----------------------------------------<br>Property crime 0.122<br>Predicted Property crime 0.174<br>Deviation: 5.976 % <br>----------------------------------------<br>Total crime presiction: 0.476<br>",
          "Oklahoma<br>----------------------------------------<br>Aassault 0.139<br>Predicted assault 0.087<br>Deviation: 2.585 % <br>----------------------------------------<br>Vehicle theft 0.084<br>Predicted Vehicle theft 0.038<br>Deviation: 3.201 % <br>----------------------------------------<br>Property crime 0.121<br>Predicted Property crime 0.118<br>Deviation: 0.435 % <br>----------------------------------------<br>Total crime presiction: 0.242<br>",
          "Oregon<br>----------------------------------------<br>Aassault 0.069<br>Predicted assault 0.097<br>Deviation: 1.355 % <br>----------------------------------------<br>Vehicle theft 0.087<br>Predicted Vehicle theft 0.064<br>Deviation: 1.57 % <br>----------------------------------------<br>Property crime 0.104<br>Predicted Property crime 0.068<br>Deviation: 4.104 % <br>----------------------------------------<br>Total crime presiction: 0.229<br>",
          "Pennsylvania<br>----------------------------------------<br>Aassault 0.064<br>Predicted assault 0.275<br>Deviation: 10.396 % <br>----------------------------------------<br>Vehicle theft 0.014<br>Predicted Vehicle theft 0.084<br>Deviation: 4.759 % <br>----------------------------------------<br>Property crime 0.039<br>Predicted Property crime 0.12<br>Deviation: 9.318 % <br>----------------------------------------<br>Total crime presiction: 0.478<br>",
          "Rhode Island<br>----------------------------------------<br>Aassault 0.016<br>Predicted assault 0.023<br>Deviation: 0.362 % <br>----------------------------------------<br>Vehicle theft 0.009<br>Predicted Vehicle theft 0.025<br>Deviation: 1.073 % <br>----------------------------------------<br>Property crime 0.018<br>Predicted Property crime 0.013<br>Deviation: 0.58 % <br>----------------------------------------<br>Total crime presiction: 0.061<br>",
          "South Carolina<br>----------------------------------------<br>Aassault 0.093<br>Predicted assault 0.104<br>Deviation: 0.538 % <br>----------------------------------------<br>Vehicle theft 0.04<br>Predicted Vehicle theft 0.035<br>Deviation: 0.321 % <br>----------------------------------------<br>Property crime 0.077<br>Predicted Property crime 0.07<br>Deviation: 0.76 % <br>----------------------------------------<br>Total crime presiction: 0.21<br>",
          "South Dakota<br>----------------------------------------<br>Aassault 0.02<br>Predicted assault 0.017<br>Deviation: 0.167 % <br>----------------------------------------<br>Vehicle theft 0.009<br>Predicted Vehicle theft 0.02<br>Deviation: 0.763 % <br>----------------------------------------<br>Property crime 0.014<br>Predicted Property crime 0.012<br>Deviation: 0.273 % <br>----------------------------------------<br>Total crime presiction: 0.049<br>",
          "Tennessee<br>----------------------------------------<br>Aassault 0.33<br>Predicted assault 0.15<br>Deviation: 8.897 % <br>----------------------------------------<br>Vehicle theft 0.105<br>Predicted Vehicle theft 0.044<br>Deviation: 4.168 % <br>----------------------------------------<br>Property crime 0.184<br>Predicted Property crime 0.138<br>Deviation: 5.28 % <br>----------------------------------------<br>Total crime presiction: 0.332<br>",
          "Texas<br>----------------------------------------<br>Aassault 0.759<br>Predicted assault 0.684<br>Deviation: 3.701 % <br>----------------------------------------<br>Vehicle theft 0.437<br>Predicted Vehicle theft 0.394<br>Deviation: 2.916 % <br>----------------------------------------<br>Property crime 0.645<br>Predicted Property crime 0.613<br>Deviation: 3.648 % <br>----------------------------------------<br>Total crime presiction: 1.692<br>",
          "Utah<br>----------------------------------------<br>Aassault 0.043<br>Predicted assault 0.076<br>Deviation: 1.615 % <br>----------------------------------------<br>Vehicle theft 0.038<br>Predicted Vehicle theft 0.036<br>Deviation: 0.109 % <br>----------------------------------------<br>Property crime 0.064<br>Predicted Property crime 0.067<br>Deviation: 0.394 % <br>----------------------------------------<br>Total crime presiction: 0.179<br>",
          "Vermont<br>----------------------------------------<br>Aassault 0.005<br>Predicted assault 0.011<br>Deviation: 0.284 % <br>----------------------------------------<br>Vehicle theft 0.001<br>Predicted Vehicle theft 0.02<br>Deviation: 1.303 % <br>----------------------------------------<br>Property crime 0.007<br>Predicted Property crime 0.003<br>Deviation: 0.436 % <br>----------------------------------------<br>Total crime presiction: 0.034<br>",
          "Virginia<br>----------------------------------------<br>Aassault 0.083<br>Predicted assault 0.173<br>Deviation: 4.445 % <br>----------------------------------------<br>Vehicle theft 0.044<br>Predicted Vehicle theft 0.08<br>Deviation: 2.475 % <br>----------------------------------------<br>Property crime 0.093<br>Predicted Property crime 0.109<br>Deviation: 1.801 % <br>----------------------------------------<br>Total crime presiction: 0.362<br>",
          "Washington<br>----------------------------------------<br>Aassault 0.129<br>Predicted assault 0.189<br>Deviation: 2.981 % <br>----------------------------------------<br>Vehicle theft 0.134<br>Predicted Vehicle theft 0.112<br>Deviation: 1.516 % <br>----------------------------------------<br>Property crime 0.196<br>Predicted Property crime 0.163<br>Deviation: 3.759 % <br>----------------------------------------<br>Total crime presiction: 0.465<br>",
          "West Virginia<br>----------------------------------------<br>Aassault 0.002<br>Predicted assault 0.031<br>Deviation: 1.438 % <br>----------------------------------------<br>Vehicle theft 0.002<br>Predicted Vehicle theft 0.021<br>Deviation: 1.339 % <br>----------------------------------------<br>Property crime 0.002<br>Predicted Property crime 0.01<br>Deviation: 0.863 % <br>----------------------------------------<br>Total crime presiction: 0.063<br>",
          "Wisconsin<br>----------------------------------------<br>Aassault 0.13<br>Predicted assault 0.115<br>Deviation: 0.716 % <br>----------------------------------------<br>Vehicle theft 0.048<br>Predicted Vehicle theft 0.043<br>Deviation: 0.368 % <br>----------------------------------------<br>Property crime 0.088<br>Predicted Property crime 0.088<br>Deviation: 0.082 % <br>----------------------------------------<br>Total crime presiction: 0.246<br>",
          "Wyoming<br>----------------------------------------<br>Aassault 0.004<br>Predicted assault 0.011<br>Deviation: 0.363 % <br>----------------------------------------<br>Vehicle theft 0.003<br>Predicted Vehicle theft 0.02<br>Deviation: 1.138 % <br>----------------------------------------<br>Property crime 0.007<br>Predicted Property crime 0.005<br>Deviation: 0.17 % <br>----------------------------------------<br>Total crime presiction: 0.036<br>"
         ],
         "textsrc": "skip",
         "type": "choropleth",
         "z": [
          0.05499999999999999,
          0.402,
          0.157,
          2.726,
          0.327,
          0.159,
          0.051,
          0.064,
          0.92,
          0.11699999999999999,
          0.09,
          0.616,
          0.261,
          0.151,
          0.14100000000000001,
          0.191,
          0.225,
          0.055,
          0.28200000000000003,
          0.32899999999999996,
          0.43100000000000005,
          0.27999999999999997,
          0.113,
          0.28200000000000003,
          0.052000000000000005,
          0.1,
          0.21100000000000002,
          0.061,
          0.44999999999999996,
          0.107,
          0.986,
          0.049,
          0.476,
          0.243,
          0.229,
          0.47900000000000004,
          0.061,
          0.20900000000000002,
          0.049,
          0.332,
          1.691,
          0.179,
          0.034,
          0.362,
          0.46399999999999997,
          0.062000000000000006,
          0.246,
          0.036
         ]
        },
        {
         "hoverinfo": "none",
         "locationmode": "USA-states",
         "locations": [
          "AK",
          "AZ",
          "AR",
          "CA",
          "CO",
          "CT",
          "DE",
          "nan",
          "FL",
          "HI",
          "ID",
          "IL",
          "IN",
          "IA",
          "KS",
          "KY",
          "LA",
          "ME",
          "MD",
          "MA",
          "MI",
          "MN",
          "MS",
          "MO",
          "MT",
          "NE",
          "NV",
          "NH",
          "NJ",
          "NM",
          "NY",
          "ND",
          "OH",
          "OK",
          "OR",
          "PA",
          "RI",
          "SC",
          "SD",
          "TN",
          "TX",
          "UT",
          "VT",
          "VA",
          "WA",
          "WV",
          "WI",
          "WY"
         ],
         "mode": "text",
         "text": [
          "AK",
          "AZ",
          "AR",
          "CA",
          "CO",
          "CT",
          "DE",
          "nan",
          "FL",
          "HI",
          "ID",
          "IL",
          "IN",
          "IA",
          "KS",
          "KY",
          "LA",
          "ME",
          "MD",
          "MA",
          "MI",
          "MN",
          "MS",
          "MO",
          "MT",
          "NE",
          "NV",
          "NH",
          "NJ",
          "NM",
          "NY",
          "ND",
          "OH",
          "OK",
          "OR",
          "PA",
          "RI",
          "SC",
          "SD",
          "TN",
          "TX",
          "UT",
          "VT",
          "VA",
          "WA",
          "WV",
          "WI",
          "WY"
         ],
         "type": "scattergeo"
        }
       ],
       "layout": {
        "geo": {
         "lakecolor": "rgb(255, 255, 255)",
         "projection": {
          "type": "albers usa"
         },
         "scope": "usa",
         "showlakes": true
        },
        "hoverlabel": {
         "bgcolor": "Black",
         "font": {
          "family": "Rockwell",
          "size": 15
         }
        },
        "template": {
         "data": {
          "bar": [
           {
            "error_x": {
             "color": "#2a3f5f"
            },
            "error_y": {
             "color": "#2a3f5f"
            },
            "marker": {
             "line": {
              "color": "#E5ECF6",
              "width": 0.5
             }
            },
            "type": "bar"
           }
          ],
          "barpolar": [
           {
            "marker": {
             "line": {
              "color": "#E5ECF6",
              "width": 0.5
             }
            },
            "type": "barpolar"
           }
          ],
          "carpet": [
           {
            "aaxis": {
             "endlinecolor": "#2a3f5f",
             "gridcolor": "white",
             "linecolor": "white",
             "minorgridcolor": "white",
             "startlinecolor": "#2a3f5f"
            },
            "baxis": {
             "endlinecolor": "#2a3f5f",
             "gridcolor": "white",
             "linecolor": "white",
             "minorgridcolor": "white",
             "startlinecolor": "#2a3f5f"
            },
            "type": "carpet"
           }
          ],
          "choropleth": [
           {
            "colorbar": {
             "outlinewidth": 0,
             "ticks": ""
            },
            "type": "choropleth"
           }
          ],
          "contour": [
           {
            "colorbar": {
             "outlinewidth": 0,
             "ticks": ""
            },
            "colorscale": [
             [
              0,
              "#0d0887"
             ],
             [
              0.1111111111111111,
              "#46039f"
             ],
             [
              0.2222222222222222,
              "#7201a8"
             ],
             [
              0.3333333333333333,
              "#9c179e"
             ],
             [
              0.4444444444444444,
              "#bd3786"
             ],
             [
              0.5555555555555556,
              "#d8576b"
             ],
             [
              0.6666666666666666,
              "#ed7953"
             ],
             [
              0.7777777777777778,
              "#fb9f3a"
             ],
             [
              0.8888888888888888,
              "#fdca26"
             ],
             [
              1,
              "#f0f921"
             ]
            ],
            "type": "contour"
           }
          ],
          "contourcarpet": [
           {
            "colorbar": {
             "outlinewidth": 0,
             "ticks": ""
            },
            "type": "contourcarpet"
           }
          ],
          "heatmap": [
           {
            "colorbar": {
             "outlinewidth": 0,
             "ticks": ""
            },
            "colorscale": [
             [
              0,
              "#0d0887"
             ],
             [
              0.1111111111111111,
              "#46039f"
             ],
             [
              0.2222222222222222,
              "#7201a8"
             ],
             [
              0.3333333333333333,
              "#9c179e"
             ],
             [
              0.4444444444444444,
              "#bd3786"
             ],
             [
              0.5555555555555556,
              "#d8576b"
             ],
             [
              0.6666666666666666,
              "#ed7953"
             ],
             [
              0.7777777777777778,
              "#fb9f3a"
             ],
             [
              0.8888888888888888,
              "#fdca26"
             ],
             [
              1,
              "#f0f921"
             ]
            ],
            "type": "heatmap"
           }
          ],
          "heatmapgl": [
           {
            "colorbar": {
             "outlinewidth": 0,
             "ticks": ""
            },
            "colorscale": [
             [
              0,
              "#0d0887"
             ],
             [
              0.1111111111111111,
              "#46039f"
             ],
             [
              0.2222222222222222,
              "#7201a8"
             ],
             [
              0.3333333333333333,
              "#9c179e"
             ],
             [
              0.4444444444444444,
              "#bd3786"
             ],
             [
              0.5555555555555556,
              "#d8576b"
             ],
             [
              0.6666666666666666,
              "#ed7953"
             ],
             [
              0.7777777777777778,
              "#fb9f3a"
             ],
             [
              0.8888888888888888,
              "#fdca26"
             ],
             [
              1,
              "#f0f921"
             ]
            ],
            "type": "heatmapgl"
           }
          ],
          "histogram": [
           {
            "marker": {
             "colorbar": {
              "outlinewidth": 0,
              "ticks": ""
             }
            },
            "type": "histogram"
           }
          ],
          "histogram2d": [
           {
            "colorbar": {
             "outlinewidth": 0,
             "ticks": ""
            },
            "colorscale": [
             [
              0,
              "#0d0887"
             ],
             [
              0.1111111111111111,
              "#46039f"
             ],
             [
              0.2222222222222222,
              "#7201a8"
             ],
             [
              0.3333333333333333,
              "#9c179e"
             ],
             [
              0.4444444444444444,
              "#bd3786"
             ],
             [
              0.5555555555555556,
              "#d8576b"
             ],
             [
              0.6666666666666666,
              "#ed7953"
             ],
             [
              0.7777777777777778,
              "#fb9f3a"
             ],
             [
              0.8888888888888888,
              "#fdca26"
             ],
             [
              1,
              "#f0f921"
             ]
            ],
            "type": "histogram2d"
           }
          ],
          "histogram2dcontour": [
           {
            "colorbar": {
             "outlinewidth": 0,
             "ticks": ""
            },
            "colorscale": [
             [
              0,
              "#0d0887"
             ],
             [
              0.1111111111111111,
              "#46039f"
             ],
             [
              0.2222222222222222,
              "#7201a8"
             ],
             [
              0.3333333333333333,
              "#9c179e"
             ],
             [
              0.4444444444444444,
              "#bd3786"
             ],
             [
              0.5555555555555556,
              "#d8576b"
             ],
             [
              0.6666666666666666,
              "#ed7953"
             ],
             [
              0.7777777777777778,
              "#fb9f3a"
             ],
             [
              0.8888888888888888,
              "#fdca26"
             ],
             [
              1,
              "#f0f921"
             ]
            ],
            "type": "histogram2dcontour"
           }
          ],
          "mesh3d": [
           {
            "colorbar": {
             "outlinewidth": 0,
             "ticks": ""
            },
            "type": "mesh3d"
           }
          ],
          "parcoords": [
           {
            "line": {
             "colorbar": {
              "outlinewidth": 0,
              "ticks": ""
             }
            },
            "type": "parcoords"
           }
          ],
          "pie": [
           {
            "automargin": true,
            "type": "pie"
           }
          ],
          "scatter": [
           {
            "marker": {
             "colorbar": {
              "outlinewidth": 0,
              "ticks": ""
             }
            },
            "type": "scatter"
           }
          ],
          "scatter3d": [
           {
            "line": {
             "colorbar": {
              "outlinewidth": 0,
              "ticks": ""
             }
            },
            "marker": {
             "colorbar": {
              "outlinewidth": 0,
              "ticks": ""
             }
            },
            "type": "scatter3d"
           }
          ],
          "scattercarpet": [
           {
            "marker": {
             "colorbar": {
              "outlinewidth": 0,
              "ticks": ""
             }
            },
            "type": "scattercarpet"
           }
          ],
          "scattergeo": [
           {
            "marker": {
             "colorbar": {
              "outlinewidth": 0,
              "ticks": ""
             }
            },
            "type": "scattergeo"
           }
          ],
          "scattergl": [
           {
            "marker": {
             "colorbar": {
              "outlinewidth": 0,
              "ticks": ""
             }
            },
            "type": "scattergl"
           }
          ],
          "scattermapbox": [
           {
            "marker": {
             "colorbar": {
              "outlinewidth": 0,
              "ticks": ""
             }
            },
            "type": "scattermapbox"
           }
          ],
          "scatterpolar": [
           {
            "marker": {
             "colorbar": {
              "outlinewidth": 0,
              "ticks": ""
             }
            },
            "type": "scatterpolar"
           }
          ],
          "scatterpolargl": [
           {
            "marker": {
             "colorbar": {
              "outlinewidth": 0,
              "ticks": ""
             }
            },
            "type": "scatterpolargl"
           }
          ],
          "scatterternary": [
           {
            "marker": {
             "colorbar": {
              "outlinewidth": 0,
              "ticks": ""
             }
            },
            "type": "scatterternary"
           }
          ],
          "surface": [
           {
            "colorbar": {
             "outlinewidth": 0,
             "ticks": ""
            },
            "colorscale": [
             [
              0,
              "#0d0887"
             ],
             [
              0.1111111111111111,
              "#46039f"
             ],
             [
              0.2222222222222222,
              "#7201a8"
             ],
             [
              0.3333333333333333,
              "#9c179e"
             ],
             [
              0.4444444444444444,
              "#bd3786"
             ],
             [
              0.5555555555555556,
              "#d8576b"
             ],
             [
              0.6666666666666666,
              "#ed7953"
             ],
             [
              0.7777777777777778,
              "#fb9f3a"
             ],
             [
              0.8888888888888888,
              "#fdca26"
             ],
             [
              1,
              "#f0f921"
             ]
            ],
            "type": "surface"
           }
          ],
          "table": [
           {
            "cells": {
             "fill": {
              "color": "#EBF0F8"
             },
             "line": {
              "color": "white"
             }
            },
            "header": {
             "fill": {
              "color": "#C8D4E3"
             },
             "line": {
              "color": "white"
             }
            },
            "type": "table"
           }
          ]
         },
         "layout": {
          "annotationdefaults": {
           "arrowcolor": "#2a3f5f",
           "arrowhead": 0,
           "arrowwidth": 1
          },
          "autotypenumbers": "strict",
          "coloraxis": {
           "colorbar": {
            "outlinewidth": 0,
            "ticks": ""
           }
          },
          "colorscale": {
           "diverging": [
            [
             0,
             "#8e0152"
            ],
            [
             0.1,
             "#c51b7d"
            ],
            [
             0.2,
             "#de77ae"
            ],
            [
             0.3,
             "#f1b6da"
            ],
            [
             0.4,
             "#fde0ef"
            ],
            [
             0.5,
             "#f7f7f7"
            ],
            [
             0.6,
             "#e6f5d0"
            ],
            [
             0.7,
             "#b8e186"
            ],
            [
             0.8,
             "#7fbc41"
            ],
            [
             0.9,
             "#4d9221"
            ],
            [
             1,
             "#276419"
            ]
           ],
           "sequential": [
            [
             0,
             "#0d0887"
            ],
            [
             0.1111111111111111,
             "#46039f"
            ],
            [
             0.2222222222222222,
             "#7201a8"
            ],
            [
             0.3333333333333333,
             "#9c179e"
            ],
            [
             0.4444444444444444,
             "#bd3786"
            ],
            [
             0.5555555555555556,
             "#d8576b"
            ],
            [
             0.6666666666666666,
             "#ed7953"
            ],
            [
             0.7777777777777778,
             "#fb9f3a"
            ],
            [
             0.8888888888888888,
             "#fdca26"
            ],
            [
             1,
             "#f0f921"
            ]
           ],
           "sequentialminus": [
            [
             0,
             "#0d0887"
            ],
            [
             0.1111111111111111,
             "#46039f"
            ],
            [
             0.2222222222222222,
             "#7201a8"
            ],
            [
             0.3333333333333333,
             "#9c179e"
            ],
            [
             0.4444444444444444,
             "#bd3786"
            ],
            [
             0.5555555555555556,
             "#d8576b"
            ],
            [
             0.6666666666666666,
             "#ed7953"
            ],
            [
             0.7777777777777778,
             "#fb9f3a"
            ],
            [
             0.8888888888888888,
             "#fdca26"
            ],
            [
             1,
             "#f0f921"
            ]
           ]
          },
          "colorway": [
           "#636efa",
           "#EF553B",
           "#00cc96",
           "#ab63fa",
           "#FFA15A",
           "#19d3f3",
           "#FF6692",
           "#B6E880",
           "#FF97FF",
           "#FECB52"
          ],
          "font": {
           "color": "#2a3f5f"
          },
          "geo": {
           "bgcolor": "white",
           "lakecolor": "white",
           "landcolor": "#E5ECF6",
           "showlakes": true,
           "showland": true,
           "subunitcolor": "white"
          },
          "hoverlabel": {
           "align": "left"
          },
          "hovermode": "closest",
          "mapbox": {
           "style": "light"
          },
          "paper_bgcolor": "white",
          "plot_bgcolor": "#E5ECF6",
          "polar": {
           "angularaxis": {
            "gridcolor": "white",
            "linecolor": "white",
            "ticks": ""
           },
           "bgcolor": "#E5ECF6",
           "radialaxis": {
            "gridcolor": "white",
            "linecolor": "white",
            "ticks": ""
           }
          },
          "scene": {
           "xaxis": {
            "backgroundcolor": "#E5ECF6",
            "gridcolor": "white",
            "gridwidth": 2,
            "linecolor": "white",
            "showbackground": true,
            "ticks": "",
            "zerolinecolor": "white"
           },
           "yaxis": {
            "backgroundcolor": "#E5ECF6",
            "gridcolor": "white",
            "gridwidth": 2,
            "linecolor": "white",
            "showbackground": true,
            "ticks": "",
            "zerolinecolor": "white"
           },
           "zaxis": {
            "backgroundcolor": "#E5ECF6",
            "gridcolor": "white",
            "gridwidth": 2,
            "linecolor": "white",
            "showbackground": true,
            "ticks": "",
            "zerolinecolor": "white"
           }
          },
          "shapedefaults": {
           "line": {
            "color": "#2a3f5f"
           }
          },
          "ternary": {
           "aaxis": {
            "gridcolor": "white",
            "linecolor": "white",
            "ticks": ""
           },
           "baxis": {
            "gridcolor": "white",
            "linecolor": "white",
            "ticks": ""
           },
           "bgcolor": "#E5ECF6",
           "caxis": {
            "gridcolor": "white",
            "linecolor": "white",
            "ticks": ""
           }
          },
          "title": {
           "x": 0.05
          },
          "xaxis": {
           "automargin": true,
           "gridcolor": "white",
           "linecolor": "white",
           "ticks": "",
           "title": {
            "standoff": 15
           },
           "zerolinecolor": "white",
           "zerolinewidth": 2
          },
          "yaxis": {
           "automargin": true,
           "gridcolor": "white",
           "linecolor": "white",
           "ticks": "",
           "title": {
            "standoff": 15
           },
           "zerolinecolor": "white",
           "zerolinewidth": 2
          }
         }
        },
        "title": {
         "text": "2019 US <br> Crime prediction LR model"
        }
       }
      },
      "text/html": [
       "<div>                            <div id=\"f67ed01b-49e3-4474-b811-e6ec635eea66\" class=\"plotly-graph-div\" style=\"height:525px; width:100%;\"></div>            <script type=\"text/javascript\">                require([\"plotly\"], function(Plotly) {                    window.PLOTLYENV=window.PLOTLYENV || {};                                    if (document.getElementById(\"f67ed01b-49e3-4474-b811-e6ec635eea66\")) {                    Plotly.newPlot(                        \"f67ed01b-49e3-4474-b811-e6ec635eea66\",                        [{\"autocolorscale\": false, \"colorbar\": {\"title\": {\"text\": \"Total predictoin\"}}, \"colorscale\": [[0.0, \"rgb(247,251,255)\"], [0.125, \"rgb(222,235,247)\"], [0.25, \"rgb(198,219,239)\"], [0.375, \"rgb(158,202,225)\"], [0.5, \"rgb(107,174,214)\"], [0.625, \"rgb(66,146,198)\"], [0.75, \"rgb(33,113,181)\"], [0.875, \"rgb(8,81,156)\"], [1.0, \"rgb(8,48,107)\"]], \"hovertemplate\": [\"Alaska<br>----------------------------------------<br>Aassault 0.042<br>Predicted assault 0.018<br>Deviation: 1.226 % <br>----------------------------------------<br>Vehicle theft 0.016<br>Predicted Vehicle theft 0.024<br>Deviation: 0.583 % <br>----------------------------------------<br>Property crime 0.021<br>Predicted Property crime 0.013<br>Deviation: 0.884 % <br>----------------------------------------<br>Total crime presiction: 0.055<br>\", \"Arizona<br>----------------------------------------<br>Aassault 0.212<br>Predicted assault 0.157<br>Deviation: 2.694 % <br>----------------------------------------<br>Vehicle theft 0.114<br>Predicted Vehicle theft 0.095<br>Deviation: 1.248 % <br>----------------------------------------<br>Property crime 0.188<br>Predicted Property crime 0.15<br>Deviation: 4.294 % <br>----------------------------------------<br>Total crime presiction: 0.403<br>\", \"Arkansas<br>----------------------------------------<br>Aassault 0.128<br>Predicted assault 0.061<br>Deviation: 3.311 % <br>----------------------------------------<br>Vehicle theft 0.038<br>Predicted Vehicle theft 0.03<br>Deviation: 0.564 % <br>----------------------------------------<br>Property crime 0.077<br>Predicted Property crime 0.066<br>Deviation: 1.253 % <br>----------------------------------------<br>Total crime presiction: 0.157<br>\", \"California<br>----------------------------------------<br>Aassault 0.952<br>Predicted assault 0.979<br>Deviation: 1.347 % <br>----------------------------------------<br>Vehicle theft 0.777<br>Predicted Vehicle theft 0.966<br>Deviation: 12.933 % <br>----------------------------------------<br>Property crime 0.873<br>Predicted Property crime 0.781<br>Deviation: 10.641 % <br>----------------------------------------<br>Total crime presiction: 2.726<br>\", \"Colorado<br>----------------------------------------<br>Aassault 0.144<br>Predicted assault 0.148<br>Deviation: 0.194 % <br>----------------------------------------<br>Vehicle theft 0.128<br>Predicted Vehicle theft 0.069<br>Deviation: 4.057 % <br>----------------------------------------<br>Property crime 0.145<br>Predicted Property crime 0.11<br>Deviation: 4.124 % <br>----------------------------------------<br>Total crime presiction: 0.326<br>\", \"Connecticut<br>----------------------------------------<br>Aassault 0.035<br>Predicted assault 0.066<br>Deviation: 1.546 % <br>----------------------------------------<br>Vehicle theft 0.036<br>Predicted Vehicle theft 0.045<br>Deviation: 0.644 % <br>----------------------------------------<br>Property crime 0.052<br>Predicted Property crime 0.048<br>Deviation: 0.422 % <br>----------------------------------------<br>Total crime presiction: 0.159<br>\", \"Delaware<br>----------------------------------------<br>Aassault 0.016<br>Predicted assault 0.019<br>Deviation: 0.13 % <br>----------------------------------------<br>Vehicle theft 0.005<br>Predicted Vehicle theft 0.023<br>Deviation: 1.261 % <br>----------------------------------------<br>Property crime 0.01<br>Predicted Property crime 0.009<br>Deviation: 0.17 % <br>----------------------------------------<br>Total crime presiction: 0.051<br>\", \"District Of Columbia<br>----------------------------------------<br>Aassault 0.052<br>Predicted assault 0.028<br>Deviation: 1.19 % <br>----------------------------------------<br>Vehicle theft 0.017<br>Predicted Vehicle theft 0.028<br>Deviation: 0.728 % <br>----------------------------------------<br>Property crime 0.036<br>Predicted Property crime 0.008<br>Deviation: 3.284 % <br>----------------------------------------<br>Total crime presiction: 0.063<br>\", \"Florida<br>----------------------------------------<br>Aassault 0.369<br>Predicted assault 0.428<br>Deviation: 2.926 % <br>----------------------------------------<br>Vehicle theft 0.161<br>Predicted Vehicle theft 0.214<br>Deviation: 3.622 % <br>----------------------------------------<br>Property crime 0.326<br>Predicted Property crime 0.278<br>Deviation: 5.537 % <br>----------------------------------------<br>Total crime presiction: 0.921<br>\", \"Hawaii<br>----------------------------------------<br>Aassault 0.015<br>Predicted assault 0.027<br>Deviation: 0.572 % <br>----------------------------------------<br>Vehicle theft 0.029<br>Predicted Vehicle theft 0.066<br>Deviation: 2.53 % <br>----------------------------------------<br>Property crime 0.035<br>Predicted Property crime 0.024<br>Deviation: 1.267 % <br>----------------------------------------<br>Total crime presiction: 0.117<br>\", \"Idaho<br>----------------------------------------<br>Aassault 0.024<br>Predicted assault 0.038<br>Deviation: 0.682 % <br>----------------------------------------<br>Vehicle theft 0.008<br>Predicted Vehicle theft 0.027<br>Deviation: 1.302 % <br>----------------------------------------<br>Property crime 0.019<br>Predicted Property crime 0.025<br>Deviation: 0.662 % <br>----------------------------------------<br>Total crime presiction: 0.089<br>\", \"Illinois<br>----------------------------------------<br>Aassault 0.349<br>Predicted assault 0.281<br>Deviation: 3.321 % <br>----------------------------------------<br>Vehicle theft 0.112<br>Predicted Vehicle theft 0.125<br>Deviation: 0.918 % <br>----------------------------------------<br>Property crime 0.221<br>Predicted Property crime 0.21<br>Deviation: 1.209 % <br>----------------------------------------<br>Total crime presiction: 0.617<br>\", \"Indiana<br>----------------------------------------<br>Aassault 0.039<br>Predicted assault 0.138<br>Deviation: 4.88 % <br>----------------------------------------<br>Vehicle theft 0.022<br>Predicted Vehicle theft 0.046<br>Deviation: 1.602 % <br>----------------------------------------<br>Property crime 0.041<br>Predicted Property crime 0.077<br>Deviation: 4.058 % <br>----------------------------------------<br>Total crime presiction: 0.26<br>\", \"Iowa<br>----------------------------------------<br>Aassault 0.06<br>Predicted assault 0.061<br>Deviation: 0.026 % <br>----------------------------------------<br>Vehicle theft 0.03<br>Predicted Vehicle theft 0.03<br>Deviation: 0.034 % <br>----------------------------------------<br>Property crime 0.052<br>Predicted Property crime 0.06<br>Deviation: 0.915 % <br>----------------------------------------<br>Total crime presiction: 0.151<br>\", \"Kansas<br>----------------------------------------<br>Aassault 0.083<br>Predicted assault 0.057<br>Deviation: 1.281 % <br>----------------------------------------<br>Vehicle theft 0.036<br>Predicted Vehicle theft 0.034<br>Deviation: 0.145 % <br>----------------------------------------<br>Property crime 0.053<br>Predicted Property crime 0.05<br>Deviation: 0.286 % <br>----------------------------------------<br>Total crime presiction: 0.141<br>\", \"Kentucky<br>----------------------------------------<br>Aassault 0.059<br>Predicted assault 0.088<br>Deviation: 1.428 % <br>----------------------------------------<br>Vehicle theft 0.054<br>Predicted Vehicle theft 0.031<br>Deviation: 1.521 % <br>----------------------------------------<br>Property crime 0.077<br>Predicted Property crime 0.072<br>Deviation: 0.58 % <br>----------------------------------------<br>Total crime presiction: 0.192<br>\", \"Louisiana<br>----------------------------------------<br>Aassault 0.129<br>Predicted assault 0.102<br>Deviation: 1.307 % <br>----------------------------------------<br>Vehicle theft 0.05<br>Predicted Vehicle theft 0.032<br>Deviation: 1.176 % <br>----------------------------------------<br>Property crime 0.1<br>Predicted Property crime 0.091<br>Deviation: 1.082 % <br>----------------------------------------<br>Total crime presiction: 0.225<br>\", \"Maine<br>----------------------------------------<br>Aassault 0.005<br>Predicted assault 0.024<br>Deviation: 0.941 % <br>----------------------------------------<br>Vehicle theft 0.003<br>Predicted Vehicle theft 0.021<br>Deviation: 1.239 % <br>----------------------------------------<br>Property crime 0.015<br>Predicted Property crime 0.01<br>Deviation: 0.534 % <br>----------------------------------------<br>Total crime presiction: 0.056<br>\", \"Maryland<br>----------------------------------------<br>Aassault 0.099<br>Predicted assault 0.128<br>Deviation: 1.431 % <br>----------------------------------------<br>Vehicle theft 0.038<br>Predicted Vehicle theft 0.066<br>Deviation: 1.881 % <br>----------------------------------------<br>Property crime 0.054<br>Predicted Property crime 0.088<br>Deviation: 3.885 % <br>----------------------------------------<br>Total crime presiction: 0.281<br>\", \"Massachusetts<br>----------------------------------------<br>Aassault 0.165<br>Predicted assault 0.157<br>Deviation: 0.417 % <br>----------------------------------------<br>Vehicle theft 0.034<br>Predicted Vehicle theft 0.078<br>Deviation: 2.978 % <br>----------------------------------------<br>Property crime 0.075<br>Predicted Property crime 0.094<br>Deviation: 2.202 % <br>----------------------------------------<br>Total crime presiction: 0.329<br>\", \"Michigan<br>----------------------------------------<br>Aassault 0.329<br>Predicted assault 0.207<br>Deviation: 5.983 % <br>----------------------------------------<br>Vehicle theft 0.115<br>Predicted Vehicle theft 0.06<br>Deviation: 3.729 % <br>----------------------------------------<br>Property crime 0.152<br>Predicted Property crime 0.164<br>Deviation: 1.354 % <br>----------------------------------------<br>Total crime presiction: 0.431<br>\", \"Minnesota<br>----------------------------------------<br>Aassault 0.081<br>Predicted assault 0.123<br>Deviation: 2.114 % <br>----------------------------------------<br>Vehicle theft 0.072<br>Predicted Vehicle theft 0.051<br>Deviation: 1.433 % <br>----------------------------------------<br>Property crime 0.125<br>Predicted Property crime 0.106<br>Deviation: 2.191 % <br>----------------------------------------<br>Total crime presiction: 0.281<br>\", \"Mississippi<br>----------------------------------------<br>Aassault 0.008<br>Predicted assault 0.057<br>Deviation: 2.407 % <br>----------------------------------------<br>Vehicle theft 0.01<br>Predicted Vehicle theft 0.023<br>Deviation: 0.936 % <br>----------------------------------------<br>Property crime 0.022<br>Predicted Property crime 0.033<br>Deviation: 1.228 % <br>----------------------------------------<br>Total crime presiction: 0.113<br>\", \"Missouri<br>----------------------------------------<br>Aassault 0.206<br>Predicted assault 0.131<br>Deviation: 3.706 % <br>----------------------------------------<br>Vehicle theft 0.109<br>Predicted Vehicle theft 0.039<br>Deviation: 4.807 % <br>----------------------------------------<br>Property crime 0.136<br>Predicted Property crime 0.112<br>Deviation: 2.736 % <br>----------------------------------------<br>Total crime presiction: 0.282<br>\", \"Montana<br>----------------------------------------<br>Aassault 0.018<br>Predicted assault 0.02<br>Deviation: 0.111 % <br>----------------------------------------<br>Vehicle theft 0.01<br>Predicted Vehicle theft 0.021<br>Deviation: 0.734 % <br>----------------------------------------<br>Property crime 0.018<br>Predicted Property crime 0.011<br>Deviation: 0.853 % <br>----------------------------------------<br>Total crime presiction: 0.052<br>\", \"Nebraska<br>----------------------------------------<br>Aassault 0.041<br>Predicted assault 0.04<br>Deviation: 0.018 % <br>----------------------------------------<br>Vehicle theft 0.033<br>Predicted Vehicle theft 0.028<br>Deviation: 0.303 % <br>----------------------------------------<br>Property crime 0.042<br>Predicted Property crime 0.032<br>Deviation: 1.154 % <br>----------------------------------------<br>Total crime presiction: 0.1<br>\", \"Nevada<br>----------------------------------------<br>Aassault 0.086<br>Predicted assault 0.073<br>Deviation: 0.602 % <br>----------------------------------------<br>Vehicle theft 0.068<br>Predicted Vehicle theft 0.066<br>Deviation: 0.11 % <br>----------------------------------------<br>Property crime 0.069<br>Predicted Property crime 0.072<br>Deviation: 0.351 % <br>----------------------------------------<br>Total crime presiction: 0.211<br>\", \"New Hampshire<br>----------------------------------------<br>Aassault 0.011<br>Predicted assault 0.025<br>Deviation: 0.689 % <br>----------------------------------------<br>Vehicle theft 0.006<br>Predicted Vehicle theft 0.023<br>Deviation: 1.161 % <br>----------------------------------------<br>Property crime 0.017<br>Predicted Property crime 0.013<br>Deviation: 0.435 % <br>----------------------------------------<br>Total crime presiction: 0.061<br>\", \"New Jersey<br>----------------------------------------<br>Aassault 0.138<br>Predicted assault 0.176<br>Deviation: 1.89 % <br>----------------------------------------<br>Vehicle theft 0.076<br>Predicted Vehicle theft 0.126<br>Deviation: 3.437 % <br>----------------------------------------<br>Property crime 0.144<br>Predicted Property crime 0.148<br>Deviation: 0.459 % <br>----------------------------------------<br>Total crime presiction: 0.45<br>\", \"New Mexico<br>----------------------------------------<br>Aassault 0.08<br>Predicted assault 0.043<br>Deviation: 1.8 % <br>----------------------------------------<br>Vehicle theft 0.045<br>Predicted Vehicle theft 0.046<br>Deviation: 0.103 % <br>----------------------------------------<br>Property crime 0.005<br>Predicted Property crime 0.018<br>Deviation: 1.418 % <br>----------------------------------------<br>Total crime presiction: 0.107<br>\", \"New York<br>----------------------------------------<br>Aassault 0.546<br>Predicted assault 0.463<br>Deviation: 4.109 % <br>----------------------------------------<br>Vehicle theft 0.076<br>Predicted Vehicle theft 0.282<br>Deviation: 14.102 % <br>----------------------------------------<br>Property crime 0.261<br>Predicted Property crime 0.241<br>Deviation: 2.352 % <br>----------------------------------------<br>Total crime presiction: 0.986<br>\", \"North Dakota<br>----------------------------------------<br>Aassault 0.012<br>Predicted assault 0.018<br>Deviation: 0.316 % <br>----------------------------------------<br>Vehicle theft 0.009<br>Predicted Vehicle theft 0.02<br>Deviation: 0.727 % <br>----------------------------------------<br>Property crime 0.014<br>Predicted Property crime 0.011<br>Deviation: 0.301 % <br>----------------------------------------<br>Total crime presiction: 0.049<br>\", \"Ohio<br>----------------------------------------<br>Aassault 0.131<br>Predicted assault 0.244<br>Deviation: 5.561 % <br>----------------------------------------<br>Vehicle theft 0.064<br>Predicted Vehicle theft 0.058<br>Deviation: 0.434 % <br>----------------------------------------<br>Property crime 0.122<br>Predicted Property crime 0.174<br>Deviation: 5.976 % <br>----------------------------------------<br>Total crime presiction: 0.476<br>\", \"Oklahoma<br>----------------------------------------<br>Aassault 0.139<br>Predicted assault 0.087<br>Deviation: 2.585 % <br>----------------------------------------<br>Vehicle theft 0.084<br>Predicted Vehicle theft 0.038<br>Deviation: 3.201 % <br>----------------------------------------<br>Property crime 0.121<br>Predicted Property crime 0.118<br>Deviation: 0.435 % <br>----------------------------------------<br>Total crime presiction: 0.242<br>\", \"Oregon<br>----------------------------------------<br>Aassault 0.069<br>Predicted assault 0.097<br>Deviation: 1.355 % <br>----------------------------------------<br>Vehicle theft 0.087<br>Predicted Vehicle theft 0.064<br>Deviation: 1.57 % <br>----------------------------------------<br>Property crime 0.104<br>Predicted Property crime 0.068<br>Deviation: 4.104 % <br>----------------------------------------<br>Total crime presiction: 0.229<br>\", \"Pennsylvania<br>----------------------------------------<br>Aassault 0.064<br>Predicted assault 0.275<br>Deviation: 10.396 % <br>----------------------------------------<br>Vehicle theft 0.014<br>Predicted Vehicle theft 0.084<br>Deviation: 4.759 % <br>----------------------------------------<br>Property crime 0.039<br>Predicted Property crime 0.12<br>Deviation: 9.318 % <br>----------------------------------------<br>Total crime presiction: 0.478<br>\", \"Rhode Island<br>----------------------------------------<br>Aassault 0.016<br>Predicted assault 0.023<br>Deviation: 0.362 % <br>----------------------------------------<br>Vehicle theft 0.009<br>Predicted Vehicle theft 0.025<br>Deviation: 1.073 % <br>----------------------------------------<br>Property crime 0.018<br>Predicted Property crime 0.013<br>Deviation: 0.58 % <br>----------------------------------------<br>Total crime presiction: 0.061<br>\", \"South Carolina<br>----------------------------------------<br>Aassault 0.093<br>Predicted assault 0.104<br>Deviation: 0.538 % <br>----------------------------------------<br>Vehicle theft 0.04<br>Predicted Vehicle theft 0.035<br>Deviation: 0.321 % <br>----------------------------------------<br>Property crime 0.077<br>Predicted Property crime 0.07<br>Deviation: 0.76 % <br>----------------------------------------<br>Total crime presiction: 0.21<br>\", \"South Dakota<br>----------------------------------------<br>Aassault 0.02<br>Predicted assault 0.017<br>Deviation: 0.167 % <br>----------------------------------------<br>Vehicle theft 0.009<br>Predicted Vehicle theft 0.02<br>Deviation: 0.763 % <br>----------------------------------------<br>Property crime 0.014<br>Predicted Property crime 0.012<br>Deviation: 0.273 % <br>----------------------------------------<br>Total crime presiction: 0.049<br>\", \"Tennessee<br>----------------------------------------<br>Aassault 0.33<br>Predicted assault 0.15<br>Deviation: 8.897 % <br>----------------------------------------<br>Vehicle theft 0.105<br>Predicted Vehicle theft 0.044<br>Deviation: 4.168 % <br>----------------------------------------<br>Property crime 0.184<br>Predicted Property crime 0.138<br>Deviation: 5.28 % <br>----------------------------------------<br>Total crime presiction: 0.332<br>\", \"Texas<br>----------------------------------------<br>Aassault 0.759<br>Predicted assault 0.684<br>Deviation: 3.701 % <br>----------------------------------------<br>Vehicle theft 0.437<br>Predicted Vehicle theft 0.394<br>Deviation: 2.916 % <br>----------------------------------------<br>Property crime 0.645<br>Predicted Property crime 0.613<br>Deviation: 3.648 % <br>----------------------------------------<br>Total crime presiction: 1.692<br>\", \"Utah<br>----------------------------------------<br>Aassault 0.043<br>Predicted assault 0.076<br>Deviation: 1.615 % <br>----------------------------------------<br>Vehicle theft 0.038<br>Predicted Vehicle theft 0.036<br>Deviation: 0.109 % <br>----------------------------------------<br>Property crime 0.064<br>Predicted Property crime 0.067<br>Deviation: 0.394 % <br>----------------------------------------<br>Total crime presiction: 0.179<br>\", \"Vermont<br>----------------------------------------<br>Aassault 0.005<br>Predicted assault 0.011<br>Deviation: 0.284 % <br>----------------------------------------<br>Vehicle theft 0.001<br>Predicted Vehicle theft 0.02<br>Deviation: 1.303 % <br>----------------------------------------<br>Property crime 0.007<br>Predicted Property crime 0.003<br>Deviation: 0.436 % <br>----------------------------------------<br>Total crime presiction: 0.034<br>\", \"Virginia<br>----------------------------------------<br>Aassault 0.083<br>Predicted assault 0.173<br>Deviation: 4.445 % <br>----------------------------------------<br>Vehicle theft 0.044<br>Predicted Vehicle theft 0.08<br>Deviation: 2.475 % <br>----------------------------------------<br>Property crime 0.093<br>Predicted Property crime 0.109<br>Deviation: 1.801 % <br>----------------------------------------<br>Total crime presiction: 0.362<br>\", \"Washington<br>----------------------------------------<br>Aassault 0.129<br>Predicted assault 0.189<br>Deviation: 2.981 % <br>----------------------------------------<br>Vehicle theft 0.134<br>Predicted Vehicle theft 0.112<br>Deviation: 1.516 % <br>----------------------------------------<br>Property crime 0.196<br>Predicted Property crime 0.163<br>Deviation: 3.759 % <br>----------------------------------------<br>Total crime presiction: 0.465<br>\", \"West Virginia<br>----------------------------------------<br>Aassault 0.002<br>Predicted assault 0.031<br>Deviation: 1.438 % <br>----------------------------------------<br>Vehicle theft 0.002<br>Predicted Vehicle theft 0.021<br>Deviation: 1.339 % <br>----------------------------------------<br>Property crime 0.002<br>Predicted Property crime 0.01<br>Deviation: 0.863 % <br>----------------------------------------<br>Total crime presiction: 0.063<br>\", \"Wisconsin<br>----------------------------------------<br>Aassault 0.13<br>Predicted assault 0.115<br>Deviation: 0.716 % <br>----------------------------------------<br>Vehicle theft 0.048<br>Predicted Vehicle theft 0.043<br>Deviation: 0.368 % <br>----------------------------------------<br>Property crime 0.088<br>Predicted Property crime 0.088<br>Deviation: 0.082 % <br>----------------------------------------<br>Total crime presiction: 0.246<br>\", \"Wyoming<br>----------------------------------------<br>Aassault 0.004<br>Predicted assault 0.011<br>Deviation: 0.363 % <br>----------------------------------------<br>Vehicle theft 0.003<br>Predicted Vehicle theft 0.02<br>Deviation: 1.138 % <br>----------------------------------------<br>Property crime 0.007<br>Predicted Property crime 0.005<br>Deviation: 0.17 % <br>----------------------------------------<br>Total crime presiction: 0.036<br>\"], \"hovertext\": \"False\", \"locationmode\": \"USA-states\", \"locations\": [\"AK\", \"AZ\", \"AR\", \"CA\", \"CO\", \"CT\", \"DE\", \"nan\", \"FL\", \"HI\", \"ID\", \"IL\", \"IN\", \"IA\", \"KS\", \"KY\", \"LA\", \"ME\", \"MD\", \"MA\", \"MI\", \"MN\", \"MS\", \"MO\", \"MT\", \"NE\", \"NV\", \"NH\", \"NJ\", \"NM\", \"NY\", \"ND\", \"OH\", \"OK\", \"OR\", \"PA\", \"RI\", \"SC\", \"SD\", \"TN\", \"TX\", \"UT\", \"VT\", \"VA\", \"WA\", \"WV\", \"WI\", \"WY\"], \"marker\": {\"line\": {\"color\": \"Black\"}}, \"showlegend\": false, \"text\": [\"Alaska<br>----------------------------------------<br>Aassault 0.042<br>Predicted assault 0.018<br>Deviation: 1.226 % <br>----------------------------------------<br>Vehicle theft 0.016<br>Predicted Vehicle theft 0.024<br>Deviation: 0.583 % <br>----------------------------------------<br>Property crime 0.021<br>Predicted Property crime 0.013<br>Deviation: 0.884 % <br>----------------------------------------<br>Total crime presiction: 0.055<br>\", \"Arizona<br>----------------------------------------<br>Aassault 0.212<br>Predicted assault 0.157<br>Deviation: 2.694 % <br>----------------------------------------<br>Vehicle theft 0.114<br>Predicted Vehicle theft 0.095<br>Deviation: 1.248 % <br>----------------------------------------<br>Property crime 0.188<br>Predicted Property crime 0.15<br>Deviation: 4.294 % <br>----------------------------------------<br>Total crime presiction: 0.403<br>\", \"Arkansas<br>----------------------------------------<br>Aassault 0.128<br>Predicted assault 0.061<br>Deviation: 3.311 % <br>----------------------------------------<br>Vehicle theft 0.038<br>Predicted Vehicle theft 0.03<br>Deviation: 0.564 % <br>----------------------------------------<br>Property crime 0.077<br>Predicted Property crime 0.066<br>Deviation: 1.253 % <br>----------------------------------------<br>Total crime presiction: 0.157<br>\", \"California<br>----------------------------------------<br>Aassault 0.952<br>Predicted assault 0.979<br>Deviation: 1.347 % <br>----------------------------------------<br>Vehicle theft 0.777<br>Predicted Vehicle theft 0.966<br>Deviation: 12.933 % <br>----------------------------------------<br>Property crime 0.873<br>Predicted Property crime 0.781<br>Deviation: 10.641 % <br>----------------------------------------<br>Total crime presiction: 2.726<br>\", \"Colorado<br>----------------------------------------<br>Aassault 0.144<br>Predicted assault 0.148<br>Deviation: 0.194 % <br>----------------------------------------<br>Vehicle theft 0.128<br>Predicted Vehicle theft 0.069<br>Deviation: 4.057 % <br>----------------------------------------<br>Property crime 0.145<br>Predicted Property crime 0.11<br>Deviation: 4.124 % <br>----------------------------------------<br>Total crime presiction: 0.326<br>\", \"Connecticut<br>----------------------------------------<br>Aassault 0.035<br>Predicted assault 0.066<br>Deviation: 1.546 % <br>----------------------------------------<br>Vehicle theft 0.036<br>Predicted Vehicle theft 0.045<br>Deviation: 0.644 % <br>----------------------------------------<br>Property crime 0.052<br>Predicted Property crime 0.048<br>Deviation: 0.422 % <br>----------------------------------------<br>Total crime presiction: 0.159<br>\", \"Delaware<br>----------------------------------------<br>Aassault 0.016<br>Predicted assault 0.019<br>Deviation: 0.13 % <br>----------------------------------------<br>Vehicle theft 0.005<br>Predicted Vehicle theft 0.023<br>Deviation: 1.261 % <br>----------------------------------------<br>Property crime 0.01<br>Predicted Property crime 0.009<br>Deviation: 0.17 % <br>----------------------------------------<br>Total crime presiction: 0.051<br>\", \"District Of Columbia<br>----------------------------------------<br>Aassault 0.052<br>Predicted assault 0.028<br>Deviation: 1.19 % <br>----------------------------------------<br>Vehicle theft 0.017<br>Predicted Vehicle theft 0.028<br>Deviation: 0.728 % <br>----------------------------------------<br>Property crime 0.036<br>Predicted Property crime 0.008<br>Deviation: 3.284 % <br>----------------------------------------<br>Total crime presiction: 0.063<br>\", \"Florida<br>----------------------------------------<br>Aassault 0.369<br>Predicted assault 0.428<br>Deviation: 2.926 % <br>----------------------------------------<br>Vehicle theft 0.161<br>Predicted Vehicle theft 0.214<br>Deviation: 3.622 % <br>----------------------------------------<br>Property crime 0.326<br>Predicted Property crime 0.278<br>Deviation: 5.537 % <br>----------------------------------------<br>Total crime presiction: 0.921<br>\", \"Hawaii<br>----------------------------------------<br>Aassault 0.015<br>Predicted assault 0.027<br>Deviation: 0.572 % <br>----------------------------------------<br>Vehicle theft 0.029<br>Predicted Vehicle theft 0.066<br>Deviation: 2.53 % <br>----------------------------------------<br>Property crime 0.035<br>Predicted Property crime 0.024<br>Deviation: 1.267 % <br>----------------------------------------<br>Total crime presiction: 0.117<br>\", \"Idaho<br>----------------------------------------<br>Aassault 0.024<br>Predicted assault 0.038<br>Deviation: 0.682 % <br>----------------------------------------<br>Vehicle theft 0.008<br>Predicted Vehicle theft 0.027<br>Deviation: 1.302 % <br>----------------------------------------<br>Property crime 0.019<br>Predicted Property crime 0.025<br>Deviation: 0.662 % <br>----------------------------------------<br>Total crime presiction: 0.089<br>\", \"Illinois<br>----------------------------------------<br>Aassault 0.349<br>Predicted assault 0.281<br>Deviation: 3.321 % <br>----------------------------------------<br>Vehicle theft 0.112<br>Predicted Vehicle theft 0.125<br>Deviation: 0.918 % <br>----------------------------------------<br>Property crime 0.221<br>Predicted Property crime 0.21<br>Deviation: 1.209 % <br>----------------------------------------<br>Total crime presiction: 0.617<br>\", \"Indiana<br>----------------------------------------<br>Aassault 0.039<br>Predicted assault 0.138<br>Deviation: 4.88 % <br>----------------------------------------<br>Vehicle theft 0.022<br>Predicted Vehicle theft 0.046<br>Deviation: 1.602 % <br>----------------------------------------<br>Property crime 0.041<br>Predicted Property crime 0.077<br>Deviation: 4.058 % <br>----------------------------------------<br>Total crime presiction: 0.26<br>\", \"Iowa<br>----------------------------------------<br>Aassault 0.06<br>Predicted assault 0.061<br>Deviation: 0.026 % <br>----------------------------------------<br>Vehicle theft 0.03<br>Predicted Vehicle theft 0.03<br>Deviation: 0.034 % <br>----------------------------------------<br>Property crime 0.052<br>Predicted Property crime 0.06<br>Deviation: 0.915 % <br>----------------------------------------<br>Total crime presiction: 0.151<br>\", \"Kansas<br>----------------------------------------<br>Aassault 0.083<br>Predicted assault 0.057<br>Deviation: 1.281 % <br>----------------------------------------<br>Vehicle theft 0.036<br>Predicted Vehicle theft 0.034<br>Deviation: 0.145 % <br>----------------------------------------<br>Property crime 0.053<br>Predicted Property crime 0.05<br>Deviation: 0.286 % <br>----------------------------------------<br>Total crime presiction: 0.141<br>\", \"Kentucky<br>----------------------------------------<br>Aassault 0.059<br>Predicted assault 0.088<br>Deviation: 1.428 % <br>----------------------------------------<br>Vehicle theft 0.054<br>Predicted Vehicle theft 0.031<br>Deviation: 1.521 % <br>----------------------------------------<br>Property crime 0.077<br>Predicted Property crime 0.072<br>Deviation: 0.58 % <br>----------------------------------------<br>Total crime presiction: 0.192<br>\", \"Louisiana<br>----------------------------------------<br>Aassault 0.129<br>Predicted assault 0.102<br>Deviation: 1.307 % <br>----------------------------------------<br>Vehicle theft 0.05<br>Predicted Vehicle theft 0.032<br>Deviation: 1.176 % <br>----------------------------------------<br>Property crime 0.1<br>Predicted Property crime 0.091<br>Deviation: 1.082 % <br>----------------------------------------<br>Total crime presiction: 0.225<br>\", \"Maine<br>----------------------------------------<br>Aassault 0.005<br>Predicted assault 0.024<br>Deviation: 0.941 % <br>----------------------------------------<br>Vehicle theft 0.003<br>Predicted Vehicle theft 0.021<br>Deviation: 1.239 % <br>----------------------------------------<br>Property crime 0.015<br>Predicted Property crime 0.01<br>Deviation: 0.534 % <br>----------------------------------------<br>Total crime presiction: 0.056<br>\", \"Maryland<br>----------------------------------------<br>Aassault 0.099<br>Predicted assault 0.128<br>Deviation: 1.431 % <br>----------------------------------------<br>Vehicle theft 0.038<br>Predicted Vehicle theft 0.066<br>Deviation: 1.881 % <br>----------------------------------------<br>Property crime 0.054<br>Predicted Property crime 0.088<br>Deviation: 3.885 % <br>----------------------------------------<br>Total crime presiction: 0.281<br>\", \"Massachusetts<br>----------------------------------------<br>Aassault 0.165<br>Predicted assault 0.157<br>Deviation: 0.417 % <br>----------------------------------------<br>Vehicle theft 0.034<br>Predicted Vehicle theft 0.078<br>Deviation: 2.978 % <br>----------------------------------------<br>Property crime 0.075<br>Predicted Property crime 0.094<br>Deviation: 2.202 % <br>----------------------------------------<br>Total crime presiction: 0.329<br>\", \"Michigan<br>----------------------------------------<br>Aassault 0.329<br>Predicted assault 0.207<br>Deviation: 5.983 % <br>----------------------------------------<br>Vehicle theft 0.115<br>Predicted Vehicle theft 0.06<br>Deviation: 3.729 % <br>----------------------------------------<br>Property crime 0.152<br>Predicted Property crime 0.164<br>Deviation: 1.354 % <br>----------------------------------------<br>Total crime presiction: 0.431<br>\", \"Minnesota<br>----------------------------------------<br>Aassault 0.081<br>Predicted assault 0.123<br>Deviation: 2.114 % <br>----------------------------------------<br>Vehicle theft 0.072<br>Predicted Vehicle theft 0.051<br>Deviation: 1.433 % <br>----------------------------------------<br>Property crime 0.125<br>Predicted Property crime 0.106<br>Deviation: 2.191 % <br>----------------------------------------<br>Total crime presiction: 0.281<br>\", \"Mississippi<br>----------------------------------------<br>Aassault 0.008<br>Predicted assault 0.057<br>Deviation: 2.407 % <br>----------------------------------------<br>Vehicle theft 0.01<br>Predicted Vehicle theft 0.023<br>Deviation: 0.936 % <br>----------------------------------------<br>Property crime 0.022<br>Predicted Property crime 0.033<br>Deviation: 1.228 % <br>----------------------------------------<br>Total crime presiction: 0.113<br>\", \"Missouri<br>----------------------------------------<br>Aassault 0.206<br>Predicted assault 0.131<br>Deviation: 3.706 % <br>----------------------------------------<br>Vehicle theft 0.109<br>Predicted Vehicle theft 0.039<br>Deviation: 4.807 % <br>----------------------------------------<br>Property crime 0.136<br>Predicted Property crime 0.112<br>Deviation: 2.736 % <br>----------------------------------------<br>Total crime presiction: 0.282<br>\", \"Montana<br>----------------------------------------<br>Aassault 0.018<br>Predicted assault 0.02<br>Deviation: 0.111 % <br>----------------------------------------<br>Vehicle theft 0.01<br>Predicted Vehicle theft 0.021<br>Deviation: 0.734 % <br>----------------------------------------<br>Property crime 0.018<br>Predicted Property crime 0.011<br>Deviation: 0.853 % <br>----------------------------------------<br>Total crime presiction: 0.052<br>\", \"Nebraska<br>----------------------------------------<br>Aassault 0.041<br>Predicted assault 0.04<br>Deviation: 0.018 % <br>----------------------------------------<br>Vehicle theft 0.033<br>Predicted Vehicle theft 0.028<br>Deviation: 0.303 % <br>----------------------------------------<br>Property crime 0.042<br>Predicted Property crime 0.032<br>Deviation: 1.154 % <br>----------------------------------------<br>Total crime presiction: 0.1<br>\", \"Nevada<br>----------------------------------------<br>Aassault 0.086<br>Predicted assault 0.073<br>Deviation: 0.602 % <br>----------------------------------------<br>Vehicle theft 0.068<br>Predicted Vehicle theft 0.066<br>Deviation: 0.11 % <br>----------------------------------------<br>Property crime 0.069<br>Predicted Property crime 0.072<br>Deviation: 0.351 % <br>----------------------------------------<br>Total crime presiction: 0.211<br>\", \"New Hampshire<br>----------------------------------------<br>Aassault 0.011<br>Predicted assault 0.025<br>Deviation: 0.689 % <br>----------------------------------------<br>Vehicle theft 0.006<br>Predicted Vehicle theft 0.023<br>Deviation: 1.161 % <br>----------------------------------------<br>Property crime 0.017<br>Predicted Property crime 0.013<br>Deviation: 0.435 % <br>----------------------------------------<br>Total crime presiction: 0.061<br>\", \"New Jersey<br>----------------------------------------<br>Aassault 0.138<br>Predicted assault 0.176<br>Deviation: 1.89 % <br>----------------------------------------<br>Vehicle theft 0.076<br>Predicted Vehicle theft 0.126<br>Deviation: 3.437 % <br>----------------------------------------<br>Property crime 0.144<br>Predicted Property crime 0.148<br>Deviation: 0.459 % <br>----------------------------------------<br>Total crime presiction: 0.45<br>\", \"New Mexico<br>----------------------------------------<br>Aassault 0.08<br>Predicted assault 0.043<br>Deviation: 1.8 % <br>----------------------------------------<br>Vehicle theft 0.045<br>Predicted Vehicle theft 0.046<br>Deviation: 0.103 % <br>----------------------------------------<br>Property crime 0.005<br>Predicted Property crime 0.018<br>Deviation: 1.418 % <br>----------------------------------------<br>Total crime presiction: 0.107<br>\", \"New York<br>----------------------------------------<br>Aassault 0.546<br>Predicted assault 0.463<br>Deviation: 4.109 % <br>----------------------------------------<br>Vehicle theft 0.076<br>Predicted Vehicle theft 0.282<br>Deviation: 14.102 % <br>----------------------------------------<br>Property crime 0.261<br>Predicted Property crime 0.241<br>Deviation: 2.352 % <br>----------------------------------------<br>Total crime presiction: 0.986<br>\", \"North Dakota<br>----------------------------------------<br>Aassault 0.012<br>Predicted assault 0.018<br>Deviation: 0.316 % <br>----------------------------------------<br>Vehicle theft 0.009<br>Predicted Vehicle theft 0.02<br>Deviation: 0.727 % <br>----------------------------------------<br>Property crime 0.014<br>Predicted Property crime 0.011<br>Deviation: 0.301 % <br>----------------------------------------<br>Total crime presiction: 0.049<br>\", \"Ohio<br>----------------------------------------<br>Aassault 0.131<br>Predicted assault 0.244<br>Deviation: 5.561 % <br>----------------------------------------<br>Vehicle theft 0.064<br>Predicted Vehicle theft 0.058<br>Deviation: 0.434 % <br>----------------------------------------<br>Property crime 0.122<br>Predicted Property crime 0.174<br>Deviation: 5.976 % <br>----------------------------------------<br>Total crime presiction: 0.476<br>\", \"Oklahoma<br>----------------------------------------<br>Aassault 0.139<br>Predicted assault 0.087<br>Deviation: 2.585 % <br>----------------------------------------<br>Vehicle theft 0.084<br>Predicted Vehicle theft 0.038<br>Deviation: 3.201 % <br>----------------------------------------<br>Property crime 0.121<br>Predicted Property crime 0.118<br>Deviation: 0.435 % <br>----------------------------------------<br>Total crime presiction: 0.242<br>\", \"Oregon<br>----------------------------------------<br>Aassault 0.069<br>Predicted assault 0.097<br>Deviation: 1.355 % <br>----------------------------------------<br>Vehicle theft 0.087<br>Predicted Vehicle theft 0.064<br>Deviation: 1.57 % <br>----------------------------------------<br>Property crime 0.104<br>Predicted Property crime 0.068<br>Deviation: 4.104 % <br>----------------------------------------<br>Total crime presiction: 0.229<br>\", \"Pennsylvania<br>----------------------------------------<br>Aassault 0.064<br>Predicted assault 0.275<br>Deviation: 10.396 % <br>----------------------------------------<br>Vehicle theft 0.014<br>Predicted Vehicle theft 0.084<br>Deviation: 4.759 % <br>----------------------------------------<br>Property crime 0.039<br>Predicted Property crime 0.12<br>Deviation: 9.318 % <br>----------------------------------------<br>Total crime presiction: 0.478<br>\", \"Rhode Island<br>----------------------------------------<br>Aassault 0.016<br>Predicted assault 0.023<br>Deviation: 0.362 % <br>----------------------------------------<br>Vehicle theft 0.009<br>Predicted Vehicle theft 0.025<br>Deviation: 1.073 % <br>----------------------------------------<br>Property crime 0.018<br>Predicted Property crime 0.013<br>Deviation: 0.58 % <br>----------------------------------------<br>Total crime presiction: 0.061<br>\", \"South Carolina<br>----------------------------------------<br>Aassault 0.093<br>Predicted assault 0.104<br>Deviation: 0.538 % <br>----------------------------------------<br>Vehicle theft 0.04<br>Predicted Vehicle theft 0.035<br>Deviation: 0.321 % <br>----------------------------------------<br>Property crime 0.077<br>Predicted Property crime 0.07<br>Deviation: 0.76 % <br>----------------------------------------<br>Total crime presiction: 0.21<br>\", \"South Dakota<br>----------------------------------------<br>Aassault 0.02<br>Predicted assault 0.017<br>Deviation: 0.167 % <br>----------------------------------------<br>Vehicle theft 0.009<br>Predicted Vehicle theft 0.02<br>Deviation: 0.763 % <br>----------------------------------------<br>Property crime 0.014<br>Predicted Property crime 0.012<br>Deviation: 0.273 % <br>----------------------------------------<br>Total crime presiction: 0.049<br>\", \"Tennessee<br>----------------------------------------<br>Aassault 0.33<br>Predicted assault 0.15<br>Deviation: 8.897 % <br>----------------------------------------<br>Vehicle theft 0.105<br>Predicted Vehicle theft 0.044<br>Deviation: 4.168 % <br>----------------------------------------<br>Property crime 0.184<br>Predicted Property crime 0.138<br>Deviation: 5.28 % <br>----------------------------------------<br>Total crime presiction: 0.332<br>\", \"Texas<br>----------------------------------------<br>Aassault 0.759<br>Predicted assault 0.684<br>Deviation: 3.701 % <br>----------------------------------------<br>Vehicle theft 0.437<br>Predicted Vehicle theft 0.394<br>Deviation: 2.916 % <br>----------------------------------------<br>Property crime 0.645<br>Predicted Property crime 0.613<br>Deviation: 3.648 % <br>----------------------------------------<br>Total crime presiction: 1.692<br>\", \"Utah<br>----------------------------------------<br>Aassault 0.043<br>Predicted assault 0.076<br>Deviation: 1.615 % <br>----------------------------------------<br>Vehicle theft 0.038<br>Predicted Vehicle theft 0.036<br>Deviation: 0.109 % <br>----------------------------------------<br>Property crime 0.064<br>Predicted Property crime 0.067<br>Deviation: 0.394 % <br>----------------------------------------<br>Total crime presiction: 0.179<br>\", \"Vermont<br>----------------------------------------<br>Aassault 0.005<br>Predicted assault 0.011<br>Deviation: 0.284 % <br>----------------------------------------<br>Vehicle theft 0.001<br>Predicted Vehicle theft 0.02<br>Deviation: 1.303 % <br>----------------------------------------<br>Property crime 0.007<br>Predicted Property crime 0.003<br>Deviation: 0.436 % <br>----------------------------------------<br>Total crime presiction: 0.034<br>\", \"Virginia<br>----------------------------------------<br>Aassault 0.083<br>Predicted assault 0.173<br>Deviation: 4.445 % <br>----------------------------------------<br>Vehicle theft 0.044<br>Predicted Vehicle theft 0.08<br>Deviation: 2.475 % <br>----------------------------------------<br>Property crime 0.093<br>Predicted Property crime 0.109<br>Deviation: 1.801 % <br>----------------------------------------<br>Total crime presiction: 0.362<br>\", \"Washington<br>----------------------------------------<br>Aassault 0.129<br>Predicted assault 0.189<br>Deviation: 2.981 % <br>----------------------------------------<br>Vehicle theft 0.134<br>Predicted Vehicle theft 0.112<br>Deviation: 1.516 % <br>----------------------------------------<br>Property crime 0.196<br>Predicted Property crime 0.163<br>Deviation: 3.759 % <br>----------------------------------------<br>Total crime presiction: 0.465<br>\", \"West Virginia<br>----------------------------------------<br>Aassault 0.002<br>Predicted assault 0.031<br>Deviation: 1.438 % <br>----------------------------------------<br>Vehicle theft 0.002<br>Predicted Vehicle theft 0.021<br>Deviation: 1.339 % <br>----------------------------------------<br>Property crime 0.002<br>Predicted Property crime 0.01<br>Deviation: 0.863 % <br>----------------------------------------<br>Total crime presiction: 0.063<br>\", \"Wisconsin<br>----------------------------------------<br>Aassault 0.13<br>Predicted assault 0.115<br>Deviation: 0.716 % <br>----------------------------------------<br>Vehicle theft 0.048<br>Predicted Vehicle theft 0.043<br>Deviation: 0.368 % <br>----------------------------------------<br>Property crime 0.088<br>Predicted Property crime 0.088<br>Deviation: 0.082 % <br>----------------------------------------<br>Total crime presiction: 0.246<br>\", \"Wyoming<br>----------------------------------------<br>Aassault 0.004<br>Predicted assault 0.011<br>Deviation: 0.363 % <br>----------------------------------------<br>Vehicle theft 0.003<br>Predicted Vehicle theft 0.02<br>Deviation: 1.138 % <br>----------------------------------------<br>Property crime 0.007<br>Predicted Property crime 0.005<br>Deviation: 0.17 % <br>----------------------------------------<br>Total crime presiction: 0.036<br>\"], \"textsrc\": \"skip\", \"type\": \"choropleth\", \"z\": [0.05499999999999999, 0.402, 0.157, 2.726, 0.327, 0.159, 0.051, 0.064, 0.92, 0.11699999999999999, 0.09, 0.616, 0.261, 0.151, 0.14100000000000001, 0.191, 0.225, 0.055, 0.28200000000000003, 0.32899999999999996, 0.43100000000000005, 0.27999999999999997, 0.113, 0.28200000000000003, 0.052000000000000005, 0.1, 0.21100000000000002, 0.061, 0.44999999999999996, 0.107, 0.986, 0.049, 0.476, 0.243, 0.229, 0.47900000000000004, 0.061, 0.20900000000000002, 0.049, 0.332, 1.691, 0.179, 0.034, 0.362, 0.46399999999999997, 0.062000000000000006, 0.246, 0.036]}, {\"hoverinfo\": \"none\", \"locationmode\": \"USA-states\", \"locations\": [\"AK\", \"AZ\", \"AR\", \"CA\", \"CO\", \"CT\", \"DE\", \"nan\", \"FL\", \"HI\", \"ID\", \"IL\", \"IN\", \"IA\", \"KS\", \"KY\", \"LA\", \"ME\", \"MD\", \"MA\", \"MI\", \"MN\", \"MS\", \"MO\", \"MT\", \"NE\", \"NV\", \"NH\", \"NJ\", \"NM\", \"NY\", \"ND\", \"OH\", \"OK\", \"OR\", \"PA\", \"RI\", \"SC\", \"SD\", \"TN\", \"TX\", \"UT\", \"VT\", \"VA\", \"WA\", \"WV\", \"WI\", \"WY\"], \"mode\": \"text\", \"text\": [\"AK\", \"AZ\", \"AR\", \"CA\", \"CO\", \"CT\", \"DE\", \"nan\", \"FL\", \"HI\", \"ID\", \"IL\", \"IN\", \"IA\", \"KS\", \"KY\", \"LA\", \"ME\", \"MD\", \"MA\", \"MI\", \"MN\", \"MS\", \"MO\", \"MT\", \"NE\", \"NV\", \"NH\", \"NJ\", \"NM\", \"NY\", \"ND\", \"OH\", \"OK\", \"OR\", \"PA\", \"RI\", \"SC\", \"SD\", \"TN\", \"TX\", \"UT\", \"VT\", \"VA\", \"WA\", \"WV\", \"WI\", \"WY\"], \"type\": \"scattergeo\"}],                        {\"geo\": {\"lakecolor\": \"rgb(255, 255, 255)\", \"projection\": {\"type\": \"albers usa\"}, \"scope\": \"usa\", \"showlakes\": true}, \"hoverlabel\": {\"bgcolor\": \"Black\", \"font\": {\"family\": \"Rockwell\", \"size\": 15}}, \"template\": {\"data\": {\"bar\": [{\"error_x\": {\"color\": \"#2a3f5f\"}, \"error_y\": {\"color\": \"#2a3f5f\"}, \"marker\": {\"line\": {\"color\": \"#E5ECF6\", \"width\": 0.5}}, \"type\": \"bar\"}], \"barpolar\": [{\"marker\": {\"line\": {\"color\": \"#E5ECF6\", \"width\": 0.5}}, \"type\": \"barpolar\"}], \"carpet\": [{\"aaxis\": {\"endlinecolor\": \"#2a3f5f\", \"gridcolor\": \"white\", \"linecolor\": \"white\", \"minorgridcolor\": \"white\", \"startlinecolor\": \"#2a3f5f\"}, \"baxis\": {\"endlinecolor\": \"#2a3f5f\", \"gridcolor\": \"white\", \"linecolor\": \"white\", \"minorgridcolor\": \"white\", \"startlinecolor\": \"#2a3f5f\"}, \"type\": \"carpet\"}], \"choropleth\": [{\"colorbar\": {\"outlinewidth\": 0, \"ticks\": \"\"}, \"type\": \"choropleth\"}], \"contour\": [{\"colorbar\": {\"outlinewidth\": 0, \"ticks\": \"\"}, \"colorscale\": [[0.0, \"#0d0887\"], [0.1111111111111111, \"#46039f\"], [0.2222222222222222, \"#7201a8\"], [0.3333333333333333, \"#9c179e\"], [0.4444444444444444, \"#bd3786\"], [0.5555555555555556, \"#d8576b\"], [0.6666666666666666, \"#ed7953\"], [0.7777777777777778, \"#fb9f3a\"], [0.8888888888888888, \"#fdca26\"], [1.0, \"#f0f921\"]], \"type\": \"contour\"}], \"contourcarpet\": [{\"colorbar\": {\"outlinewidth\": 0, \"ticks\": \"\"}, \"type\": \"contourcarpet\"}], \"heatmap\": [{\"colorbar\": {\"outlinewidth\": 0, \"ticks\": \"\"}, \"colorscale\": [[0.0, \"#0d0887\"], [0.1111111111111111, \"#46039f\"], [0.2222222222222222, \"#7201a8\"], [0.3333333333333333, \"#9c179e\"], [0.4444444444444444, \"#bd3786\"], [0.5555555555555556, \"#d8576b\"], [0.6666666666666666, \"#ed7953\"], [0.7777777777777778, \"#fb9f3a\"], [0.8888888888888888, \"#fdca26\"], [1.0, \"#f0f921\"]], \"type\": \"heatmap\"}], \"heatmapgl\": [{\"colorbar\": {\"outlinewidth\": 0, \"ticks\": \"\"}, \"colorscale\": [[0.0, \"#0d0887\"], [0.1111111111111111, \"#46039f\"], [0.2222222222222222, \"#7201a8\"], [0.3333333333333333, \"#9c179e\"], [0.4444444444444444, \"#bd3786\"], [0.5555555555555556, \"#d8576b\"], [0.6666666666666666, \"#ed7953\"], [0.7777777777777778, \"#fb9f3a\"], [0.8888888888888888, \"#fdca26\"], [1.0, \"#f0f921\"]], \"type\": \"heatmapgl\"}], \"histogram\": [{\"marker\": {\"colorbar\": {\"outlinewidth\": 0, \"ticks\": \"\"}}, \"type\": \"histogram\"}], \"histogram2d\": [{\"colorbar\": {\"outlinewidth\": 0, \"ticks\": \"\"}, \"colorscale\": [[0.0, \"#0d0887\"], [0.1111111111111111, \"#46039f\"], [0.2222222222222222, \"#7201a8\"], [0.3333333333333333, \"#9c179e\"], [0.4444444444444444, \"#bd3786\"], [0.5555555555555556, \"#d8576b\"], [0.6666666666666666, \"#ed7953\"], [0.7777777777777778, \"#fb9f3a\"], [0.8888888888888888, \"#fdca26\"], [1.0, \"#f0f921\"]], \"type\": \"histogram2d\"}], \"histogram2dcontour\": [{\"colorbar\": {\"outlinewidth\": 0, \"ticks\": \"\"}, \"colorscale\": [[0.0, \"#0d0887\"], [0.1111111111111111, \"#46039f\"], [0.2222222222222222, \"#7201a8\"], [0.3333333333333333, \"#9c179e\"], [0.4444444444444444, \"#bd3786\"], [0.5555555555555556, \"#d8576b\"], [0.6666666666666666, \"#ed7953\"], [0.7777777777777778, \"#fb9f3a\"], [0.8888888888888888, \"#fdca26\"], [1.0, \"#f0f921\"]], \"type\": \"histogram2dcontour\"}], \"mesh3d\": [{\"colorbar\": {\"outlinewidth\": 0, \"ticks\": \"\"}, \"type\": \"mesh3d\"}], \"parcoords\": [{\"line\": {\"colorbar\": {\"outlinewidth\": 0, \"ticks\": \"\"}}, \"type\": \"parcoords\"}], \"pie\": [{\"automargin\": true, \"type\": \"pie\"}], \"scatter\": [{\"marker\": {\"colorbar\": {\"outlinewidth\": 0, \"ticks\": \"\"}}, \"type\": \"scatter\"}], \"scatter3d\": [{\"line\": {\"colorbar\": {\"outlinewidth\": 0, \"ticks\": \"\"}}, \"marker\": {\"colorbar\": {\"outlinewidth\": 0, \"ticks\": \"\"}}, \"type\": \"scatter3d\"}], \"scattercarpet\": [{\"marker\": {\"colorbar\": {\"outlinewidth\": 0, \"ticks\": \"\"}}, \"type\": \"scattercarpet\"}], \"scattergeo\": [{\"marker\": {\"colorbar\": {\"outlinewidth\": 0, \"ticks\": \"\"}}, \"type\": \"scattergeo\"}], \"scattergl\": [{\"marker\": {\"colorbar\": {\"outlinewidth\": 0, \"ticks\": \"\"}}, \"type\": \"scattergl\"}], \"scattermapbox\": [{\"marker\": {\"colorbar\": {\"outlinewidth\": 0, \"ticks\": \"\"}}, \"type\": \"scattermapbox\"}], \"scatterpolar\": [{\"marker\": {\"colorbar\": {\"outlinewidth\": 0, \"ticks\": \"\"}}, \"type\": \"scatterpolar\"}], \"scatterpolargl\": [{\"marker\": {\"colorbar\": {\"outlinewidth\": 0, \"ticks\": \"\"}}, \"type\": \"scatterpolargl\"}], \"scatterternary\": [{\"marker\": {\"colorbar\": {\"outlinewidth\": 0, \"ticks\": \"\"}}, \"type\": \"scatterternary\"}], \"surface\": [{\"colorbar\": {\"outlinewidth\": 0, \"ticks\": \"\"}, \"colorscale\": [[0.0, \"#0d0887\"], [0.1111111111111111, \"#46039f\"], [0.2222222222222222, \"#7201a8\"], [0.3333333333333333, \"#9c179e\"], [0.4444444444444444, \"#bd3786\"], [0.5555555555555556, \"#d8576b\"], [0.6666666666666666, \"#ed7953\"], [0.7777777777777778, \"#fb9f3a\"], [0.8888888888888888, \"#fdca26\"], [1.0, \"#f0f921\"]], \"type\": \"surface\"}], \"table\": [{\"cells\": {\"fill\": {\"color\": \"#EBF0F8\"}, \"line\": {\"color\": \"white\"}}, \"header\": {\"fill\": {\"color\": \"#C8D4E3\"}, \"line\": {\"color\": \"white\"}}, \"type\": \"table\"}]}, \"layout\": {\"annotationdefaults\": {\"arrowcolor\": \"#2a3f5f\", \"arrowhead\": 0, \"arrowwidth\": 1}, \"autotypenumbers\": \"strict\", \"coloraxis\": {\"colorbar\": {\"outlinewidth\": 0, \"ticks\": \"\"}}, \"colorscale\": {\"diverging\": [[0, \"#8e0152\"], [0.1, \"#c51b7d\"], [0.2, \"#de77ae\"], [0.3, \"#f1b6da\"], [0.4, \"#fde0ef\"], [0.5, \"#f7f7f7\"], [0.6, \"#e6f5d0\"], [0.7, \"#b8e186\"], [0.8, \"#7fbc41\"], [0.9, \"#4d9221\"], [1, \"#276419\"]], \"sequential\": [[0.0, \"#0d0887\"], [0.1111111111111111, \"#46039f\"], [0.2222222222222222, \"#7201a8\"], [0.3333333333333333, \"#9c179e\"], [0.4444444444444444, \"#bd3786\"], [0.5555555555555556, \"#d8576b\"], [0.6666666666666666, \"#ed7953\"], [0.7777777777777778, \"#fb9f3a\"], [0.8888888888888888, \"#fdca26\"], [1.0, \"#f0f921\"]], \"sequentialminus\": [[0.0, \"#0d0887\"], [0.1111111111111111, \"#46039f\"], [0.2222222222222222, \"#7201a8\"], [0.3333333333333333, \"#9c179e\"], [0.4444444444444444, \"#bd3786\"], [0.5555555555555556, \"#d8576b\"], [0.6666666666666666, \"#ed7953\"], [0.7777777777777778, \"#fb9f3a\"], [0.8888888888888888, \"#fdca26\"], [1.0, \"#f0f921\"]]}, \"colorway\": [\"#636efa\", \"#EF553B\", \"#00cc96\", \"#ab63fa\", \"#FFA15A\", \"#19d3f3\", \"#FF6692\", \"#B6E880\", \"#FF97FF\", \"#FECB52\"], \"font\": {\"color\": \"#2a3f5f\"}, \"geo\": {\"bgcolor\": \"white\", \"lakecolor\": \"white\", \"landcolor\": \"#E5ECF6\", \"showlakes\": true, \"showland\": true, \"subunitcolor\": \"white\"}, \"hoverlabel\": {\"align\": \"left\"}, \"hovermode\": \"closest\", \"mapbox\": {\"style\": \"light\"}, \"paper_bgcolor\": \"white\", \"plot_bgcolor\": \"#E5ECF6\", \"polar\": {\"angularaxis\": {\"gridcolor\": \"white\", \"linecolor\": \"white\", \"ticks\": \"\"}, \"bgcolor\": \"#E5ECF6\", \"radialaxis\": {\"gridcolor\": \"white\", \"linecolor\": \"white\", \"ticks\": \"\"}}, \"scene\": {\"xaxis\": {\"backgroundcolor\": \"#E5ECF6\", \"gridcolor\": \"white\", \"gridwidth\": 2, \"linecolor\": \"white\", \"showbackground\": true, \"ticks\": \"\", \"zerolinecolor\": \"white\"}, \"yaxis\": {\"backgroundcolor\": \"#E5ECF6\", \"gridcolor\": \"white\", \"gridwidth\": 2, \"linecolor\": \"white\", \"showbackground\": true, \"ticks\": \"\", \"zerolinecolor\": \"white\"}, \"zaxis\": {\"backgroundcolor\": \"#E5ECF6\", \"gridcolor\": \"white\", \"gridwidth\": 2, \"linecolor\": \"white\", \"showbackground\": true, \"ticks\": \"\", \"zerolinecolor\": \"white\"}}, \"shapedefaults\": {\"line\": {\"color\": \"#2a3f5f\"}}, \"ternary\": {\"aaxis\": {\"gridcolor\": \"white\", \"linecolor\": \"white\", \"ticks\": \"\"}, \"baxis\": {\"gridcolor\": \"white\", \"linecolor\": \"white\", \"ticks\": \"\"}, \"bgcolor\": \"#E5ECF6\", \"caxis\": {\"gridcolor\": \"white\", \"linecolor\": \"white\", \"ticks\": \"\"}}, \"title\": {\"x\": 0.05}, \"xaxis\": {\"automargin\": true, \"gridcolor\": \"white\", \"linecolor\": \"white\", \"ticks\": \"\", \"title\": {\"standoff\": 15}, \"zerolinecolor\": \"white\", \"zerolinewidth\": 2}, \"yaxis\": {\"automargin\": true, \"gridcolor\": \"white\", \"linecolor\": \"white\", \"ticks\": \"\", \"title\": {\"standoff\": 15}, \"zerolinecolor\": \"white\", \"zerolinewidth\": 2}}}, \"title\": {\"text\": \"2019 US <br> Crime prediction LR model\"}},                        {\"responsive\": true}                    ).then(function(){\n",
       "                            \n",
       "var gd = document.getElementById('f67ed01b-49e3-4474-b811-e6ec635eea66');\n",
       "var x = new MutationObserver(function (mutations, observer) {{\n",
       "        var display = window.getComputedStyle(gd).display;\n",
       "        if (!display || display === 'none') {{\n",
       "            console.log([gd, 'removed!']);\n",
       "            Plotly.purge(gd);\n",
       "            observer.disconnect();\n",
       "        }}\n",
       "}});\n",
       "\n",
       "// Listen for the removal of the full notebook cells\n",
       "var notebookContainer = gd.closest('#notebook-container');\n",
       "if (notebookContainer) {{\n",
       "    x.observe(notebookContainer, {childList: true});\n",
       "}}\n",
       "\n",
       "// Listen for the clearing of the current output cell\n",
       "var outputEl = gd.closest('.output');\n",
       "if (outputEl) {{\n",
       "    x.observe(outputEl, {childList: true});\n",
       "}}\n",
       "\n",
       "                        })                };                });            </script>        </div>"
      ]
     },
     "metadata": {},
     "output_type": "display_data"
    }
   ],
   "source": [
    "### Begin Drawing Map \n",
    "\n",
    "for col in df.columns:\n",
    "    df[col] = df[col].astype(str)\n",
    "    \n",
    "df_models=df_models.round(decimals=3)\n",
    "\n",
    "   \n",
    "df['text'] = df['State'] + '<br>'\\\n",
    "    '----------------------------------------' + '<br>' \\\n",
    "    'Aassault ' + df_models['Actual Aggravated assault'].astype(str) + '<br>' \\\n",
    "    'Predicted assault ' + df_models['Predict Aggravated assault'].astype(str) + '<br>' \\\n",
    "    'Deviation: ' + df_models['Aggravated assaultdeviation in %'].astype(str) + ' % ' + '<br>' \\\n",
    "    '----------------------------------------' + '<br>' \\\n",
    "    'Vehicle theft ' + df_models['Actual Motor vehicle theft'].astype(str) + '<br>' \\\n",
    "    'Predicted Vehicle theft ' + df_models['Predict Motor vehicle theft'].astype(str) + '<br>' \\\n",
    "    'Deviation: ' + df_models['Motor vehicle theftdeviation in %'].astype(str) + ' % ' + '<br>' \\\n",
    "    '----------------------------------------' + '<br>' \\\n",
    "    'Property crime ' + df_models['Actual Property crime'].astype(str) + '<br>' \\\n",
    "    'Predicted Property crime ' + df_models['Predict Property crime'].astype(str) + '<br>'  \\\n",
    "    'Deviation: ' + df_models['Property crimedeviation in %'].astype(str) + ' % ' + '<br>' \\\n",
    "    '----------------------------------------' + '<br>' \\\n",
    "    'Total crime presiction: ' + df_models['Total crime Prediction'].astype(str) + '<br>' \\\n",
    "\n",
    "\n",
    "fig = go.Figure(data=go.Choropleth(\n",
    "    locations=df['code'],\n",
    "    z=df_models['Predict Aggravated assault'].astype(float) + df_models['Predict Motor vehicle theft'].astype(float) + df_models['Predict Property crime'].astype(float),\n",
    "    locationmode='USA-states',\n",
    "    colorscale='Blues',\n",
    "    autocolorscale=False,\n",
    "    text=df['text'], # hover text\n",
    "    marker_line_color='Black', # line markers between states\n",
    "    colorbar_title=\"Total predictoin\",\n",
    "    showlegend = False,\n",
    "    textsrc='skip',\n",
    "    hovertemplate=df['text'],\n",
    "    hovertext=False, \n",
    "))\n",
    "\n",
    "fig.add_scattergeo(\n",
    "    locations=df['code'],\n",
    "    locationmode='USA-states',\n",
    "    text=df['code'],\n",
    "    mode='text',\n",
    "    hoverinfo='none',\n",
    ")\n",
    "\n",
    "\n",
    "fig.update_layout(\n",
    "    title_text='2019 US <br> Crime prediction LR model',\n",
    "    geo = dict(\n",
    "        scope='usa',\n",
    "        projection=go.layout.geo.Projection(type = 'albers usa'),\n",
    "        showlakes=True, # lakes\n",
    "        lakecolor='rgb(255, 255, 255)'),\n",
    ")\n",
    "\n",
    "fig.update_layout(\n",
    "    hoverlabel=dict(\n",
    "        bgcolor=\"Black\",\n",
    "        font_size=15,\n",
    "        font_family=\"Rockwell\"\n",
    "    )\n",
    ")\n",
    "#fig.show()"
   ]
  },
  {
   "cell_type": "markdown",
   "metadata": {},
   "source": [
    "# USA State Map\n",
    "\n",
    "This USA state map will dispaly the prediction of each possible crime classified by the FBI in the year 2019.\n",
    "In additon, Upon hovering each state it will consist the following:\n",
    "1) The name of the state.<br>\n",
    "2) Total predicted crime (normalized).<br>\n",
    "3) Spacific crime predicted.<br>\n",
    "\n",
    "The predicted crimes are:\n",
    "* Violent crime\n",
    "* Murder\n",
    "* Forcible rape\n",
    "* Robbery\n",
    "* Aggravated assault\n",
    "* Property crime\n",
    "* Burglary\n",
    "* Larceny-theft\n",
    "* Motor vehicle theft\n",
    "* Arson\n",
    "\n",
    "**All the values will be on scale from 0 to 1"
   ]
  },
  {
   "cell_type": "code",
   "execution_count": 42,
   "metadata": {},
   "outputs": [],
   "source": [
    "## Reading Data\n",
    "\n",
    "path='/Users/barbenshabat/Downloads/Datascience/project/'\n",
    "name='Ridge model all crime.xlsx'\n",
    "df_Ridge=pd.read_excel(path+name, index_col=0) # read each file in the folder\n",
    "df_Ridge.reset_index(drop=True, inplace=True)\n",
    "\n",
    "df_Ridge['State'] = df_Ridge['State'].str.title()\n",
    "\n",
    "df_Ridge = pd.merge(df_Ridge,df_code, how=\"left\", on=[\"State\"])\n",
    "first_column = df_Ridge.pop('code')\n",
    "df_Ridge.insert(0, 'code', first_column)"
   ]
  },
  {
   "cell_type": "code",
   "execution_count": 53,
   "metadata": {},
   "outputs": [
    {
     "data": {
      "application/vnd.plotly.v1+json": {
       "config": {
        "plotlyServerURL": "https://plot.ly"
       },
       "data": [
        {
         "autocolorscale": false,
         "colorbar": {
          "title": {
           "text": "Total predictoin"
          }
         },
         "colorscale": [
          [
           0,
           "rgb(252,251,253)"
          ],
          [
           0.125,
           "rgb(239,237,245)"
          ],
          [
           0.25,
           "rgb(218,218,235)"
          ],
          [
           0.375,
           "rgb(188,189,220)"
          ],
          [
           0.5,
           "rgb(158,154,200)"
          ],
          [
           0.625,
           "rgb(128,125,186)"
          ],
          [
           0.75,
           "rgb(106,81,163)"
          ],
          [
           0.875,
           "rgb(84,39,143)"
          ],
          [
           1,
           "rgb(63,0,125)"
          ]
         ],
         "hovertemplate": [
          "Alabama<br>----------------------------------------<br>Total prediction: 0.809<br>Violent crime: 0.097<br>Murder: 0.161<br>Forcible rape: 0.048<br>Robbery: 0.061<br>Aggravated assault: 0.122<br>Property crime: 0.094<br>Burglary: 0.086<br>Larceny-theft: 0.09<br>Motor vehicle theft: 0.037<br>Arson: 0.013<br>",
          "Alaska<br>----------------------------------------<br>Total prediction: 0.306<br>Violent crime: 0.037<br>Murder: 0.03<br>Forcible rape: 0.068<br>Robbery: 0.019<br>Aggravated assault: 0.043<br>Property crime: 0.027<br>Burglary: 0.015<br>Larceny-theft: 0.027<br>Motor vehicle theft: 0.029<br>Arson: 0.01<br>",
          "Arizona<br>----------------------------------------<br>Total prediction: 1.772<br>Violent crime: 0.198<br>Murder: 0.195<br>Forcible rape: 0.249<br>Robbery: 0.118<br>Aggravated assault: 0.239<br>Property crime: 0.21<br>Burglary: 0.09<br>Larceny-theft: 0.22<br>Motor vehicle theft: 0.119<br>Arson: 0.135<br>",
          "Arkansas<br>----------------------------------------<br>Total prediction: 0.752<br>Violent crime: 0.084<br>Murder: 0.094<br>Forcible rape: 0.11<br>Robbery: 0.037<br>Aggravated assault: 0.113<br>Property crime: 0.077<br>Burglary: 0.068<br>Larceny-theft: 0.089<br>Motor vehicle theft: 0.033<br>Arson: 0.047<br>",
          "California<br>----------------------------------------<br>Total prediction: 8.281<br>Violent crime: 0.94<br>Murder: 0.68<br>Forcible rape: 1.023<br>Robbery: 0.872<br>Aggravated assault: 0.954<br>Property crime: 0.806<br>Burglary: 0.558<br>Larceny-theft: 0.816<br>Motor vehicle theft: 0.606<br>Arson: 1.026<br>",
          "Colorado<br>----------------------------------------<br>Total prediction: 1.341<br>Violent crime: 0.127<br>Murder: 0.119<br>Forcible rape: 0.265<br>Robbery: 0.07<br>Aggravated assault: 0.14<br>Property crime: 0.148<br>Burglary: 0.093<br>Larceny-theft: 0.15<br>Motor vehicle theft: 0.123<br>Arson: 0.106<br>",
          "Connecticut<br>----------------------------------------<br>Total prediction: 0.551<br>Violent crime: 0.053<br>Murder: 0.053<br>Forcible rape: 0.057<br>Robbery: 0.052<br>Aggravated assault: 0.052<br>Property crime: 0.071<br>Burglary: 0.039<br>Larceny-theft: 0.077<br>Motor vehicle theft: 0.055<br>Arson: 0.041<br>",
          "Delaware<br>----------------------------------------<br>Total prediction: 0.101<br>Violent crime: 0.013<br>Murder: 0.023<br>Forcible rape: 0.007<br>Robbery: 0.011<br>Aggravated assault: 0.016<br>Property crime: 0.01<br>Burglary: 0.002<br>Larceny-theft: 0.012<br>Motor vehicle theft: 0.005<br>Arson: 0.002<br>",
          "District Of Columbia<br>----------------------------------------<br>Total prediction: 0.39<br>Violent crime: 0.051<br>Murder: 0.095<br>Forcible rape: 0.038<br>Robbery: 0.052<br>Aggravated assault: 0.049<br>Property crime: 0.037<br>Burglary: 0.007<br>Larceny-theft: 0.042<br>Motor vehicle theft: 0.019<br>Arson: 0.0<br>",
          "Florida<br>----------------------------------------<br>Total prediction: 2.95<br>Violent crime: 0.325<br>Murder: 0.444<br>Forcible rape: 0.358<br>Robbery: 0.215<br>Aggravated assault: 0.375<br>Property crime: 0.361<br>Burglary: 0.2<br>Larceny-theft: 0.403<br>Motor vehicle theft: 0.179<br>Arson: 0.089<br>",
          "Georgia<br>----------------------------------------<br>Total prediction: 1.065<br>Violent crime: 0.108<br>Murder: 0.2<br>Forcible rape: 0.067<br>Robbery: 0.099<br>Aggravated assault: 0.117<br>Property crime: 0.134<br>Burglary: 0.086<br>Larceny-theft: 0.149<br>Motor vehicle theft: 0.069<br>Arson: 0.037<br>",
          "Hawaii<br>----------------------------------------<br>Total prediction: 0.27<br>Violent crime: 0.018<br>Murder: 0.028<br>Forcible rape: 0.022<br>Robbery: 0.019<br>Aggravated assault: 0.014<br>Property crime: 0.033<br>Burglary: 0.016<br>Larceny-theft: 0.037<br>Motor vehicle theft: 0.027<br>Arson: 0.057<br>",
          "Idaho<br>----------------------------------------<br>Total prediction: 0.201<br>Violent crime: 0.017<br>Murder: 0.016<br>Forcible rape: 0.037<br>Robbery: 0.003<br>Aggravated assault: 0.022<br>Property crime: 0.026<br>Burglary: 0.019<br>Larceny-theft: 0.028<br>Motor vehicle theft: 0.009<br>Arson: 0.023<br>",
          "Illinois<br>----------------------------------------<br>Total prediction: 2.64<br>Violent crime: 0.294<br>Murder: 0.596<br>Forcible rape: 0.296<br>Robbery: 0.272<br>Aggravated assault: 0.327<br>Property crime: 0.217<br>Burglary: 0.145<br>Larceny-theft: 0.236<br>Motor vehicle theft: 0.117<br>Arson: 0.138<br>",
          "Indiana<br>----------------------------------------<br>Total prediction: 0.501<br>Violent crime: 0.044<br>Murder: 0.113<br>Forcible rape: 0.075<br>Robbery: 0.002<br>Aggravated assault: 0.068<br>Property crime: 0.043<br>Burglary: 0.02<br>Larceny-theft: 0.058<br>Motor vehicle theft: 0.034<br>Arson: 0.044<br>",
          "Iowa<br>----------------------------------------<br>Total prediction: 0.583<br>Violent crime: 0.059<br>Murder: 0.055<br>Forcible rape: 0.092<br>Robbery: 0.027<br>Aggravated assault: 0.068<br>Property crime: 0.067<br>Burglary: 0.063<br>Larceny-theft: 0.07<br>Motor vehicle theft: 0.034<br>Arson: 0.049<br>",
          "Kansas<br>----------------------------------------<br>Total prediction: 0.505<br>Violent crime: 0.049<br>Murder: 0.053<br>Forcible rape: 0.076<br>Robbery: 0.024<br>Aggravated assault: 0.061<br>Property crime: 0.059<br>Burglary: 0.036<br>Larceny-theft: 0.064<br>Motor vehicle theft: 0.035<br>Arson: 0.047<br>",
          "Kentucky<br>----------------------------------------<br>Total prediction: 0.58<br>Violent crime: 0.044<br>Murder: 0.088<br>Forcible rape: 0.075<br>Robbery: 0.045<br>Aggravated assault: 0.036<br>Property crime: 0.076<br>Burglary: 0.058<br>Larceny-theft: 0.083<br>Motor vehicle theft: 0.048<br>Arson: 0.027<br>",
          "Louisiana<br>----------------------------------------<br>Total prediction: 0.96<br>Violent crime: 0.091<br>Murder: 0.244<br>Forcible rape: 0.096<br>Robbery: 0.057<br>Aggravated assault: 0.114<br>Property crime: 0.093<br>Burglary: 0.066<br>Larceny-theft: 0.099<br>Motor vehicle theft: 0.054<br>Arson: 0.048<br>",
          "Maine<br>----------------------------------------<br>Total prediction: 0.1<br>Violent crime: 0.006<br>Murder: 0.008<br>Forcible rape: 0.022<br>Robbery: 0.004<br>Aggravated assault: 0.006<br>Property crime: 0.016<br>Burglary: 0.008<br>Larceny-theft: 0.02<br>Motor vehicle theft: 0.003<br>Arson: 0.008<br>",
          "Maryland<br>----------------------------------------<br>Total prediction: 0.88<br>Violent crime: 0.107<br>Murder: 0.26<br>Forcible rape: 0.047<br>Robbery: 0.132<br>Aggravated assault: 0.098<br>Property crime: 0.059<br>Burglary: 0.046<br>Larceny-theft: 0.056<br>Motor vehicle theft: 0.042<br>Arson: 0.034<br>",
          "Massachusetts<br>----------------------------------------<br>Total prediction: 1.043<br>Violent crime: 0.143<br>Murder: 0.111<br>Forcible rape: 0.161<br>Robbery: 0.096<br>Aggravated assault: 0.179<br>Property crime: 0.086<br>Burglary: 0.06<br>Larceny-theft: 0.112<br>Motor vehicle theft: 0.043<br>Arson: 0.051<br>",
          "Michigan<br>----------------------------------------<br>Total prediction: 2.08<br>Violent crime: 0.252<br>Murder: 0.344<br>Forcible rape: 0.341<br>Robbery: 0.101<br>Aggravated assault: 0.323<br>Property crime: 0.146<br>Burglary: 0.115<br>Larceny-theft: 0.15<br>Motor vehicle theft: 0.12<br>Arson: 0.189<br>",
          "Minnesota<br>----------------------------------------<br>Total prediction: 0.952<br>Violent crime: 0.086<br>Murder: 0.066<br>Forcible rape: 0.176<br>Robbery: 0.072<br>Aggravated assault: 0.081<br>Property crime: 0.129<br>Burglary: 0.074<br>Larceny-theft: 0.143<br>Motor vehicle theft: 0.068<br>Arson: 0.059<br>",
          "Mississippi<br>----------------------------------------<br>Total prediction: 0.17<br>Violent crime: 0.01<br>Murder: 0.028<br>Forcible rape: 0.011<br>Robbery: 0.015<br>Aggravated assault: 0.011<br>Property crime: 0.028<br>Burglary: 0.023<br>Larceny-theft: 0.03<br>Motor vehicle theft: 0.009<br>Arson: 0.006<br>",
          "Missouri<br>----------------------------------------<br>Total prediction: 1.704<br>Violent crime: 0.172<br>Murder: 0.359<br>Forcible rape: 0.165<br>Robbery: 0.116<br>Aggravated assault: 0.221<br>Property crime: 0.163<br>Burglary: 0.112<br>Larceny-theft: 0.17<br>Motor vehicle theft: 0.115<br>Arson: 0.111<br>",
          "Montana<br>----------------------------------------<br>Total prediction: 0.127<br>Violent crime: 0.01<br>Murder: 0.009<br>Forcible rape: 0.023<br>Robbery: 0.004<br>Aggravated assault: 0.013<br>Property crime: 0.019<br>Burglary: 0.008<br>Larceny-theft: 0.022<br>Motor vehicle theft: 0.01<br>Arson: 0.011<br>",
          "Nebraska<br>----------------------------------------<br>Total prediction: 0.275<br>Violent crime: 0.03<br>Murder: 0.024<br>Forcible rape: 0.052<br>Robbery: 0.016<br>Aggravated assault: 0.032<br>Property crime: 0.037<br>Burglary: 0.017<br>Larceny-theft: 0.038<br>Motor vehicle theft: 0.028<br>Arson: 0.002<br>",
          "Nevada<br>----------------------------------------<br>Total prediction: 0.975<br>Violent crime: 0.119<br>Murder: 0.146<br>Forcible rape: 0.148<br>Robbery: 0.075<br>Aggravated assault: 0.126<br>Property crime: 0.086<br>Burglary: 0.096<br>Larceny-theft: 0.07<br>Motor vehicle theft: 0.081<br>Arson: 0.027<br>",
          "New Hampshire<br>----------------------------------------<br>Total prediction: 0.185<br>Violent crime: 0.015<br>Murder: 0.011<br>Forcible rape: 0.041<br>Robbery: 0.009<br>Aggravated assault: 0.016<br>Property crime: 0.023<br>Burglary: 0.013<br>Larceny-theft: 0.027<br>Motor vehicle theft: 0.006<br>Arson: 0.024<br>",
          "New Jersey<br>----------------------------------------<br>Total prediction: 1.309<br>Violent crime: 0.14<br>Murder: 0.194<br>Forcible rape: 0.103<br>Robbery: 0.144<br>Aggravated assault: 0.14<br>Property crime: 0.158<br>Burglary: 0.107<br>Larceny-theft: 0.171<br>Motor vehicle theft: 0.08<br>Arson: 0.071<br>",
          "New Mexico<br>----------------------------------------<br>Total prediction: 0.371<br>Violent crime: 0.04<br>Murder: 0.028<br>Forcible rape: 0.038<br>Robbery: 0.026<br>Aggravated assault: 0.048<br>Property crime: 0.05<br>Burglary: 0.05<br>Larceny-theft: 0.045<br>Motor vehicle theft: 0.024<br>Arson: 0.021<br>",
          "New York<br>----------------------------------------<br>Total prediction: 3.064<br>Violent crime: 0.463<br>Murder: 0.378<br>Forcible rape: 0.369<br>Robbery: 0.378<br>Aggravated assault: 0.527<br>Property crime: 0.283<br>Burglary: 0.14<br>Larceny-theft: 0.338<br>Motor vehicle theft: 0.083<br>Arson: 0.104<br>",
          "North Carolina<br>----------------------------------------<br>Total prediction: 1.336<br>Violent crime: 0.143<br>Murder: 0.22<br>Forcible rape: 0.07<br>Robbery: 0.118<br>Aggravated assault: 0.179<br>Property crime: 0.155<br>Burglary: 0.148<br>Larceny-theft: 0.162<br>Motor vehicle theft: 0.047<br>Arson: 0.094<br>",
          "North Dakota<br>----------------------------------------<br>Total prediction: 0.102<br>Violent crime: 0.009<br>Murder: 0.007<br>Forcible rape: 0.02<br>Robbery: 0.003<br>Aggravated assault: 0.011<br>Property crime: 0.014<br>Burglary: 0.008<br>Larceny-theft: 0.015<br>Motor vehicle theft: 0.009<br>Arson: 0.007<br>",
          "Ohio<br>----------------------------------------<br>Total prediction: 1.423<br>Violent crime: 0.14<br>Murder: 0.295<br>Forcible rape: 0.264<br>Robbery: 0.144<br>Aggravated assault: 0.147<br>Property crime: 0.115<br>Burglary: 0.047<br>Larceny-theft: 0.125<br>Motor vehicle theft: 0.08<br>Arson: 0.066<br>",
          "Oklahoma<br>----------------------------------------<br>Total prediction: 1.134<br>Violent crime: 0.119<br>Murder: 0.132<br>Forcible rape: 0.163<br>Robbery: 0.06<br>Aggravated assault: 0.148<br>Property crime: 0.119<br>Burglary: 0.12<br>Larceny-theft: 0.111<br>Motor vehicle theft: 0.083<br>Arson: 0.078<br>",
          "Oregon<br>----------------------------------------<br>Total prediction: 0.827<br>Violent crime: 0.065<br>Murder: 0.038<br>Forcible rape: 0.122<br>Robbery: 0.046<br>Aggravated assault: 0.065<br>Property crime: 0.119<br>Burglary: 0.06<br>Larceny-theft: 0.126<br>Motor vehicle theft: 0.112<br>Arson: 0.075<br>",
          "Pennsylvania<br>----------------------------------------<br>Total prediction: 1.878<br>Violent crime: 0.212<br>Murder: 0.467<br>Forcible rape: 0.248<br>Robbery: 0.114<br>Aggravated assault: 0.196<br>Property crime: 0.163<br>Burglary: 0.078<br>Larceny-theft: 0.153<br>Motor vehicle theft: 0.077<br>Arson: 0.172<br>",
          "Rhode Island<br>----------------------------------------<br>Total prediction: 0.191<br>Violent crime: 0.017<br>Murder: 0.017<br>Forcible rape: 0.032<br>Robbery: 0.012<br>Aggravated assault: 0.017<br>Property crime: 0.022<br>Burglary: 0.019<br>Larceny-theft: 0.024<br>Motor vehicle theft: 0.011<br>Arson: 0.021<br>",
          "South Carolina<br>----------------------------------------<br>Total prediction: 0.613<br>Violent crime: 0.062<br>Murder: 0.097<br>Forcible rape: 0.07<br>Robbery: 0.04<br>Aggravated assault: 0.081<br>Property crime: 0.073<br>Burglary: 0.04<br>Larceny-theft: 0.085<br>Motor vehicle theft: 0.035<br>Arson: 0.03<br>",
          "South Dakota<br>----------------------------------------<br>Total prediction: 0.122<br>Violent crime: 0.013<br>Murder: 0.009<br>Forcible rape: 0.027<br>Robbery: 0.004<br>Aggravated assault: 0.016<br>Property crime: 0.014<br>Burglary: 0.008<br>Larceny-theft: 0.015<br>Motor vehicle theft: 0.007<br>Arson: 0.01<br>",
          "Tennessee<br>----------------------------------------<br>Total prediction: 1.982<br>Violent crime: 0.26<br>Murder: 0.327<br>Forcible rape: 0.183<br>Robbery: 0.153<br>Aggravated assault: 0.336<br>Property crime: 0.199<br>Burglary: 0.123<br>Larceny-theft: 0.203<br>Motor vehicle theft: 0.132<br>Arson: 0.067<br>",
          "Texas<br>----------------------------------------<br>Total prediction: 5.835<br>Violent crime: 0.66<br>Murder: 0.731<br>Forcible rape: 0.813<br>Robbery: 0.462<br>Aggravated assault: 0.735<br>Property crime: 0.634<br>Burglary: 0.502<br>Larceny-theft: 0.655<br>Motor vehicle theft: 0.359<br>Arson: 0.283<br>",
          "Utah<br>----------------------------------------<br>Total prediction: 0.524<br>Violent crime: 0.043<br>Murder: 0.034<br>Forcible rape: 0.122<br>Robbery: 0.024<br>Aggravated assault: 0.045<br>Property crime: 0.067<br>Burglary: 0.049<br>Larceny-theft: 0.083<br>Motor vehicle theft: 0.038<br>Arson: 0.02<br>",
          "Vermont<br>----------------------------------------<br>Total prediction: 0.034<br>Violent crime: 0.002<br>Murder: 0.003<br>Forcible rape: 0.007<br>Robbery: 0.001<br>Aggravated assault: 0.002<br>Property crime: 0.006<br>Burglary: 0.003<br>Larceny-theft: 0.007<br>Motor vehicle theft: 0.0<br>Arson: 0.003<br>",
          "Virginia<br>----------------------------------------<br>Total prediction: 0.775<br>Violent crime: 0.068<br>Murder: 0.176<br>Forcible rape: 0.091<br>Robbery: 0.05<br>Aggravated assault: 0.07<br>Property crime: 0.088<br>Burglary: 0.041<br>Larceny-theft: 0.103<br>Motor vehicle theft: 0.041<br>Arson: 0.047<br>",
          "Washington<br>----------------------------------------<br>Total prediction: 1.541<br>Violent crime: 0.126<br>Murder: 0.119<br>Forcible rape: 0.202<br>Robbery: 0.101<br>Aggravated assault: 0.14<br>Property crime: 0.213<br>Burglary: 0.151<br>Larceny-theft: 0.221<br>Motor vehicle theft: 0.17<br>Arson: 0.099<br>",
          "West Virginia<br>----------------------------------------<br>Total prediction: 0.123<br>Violent crime: 0.012<br>Murder: 0.018<br>Forcible rape: 0.015<br>Robbery: 0.006<br>Aggravated assault: 0.016<br>Property crime: 0.013<br>Burglary: 0.01<br>Larceny-theft: 0.015<br>Motor vehicle theft: 0.005<br>Arson: 0.012<br>",
          "Wisconsin<br>----------------------------------------<br>Total prediction: 0.997<br>Violent crime: 0.118<br>Murder: 0.115<br>Forcible rape: 0.141<br>Robbery: 0.063<br>Aggravated assault: 0.136<br>Property crime: 0.107<br>Burglary: 0.064<br>Larceny-theft: 0.114<br>Motor vehicle theft: 0.058<br>Arson: 0.079<br>",
          "Wyoming<br>----------------------------------------<br>Total prediction: 0.067<br>Violent crime: 0.004<br>Murder: 0.007<br>Forcible rape: 0.01<br>Robbery: 0.001<br>Aggravated assault: 0.005<br>Property crime: 0.012<br>Burglary: 0.006<br>Larceny-theft: 0.014<br>Motor vehicle theft: 0.003<br>Arson: 0.006<br>"
         ],
         "hovertext": "False",
         "locationmode": "USA-states",
         "locations": [
          "AL",
          "AK",
          "AZ",
          "AR",
          "CA",
          "CO",
          "CT",
          "DE",
          "nan",
          "FL",
          "GA",
          "HI",
          "ID",
          "IL",
          "IN",
          "IA",
          "KS",
          "KY",
          "LA",
          "ME",
          "MD",
          "MA",
          "MI",
          "MN",
          "MS",
          "MO",
          "MT",
          "NE",
          "NV",
          "NH",
          "NJ",
          "NM",
          "NY",
          "NC",
          "ND",
          "OH",
          "OK",
          "OR",
          "PA",
          "RI",
          "SC",
          "SD",
          "TN",
          "TX",
          "UT",
          "VT",
          "VA",
          "WA",
          "WV",
          "WI",
          "WY"
         ],
         "marker": {
          "line": {
           "color": "Black"
          }
         },
         "showlegend": false,
         "text": [
          "Alabama<br>----------------------------------------<br>Total prediction: 0.809<br>Violent crime: 0.097<br>Murder: 0.161<br>Forcible rape: 0.048<br>Robbery: 0.061<br>Aggravated assault: 0.122<br>Property crime: 0.094<br>Burglary: 0.086<br>Larceny-theft: 0.09<br>Motor vehicle theft: 0.037<br>Arson: 0.013<br>",
          "Alaska<br>----------------------------------------<br>Total prediction: 0.306<br>Violent crime: 0.037<br>Murder: 0.03<br>Forcible rape: 0.068<br>Robbery: 0.019<br>Aggravated assault: 0.043<br>Property crime: 0.027<br>Burglary: 0.015<br>Larceny-theft: 0.027<br>Motor vehicle theft: 0.029<br>Arson: 0.01<br>",
          "Arizona<br>----------------------------------------<br>Total prediction: 1.772<br>Violent crime: 0.198<br>Murder: 0.195<br>Forcible rape: 0.249<br>Robbery: 0.118<br>Aggravated assault: 0.239<br>Property crime: 0.21<br>Burglary: 0.09<br>Larceny-theft: 0.22<br>Motor vehicle theft: 0.119<br>Arson: 0.135<br>",
          "Arkansas<br>----------------------------------------<br>Total prediction: 0.752<br>Violent crime: 0.084<br>Murder: 0.094<br>Forcible rape: 0.11<br>Robbery: 0.037<br>Aggravated assault: 0.113<br>Property crime: 0.077<br>Burglary: 0.068<br>Larceny-theft: 0.089<br>Motor vehicle theft: 0.033<br>Arson: 0.047<br>",
          "California<br>----------------------------------------<br>Total prediction: 8.281<br>Violent crime: 0.94<br>Murder: 0.68<br>Forcible rape: 1.023<br>Robbery: 0.872<br>Aggravated assault: 0.954<br>Property crime: 0.806<br>Burglary: 0.558<br>Larceny-theft: 0.816<br>Motor vehicle theft: 0.606<br>Arson: 1.026<br>",
          "Colorado<br>----------------------------------------<br>Total prediction: 1.341<br>Violent crime: 0.127<br>Murder: 0.119<br>Forcible rape: 0.265<br>Robbery: 0.07<br>Aggravated assault: 0.14<br>Property crime: 0.148<br>Burglary: 0.093<br>Larceny-theft: 0.15<br>Motor vehicle theft: 0.123<br>Arson: 0.106<br>",
          "Connecticut<br>----------------------------------------<br>Total prediction: 0.551<br>Violent crime: 0.053<br>Murder: 0.053<br>Forcible rape: 0.057<br>Robbery: 0.052<br>Aggravated assault: 0.052<br>Property crime: 0.071<br>Burglary: 0.039<br>Larceny-theft: 0.077<br>Motor vehicle theft: 0.055<br>Arson: 0.041<br>",
          "Delaware<br>----------------------------------------<br>Total prediction: 0.101<br>Violent crime: 0.013<br>Murder: 0.023<br>Forcible rape: 0.007<br>Robbery: 0.011<br>Aggravated assault: 0.016<br>Property crime: 0.01<br>Burglary: 0.002<br>Larceny-theft: 0.012<br>Motor vehicle theft: 0.005<br>Arson: 0.002<br>",
          "District Of Columbia<br>----------------------------------------<br>Total prediction: 0.39<br>Violent crime: 0.051<br>Murder: 0.095<br>Forcible rape: 0.038<br>Robbery: 0.052<br>Aggravated assault: 0.049<br>Property crime: 0.037<br>Burglary: 0.007<br>Larceny-theft: 0.042<br>Motor vehicle theft: 0.019<br>Arson: 0.0<br>",
          "Florida<br>----------------------------------------<br>Total prediction: 2.95<br>Violent crime: 0.325<br>Murder: 0.444<br>Forcible rape: 0.358<br>Robbery: 0.215<br>Aggravated assault: 0.375<br>Property crime: 0.361<br>Burglary: 0.2<br>Larceny-theft: 0.403<br>Motor vehicle theft: 0.179<br>Arson: 0.089<br>",
          "Georgia<br>----------------------------------------<br>Total prediction: 1.065<br>Violent crime: 0.108<br>Murder: 0.2<br>Forcible rape: 0.067<br>Robbery: 0.099<br>Aggravated assault: 0.117<br>Property crime: 0.134<br>Burglary: 0.086<br>Larceny-theft: 0.149<br>Motor vehicle theft: 0.069<br>Arson: 0.037<br>",
          "Hawaii<br>----------------------------------------<br>Total prediction: 0.27<br>Violent crime: 0.018<br>Murder: 0.028<br>Forcible rape: 0.022<br>Robbery: 0.019<br>Aggravated assault: 0.014<br>Property crime: 0.033<br>Burglary: 0.016<br>Larceny-theft: 0.037<br>Motor vehicle theft: 0.027<br>Arson: 0.057<br>",
          "Idaho<br>----------------------------------------<br>Total prediction: 0.201<br>Violent crime: 0.017<br>Murder: 0.016<br>Forcible rape: 0.037<br>Robbery: 0.003<br>Aggravated assault: 0.022<br>Property crime: 0.026<br>Burglary: 0.019<br>Larceny-theft: 0.028<br>Motor vehicle theft: 0.009<br>Arson: 0.023<br>",
          "Illinois<br>----------------------------------------<br>Total prediction: 2.64<br>Violent crime: 0.294<br>Murder: 0.596<br>Forcible rape: 0.296<br>Robbery: 0.272<br>Aggravated assault: 0.327<br>Property crime: 0.217<br>Burglary: 0.145<br>Larceny-theft: 0.236<br>Motor vehicle theft: 0.117<br>Arson: 0.138<br>",
          "Indiana<br>----------------------------------------<br>Total prediction: 0.501<br>Violent crime: 0.044<br>Murder: 0.113<br>Forcible rape: 0.075<br>Robbery: 0.002<br>Aggravated assault: 0.068<br>Property crime: 0.043<br>Burglary: 0.02<br>Larceny-theft: 0.058<br>Motor vehicle theft: 0.034<br>Arson: 0.044<br>",
          "Iowa<br>----------------------------------------<br>Total prediction: 0.583<br>Violent crime: 0.059<br>Murder: 0.055<br>Forcible rape: 0.092<br>Robbery: 0.027<br>Aggravated assault: 0.068<br>Property crime: 0.067<br>Burglary: 0.063<br>Larceny-theft: 0.07<br>Motor vehicle theft: 0.034<br>Arson: 0.049<br>",
          "Kansas<br>----------------------------------------<br>Total prediction: 0.505<br>Violent crime: 0.049<br>Murder: 0.053<br>Forcible rape: 0.076<br>Robbery: 0.024<br>Aggravated assault: 0.061<br>Property crime: 0.059<br>Burglary: 0.036<br>Larceny-theft: 0.064<br>Motor vehicle theft: 0.035<br>Arson: 0.047<br>",
          "Kentucky<br>----------------------------------------<br>Total prediction: 0.58<br>Violent crime: 0.044<br>Murder: 0.088<br>Forcible rape: 0.075<br>Robbery: 0.045<br>Aggravated assault: 0.036<br>Property crime: 0.076<br>Burglary: 0.058<br>Larceny-theft: 0.083<br>Motor vehicle theft: 0.048<br>Arson: 0.027<br>",
          "Louisiana<br>----------------------------------------<br>Total prediction: 0.96<br>Violent crime: 0.091<br>Murder: 0.244<br>Forcible rape: 0.096<br>Robbery: 0.057<br>Aggravated assault: 0.114<br>Property crime: 0.093<br>Burglary: 0.066<br>Larceny-theft: 0.099<br>Motor vehicle theft: 0.054<br>Arson: 0.048<br>",
          "Maine<br>----------------------------------------<br>Total prediction: 0.1<br>Violent crime: 0.006<br>Murder: 0.008<br>Forcible rape: 0.022<br>Robbery: 0.004<br>Aggravated assault: 0.006<br>Property crime: 0.016<br>Burglary: 0.008<br>Larceny-theft: 0.02<br>Motor vehicle theft: 0.003<br>Arson: 0.008<br>",
          "Maryland<br>----------------------------------------<br>Total prediction: 0.88<br>Violent crime: 0.107<br>Murder: 0.26<br>Forcible rape: 0.047<br>Robbery: 0.132<br>Aggravated assault: 0.098<br>Property crime: 0.059<br>Burglary: 0.046<br>Larceny-theft: 0.056<br>Motor vehicle theft: 0.042<br>Arson: 0.034<br>",
          "Massachusetts<br>----------------------------------------<br>Total prediction: 1.043<br>Violent crime: 0.143<br>Murder: 0.111<br>Forcible rape: 0.161<br>Robbery: 0.096<br>Aggravated assault: 0.179<br>Property crime: 0.086<br>Burglary: 0.06<br>Larceny-theft: 0.112<br>Motor vehicle theft: 0.043<br>Arson: 0.051<br>",
          "Michigan<br>----------------------------------------<br>Total prediction: 2.08<br>Violent crime: 0.252<br>Murder: 0.344<br>Forcible rape: 0.341<br>Robbery: 0.101<br>Aggravated assault: 0.323<br>Property crime: 0.146<br>Burglary: 0.115<br>Larceny-theft: 0.15<br>Motor vehicle theft: 0.12<br>Arson: 0.189<br>",
          "Minnesota<br>----------------------------------------<br>Total prediction: 0.952<br>Violent crime: 0.086<br>Murder: 0.066<br>Forcible rape: 0.176<br>Robbery: 0.072<br>Aggravated assault: 0.081<br>Property crime: 0.129<br>Burglary: 0.074<br>Larceny-theft: 0.143<br>Motor vehicle theft: 0.068<br>Arson: 0.059<br>",
          "Mississippi<br>----------------------------------------<br>Total prediction: 0.17<br>Violent crime: 0.01<br>Murder: 0.028<br>Forcible rape: 0.011<br>Robbery: 0.015<br>Aggravated assault: 0.011<br>Property crime: 0.028<br>Burglary: 0.023<br>Larceny-theft: 0.03<br>Motor vehicle theft: 0.009<br>Arson: 0.006<br>",
          "Missouri<br>----------------------------------------<br>Total prediction: 1.704<br>Violent crime: 0.172<br>Murder: 0.359<br>Forcible rape: 0.165<br>Robbery: 0.116<br>Aggravated assault: 0.221<br>Property crime: 0.163<br>Burglary: 0.112<br>Larceny-theft: 0.17<br>Motor vehicle theft: 0.115<br>Arson: 0.111<br>",
          "Montana<br>----------------------------------------<br>Total prediction: 0.127<br>Violent crime: 0.01<br>Murder: 0.009<br>Forcible rape: 0.023<br>Robbery: 0.004<br>Aggravated assault: 0.013<br>Property crime: 0.019<br>Burglary: 0.008<br>Larceny-theft: 0.022<br>Motor vehicle theft: 0.01<br>Arson: 0.011<br>",
          "Nebraska<br>----------------------------------------<br>Total prediction: 0.275<br>Violent crime: 0.03<br>Murder: 0.024<br>Forcible rape: 0.052<br>Robbery: 0.016<br>Aggravated assault: 0.032<br>Property crime: 0.037<br>Burglary: 0.017<br>Larceny-theft: 0.038<br>Motor vehicle theft: 0.028<br>Arson: 0.002<br>",
          "Nevada<br>----------------------------------------<br>Total prediction: 0.975<br>Violent crime: 0.119<br>Murder: 0.146<br>Forcible rape: 0.148<br>Robbery: 0.075<br>Aggravated assault: 0.126<br>Property crime: 0.086<br>Burglary: 0.096<br>Larceny-theft: 0.07<br>Motor vehicle theft: 0.081<br>Arson: 0.027<br>",
          "New Hampshire<br>----------------------------------------<br>Total prediction: 0.185<br>Violent crime: 0.015<br>Murder: 0.011<br>Forcible rape: 0.041<br>Robbery: 0.009<br>Aggravated assault: 0.016<br>Property crime: 0.023<br>Burglary: 0.013<br>Larceny-theft: 0.027<br>Motor vehicle theft: 0.006<br>Arson: 0.024<br>",
          "New Jersey<br>----------------------------------------<br>Total prediction: 1.309<br>Violent crime: 0.14<br>Murder: 0.194<br>Forcible rape: 0.103<br>Robbery: 0.144<br>Aggravated assault: 0.14<br>Property crime: 0.158<br>Burglary: 0.107<br>Larceny-theft: 0.171<br>Motor vehicle theft: 0.08<br>Arson: 0.071<br>",
          "New Mexico<br>----------------------------------------<br>Total prediction: 0.371<br>Violent crime: 0.04<br>Murder: 0.028<br>Forcible rape: 0.038<br>Robbery: 0.026<br>Aggravated assault: 0.048<br>Property crime: 0.05<br>Burglary: 0.05<br>Larceny-theft: 0.045<br>Motor vehicle theft: 0.024<br>Arson: 0.021<br>",
          "New York<br>----------------------------------------<br>Total prediction: 3.064<br>Violent crime: 0.463<br>Murder: 0.378<br>Forcible rape: 0.369<br>Robbery: 0.378<br>Aggravated assault: 0.527<br>Property crime: 0.283<br>Burglary: 0.14<br>Larceny-theft: 0.338<br>Motor vehicle theft: 0.083<br>Arson: 0.104<br>",
          "North Carolina<br>----------------------------------------<br>Total prediction: 1.336<br>Violent crime: 0.143<br>Murder: 0.22<br>Forcible rape: 0.07<br>Robbery: 0.118<br>Aggravated assault: 0.179<br>Property crime: 0.155<br>Burglary: 0.148<br>Larceny-theft: 0.162<br>Motor vehicle theft: 0.047<br>Arson: 0.094<br>",
          "North Dakota<br>----------------------------------------<br>Total prediction: 0.102<br>Violent crime: 0.009<br>Murder: 0.007<br>Forcible rape: 0.02<br>Robbery: 0.003<br>Aggravated assault: 0.011<br>Property crime: 0.014<br>Burglary: 0.008<br>Larceny-theft: 0.015<br>Motor vehicle theft: 0.009<br>Arson: 0.007<br>",
          "Ohio<br>----------------------------------------<br>Total prediction: 1.423<br>Violent crime: 0.14<br>Murder: 0.295<br>Forcible rape: 0.264<br>Robbery: 0.144<br>Aggravated assault: 0.147<br>Property crime: 0.115<br>Burglary: 0.047<br>Larceny-theft: 0.125<br>Motor vehicle theft: 0.08<br>Arson: 0.066<br>",
          "Oklahoma<br>----------------------------------------<br>Total prediction: 1.134<br>Violent crime: 0.119<br>Murder: 0.132<br>Forcible rape: 0.163<br>Robbery: 0.06<br>Aggravated assault: 0.148<br>Property crime: 0.119<br>Burglary: 0.12<br>Larceny-theft: 0.111<br>Motor vehicle theft: 0.083<br>Arson: 0.078<br>",
          "Oregon<br>----------------------------------------<br>Total prediction: 0.827<br>Violent crime: 0.065<br>Murder: 0.038<br>Forcible rape: 0.122<br>Robbery: 0.046<br>Aggravated assault: 0.065<br>Property crime: 0.119<br>Burglary: 0.06<br>Larceny-theft: 0.126<br>Motor vehicle theft: 0.112<br>Arson: 0.075<br>",
          "Pennsylvania<br>----------------------------------------<br>Total prediction: 1.878<br>Violent crime: 0.212<br>Murder: 0.467<br>Forcible rape: 0.248<br>Robbery: 0.114<br>Aggravated assault: 0.196<br>Property crime: 0.163<br>Burglary: 0.078<br>Larceny-theft: 0.153<br>Motor vehicle theft: 0.077<br>Arson: 0.172<br>",
          "Rhode Island<br>----------------------------------------<br>Total prediction: 0.191<br>Violent crime: 0.017<br>Murder: 0.017<br>Forcible rape: 0.032<br>Robbery: 0.012<br>Aggravated assault: 0.017<br>Property crime: 0.022<br>Burglary: 0.019<br>Larceny-theft: 0.024<br>Motor vehicle theft: 0.011<br>Arson: 0.021<br>",
          "South Carolina<br>----------------------------------------<br>Total prediction: 0.613<br>Violent crime: 0.062<br>Murder: 0.097<br>Forcible rape: 0.07<br>Robbery: 0.04<br>Aggravated assault: 0.081<br>Property crime: 0.073<br>Burglary: 0.04<br>Larceny-theft: 0.085<br>Motor vehicle theft: 0.035<br>Arson: 0.03<br>",
          "South Dakota<br>----------------------------------------<br>Total prediction: 0.122<br>Violent crime: 0.013<br>Murder: 0.009<br>Forcible rape: 0.027<br>Robbery: 0.004<br>Aggravated assault: 0.016<br>Property crime: 0.014<br>Burglary: 0.008<br>Larceny-theft: 0.015<br>Motor vehicle theft: 0.007<br>Arson: 0.01<br>",
          "Tennessee<br>----------------------------------------<br>Total prediction: 1.982<br>Violent crime: 0.26<br>Murder: 0.327<br>Forcible rape: 0.183<br>Robbery: 0.153<br>Aggravated assault: 0.336<br>Property crime: 0.199<br>Burglary: 0.123<br>Larceny-theft: 0.203<br>Motor vehicle theft: 0.132<br>Arson: 0.067<br>",
          "Texas<br>----------------------------------------<br>Total prediction: 5.835<br>Violent crime: 0.66<br>Murder: 0.731<br>Forcible rape: 0.813<br>Robbery: 0.462<br>Aggravated assault: 0.735<br>Property crime: 0.634<br>Burglary: 0.502<br>Larceny-theft: 0.655<br>Motor vehicle theft: 0.359<br>Arson: 0.283<br>",
          "Utah<br>----------------------------------------<br>Total prediction: 0.524<br>Violent crime: 0.043<br>Murder: 0.034<br>Forcible rape: 0.122<br>Robbery: 0.024<br>Aggravated assault: 0.045<br>Property crime: 0.067<br>Burglary: 0.049<br>Larceny-theft: 0.083<br>Motor vehicle theft: 0.038<br>Arson: 0.02<br>",
          "Vermont<br>----------------------------------------<br>Total prediction: 0.034<br>Violent crime: 0.002<br>Murder: 0.003<br>Forcible rape: 0.007<br>Robbery: 0.001<br>Aggravated assault: 0.002<br>Property crime: 0.006<br>Burglary: 0.003<br>Larceny-theft: 0.007<br>Motor vehicle theft: 0.0<br>Arson: 0.003<br>",
          "Virginia<br>----------------------------------------<br>Total prediction: 0.775<br>Violent crime: 0.068<br>Murder: 0.176<br>Forcible rape: 0.091<br>Robbery: 0.05<br>Aggravated assault: 0.07<br>Property crime: 0.088<br>Burglary: 0.041<br>Larceny-theft: 0.103<br>Motor vehicle theft: 0.041<br>Arson: 0.047<br>",
          "Washington<br>----------------------------------------<br>Total prediction: 1.541<br>Violent crime: 0.126<br>Murder: 0.119<br>Forcible rape: 0.202<br>Robbery: 0.101<br>Aggravated assault: 0.14<br>Property crime: 0.213<br>Burglary: 0.151<br>Larceny-theft: 0.221<br>Motor vehicle theft: 0.17<br>Arson: 0.099<br>",
          "West Virginia<br>----------------------------------------<br>Total prediction: 0.123<br>Violent crime: 0.012<br>Murder: 0.018<br>Forcible rape: 0.015<br>Robbery: 0.006<br>Aggravated assault: 0.016<br>Property crime: 0.013<br>Burglary: 0.01<br>Larceny-theft: 0.015<br>Motor vehicle theft: 0.005<br>Arson: 0.012<br>",
          "Wisconsin<br>----------------------------------------<br>Total prediction: 0.997<br>Violent crime: 0.118<br>Murder: 0.115<br>Forcible rape: 0.141<br>Robbery: 0.063<br>Aggravated assault: 0.136<br>Property crime: 0.107<br>Burglary: 0.064<br>Larceny-theft: 0.114<br>Motor vehicle theft: 0.058<br>Arson: 0.079<br>",
          "Wyoming<br>----------------------------------------<br>Total prediction: 0.067<br>Violent crime: 0.004<br>Murder: 0.007<br>Forcible rape: 0.01<br>Robbery: 0.001<br>Aggravated assault: 0.005<br>Property crime: 0.012<br>Burglary: 0.006<br>Larceny-theft: 0.014<br>Motor vehicle theft: 0.003<br>Arson: 0.006<br>"
         ],
         "textsrc": "skip",
         "type": "choropleth",
         "z": [
          0.809,
          0.306,
          1.772,
          0.752,
          8.281,
          1.341,
          0.551,
          0.101,
          0.39,
          2.95,
          1.065,
          0.27,
          0.201,
          2.64,
          0.501,
          0.583,
          0.505,
          0.58,
          0.96,
          0.1,
          0.88,
          1.043,
          2.08,
          0.952,
          0.17,
          1.704,
          0.127,
          0.275,
          0.975,
          0.185,
          1.309,
          0.371,
          3.064,
          1.336,
          0.102,
          1.423,
          1.134,
          0.827,
          1.878,
          0.191,
          0.613,
          0.122,
          1.982,
          5.835,
          0.524,
          0.034,
          0.775,
          1.541,
          0.123,
          0.997,
          0.067
         ]
        },
        {
         "hoverinfo": "none",
         "locationmode": "USA-states",
         "locations": [
          "AL",
          "AK",
          "AZ",
          "AR",
          "CA",
          "CO",
          "CT",
          "DE",
          "nan",
          "FL",
          "GA",
          "HI",
          "ID",
          "IL",
          "IN",
          "IA",
          "KS",
          "KY",
          "LA",
          "ME",
          "MD",
          "MA",
          "MI",
          "MN",
          "MS",
          "MO",
          "MT",
          "NE",
          "NV",
          "NH",
          "NJ",
          "NM",
          "NY",
          "NC",
          "ND",
          "OH",
          "OK",
          "OR",
          "PA",
          "RI",
          "SC",
          "SD",
          "TN",
          "TX",
          "UT",
          "VT",
          "VA",
          "WA",
          "WV",
          "WI",
          "WY"
         ],
         "mode": "text",
         "text": [
          "AL",
          "AK",
          "AZ",
          "AR",
          "CA",
          "CO",
          "CT",
          "DE",
          "nan",
          "FL",
          "GA",
          "HI",
          "ID",
          "IL",
          "IN",
          "IA",
          "KS",
          "KY",
          "LA",
          "ME",
          "MD",
          "MA",
          "MI",
          "MN",
          "MS",
          "MO",
          "MT",
          "NE",
          "NV",
          "NH",
          "NJ",
          "NM",
          "NY",
          "NC",
          "ND",
          "OH",
          "OK",
          "OR",
          "PA",
          "RI",
          "SC",
          "SD",
          "TN",
          "TX",
          "UT",
          "VT",
          "VA",
          "WA",
          "WV",
          "WI",
          "WY"
         ],
         "type": "scattergeo"
        }
       ],
       "layout": {
        "geo": {
         "lakecolor": "rgb(255, 255, 255)",
         "projection": {
          "type": "albers usa"
         },
         "scope": "usa",
         "showlakes": true
        },
        "hoverlabel": {
         "bgcolor": "Black",
         "font": {
          "family": "Rockwell",
          "size": 15
         }
        },
        "template": {
         "data": {
          "bar": [
           {
            "error_x": {
             "color": "#2a3f5f"
            },
            "error_y": {
             "color": "#2a3f5f"
            },
            "marker": {
             "line": {
              "color": "#E5ECF6",
              "width": 0.5
             }
            },
            "type": "bar"
           }
          ],
          "barpolar": [
           {
            "marker": {
             "line": {
              "color": "#E5ECF6",
              "width": 0.5
             }
            },
            "type": "barpolar"
           }
          ],
          "carpet": [
           {
            "aaxis": {
             "endlinecolor": "#2a3f5f",
             "gridcolor": "white",
             "linecolor": "white",
             "minorgridcolor": "white",
             "startlinecolor": "#2a3f5f"
            },
            "baxis": {
             "endlinecolor": "#2a3f5f",
             "gridcolor": "white",
             "linecolor": "white",
             "minorgridcolor": "white",
             "startlinecolor": "#2a3f5f"
            },
            "type": "carpet"
           }
          ],
          "choropleth": [
           {
            "colorbar": {
             "outlinewidth": 0,
             "ticks": ""
            },
            "type": "choropleth"
           }
          ],
          "contour": [
           {
            "colorbar": {
             "outlinewidth": 0,
             "ticks": ""
            },
            "colorscale": [
             [
              0,
              "#0d0887"
             ],
             [
              0.1111111111111111,
              "#46039f"
             ],
             [
              0.2222222222222222,
              "#7201a8"
             ],
             [
              0.3333333333333333,
              "#9c179e"
             ],
             [
              0.4444444444444444,
              "#bd3786"
             ],
             [
              0.5555555555555556,
              "#d8576b"
             ],
             [
              0.6666666666666666,
              "#ed7953"
             ],
             [
              0.7777777777777778,
              "#fb9f3a"
             ],
             [
              0.8888888888888888,
              "#fdca26"
             ],
             [
              1,
              "#f0f921"
             ]
            ],
            "type": "contour"
           }
          ],
          "contourcarpet": [
           {
            "colorbar": {
             "outlinewidth": 0,
             "ticks": ""
            },
            "type": "contourcarpet"
           }
          ],
          "heatmap": [
           {
            "colorbar": {
             "outlinewidth": 0,
             "ticks": ""
            },
            "colorscale": [
             [
              0,
              "#0d0887"
             ],
             [
              0.1111111111111111,
              "#46039f"
             ],
             [
              0.2222222222222222,
              "#7201a8"
             ],
             [
              0.3333333333333333,
              "#9c179e"
             ],
             [
              0.4444444444444444,
              "#bd3786"
             ],
             [
              0.5555555555555556,
              "#d8576b"
             ],
             [
              0.6666666666666666,
              "#ed7953"
             ],
             [
              0.7777777777777778,
              "#fb9f3a"
             ],
             [
              0.8888888888888888,
              "#fdca26"
             ],
             [
              1,
              "#f0f921"
             ]
            ],
            "type": "heatmap"
           }
          ],
          "heatmapgl": [
           {
            "colorbar": {
             "outlinewidth": 0,
             "ticks": ""
            },
            "colorscale": [
             [
              0,
              "#0d0887"
             ],
             [
              0.1111111111111111,
              "#46039f"
             ],
             [
              0.2222222222222222,
              "#7201a8"
             ],
             [
              0.3333333333333333,
              "#9c179e"
             ],
             [
              0.4444444444444444,
              "#bd3786"
             ],
             [
              0.5555555555555556,
              "#d8576b"
             ],
             [
              0.6666666666666666,
              "#ed7953"
             ],
             [
              0.7777777777777778,
              "#fb9f3a"
             ],
             [
              0.8888888888888888,
              "#fdca26"
             ],
             [
              1,
              "#f0f921"
             ]
            ],
            "type": "heatmapgl"
           }
          ],
          "histogram": [
           {
            "marker": {
             "colorbar": {
              "outlinewidth": 0,
              "ticks": ""
             }
            },
            "type": "histogram"
           }
          ],
          "histogram2d": [
           {
            "colorbar": {
             "outlinewidth": 0,
             "ticks": ""
            },
            "colorscale": [
             [
              0,
              "#0d0887"
             ],
             [
              0.1111111111111111,
              "#46039f"
             ],
             [
              0.2222222222222222,
              "#7201a8"
             ],
             [
              0.3333333333333333,
              "#9c179e"
             ],
             [
              0.4444444444444444,
              "#bd3786"
             ],
             [
              0.5555555555555556,
              "#d8576b"
             ],
             [
              0.6666666666666666,
              "#ed7953"
             ],
             [
              0.7777777777777778,
              "#fb9f3a"
             ],
             [
              0.8888888888888888,
              "#fdca26"
             ],
             [
              1,
              "#f0f921"
             ]
            ],
            "type": "histogram2d"
           }
          ],
          "histogram2dcontour": [
           {
            "colorbar": {
             "outlinewidth": 0,
             "ticks": ""
            },
            "colorscale": [
             [
              0,
              "#0d0887"
             ],
             [
              0.1111111111111111,
              "#46039f"
             ],
             [
              0.2222222222222222,
              "#7201a8"
             ],
             [
              0.3333333333333333,
              "#9c179e"
             ],
             [
              0.4444444444444444,
              "#bd3786"
             ],
             [
              0.5555555555555556,
              "#d8576b"
             ],
             [
              0.6666666666666666,
              "#ed7953"
             ],
             [
              0.7777777777777778,
              "#fb9f3a"
             ],
             [
              0.8888888888888888,
              "#fdca26"
             ],
             [
              1,
              "#f0f921"
             ]
            ],
            "type": "histogram2dcontour"
           }
          ],
          "mesh3d": [
           {
            "colorbar": {
             "outlinewidth": 0,
             "ticks": ""
            },
            "type": "mesh3d"
           }
          ],
          "parcoords": [
           {
            "line": {
             "colorbar": {
              "outlinewidth": 0,
              "ticks": ""
             }
            },
            "type": "parcoords"
           }
          ],
          "pie": [
           {
            "automargin": true,
            "type": "pie"
           }
          ],
          "scatter": [
           {
            "marker": {
             "colorbar": {
              "outlinewidth": 0,
              "ticks": ""
             }
            },
            "type": "scatter"
           }
          ],
          "scatter3d": [
           {
            "line": {
             "colorbar": {
              "outlinewidth": 0,
              "ticks": ""
             }
            },
            "marker": {
             "colorbar": {
              "outlinewidth": 0,
              "ticks": ""
             }
            },
            "type": "scatter3d"
           }
          ],
          "scattercarpet": [
           {
            "marker": {
             "colorbar": {
              "outlinewidth": 0,
              "ticks": ""
             }
            },
            "type": "scattercarpet"
           }
          ],
          "scattergeo": [
           {
            "marker": {
             "colorbar": {
              "outlinewidth": 0,
              "ticks": ""
             }
            },
            "type": "scattergeo"
           }
          ],
          "scattergl": [
           {
            "marker": {
             "colorbar": {
              "outlinewidth": 0,
              "ticks": ""
             }
            },
            "type": "scattergl"
           }
          ],
          "scattermapbox": [
           {
            "marker": {
             "colorbar": {
              "outlinewidth": 0,
              "ticks": ""
             }
            },
            "type": "scattermapbox"
           }
          ],
          "scatterpolar": [
           {
            "marker": {
             "colorbar": {
              "outlinewidth": 0,
              "ticks": ""
             }
            },
            "type": "scatterpolar"
           }
          ],
          "scatterpolargl": [
           {
            "marker": {
             "colorbar": {
              "outlinewidth": 0,
              "ticks": ""
             }
            },
            "type": "scatterpolargl"
           }
          ],
          "scatterternary": [
           {
            "marker": {
             "colorbar": {
              "outlinewidth": 0,
              "ticks": ""
             }
            },
            "type": "scatterternary"
           }
          ],
          "surface": [
           {
            "colorbar": {
             "outlinewidth": 0,
             "ticks": ""
            },
            "colorscale": [
             [
              0,
              "#0d0887"
             ],
             [
              0.1111111111111111,
              "#46039f"
             ],
             [
              0.2222222222222222,
              "#7201a8"
             ],
             [
              0.3333333333333333,
              "#9c179e"
             ],
             [
              0.4444444444444444,
              "#bd3786"
             ],
             [
              0.5555555555555556,
              "#d8576b"
             ],
             [
              0.6666666666666666,
              "#ed7953"
             ],
             [
              0.7777777777777778,
              "#fb9f3a"
             ],
             [
              0.8888888888888888,
              "#fdca26"
             ],
             [
              1,
              "#f0f921"
             ]
            ],
            "type": "surface"
           }
          ],
          "table": [
           {
            "cells": {
             "fill": {
              "color": "#EBF0F8"
             },
             "line": {
              "color": "white"
             }
            },
            "header": {
             "fill": {
              "color": "#C8D4E3"
             },
             "line": {
              "color": "white"
             }
            },
            "type": "table"
           }
          ]
         },
         "layout": {
          "annotationdefaults": {
           "arrowcolor": "#2a3f5f",
           "arrowhead": 0,
           "arrowwidth": 1
          },
          "autotypenumbers": "strict",
          "coloraxis": {
           "colorbar": {
            "outlinewidth": 0,
            "ticks": ""
           }
          },
          "colorscale": {
           "diverging": [
            [
             0,
             "#8e0152"
            ],
            [
             0.1,
             "#c51b7d"
            ],
            [
             0.2,
             "#de77ae"
            ],
            [
             0.3,
             "#f1b6da"
            ],
            [
             0.4,
             "#fde0ef"
            ],
            [
             0.5,
             "#f7f7f7"
            ],
            [
             0.6,
             "#e6f5d0"
            ],
            [
             0.7,
             "#b8e186"
            ],
            [
             0.8,
             "#7fbc41"
            ],
            [
             0.9,
             "#4d9221"
            ],
            [
             1,
             "#276419"
            ]
           ],
           "sequential": [
            [
             0,
             "#0d0887"
            ],
            [
             0.1111111111111111,
             "#46039f"
            ],
            [
             0.2222222222222222,
             "#7201a8"
            ],
            [
             0.3333333333333333,
             "#9c179e"
            ],
            [
             0.4444444444444444,
             "#bd3786"
            ],
            [
             0.5555555555555556,
             "#d8576b"
            ],
            [
             0.6666666666666666,
             "#ed7953"
            ],
            [
             0.7777777777777778,
             "#fb9f3a"
            ],
            [
             0.8888888888888888,
             "#fdca26"
            ],
            [
             1,
             "#f0f921"
            ]
           ],
           "sequentialminus": [
            [
             0,
             "#0d0887"
            ],
            [
             0.1111111111111111,
             "#46039f"
            ],
            [
             0.2222222222222222,
             "#7201a8"
            ],
            [
             0.3333333333333333,
             "#9c179e"
            ],
            [
             0.4444444444444444,
             "#bd3786"
            ],
            [
             0.5555555555555556,
             "#d8576b"
            ],
            [
             0.6666666666666666,
             "#ed7953"
            ],
            [
             0.7777777777777778,
             "#fb9f3a"
            ],
            [
             0.8888888888888888,
             "#fdca26"
            ],
            [
             1,
             "#f0f921"
            ]
           ]
          },
          "colorway": [
           "#636efa",
           "#EF553B",
           "#00cc96",
           "#ab63fa",
           "#FFA15A",
           "#19d3f3",
           "#FF6692",
           "#B6E880",
           "#FF97FF",
           "#FECB52"
          ],
          "font": {
           "color": "#2a3f5f"
          },
          "geo": {
           "bgcolor": "white",
           "lakecolor": "white",
           "landcolor": "#E5ECF6",
           "showlakes": true,
           "showland": true,
           "subunitcolor": "white"
          },
          "hoverlabel": {
           "align": "left"
          },
          "hovermode": "closest",
          "mapbox": {
           "style": "light"
          },
          "paper_bgcolor": "white",
          "plot_bgcolor": "#E5ECF6",
          "polar": {
           "angularaxis": {
            "gridcolor": "white",
            "linecolor": "white",
            "ticks": ""
           },
           "bgcolor": "#E5ECF6",
           "radialaxis": {
            "gridcolor": "white",
            "linecolor": "white",
            "ticks": ""
           }
          },
          "scene": {
           "xaxis": {
            "backgroundcolor": "#E5ECF6",
            "gridcolor": "white",
            "gridwidth": 2,
            "linecolor": "white",
            "showbackground": true,
            "ticks": "",
            "zerolinecolor": "white"
           },
           "yaxis": {
            "backgroundcolor": "#E5ECF6",
            "gridcolor": "white",
            "gridwidth": 2,
            "linecolor": "white",
            "showbackground": true,
            "ticks": "",
            "zerolinecolor": "white"
           },
           "zaxis": {
            "backgroundcolor": "#E5ECF6",
            "gridcolor": "white",
            "gridwidth": 2,
            "linecolor": "white",
            "showbackground": true,
            "ticks": "",
            "zerolinecolor": "white"
           }
          },
          "shapedefaults": {
           "line": {
            "color": "#2a3f5f"
           }
          },
          "ternary": {
           "aaxis": {
            "gridcolor": "white",
            "linecolor": "white",
            "ticks": ""
           },
           "baxis": {
            "gridcolor": "white",
            "linecolor": "white",
            "ticks": ""
           },
           "bgcolor": "#E5ECF6",
           "caxis": {
            "gridcolor": "white",
            "linecolor": "white",
            "ticks": ""
           }
          },
          "title": {
           "x": 0.05
          },
          "xaxis": {
           "automargin": true,
           "gridcolor": "white",
           "linecolor": "white",
           "ticks": "",
           "title": {
            "standoff": 15
           },
           "zerolinecolor": "white",
           "zerolinewidth": 2
          },
          "yaxis": {
           "automargin": true,
           "gridcolor": "white",
           "linecolor": "white",
           "ticks": "",
           "title": {
            "standoff": 15
           },
           "zerolinecolor": "white",
           "zerolinewidth": 2
          }
         }
        },
        "title": {
         "text": "2019 US <br> Total crime prediction: Ridge model"
        }
       }
      },
      "text/html": [
       "<div>                            <div id=\"da996e0a-b124-4175-8441-bf79898461b9\" class=\"plotly-graph-div\" style=\"height:525px; width:100%;\"></div>            <script type=\"text/javascript\">                require([\"plotly\"], function(Plotly) {                    window.PLOTLYENV=window.PLOTLYENV || {};                                    if (document.getElementById(\"da996e0a-b124-4175-8441-bf79898461b9\")) {                    Plotly.newPlot(                        \"da996e0a-b124-4175-8441-bf79898461b9\",                        [{\"autocolorscale\": false, \"colorbar\": {\"title\": {\"text\": \"Total predictoin\"}}, \"colorscale\": [[0.0, \"rgb(252,251,253)\"], [0.125, \"rgb(239,237,245)\"], [0.25, \"rgb(218,218,235)\"], [0.375, \"rgb(188,189,220)\"], [0.5, \"rgb(158,154,200)\"], [0.625, \"rgb(128,125,186)\"], [0.75, \"rgb(106,81,163)\"], [0.875, \"rgb(84,39,143)\"], [1.0, \"rgb(63,0,125)\"]], \"hovertemplate\": [\"Alabama<br>----------------------------------------<br>Total prediction: 0.809<br>Violent crime: 0.097<br>Murder: 0.161<br>Forcible rape: 0.048<br>Robbery: 0.061<br>Aggravated assault: 0.122<br>Property crime: 0.094<br>Burglary: 0.086<br>Larceny-theft: 0.09<br>Motor vehicle theft: 0.037<br>Arson: 0.013<br>\", \"Alaska<br>----------------------------------------<br>Total prediction: 0.306<br>Violent crime: 0.037<br>Murder: 0.03<br>Forcible rape: 0.068<br>Robbery: 0.019<br>Aggravated assault: 0.043<br>Property crime: 0.027<br>Burglary: 0.015<br>Larceny-theft: 0.027<br>Motor vehicle theft: 0.029<br>Arson: 0.01<br>\", \"Arizona<br>----------------------------------------<br>Total prediction: 1.772<br>Violent crime: 0.198<br>Murder: 0.195<br>Forcible rape: 0.249<br>Robbery: 0.118<br>Aggravated assault: 0.239<br>Property crime: 0.21<br>Burglary: 0.09<br>Larceny-theft: 0.22<br>Motor vehicle theft: 0.119<br>Arson: 0.135<br>\", \"Arkansas<br>----------------------------------------<br>Total prediction: 0.752<br>Violent crime: 0.084<br>Murder: 0.094<br>Forcible rape: 0.11<br>Robbery: 0.037<br>Aggravated assault: 0.113<br>Property crime: 0.077<br>Burglary: 0.068<br>Larceny-theft: 0.089<br>Motor vehicle theft: 0.033<br>Arson: 0.047<br>\", \"California<br>----------------------------------------<br>Total prediction: 8.281<br>Violent crime: 0.94<br>Murder: 0.68<br>Forcible rape: 1.023<br>Robbery: 0.872<br>Aggravated assault: 0.954<br>Property crime: 0.806<br>Burglary: 0.558<br>Larceny-theft: 0.816<br>Motor vehicle theft: 0.606<br>Arson: 1.026<br>\", \"Colorado<br>----------------------------------------<br>Total prediction: 1.341<br>Violent crime: 0.127<br>Murder: 0.119<br>Forcible rape: 0.265<br>Robbery: 0.07<br>Aggravated assault: 0.14<br>Property crime: 0.148<br>Burglary: 0.093<br>Larceny-theft: 0.15<br>Motor vehicle theft: 0.123<br>Arson: 0.106<br>\", \"Connecticut<br>----------------------------------------<br>Total prediction: 0.551<br>Violent crime: 0.053<br>Murder: 0.053<br>Forcible rape: 0.057<br>Robbery: 0.052<br>Aggravated assault: 0.052<br>Property crime: 0.071<br>Burglary: 0.039<br>Larceny-theft: 0.077<br>Motor vehicle theft: 0.055<br>Arson: 0.041<br>\", \"Delaware<br>----------------------------------------<br>Total prediction: 0.101<br>Violent crime: 0.013<br>Murder: 0.023<br>Forcible rape: 0.007<br>Robbery: 0.011<br>Aggravated assault: 0.016<br>Property crime: 0.01<br>Burglary: 0.002<br>Larceny-theft: 0.012<br>Motor vehicle theft: 0.005<br>Arson: 0.002<br>\", \"District Of Columbia<br>----------------------------------------<br>Total prediction: 0.39<br>Violent crime: 0.051<br>Murder: 0.095<br>Forcible rape: 0.038<br>Robbery: 0.052<br>Aggravated assault: 0.049<br>Property crime: 0.037<br>Burglary: 0.007<br>Larceny-theft: 0.042<br>Motor vehicle theft: 0.019<br>Arson: 0.0<br>\", \"Florida<br>----------------------------------------<br>Total prediction: 2.95<br>Violent crime: 0.325<br>Murder: 0.444<br>Forcible rape: 0.358<br>Robbery: 0.215<br>Aggravated assault: 0.375<br>Property crime: 0.361<br>Burglary: 0.2<br>Larceny-theft: 0.403<br>Motor vehicle theft: 0.179<br>Arson: 0.089<br>\", \"Georgia<br>----------------------------------------<br>Total prediction: 1.065<br>Violent crime: 0.108<br>Murder: 0.2<br>Forcible rape: 0.067<br>Robbery: 0.099<br>Aggravated assault: 0.117<br>Property crime: 0.134<br>Burglary: 0.086<br>Larceny-theft: 0.149<br>Motor vehicle theft: 0.069<br>Arson: 0.037<br>\", \"Hawaii<br>----------------------------------------<br>Total prediction: 0.27<br>Violent crime: 0.018<br>Murder: 0.028<br>Forcible rape: 0.022<br>Robbery: 0.019<br>Aggravated assault: 0.014<br>Property crime: 0.033<br>Burglary: 0.016<br>Larceny-theft: 0.037<br>Motor vehicle theft: 0.027<br>Arson: 0.057<br>\", \"Idaho<br>----------------------------------------<br>Total prediction: 0.201<br>Violent crime: 0.017<br>Murder: 0.016<br>Forcible rape: 0.037<br>Robbery: 0.003<br>Aggravated assault: 0.022<br>Property crime: 0.026<br>Burglary: 0.019<br>Larceny-theft: 0.028<br>Motor vehicle theft: 0.009<br>Arson: 0.023<br>\", \"Illinois<br>----------------------------------------<br>Total prediction: 2.64<br>Violent crime: 0.294<br>Murder: 0.596<br>Forcible rape: 0.296<br>Robbery: 0.272<br>Aggravated assault: 0.327<br>Property crime: 0.217<br>Burglary: 0.145<br>Larceny-theft: 0.236<br>Motor vehicle theft: 0.117<br>Arson: 0.138<br>\", \"Indiana<br>----------------------------------------<br>Total prediction: 0.501<br>Violent crime: 0.044<br>Murder: 0.113<br>Forcible rape: 0.075<br>Robbery: 0.002<br>Aggravated assault: 0.068<br>Property crime: 0.043<br>Burglary: 0.02<br>Larceny-theft: 0.058<br>Motor vehicle theft: 0.034<br>Arson: 0.044<br>\", \"Iowa<br>----------------------------------------<br>Total prediction: 0.583<br>Violent crime: 0.059<br>Murder: 0.055<br>Forcible rape: 0.092<br>Robbery: 0.027<br>Aggravated assault: 0.068<br>Property crime: 0.067<br>Burglary: 0.063<br>Larceny-theft: 0.07<br>Motor vehicle theft: 0.034<br>Arson: 0.049<br>\", \"Kansas<br>----------------------------------------<br>Total prediction: 0.505<br>Violent crime: 0.049<br>Murder: 0.053<br>Forcible rape: 0.076<br>Robbery: 0.024<br>Aggravated assault: 0.061<br>Property crime: 0.059<br>Burglary: 0.036<br>Larceny-theft: 0.064<br>Motor vehicle theft: 0.035<br>Arson: 0.047<br>\", \"Kentucky<br>----------------------------------------<br>Total prediction: 0.58<br>Violent crime: 0.044<br>Murder: 0.088<br>Forcible rape: 0.075<br>Robbery: 0.045<br>Aggravated assault: 0.036<br>Property crime: 0.076<br>Burglary: 0.058<br>Larceny-theft: 0.083<br>Motor vehicle theft: 0.048<br>Arson: 0.027<br>\", \"Louisiana<br>----------------------------------------<br>Total prediction: 0.96<br>Violent crime: 0.091<br>Murder: 0.244<br>Forcible rape: 0.096<br>Robbery: 0.057<br>Aggravated assault: 0.114<br>Property crime: 0.093<br>Burglary: 0.066<br>Larceny-theft: 0.099<br>Motor vehicle theft: 0.054<br>Arson: 0.048<br>\", \"Maine<br>----------------------------------------<br>Total prediction: 0.1<br>Violent crime: 0.006<br>Murder: 0.008<br>Forcible rape: 0.022<br>Robbery: 0.004<br>Aggravated assault: 0.006<br>Property crime: 0.016<br>Burglary: 0.008<br>Larceny-theft: 0.02<br>Motor vehicle theft: 0.003<br>Arson: 0.008<br>\", \"Maryland<br>----------------------------------------<br>Total prediction: 0.88<br>Violent crime: 0.107<br>Murder: 0.26<br>Forcible rape: 0.047<br>Robbery: 0.132<br>Aggravated assault: 0.098<br>Property crime: 0.059<br>Burglary: 0.046<br>Larceny-theft: 0.056<br>Motor vehicle theft: 0.042<br>Arson: 0.034<br>\", \"Massachusetts<br>----------------------------------------<br>Total prediction: 1.043<br>Violent crime: 0.143<br>Murder: 0.111<br>Forcible rape: 0.161<br>Robbery: 0.096<br>Aggravated assault: 0.179<br>Property crime: 0.086<br>Burglary: 0.06<br>Larceny-theft: 0.112<br>Motor vehicle theft: 0.043<br>Arson: 0.051<br>\", \"Michigan<br>----------------------------------------<br>Total prediction: 2.08<br>Violent crime: 0.252<br>Murder: 0.344<br>Forcible rape: 0.341<br>Robbery: 0.101<br>Aggravated assault: 0.323<br>Property crime: 0.146<br>Burglary: 0.115<br>Larceny-theft: 0.15<br>Motor vehicle theft: 0.12<br>Arson: 0.189<br>\", \"Minnesota<br>----------------------------------------<br>Total prediction: 0.952<br>Violent crime: 0.086<br>Murder: 0.066<br>Forcible rape: 0.176<br>Robbery: 0.072<br>Aggravated assault: 0.081<br>Property crime: 0.129<br>Burglary: 0.074<br>Larceny-theft: 0.143<br>Motor vehicle theft: 0.068<br>Arson: 0.059<br>\", \"Mississippi<br>----------------------------------------<br>Total prediction: 0.17<br>Violent crime: 0.01<br>Murder: 0.028<br>Forcible rape: 0.011<br>Robbery: 0.015<br>Aggravated assault: 0.011<br>Property crime: 0.028<br>Burglary: 0.023<br>Larceny-theft: 0.03<br>Motor vehicle theft: 0.009<br>Arson: 0.006<br>\", \"Missouri<br>----------------------------------------<br>Total prediction: 1.704<br>Violent crime: 0.172<br>Murder: 0.359<br>Forcible rape: 0.165<br>Robbery: 0.116<br>Aggravated assault: 0.221<br>Property crime: 0.163<br>Burglary: 0.112<br>Larceny-theft: 0.17<br>Motor vehicle theft: 0.115<br>Arson: 0.111<br>\", \"Montana<br>----------------------------------------<br>Total prediction: 0.127<br>Violent crime: 0.01<br>Murder: 0.009<br>Forcible rape: 0.023<br>Robbery: 0.004<br>Aggravated assault: 0.013<br>Property crime: 0.019<br>Burglary: 0.008<br>Larceny-theft: 0.022<br>Motor vehicle theft: 0.01<br>Arson: 0.011<br>\", \"Nebraska<br>----------------------------------------<br>Total prediction: 0.275<br>Violent crime: 0.03<br>Murder: 0.024<br>Forcible rape: 0.052<br>Robbery: 0.016<br>Aggravated assault: 0.032<br>Property crime: 0.037<br>Burglary: 0.017<br>Larceny-theft: 0.038<br>Motor vehicle theft: 0.028<br>Arson: 0.002<br>\", \"Nevada<br>----------------------------------------<br>Total prediction: 0.975<br>Violent crime: 0.119<br>Murder: 0.146<br>Forcible rape: 0.148<br>Robbery: 0.075<br>Aggravated assault: 0.126<br>Property crime: 0.086<br>Burglary: 0.096<br>Larceny-theft: 0.07<br>Motor vehicle theft: 0.081<br>Arson: 0.027<br>\", \"New Hampshire<br>----------------------------------------<br>Total prediction: 0.185<br>Violent crime: 0.015<br>Murder: 0.011<br>Forcible rape: 0.041<br>Robbery: 0.009<br>Aggravated assault: 0.016<br>Property crime: 0.023<br>Burglary: 0.013<br>Larceny-theft: 0.027<br>Motor vehicle theft: 0.006<br>Arson: 0.024<br>\", \"New Jersey<br>----------------------------------------<br>Total prediction: 1.309<br>Violent crime: 0.14<br>Murder: 0.194<br>Forcible rape: 0.103<br>Robbery: 0.144<br>Aggravated assault: 0.14<br>Property crime: 0.158<br>Burglary: 0.107<br>Larceny-theft: 0.171<br>Motor vehicle theft: 0.08<br>Arson: 0.071<br>\", \"New Mexico<br>----------------------------------------<br>Total prediction: 0.371<br>Violent crime: 0.04<br>Murder: 0.028<br>Forcible rape: 0.038<br>Robbery: 0.026<br>Aggravated assault: 0.048<br>Property crime: 0.05<br>Burglary: 0.05<br>Larceny-theft: 0.045<br>Motor vehicle theft: 0.024<br>Arson: 0.021<br>\", \"New York<br>----------------------------------------<br>Total prediction: 3.064<br>Violent crime: 0.463<br>Murder: 0.378<br>Forcible rape: 0.369<br>Robbery: 0.378<br>Aggravated assault: 0.527<br>Property crime: 0.283<br>Burglary: 0.14<br>Larceny-theft: 0.338<br>Motor vehicle theft: 0.083<br>Arson: 0.104<br>\", \"North Carolina<br>----------------------------------------<br>Total prediction: 1.336<br>Violent crime: 0.143<br>Murder: 0.22<br>Forcible rape: 0.07<br>Robbery: 0.118<br>Aggravated assault: 0.179<br>Property crime: 0.155<br>Burglary: 0.148<br>Larceny-theft: 0.162<br>Motor vehicle theft: 0.047<br>Arson: 0.094<br>\", \"North Dakota<br>----------------------------------------<br>Total prediction: 0.102<br>Violent crime: 0.009<br>Murder: 0.007<br>Forcible rape: 0.02<br>Robbery: 0.003<br>Aggravated assault: 0.011<br>Property crime: 0.014<br>Burglary: 0.008<br>Larceny-theft: 0.015<br>Motor vehicle theft: 0.009<br>Arson: 0.007<br>\", \"Ohio<br>----------------------------------------<br>Total prediction: 1.423<br>Violent crime: 0.14<br>Murder: 0.295<br>Forcible rape: 0.264<br>Robbery: 0.144<br>Aggravated assault: 0.147<br>Property crime: 0.115<br>Burglary: 0.047<br>Larceny-theft: 0.125<br>Motor vehicle theft: 0.08<br>Arson: 0.066<br>\", \"Oklahoma<br>----------------------------------------<br>Total prediction: 1.134<br>Violent crime: 0.119<br>Murder: 0.132<br>Forcible rape: 0.163<br>Robbery: 0.06<br>Aggravated assault: 0.148<br>Property crime: 0.119<br>Burglary: 0.12<br>Larceny-theft: 0.111<br>Motor vehicle theft: 0.083<br>Arson: 0.078<br>\", \"Oregon<br>----------------------------------------<br>Total prediction: 0.827<br>Violent crime: 0.065<br>Murder: 0.038<br>Forcible rape: 0.122<br>Robbery: 0.046<br>Aggravated assault: 0.065<br>Property crime: 0.119<br>Burglary: 0.06<br>Larceny-theft: 0.126<br>Motor vehicle theft: 0.112<br>Arson: 0.075<br>\", \"Pennsylvania<br>----------------------------------------<br>Total prediction: 1.878<br>Violent crime: 0.212<br>Murder: 0.467<br>Forcible rape: 0.248<br>Robbery: 0.114<br>Aggravated assault: 0.196<br>Property crime: 0.163<br>Burglary: 0.078<br>Larceny-theft: 0.153<br>Motor vehicle theft: 0.077<br>Arson: 0.172<br>\", \"Rhode Island<br>----------------------------------------<br>Total prediction: 0.191<br>Violent crime: 0.017<br>Murder: 0.017<br>Forcible rape: 0.032<br>Robbery: 0.012<br>Aggravated assault: 0.017<br>Property crime: 0.022<br>Burglary: 0.019<br>Larceny-theft: 0.024<br>Motor vehicle theft: 0.011<br>Arson: 0.021<br>\", \"South Carolina<br>----------------------------------------<br>Total prediction: 0.613<br>Violent crime: 0.062<br>Murder: 0.097<br>Forcible rape: 0.07<br>Robbery: 0.04<br>Aggravated assault: 0.081<br>Property crime: 0.073<br>Burglary: 0.04<br>Larceny-theft: 0.085<br>Motor vehicle theft: 0.035<br>Arson: 0.03<br>\", \"South Dakota<br>----------------------------------------<br>Total prediction: 0.122<br>Violent crime: 0.013<br>Murder: 0.009<br>Forcible rape: 0.027<br>Robbery: 0.004<br>Aggravated assault: 0.016<br>Property crime: 0.014<br>Burglary: 0.008<br>Larceny-theft: 0.015<br>Motor vehicle theft: 0.007<br>Arson: 0.01<br>\", \"Tennessee<br>----------------------------------------<br>Total prediction: 1.982<br>Violent crime: 0.26<br>Murder: 0.327<br>Forcible rape: 0.183<br>Robbery: 0.153<br>Aggravated assault: 0.336<br>Property crime: 0.199<br>Burglary: 0.123<br>Larceny-theft: 0.203<br>Motor vehicle theft: 0.132<br>Arson: 0.067<br>\", \"Texas<br>----------------------------------------<br>Total prediction: 5.835<br>Violent crime: 0.66<br>Murder: 0.731<br>Forcible rape: 0.813<br>Robbery: 0.462<br>Aggravated assault: 0.735<br>Property crime: 0.634<br>Burglary: 0.502<br>Larceny-theft: 0.655<br>Motor vehicle theft: 0.359<br>Arson: 0.283<br>\", \"Utah<br>----------------------------------------<br>Total prediction: 0.524<br>Violent crime: 0.043<br>Murder: 0.034<br>Forcible rape: 0.122<br>Robbery: 0.024<br>Aggravated assault: 0.045<br>Property crime: 0.067<br>Burglary: 0.049<br>Larceny-theft: 0.083<br>Motor vehicle theft: 0.038<br>Arson: 0.02<br>\", \"Vermont<br>----------------------------------------<br>Total prediction: 0.034<br>Violent crime: 0.002<br>Murder: 0.003<br>Forcible rape: 0.007<br>Robbery: 0.001<br>Aggravated assault: 0.002<br>Property crime: 0.006<br>Burglary: 0.003<br>Larceny-theft: 0.007<br>Motor vehicle theft: 0.0<br>Arson: 0.003<br>\", \"Virginia<br>----------------------------------------<br>Total prediction: 0.775<br>Violent crime: 0.068<br>Murder: 0.176<br>Forcible rape: 0.091<br>Robbery: 0.05<br>Aggravated assault: 0.07<br>Property crime: 0.088<br>Burglary: 0.041<br>Larceny-theft: 0.103<br>Motor vehicle theft: 0.041<br>Arson: 0.047<br>\", \"Washington<br>----------------------------------------<br>Total prediction: 1.541<br>Violent crime: 0.126<br>Murder: 0.119<br>Forcible rape: 0.202<br>Robbery: 0.101<br>Aggravated assault: 0.14<br>Property crime: 0.213<br>Burglary: 0.151<br>Larceny-theft: 0.221<br>Motor vehicle theft: 0.17<br>Arson: 0.099<br>\", \"West Virginia<br>----------------------------------------<br>Total prediction: 0.123<br>Violent crime: 0.012<br>Murder: 0.018<br>Forcible rape: 0.015<br>Robbery: 0.006<br>Aggravated assault: 0.016<br>Property crime: 0.013<br>Burglary: 0.01<br>Larceny-theft: 0.015<br>Motor vehicle theft: 0.005<br>Arson: 0.012<br>\", \"Wisconsin<br>----------------------------------------<br>Total prediction: 0.997<br>Violent crime: 0.118<br>Murder: 0.115<br>Forcible rape: 0.141<br>Robbery: 0.063<br>Aggravated assault: 0.136<br>Property crime: 0.107<br>Burglary: 0.064<br>Larceny-theft: 0.114<br>Motor vehicle theft: 0.058<br>Arson: 0.079<br>\", \"Wyoming<br>----------------------------------------<br>Total prediction: 0.067<br>Violent crime: 0.004<br>Murder: 0.007<br>Forcible rape: 0.01<br>Robbery: 0.001<br>Aggravated assault: 0.005<br>Property crime: 0.012<br>Burglary: 0.006<br>Larceny-theft: 0.014<br>Motor vehicle theft: 0.003<br>Arson: 0.006<br>\"], \"hovertext\": \"False\", \"locationmode\": \"USA-states\", \"locations\": [\"AL\", \"AK\", \"AZ\", \"AR\", \"CA\", \"CO\", \"CT\", \"DE\", \"nan\", \"FL\", \"GA\", \"HI\", \"ID\", \"IL\", \"IN\", \"IA\", \"KS\", \"KY\", \"LA\", \"ME\", \"MD\", \"MA\", \"MI\", \"MN\", \"MS\", \"MO\", \"MT\", \"NE\", \"NV\", \"NH\", \"NJ\", \"NM\", \"NY\", \"NC\", \"ND\", \"OH\", \"OK\", \"OR\", \"PA\", \"RI\", \"SC\", \"SD\", \"TN\", \"TX\", \"UT\", \"VT\", \"VA\", \"WA\", \"WV\", \"WI\", \"WY\"], \"marker\": {\"line\": {\"color\": \"Black\"}}, \"showlegend\": false, \"text\": [\"Alabama<br>----------------------------------------<br>Total prediction: 0.809<br>Violent crime: 0.097<br>Murder: 0.161<br>Forcible rape: 0.048<br>Robbery: 0.061<br>Aggravated assault: 0.122<br>Property crime: 0.094<br>Burglary: 0.086<br>Larceny-theft: 0.09<br>Motor vehicle theft: 0.037<br>Arson: 0.013<br>\", \"Alaska<br>----------------------------------------<br>Total prediction: 0.306<br>Violent crime: 0.037<br>Murder: 0.03<br>Forcible rape: 0.068<br>Robbery: 0.019<br>Aggravated assault: 0.043<br>Property crime: 0.027<br>Burglary: 0.015<br>Larceny-theft: 0.027<br>Motor vehicle theft: 0.029<br>Arson: 0.01<br>\", \"Arizona<br>----------------------------------------<br>Total prediction: 1.772<br>Violent crime: 0.198<br>Murder: 0.195<br>Forcible rape: 0.249<br>Robbery: 0.118<br>Aggravated assault: 0.239<br>Property crime: 0.21<br>Burglary: 0.09<br>Larceny-theft: 0.22<br>Motor vehicle theft: 0.119<br>Arson: 0.135<br>\", \"Arkansas<br>----------------------------------------<br>Total prediction: 0.752<br>Violent crime: 0.084<br>Murder: 0.094<br>Forcible rape: 0.11<br>Robbery: 0.037<br>Aggravated assault: 0.113<br>Property crime: 0.077<br>Burglary: 0.068<br>Larceny-theft: 0.089<br>Motor vehicle theft: 0.033<br>Arson: 0.047<br>\", \"California<br>----------------------------------------<br>Total prediction: 8.281<br>Violent crime: 0.94<br>Murder: 0.68<br>Forcible rape: 1.023<br>Robbery: 0.872<br>Aggravated assault: 0.954<br>Property crime: 0.806<br>Burglary: 0.558<br>Larceny-theft: 0.816<br>Motor vehicle theft: 0.606<br>Arson: 1.026<br>\", \"Colorado<br>----------------------------------------<br>Total prediction: 1.341<br>Violent crime: 0.127<br>Murder: 0.119<br>Forcible rape: 0.265<br>Robbery: 0.07<br>Aggravated assault: 0.14<br>Property crime: 0.148<br>Burglary: 0.093<br>Larceny-theft: 0.15<br>Motor vehicle theft: 0.123<br>Arson: 0.106<br>\", \"Connecticut<br>----------------------------------------<br>Total prediction: 0.551<br>Violent crime: 0.053<br>Murder: 0.053<br>Forcible rape: 0.057<br>Robbery: 0.052<br>Aggravated assault: 0.052<br>Property crime: 0.071<br>Burglary: 0.039<br>Larceny-theft: 0.077<br>Motor vehicle theft: 0.055<br>Arson: 0.041<br>\", \"Delaware<br>----------------------------------------<br>Total prediction: 0.101<br>Violent crime: 0.013<br>Murder: 0.023<br>Forcible rape: 0.007<br>Robbery: 0.011<br>Aggravated assault: 0.016<br>Property crime: 0.01<br>Burglary: 0.002<br>Larceny-theft: 0.012<br>Motor vehicle theft: 0.005<br>Arson: 0.002<br>\", \"District Of Columbia<br>----------------------------------------<br>Total prediction: 0.39<br>Violent crime: 0.051<br>Murder: 0.095<br>Forcible rape: 0.038<br>Robbery: 0.052<br>Aggravated assault: 0.049<br>Property crime: 0.037<br>Burglary: 0.007<br>Larceny-theft: 0.042<br>Motor vehicle theft: 0.019<br>Arson: 0.0<br>\", \"Florida<br>----------------------------------------<br>Total prediction: 2.95<br>Violent crime: 0.325<br>Murder: 0.444<br>Forcible rape: 0.358<br>Robbery: 0.215<br>Aggravated assault: 0.375<br>Property crime: 0.361<br>Burglary: 0.2<br>Larceny-theft: 0.403<br>Motor vehicle theft: 0.179<br>Arson: 0.089<br>\", \"Georgia<br>----------------------------------------<br>Total prediction: 1.065<br>Violent crime: 0.108<br>Murder: 0.2<br>Forcible rape: 0.067<br>Robbery: 0.099<br>Aggravated assault: 0.117<br>Property crime: 0.134<br>Burglary: 0.086<br>Larceny-theft: 0.149<br>Motor vehicle theft: 0.069<br>Arson: 0.037<br>\", \"Hawaii<br>----------------------------------------<br>Total prediction: 0.27<br>Violent crime: 0.018<br>Murder: 0.028<br>Forcible rape: 0.022<br>Robbery: 0.019<br>Aggravated assault: 0.014<br>Property crime: 0.033<br>Burglary: 0.016<br>Larceny-theft: 0.037<br>Motor vehicle theft: 0.027<br>Arson: 0.057<br>\", \"Idaho<br>----------------------------------------<br>Total prediction: 0.201<br>Violent crime: 0.017<br>Murder: 0.016<br>Forcible rape: 0.037<br>Robbery: 0.003<br>Aggravated assault: 0.022<br>Property crime: 0.026<br>Burglary: 0.019<br>Larceny-theft: 0.028<br>Motor vehicle theft: 0.009<br>Arson: 0.023<br>\", \"Illinois<br>----------------------------------------<br>Total prediction: 2.64<br>Violent crime: 0.294<br>Murder: 0.596<br>Forcible rape: 0.296<br>Robbery: 0.272<br>Aggravated assault: 0.327<br>Property crime: 0.217<br>Burglary: 0.145<br>Larceny-theft: 0.236<br>Motor vehicle theft: 0.117<br>Arson: 0.138<br>\", \"Indiana<br>----------------------------------------<br>Total prediction: 0.501<br>Violent crime: 0.044<br>Murder: 0.113<br>Forcible rape: 0.075<br>Robbery: 0.002<br>Aggravated assault: 0.068<br>Property crime: 0.043<br>Burglary: 0.02<br>Larceny-theft: 0.058<br>Motor vehicle theft: 0.034<br>Arson: 0.044<br>\", \"Iowa<br>----------------------------------------<br>Total prediction: 0.583<br>Violent crime: 0.059<br>Murder: 0.055<br>Forcible rape: 0.092<br>Robbery: 0.027<br>Aggravated assault: 0.068<br>Property crime: 0.067<br>Burglary: 0.063<br>Larceny-theft: 0.07<br>Motor vehicle theft: 0.034<br>Arson: 0.049<br>\", \"Kansas<br>----------------------------------------<br>Total prediction: 0.505<br>Violent crime: 0.049<br>Murder: 0.053<br>Forcible rape: 0.076<br>Robbery: 0.024<br>Aggravated assault: 0.061<br>Property crime: 0.059<br>Burglary: 0.036<br>Larceny-theft: 0.064<br>Motor vehicle theft: 0.035<br>Arson: 0.047<br>\", \"Kentucky<br>----------------------------------------<br>Total prediction: 0.58<br>Violent crime: 0.044<br>Murder: 0.088<br>Forcible rape: 0.075<br>Robbery: 0.045<br>Aggravated assault: 0.036<br>Property crime: 0.076<br>Burglary: 0.058<br>Larceny-theft: 0.083<br>Motor vehicle theft: 0.048<br>Arson: 0.027<br>\", \"Louisiana<br>----------------------------------------<br>Total prediction: 0.96<br>Violent crime: 0.091<br>Murder: 0.244<br>Forcible rape: 0.096<br>Robbery: 0.057<br>Aggravated assault: 0.114<br>Property crime: 0.093<br>Burglary: 0.066<br>Larceny-theft: 0.099<br>Motor vehicle theft: 0.054<br>Arson: 0.048<br>\", \"Maine<br>----------------------------------------<br>Total prediction: 0.1<br>Violent crime: 0.006<br>Murder: 0.008<br>Forcible rape: 0.022<br>Robbery: 0.004<br>Aggravated assault: 0.006<br>Property crime: 0.016<br>Burglary: 0.008<br>Larceny-theft: 0.02<br>Motor vehicle theft: 0.003<br>Arson: 0.008<br>\", \"Maryland<br>----------------------------------------<br>Total prediction: 0.88<br>Violent crime: 0.107<br>Murder: 0.26<br>Forcible rape: 0.047<br>Robbery: 0.132<br>Aggravated assault: 0.098<br>Property crime: 0.059<br>Burglary: 0.046<br>Larceny-theft: 0.056<br>Motor vehicle theft: 0.042<br>Arson: 0.034<br>\", \"Massachusetts<br>----------------------------------------<br>Total prediction: 1.043<br>Violent crime: 0.143<br>Murder: 0.111<br>Forcible rape: 0.161<br>Robbery: 0.096<br>Aggravated assault: 0.179<br>Property crime: 0.086<br>Burglary: 0.06<br>Larceny-theft: 0.112<br>Motor vehicle theft: 0.043<br>Arson: 0.051<br>\", \"Michigan<br>----------------------------------------<br>Total prediction: 2.08<br>Violent crime: 0.252<br>Murder: 0.344<br>Forcible rape: 0.341<br>Robbery: 0.101<br>Aggravated assault: 0.323<br>Property crime: 0.146<br>Burglary: 0.115<br>Larceny-theft: 0.15<br>Motor vehicle theft: 0.12<br>Arson: 0.189<br>\", \"Minnesota<br>----------------------------------------<br>Total prediction: 0.952<br>Violent crime: 0.086<br>Murder: 0.066<br>Forcible rape: 0.176<br>Robbery: 0.072<br>Aggravated assault: 0.081<br>Property crime: 0.129<br>Burglary: 0.074<br>Larceny-theft: 0.143<br>Motor vehicle theft: 0.068<br>Arson: 0.059<br>\", \"Mississippi<br>----------------------------------------<br>Total prediction: 0.17<br>Violent crime: 0.01<br>Murder: 0.028<br>Forcible rape: 0.011<br>Robbery: 0.015<br>Aggravated assault: 0.011<br>Property crime: 0.028<br>Burglary: 0.023<br>Larceny-theft: 0.03<br>Motor vehicle theft: 0.009<br>Arson: 0.006<br>\", \"Missouri<br>----------------------------------------<br>Total prediction: 1.704<br>Violent crime: 0.172<br>Murder: 0.359<br>Forcible rape: 0.165<br>Robbery: 0.116<br>Aggravated assault: 0.221<br>Property crime: 0.163<br>Burglary: 0.112<br>Larceny-theft: 0.17<br>Motor vehicle theft: 0.115<br>Arson: 0.111<br>\", \"Montana<br>----------------------------------------<br>Total prediction: 0.127<br>Violent crime: 0.01<br>Murder: 0.009<br>Forcible rape: 0.023<br>Robbery: 0.004<br>Aggravated assault: 0.013<br>Property crime: 0.019<br>Burglary: 0.008<br>Larceny-theft: 0.022<br>Motor vehicle theft: 0.01<br>Arson: 0.011<br>\", \"Nebraska<br>----------------------------------------<br>Total prediction: 0.275<br>Violent crime: 0.03<br>Murder: 0.024<br>Forcible rape: 0.052<br>Robbery: 0.016<br>Aggravated assault: 0.032<br>Property crime: 0.037<br>Burglary: 0.017<br>Larceny-theft: 0.038<br>Motor vehicle theft: 0.028<br>Arson: 0.002<br>\", \"Nevada<br>----------------------------------------<br>Total prediction: 0.975<br>Violent crime: 0.119<br>Murder: 0.146<br>Forcible rape: 0.148<br>Robbery: 0.075<br>Aggravated assault: 0.126<br>Property crime: 0.086<br>Burglary: 0.096<br>Larceny-theft: 0.07<br>Motor vehicle theft: 0.081<br>Arson: 0.027<br>\", \"New Hampshire<br>----------------------------------------<br>Total prediction: 0.185<br>Violent crime: 0.015<br>Murder: 0.011<br>Forcible rape: 0.041<br>Robbery: 0.009<br>Aggravated assault: 0.016<br>Property crime: 0.023<br>Burglary: 0.013<br>Larceny-theft: 0.027<br>Motor vehicle theft: 0.006<br>Arson: 0.024<br>\", \"New Jersey<br>----------------------------------------<br>Total prediction: 1.309<br>Violent crime: 0.14<br>Murder: 0.194<br>Forcible rape: 0.103<br>Robbery: 0.144<br>Aggravated assault: 0.14<br>Property crime: 0.158<br>Burglary: 0.107<br>Larceny-theft: 0.171<br>Motor vehicle theft: 0.08<br>Arson: 0.071<br>\", \"New Mexico<br>----------------------------------------<br>Total prediction: 0.371<br>Violent crime: 0.04<br>Murder: 0.028<br>Forcible rape: 0.038<br>Robbery: 0.026<br>Aggravated assault: 0.048<br>Property crime: 0.05<br>Burglary: 0.05<br>Larceny-theft: 0.045<br>Motor vehicle theft: 0.024<br>Arson: 0.021<br>\", \"New York<br>----------------------------------------<br>Total prediction: 3.064<br>Violent crime: 0.463<br>Murder: 0.378<br>Forcible rape: 0.369<br>Robbery: 0.378<br>Aggravated assault: 0.527<br>Property crime: 0.283<br>Burglary: 0.14<br>Larceny-theft: 0.338<br>Motor vehicle theft: 0.083<br>Arson: 0.104<br>\", \"North Carolina<br>----------------------------------------<br>Total prediction: 1.336<br>Violent crime: 0.143<br>Murder: 0.22<br>Forcible rape: 0.07<br>Robbery: 0.118<br>Aggravated assault: 0.179<br>Property crime: 0.155<br>Burglary: 0.148<br>Larceny-theft: 0.162<br>Motor vehicle theft: 0.047<br>Arson: 0.094<br>\", \"North Dakota<br>----------------------------------------<br>Total prediction: 0.102<br>Violent crime: 0.009<br>Murder: 0.007<br>Forcible rape: 0.02<br>Robbery: 0.003<br>Aggravated assault: 0.011<br>Property crime: 0.014<br>Burglary: 0.008<br>Larceny-theft: 0.015<br>Motor vehicle theft: 0.009<br>Arson: 0.007<br>\", \"Ohio<br>----------------------------------------<br>Total prediction: 1.423<br>Violent crime: 0.14<br>Murder: 0.295<br>Forcible rape: 0.264<br>Robbery: 0.144<br>Aggravated assault: 0.147<br>Property crime: 0.115<br>Burglary: 0.047<br>Larceny-theft: 0.125<br>Motor vehicle theft: 0.08<br>Arson: 0.066<br>\", \"Oklahoma<br>----------------------------------------<br>Total prediction: 1.134<br>Violent crime: 0.119<br>Murder: 0.132<br>Forcible rape: 0.163<br>Robbery: 0.06<br>Aggravated assault: 0.148<br>Property crime: 0.119<br>Burglary: 0.12<br>Larceny-theft: 0.111<br>Motor vehicle theft: 0.083<br>Arson: 0.078<br>\", \"Oregon<br>----------------------------------------<br>Total prediction: 0.827<br>Violent crime: 0.065<br>Murder: 0.038<br>Forcible rape: 0.122<br>Robbery: 0.046<br>Aggravated assault: 0.065<br>Property crime: 0.119<br>Burglary: 0.06<br>Larceny-theft: 0.126<br>Motor vehicle theft: 0.112<br>Arson: 0.075<br>\", \"Pennsylvania<br>----------------------------------------<br>Total prediction: 1.878<br>Violent crime: 0.212<br>Murder: 0.467<br>Forcible rape: 0.248<br>Robbery: 0.114<br>Aggravated assault: 0.196<br>Property crime: 0.163<br>Burglary: 0.078<br>Larceny-theft: 0.153<br>Motor vehicle theft: 0.077<br>Arson: 0.172<br>\", \"Rhode Island<br>----------------------------------------<br>Total prediction: 0.191<br>Violent crime: 0.017<br>Murder: 0.017<br>Forcible rape: 0.032<br>Robbery: 0.012<br>Aggravated assault: 0.017<br>Property crime: 0.022<br>Burglary: 0.019<br>Larceny-theft: 0.024<br>Motor vehicle theft: 0.011<br>Arson: 0.021<br>\", \"South Carolina<br>----------------------------------------<br>Total prediction: 0.613<br>Violent crime: 0.062<br>Murder: 0.097<br>Forcible rape: 0.07<br>Robbery: 0.04<br>Aggravated assault: 0.081<br>Property crime: 0.073<br>Burglary: 0.04<br>Larceny-theft: 0.085<br>Motor vehicle theft: 0.035<br>Arson: 0.03<br>\", \"South Dakota<br>----------------------------------------<br>Total prediction: 0.122<br>Violent crime: 0.013<br>Murder: 0.009<br>Forcible rape: 0.027<br>Robbery: 0.004<br>Aggravated assault: 0.016<br>Property crime: 0.014<br>Burglary: 0.008<br>Larceny-theft: 0.015<br>Motor vehicle theft: 0.007<br>Arson: 0.01<br>\", \"Tennessee<br>----------------------------------------<br>Total prediction: 1.982<br>Violent crime: 0.26<br>Murder: 0.327<br>Forcible rape: 0.183<br>Robbery: 0.153<br>Aggravated assault: 0.336<br>Property crime: 0.199<br>Burglary: 0.123<br>Larceny-theft: 0.203<br>Motor vehicle theft: 0.132<br>Arson: 0.067<br>\", \"Texas<br>----------------------------------------<br>Total prediction: 5.835<br>Violent crime: 0.66<br>Murder: 0.731<br>Forcible rape: 0.813<br>Robbery: 0.462<br>Aggravated assault: 0.735<br>Property crime: 0.634<br>Burglary: 0.502<br>Larceny-theft: 0.655<br>Motor vehicle theft: 0.359<br>Arson: 0.283<br>\", \"Utah<br>----------------------------------------<br>Total prediction: 0.524<br>Violent crime: 0.043<br>Murder: 0.034<br>Forcible rape: 0.122<br>Robbery: 0.024<br>Aggravated assault: 0.045<br>Property crime: 0.067<br>Burglary: 0.049<br>Larceny-theft: 0.083<br>Motor vehicle theft: 0.038<br>Arson: 0.02<br>\", \"Vermont<br>----------------------------------------<br>Total prediction: 0.034<br>Violent crime: 0.002<br>Murder: 0.003<br>Forcible rape: 0.007<br>Robbery: 0.001<br>Aggravated assault: 0.002<br>Property crime: 0.006<br>Burglary: 0.003<br>Larceny-theft: 0.007<br>Motor vehicle theft: 0.0<br>Arson: 0.003<br>\", \"Virginia<br>----------------------------------------<br>Total prediction: 0.775<br>Violent crime: 0.068<br>Murder: 0.176<br>Forcible rape: 0.091<br>Robbery: 0.05<br>Aggravated assault: 0.07<br>Property crime: 0.088<br>Burglary: 0.041<br>Larceny-theft: 0.103<br>Motor vehicle theft: 0.041<br>Arson: 0.047<br>\", \"Washington<br>----------------------------------------<br>Total prediction: 1.541<br>Violent crime: 0.126<br>Murder: 0.119<br>Forcible rape: 0.202<br>Robbery: 0.101<br>Aggravated assault: 0.14<br>Property crime: 0.213<br>Burglary: 0.151<br>Larceny-theft: 0.221<br>Motor vehicle theft: 0.17<br>Arson: 0.099<br>\", \"West Virginia<br>----------------------------------------<br>Total prediction: 0.123<br>Violent crime: 0.012<br>Murder: 0.018<br>Forcible rape: 0.015<br>Robbery: 0.006<br>Aggravated assault: 0.016<br>Property crime: 0.013<br>Burglary: 0.01<br>Larceny-theft: 0.015<br>Motor vehicle theft: 0.005<br>Arson: 0.012<br>\", \"Wisconsin<br>----------------------------------------<br>Total prediction: 0.997<br>Violent crime: 0.118<br>Murder: 0.115<br>Forcible rape: 0.141<br>Robbery: 0.063<br>Aggravated assault: 0.136<br>Property crime: 0.107<br>Burglary: 0.064<br>Larceny-theft: 0.114<br>Motor vehicle theft: 0.058<br>Arson: 0.079<br>\", \"Wyoming<br>----------------------------------------<br>Total prediction: 0.067<br>Violent crime: 0.004<br>Murder: 0.007<br>Forcible rape: 0.01<br>Robbery: 0.001<br>Aggravated assault: 0.005<br>Property crime: 0.012<br>Burglary: 0.006<br>Larceny-theft: 0.014<br>Motor vehicle theft: 0.003<br>Arson: 0.006<br>\"], \"textsrc\": \"skip\", \"type\": \"choropleth\", \"z\": [0.809, 0.306, 1.772, 0.752, 8.281, 1.341, 0.551, 0.101, 0.39, 2.95, 1.065, 0.27, 0.201, 2.64, 0.501, 0.583, 0.505, 0.58, 0.96, 0.1, 0.88, 1.043, 2.08, 0.952, 0.17, 1.704, 0.127, 0.275, 0.975, 0.185, 1.309, 0.371, 3.064, 1.336, 0.102, 1.423, 1.134, 0.827, 1.878, 0.191, 0.613, 0.122, 1.982, 5.835, 0.524, 0.034, 0.775, 1.541, 0.123, 0.997, 0.067]}, {\"hoverinfo\": \"none\", \"locationmode\": \"USA-states\", \"locations\": [\"AL\", \"AK\", \"AZ\", \"AR\", \"CA\", \"CO\", \"CT\", \"DE\", \"nan\", \"FL\", \"GA\", \"HI\", \"ID\", \"IL\", \"IN\", \"IA\", \"KS\", \"KY\", \"LA\", \"ME\", \"MD\", \"MA\", \"MI\", \"MN\", \"MS\", \"MO\", \"MT\", \"NE\", \"NV\", \"NH\", \"NJ\", \"NM\", \"NY\", \"NC\", \"ND\", \"OH\", \"OK\", \"OR\", \"PA\", \"RI\", \"SC\", \"SD\", \"TN\", \"TX\", \"UT\", \"VT\", \"VA\", \"WA\", \"WV\", \"WI\", \"WY\"], \"mode\": \"text\", \"text\": [\"AL\", \"AK\", \"AZ\", \"AR\", \"CA\", \"CO\", \"CT\", \"DE\", \"nan\", \"FL\", \"GA\", \"HI\", \"ID\", \"IL\", \"IN\", \"IA\", \"KS\", \"KY\", \"LA\", \"ME\", \"MD\", \"MA\", \"MI\", \"MN\", \"MS\", \"MO\", \"MT\", \"NE\", \"NV\", \"NH\", \"NJ\", \"NM\", \"NY\", \"NC\", \"ND\", \"OH\", \"OK\", \"OR\", \"PA\", \"RI\", \"SC\", \"SD\", \"TN\", \"TX\", \"UT\", \"VT\", \"VA\", \"WA\", \"WV\", \"WI\", \"WY\"], \"type\": \"scattergeo\"}],                        {\"geo\": {\"lakecolor\": \"rgb(255, 255, 255)\", \"projection\": {\"type\": \"albers usa\"}, \"scope\": \"usa\", \"showlakes\": true}, \"hoverlabel\": {\"bgcolor\": \"Black\", \"font\": {\"family\": \"Rockwell\", \"size\": 15}}, \"template\": {\"data\": {\"bar\": [{\"error_x\": {\"color\": \"#2a3f5f\"}, \"error_y\": {\"color\": \"#2a3f5f\"}, \"marker\": {\"line\": {\"color\": \"#E5ECF6\", \"width\": 0.5}}, \"type\": \"bar\"}], \"barpolar\": [{\"marker\": {\"line\": {\"color\": \"#E5ECF6\", \"width\": 0.5}}, \"type\": \"barpolar\"}], \"carpet\": [{\"aaxis\": {\"endlinecolor\": \"#2a3f5f\", \"gridcolor\": \"white\", \"linecolor\": \"white\", \"minorgridcolor\": \"white\", \"startlinecolor\": \"#2a3f5f\"}, \"baxis\": {\"endlinecolor\": \"#2a3f5f\", \"gridcolor\": \"white\", \"linecolor\": \"white\", \"minorgridcolor\": \"white\", \"startlinecolor\": \"#2a3f5f\"}, \"type\": \"carpet\"}], \"choropleth\": [{\"colorbar\": {\"outlinewidth\": 0, \"ticks\": \"\"}, \"type\": \"choropleth\"}], \"contour\": [{\"colorbar\": {\"outlinewidth\": 0, \"ticks\": \"\"}, \"colorscale\": [[0.0, \"#0d0887\"], [0.1111111111111111, \"#46039f\"], [0.2222222222222222, \"#7201a8\"], [0.3333333333333333, \"#9c179e\"], [0.4444444444444444, \"#bd3786\"], [0.5555555555555556, \"#d8576b\"], [0.6666666666666666, \"#ed7953\"], [0.7777777777777778, \"#fb9f3a\"], [0.8888888888888888, \"#fdca26\"], [1.0, \"#f0f921\"]], \"type\": \"contour\"}], \"contourcarpet\": [{\"colorbar\": {\"outlinewidth\": 0, \"ticks\": \"\"}, \"type\": \"contourcarpet\"}], \"heatmap\": [{\"colorbar\": {\"outlinewidth\": 0, \"ticks\": \"\"}, \"colorscale\": [[0.0, \"#0d0887\"], [0.1111111111111111, \"#46039f\"], [0.2222222222222222, \"#7201a8\"], [0.3333333333333333, \"#9c179e\"], [0.4444444444444444, \"#bd3786\"], [0.5555555555555556, \"#d8576b\"], [0.6666666666666666, \"#ed7953\"], [0.7777777777777778, \"#fb9f3a\"], [0.8888888888888888, \"#fdca26\"], [1.0, \"#f0f921\"]], \"type\": \"heatmap\"}], \"heatmapgl\": [{\"colorbar\": {\"outlinewidth\": 0, \"ticks\": \"\"}, \"colorscale\": [[0.0, \"#0d0887\"], [0.1111111111111111, \"#46039f\"], [0.2222222222222222, \"#7201a8\"], [0.3333333333333333, \"#9c179e\"], [0.4444444444444444, \"#bd3786\"], [0.5555555555555556, \"#d8576b\"], [0.6666666666666666, \"#ed7953\"], [0.7777777777777778, \"#fb9f3a\"], [0.8888888888888888, \"#fdca26\"], [1.0, \"#f0f921\"]], \"type\": \"heatmapgl\"}], \"histogram\": [{\"marker\": {\"colorbar\": {\"outlinewidth\": 0, \"ticks\": \"\"}}, \"type\": \"histogram\"}], \"histogram2d\": [{\"colorbar\": {\"outlinewidth\": 0, \"ticks\": \"\"}, \"colorscale\": [[0.0, \"#0d0887\"], [0.1111111111111111, \"#46039f\"], [0.2222222222222222, \"#7201a8\"], [0.3333333333333333, \"#9c179e\"], [0.4444444444444444, \"#bd3786\"], [0.5555555555555556, \"#d8576b\"], [0.6666666666666666, \"#ed7953\"], [0.7777777777777778, \"#fb9f3a\"], [0.8888888888888888, \"#fdca26\"], [1.0, \"#f0f921\"]], \"type\": \"histogram2d\"}], \"histogram2dcontour\": [{\"colorbar\": {\"outlinewidth\": 0, \"ticks\": \"\"}, \"colorscale\": [[0.0, \"#0d0887\"], [0.1111111111111111, \"#46039f\"], [0.2222222222222222, \"#7201a8\"], [0.3333333333333333, \"#9c179e\"], [0.4444444444444444, \"#bd3786\"], [0.5555555555555556, \"#d8576b\"], [0.6666666666666666, \"#ed7953\"], [0.7777777777777778, \"#fb9f3a\"], [0.8888888888888888, \"#fdca26\"], [1.0, \"#f0f921\"]], \"type\": \"histogram2dcontour\"}], \"mesh3d\": [{\"colorbar\": {\"outlinewidth\": 0, \"ticks\": \"\"}, \"type\": \"mesh3d\"}], \"parcoords\": [{\"line\": {\"colorbar\": {\"outlinewidth\": 0, \"ticks\": \"\"}}, \"type\": \"parcoords\"}], \"pie\": [{\"automargin\": true, \"type\": \"pie\"}], \"scatter\": [{\"marker\": {\"colorbar\": {\"outlinewidth\": 0, \"ticks\": \"\"}}, \"type\": \"scatter\"}], \"scatter3d\": [{\"line\": {\"colorbar\": {\"outlinewidth\": 0, \"ticks\": \"\"}}, \"marker\": {\"colorbar\": {\"outlinewidth\": 0, \"ticks\": \"\"}}, \"type\": \"scatter3d\"}], \"scattercarpet\": [{\"marker\": {\"colorbar\": {\"outlinewidth\": 0, \"ticks\": \"\"}}, \"type\": \"scattercarpet\"}], \"scattergeo\": [{\"marker\": {\"colorbar\": {\"outlinewidth\": 0, \"ticks\": \"\"}}, \"type\": \"scattergeo\"}], \"scattergl\": [{\"marker\": {\"colorbar\": {\"outlinewidth\": 0, \"ticks\": \"\"}}, \"type\": \"scattergl\"}], \"scattermapbox\": [{\"marker\": {\"colorbar\": {\"outlinewidth\": 0, \"ticks\": \"\"}}, \"type\": \"scattermapbox\"}], \"scatterpolar\": [{\"marker\": {\"colorbar\": {\"outlinewidth\": 0, \"ticks\": \"\"}}, \"type\": \"scatterpolar\"}], \"scatterpolargl\": [{\"marker\": {\"colorbar\": {\"outlinewidth\": 0, \"ticks\": \"\"}}, \"type\": \"scatterpolargl\"}], \"scatterternary\": [{\"marker\": {\"colorbar\": {\"outlinewidth\": 0, \"ticks\": \"\"}}, \"type\": \"scatterternary\"}], \"surface\": [{\"colorbar\": {\"outlinewidth\": 0, \"ticks\": \"\"}, \"colorscale\": [[0.0, \"#0d0887\"], [0.1111111111111111, \"#46039f\"], [0.2222222222222222, \"#7201a8\"], [0.3333333333333333, \"#9c179e\"], [0.4444444444444444, \"#bd3786\"], [0.5555555555555556, \"#d8576b\"], [0.6666666666666666, \"#ed7953\"], [0.7777777777777778, \"#fb9f3a\"], [0.8888888888888888, \"#fdca26\"], [1.0, \"#f0f921\"]], \"type\": \"surface\"}], \"table\": [{\"cells\": {\"fill\": {\"color\": \"#EBF0F8\"}, \"line\": {\"color\": \"white\"}}, \"header\": {\"fill\": {\"color\": \"#C8D4E3\"}, \"line\": {\"color\": \"white\"}}, \"type\": \"table\"}]}, \"layout\": {\"annotationdefaults\": {\"arrowcolor\": \"#2a3f5f\", \"arrowhead\": 0, \"arrowwidth\": 1}, \"autotypenumbers\": \"strict\", \"coloraxis\": {\"colorbar\": {\"outlinewidth\": 0, \"ticks\": \"\"}}, \"colorscale\": {\"diverging\": [[0, \"#8e0152\"], [0.1, \"#c51b7d\"], [0.2, \"#de77ae\"], [0.3, \"#f1b6da\"], [0.4, \"#fde0ef\"], [0.5, \"#f7f7f7\"], [0.6, \"#e6f5d0\"], [0.7, \"#b8e186\"], [0.8, \"#7fbc41\"], [0.9, \"#4d9221\"], [1, \"#276419\"]], \"sequential\": [[0.0, \"#0d0887\"], [0.1111111111111111, \"#46039f\"], [0.2222222222222222, \"#7201a8\"], [0.3333333333333333, \"#9c179e\"], [0.4444444444444444, \"#bd3786\"], [0.5555555555555556, \"#d8576b\"], [0.6666666666666666, \"#ed7953\"], [0.7777777777777778, \"#fb9f3a\"], [0.8888888888888888, \"#fdca26\"], [1.0, \"#f0f921\"]], \"sequentialminus\": [[0.0, \"#0d0887\"], [0.1111111111111111, \"#46039f\"], [0.2222222222222222, \"#7201a8\"], [0.3333333333333333, \"#9c179e\"], [0.4444444444444444, \"#bd3786\"], [0.5555555555555556, \"#d8576b\"], [0.6666666666666666, \"#ed7953\"], [0.7777777777777778, \"#fb9f3a\"], [0.8888888888888888, \"#fdca26\"], [1.0, \"#f0f921\"]]}, \"colorway\": [\"#636efa\", \"#EF553B\", \"#00cc96\", \"#ab63fa\", \"#FFA15A\", \"#19d3f3\", \"#FF6692\", \"#B6E880\", \"#FF97FF\", \"#FECB52\"], \"font\": {\"color\": \"#2a3f5f\"}, \"geo\": {\"bgcolor\": \"white\", \"lakecolor\": \"white\", \"landcolor\": \"#E5ECF6\", \"showlakes\": true, \"showland\": true, \"subunitcolor\": \"white\"}, \"hoverlabel\": {\"align\": \"left\"}, \"hovermode\": \"closest\", \"mapbox\": {\"style\": \"light\"}, \"paper_bgcolor\": \"white\", \"plot_bgcolor\": \"#E5ECF6\", \"polar\": {\"angularaxis\": {\"gridcolor\": \"white\", \"linecolor\": \"white\", \"ticks\": \"\"}, \"bgcolor\": \"#E5ECF6\", \"radialaxis\": {\"gridcolor\": \"white\", \"linecolor\": \"white\", \"ticks\": \"\"}}, \"scene\": {\"xaxis\": {\"backgroundcolor\": \"#E5ECF6\", \"gridcolor\": \"white\", \"gridwidth\": 2, \"linecolor\": \"white\", \"showbackground\": true, \"ticks\": \"\", \"zerolinecolor\": \"white\"}, \"yaxis\": {\"backgroundcolor\": \"#E5ECF6\", \"gridcolor\": \"white\", \"gridwidth\": 2, \"linecolor\": \"white\", \"showbackground\": true, \"ticks\": \"\", \"zerolinecolor\": \"white\"}, \"zaxis\": {\"backgroundcolor\": \"#E5ECF6\", \"gridcolor\": \"white\", \"gridwidth\": 2, \"linecolor\": \"white\", \"showbackground\": true, \"ticks\": \"\", \"zerolinecolor\": \"white\"}}, \"shapedefaults\": {\"line\": {\"color\": \"#2a3f5f\"}}, \"ternary\": {\"aaxis\": {\"gridcolor\": \"white\", \"linecolor\": \"white\", \"ticks\": \"\"}, \"baxis\": {\"gridcolor\": \"white\", \"linecolor\": \"white\", \"ticks\": \"\"}, \"bgcolor\": \"#E5ECF6\", \"caxis\": {\"gridcolor\": \"white\", \"linecolor\": \"white\", \"ticks\": \"\"}}, \"title\": {\"x\": 0.05}, \"xaxis\": {\"automargin\": true, \"gridcolor\": \"white\", \"linecolor\": \"white\", \"ticks\": \"\", \"title\": {\"standoff\": 15}, \"zerolinecolor\": \"white\", \"zerolinewidth\": 2}, \"yaxis\": {\"automargin\": true, \"gridcolor\": \"white\", \"linecolor\": \"white\", \"ticks\": \"\", \"title\": {\"standoff\": 15}, \"zerolinecolor\": \"white\", \"zerolinewidth\": 2}}}, \"title\": {\"text\": \"2019 US <br> Total crime prediction: Ridge model\"}},                        {\"responsive\": true}                    ).then(function(){\n",
       "                            \n",
       "var gd = document.getElementById('da996e0a-b124-4175-8441-bf79898461b9');\n",
       "var x = new MutationObserver(function (mutations, observer) {{\n",
       "        var display = window.getComputedStyle(gd).display;\n",
       "        if (!display || display === 'none') {{\n",
       "            console.log([gd, 'removed!']);\n",
       "            Plotly.purge(gd);\n",
       "            observer.disconnect();\n",
       "        }}\n",
       "}});\n",
       "\n",
       "// Listen for the removal of the full notebook cells\n",
       "var notebookContainer = gd.closest('#notebook-container');\n",
       "if (notebookContainer) {{\n",
       "    x.observe(notebookContainer, {childList: true});\n",
       "}}\n",
       "\n",
       "// Listen for the clearing of the current output cell\n",
       "var outputEl = gd.closest('.output');\n",
       "if (outputEl) {{\n",
       "    x.observe(outputEl, {childList: true});\n",
       "}}\n",
       "\n",
       "                        })                };                });            </script>        </div>"
      ]
     },
     "metadata": {},
     "output_type": "display_data"
    }
   ],
   "source": [
    "### Begin Drawing Map \n",
    "\n",
    "for col in df_Ridge.columns:\n",
    "    df_Ridge[col] = df_Ridge[col].astype(str)\n",
    "    \n",
    "df_Ridge=df_Ridge.round(decimals=3)\n",
    "\n",
    "   \n",
    "df_Ridge['text'] = df_Ridge['State'] + '<br>'\\\n",
    "    '----------------------------------------' + '<br>' \\\n",
    "    'Total prediction: ' + df_Ridge['Sum pred'].astype(str) + '<br>' \\\n",
    "    'Violent crime: ' + df_Ridge['Pred Violent crime'].astype(str) + '<br>' \\\n",
    "    'Murder: ' + df_Ridge['Pred Murder and nonnegligent manslaughter'].astype(str) + '<br>' \\\n",
    "    'Forcible rape: ' + df_Ridge['Pred Forcible rape'].astype(str) + '<br>' \\\n",
    "    'Robbery: ' + df_Ridge['Pred Robbery'].astype(str) + '<br>' \\\n",
    "    'Aggravated assault: ' + df_Ridge['Pred Aggravated assault'].astype(str) + '<br>' \\\n",
    "    'Property crime: ' + df_Ridge['Pred Property crime'].astype(str) + '<br>' \\\n",
    "    'Burglary: ' + df_Ridge['Pred Burglary'].astype(str) + '<br>' \\\n",
    "    'Larceny-theft: ' + df_Ridge['Pred Larceny-theft'].astype(str) + '<br>' \\\n",
    "    'Motor vehicle theft: ' + df_Ridge['Pred Motor vehicle theft'].astype(str) + '<br>' \\\n",
    "    'Arson: ' + df_Ridge['Pred Arson1'].astype(str) + '<br>' \\\n",
    "\n",
    "\n",
    "fig = go.Figure(data=go.Choropleth(\n",
    "    locations=df_Ridge['code'],\n",
    "    z=df_Ridge['Sum pred'].astype(float),\n",
    "    locationmode='USA-states',\n",
    "    colorscale='Purples',\n",
    "    autocolorscale=False,\n",
    "    text=df_Ridge['text'], # hover text\n",
    "    marker_line_color='Black', # line markers between states\n",
    "    colorbar_title=\"Total predictoin\",\n",
    "    showlegend = False,\n",
    "    textsrc='skip',\n",
    "    hovertemplate=df_Ridge['text'],\n",
    "    hovertext=False, \n",
    "))\n",
    "\n",
    "fig.add_scattergeo(\n",
    "    locations=df_Ridge['code'],\n",
    "    locationmode='USA-states',\n",
    "    text=df_Ridge['code'],\n",
    "    mode='text',\n",
    "    hoverinfo='none',\n",
    ")\n",
    "\n",
    "\n",
    "fig.update_layout(\n",
    "    title_text='2019 US <br> Total crime prediction: Ridge model',\n",
    "    geo = dict(\n",
    "        scope='usa',\n",
    "        projection=go.layout.geo.Projection(type = 'albers usa'),\n",
    "        showlakes=True, # lakes\n",
    "        lakecolor='rgb(255, 255, 255)'),\n",
    ")\n",
    "\n",
    "fig.update_layout(\n",
    "    hoverlabel=dict(\n",
    "        bgcolor=\"Black\",\n",
    "        font_size=15,\n",
    "        font_family=\"Rockwell\"\n",
    "    )\n",
    ")"
   ]
  }
 ],
 "metadata": {
  "kernelspec": {
   "display_name": "Python 3",
   "language": "python",
   "name": "python3"
  },
  "language_info": {
   "codemirror_mode": {
    "name": "ipython",
    "version": 3
   },
   "file_extension": ".py",
   "mimetype": "text/x-python",
   "name": "python",
   "nbconvert_exporter": "python",
   "pygments_lexer": "ipython3",
   "version": "3.8.8"
  }
 },
 "nbformat": 4,
 "nbformat_minor": 4
}
