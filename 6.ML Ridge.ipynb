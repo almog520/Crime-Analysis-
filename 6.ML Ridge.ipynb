{
 "cells": [
  {
   "cell_type": "markdown",
   "metadata": {},
   "source": [
    "## ML Ridge Model"
   ]
  },
  {
   "cell_type": "code",
   "execution_count": 8,
   "metadata": {},
   "outputs": [],
   "source": [
    "# evaluate an ridge regression model on the dataset\n",
    "\n",
    "import os \n",
    "\n",
    "import pandas as pd\n",
    "import pandas as pd\n",
    "from pandas import read_csv\n",
    "\n",
    "\n",
    "import numpy as np\n",
    "from numpy import arange\n",
    "from numpy import mean\n",
    "from numpy import std\n",
    "from numpy import absolute\n",
    "\n",
    "import matplotlib as mpl\n",
    "import matplotlib.pyplot as plt\n",
    "\n",
    "import seaborn as sns\n",
    "from collections import Counter\n",
    "\n",
    "import sklearn\n",
    "from sklearn import linear_model, metrics, preprocessing\n",
    "from sklearn.preprocessing import StandardScaler, LabelEncoder\n",
    "from sklearn.metrics import r2_score, mean_squared_error\n",
    "from sklearn.model_selection import cross_val_score\n",
    "from sklearn.model_selection import RepeatedKFold\n",
    "from sklearn.preprocessing import MinMaxScaler\n",
    "from sklearn.linear_model import RidgeCV\n",
    "from sklearn.model_selection import RepeatedKFold\n",
    "from sklearn.model_selection import GridSearchCV\n",
    "from sklearn.model_selection import RepeatedKFold\n",
    "from sklearn.linear_model import Ridge\n",
    "\n",
    "%matplotlib inline\n",
    "plt.rcParams['figure.figsize'] = (10, 5)\n",
    "#pd.set_option('display.max_columns', None) # spread dataframe columns \n",
    "\n",
    "\n",
    "\n"
   ]
  },
  {
   "cell_type": "code",
   "execution_count": 9,
   "metadata": {},
   "outputs": [],
   "source": [
    "def ridg_prediction(df, row2, split):\n",
    "    \n",
    "    # load the dataset\n",
    "    data = df.values\n",
    "    X, y = data[:, 1:], data[:, :1]\n",
    "\n",
    "    # define model\n",
    "    model = Ridge()\n",
    "    \n",
    "    # define model evaluation method\n",
    "    cv = RepeatedKFold(n_splits=split, n_repeats=3, random_state=1)\n",
    "    \n",
    "    # define grid\n",
    "    grid = dict()\n",
    "    grid['alpha'] = arange(0, 1, 0.01)\n",
    "    \n",
    "    # define search\n",
    "    search = GridSearchCV(model, grid, scoring='neg_mean_absolute_error', cv=cv, n_jobs=-1)\n",
    "    \n",
    "    # perform the search\n",
    "    results = search.fit(X, y)\n",
    "    \n",
    "    # summarize\n",
    "    print('MAE: %.3f' % results.best_score_)\n",
    "    print('Config: %s' % results.best_params_)\n",
    "\n",
    "    # make a prediction\n",
    "    yhat = results.predict([row2])\n",
    "\n",
    "    # summarize prediction\n",
    "    print('Predicted: %.3f' % yhat)\n",
    "    \n",
    "    return yhat"
   ]
  },
  {
   "cell_type": "code",
   "execution_count": 10,
   "metadata": {},
   "outputs": [],
   "source": [
    "#Return list of states in US\n",
    "def states_list(df_kff):\n",
    "    \n",
    "    states = [] #list of states\n",
    "    for state in df_kff.State:\n",
    "        if state in states:\n",
    "            continue\n",
    "        else:\n",
    "            states.append(state)\n",
    "    return states"
   ]
  },
  {
   "cell_type": "code",
   "execution_count": 11,
   "metadata": {},
   "outputs": [],
   "source": [
    "#The function gets crime and for each crime will Ridge for each state\n",
    "#Out put: return a predicted list of spesific crime for each state\n",
    "def preper_for_ridge(df,states, crime):\n",
    "\n",
    "    #groupd state\n",
    "    grouped = df.groupby(df.State)\n",
    "    dic_predict = {}\n",
    "    list_predict = []\n",
    "\n",
    "    for state in states:\n",
    "        curr = grouped.get_group(state)#state from 2010-2019\n",
    "        split = len(curr['Year'])\n",
    "        x=curr.copy()\n",
    "\n",
    "        x.drop(['Year', 'State', crime,'Governor Political Affiliation'],axis=1, inplace=True)\n",
    "        row2 = x.iloc[-1]\n",
    "\n",
    "        curr=curr.drop(curr.index[[-1,-1]])\n",
    "        curr.drop(['Year', 'State','Governor Political Affiliation'],axis=1, inplace=True)\n",
    "        curr.iloc[:,1:2]\n",
    "\n",
    "        # shift column to first position\n",
    "        first_column = curr.pop(crime)\n",
    "        curr.insert(0, crime, first_column)\n",
    "        print(\"split=\",split)\n",
    "        print(\"state=\",state)\n",
    "\n",
    "        pediction = ridg_prediction(curr, row2, split-1)\n",
    "        dic_predict[state]=pediction[0][0]\n",
    "        list_predict.append(pediction[0][0])\n",
    "        print(\"\\n\")\n",
    "    return list_predict\n",
    "\n"
   ]
  },
  {
   "cell_type": "code",
   "execution_count": 13,
   "metadata": {
    "scrolled": true
   },
   "outputs": [
    {
     "name": "stdout",
     "output_type": "stream",
     "text": [
      "---------crime--------------------------------- Violent crime\n",
      "split= 8\n",
      "state= ALABAMA\n"
     ]
    },
    {
     "name": "stderr",
     "output_type": "stream",
     "text": [
      "/Users/barbenshabat/opt/anaconda3/lib/python3.8/site-packages/sklearn/linear_model/_ridge.py:190: UserWarning: Singular matrix in solving dual problem. Using least-squares solution instead.\n",
      "  warnings.warn(\"Singular matrix in solving dual problem. Using \"\n"
     ]
    },
    {
     "name": "stdout",
     "output_type": "stream",
     "text": [
      "MAE: -0.007\n",
      "Config: {'alpha': 0.0}\n",
      "Predicted: 0.097\n",
      "\n",
      "\n",
      "split= 9\n",
      "state= ALASKA\n",
      "MAE: -0.003\n",
      "Config: {'alpha': 0.03}\n",
      "Predicted: 0.037\n",
      "\n",
      "\n",
      "split= 10\n",
      "state= ARIZONA\n"
     ]
    },
    {
     "name": "stderr",
     "output_type": "stream",
     "text": [
      "/Users/barbenshabat/opt/anaconda3/lib/python3.8/site-packages/sklearn/linear_model/_ridge.py:187: LinAlgWarning: Ill-conditioned matrix (rcond=4.09566e-17): result may not be accurate.\n",
      "  dual_coef = linalg.solve(K, y, sym_pos=True,\n"
     ]
    },
    {
     "name": "stdout",
     "output_type": "stream",
     "text": [
      "MAE: -0.010\n",
      "Config: {'alpha': 0.0}\n",
      "Predicted: 0.198\n",
      "\n",
      "\n",
      "split= 10\n",
      "state= ARKANSAS\n",
      "MAE: -0.005\n",
      "Config: {'alpha': 0.01}\n",
      "Predicted: 0.084\n",
      "\n",
      "\n",
      "split= 10\n",
      "state= CALIFORNIA\n"
     ]
    },
    {
     "name": "stderr",
     "output_type": "stream",
     "text": [
      "/Users/barbenshabat/opt/anaconda3/lib/python3.8/site-packages/sklearn/linear_model/_ridge.py:187: LinAlgWarning: Ill-conditioned matrix (rcond=1.93985e-18): result may not be accurate.\n",
      "  dual_coef = linalg.solve(K, y, sym_pos=True,\n"
     ]
    },
    {
     "name": "stdout",
     "output_type": "stream",
     "text": [
      "MAE: -0.012\n",
      "Config: {'alpha': 0.0}\n",
      "Predicted: 0.940\n",
      "\n",
      "\n",
      "split= 10\n",
      "state= COLORADO\n",
      "MAE: -0.005\n",
      "Config: {'alpha': 0.01}\n",
      "Predicted: 0.127\n",
      "\n",
      "\n",
      "split= 10\n",
      "state= CONNECTICUT\n",
      "MAE: -0.004\n",
      "Config: {'alpha': 0.37}\n",
      "Predicted: 0.053\n",
      "\n",
      "\n",
      "split= 10\n",
      "state= DELAWARE\n",
      "MAE: -0.001\n",
      "Config: {'alpha': 0.05}\n",
      "Predicted: 0.013\n",
      "\n",
      "\n",
      "split= 10\n",
      "state= DISTRICT OF COLUMBIA\n",
      "MAE: -0.004\n",
      "Config: {'alpha': 0.16}\n",
      "Predicted: 0.051\n",
      "\n",
      "\n",
      "split= 10\n",
      "state= FLORIDA\n",
      "MAE: -0.019\n",
      "Config: {'alpha': 0.08}\n",
      "Predicted: 0.325\n",
      "\n",
      "\n",
      "split= 8\n",
      "state= GEORGIA\n"
     ]
    },
    {
     "name": "stderr",
     "output_type": "stream",
     "text": [
      "/Users/barbenshabat/opt/anaconda3/lib/python3.8/site-packages/sklearn/linear_model/_ridge.py:190: UserWarning: Singular matrix in solving dual problem. Using least-squares solution instead.\n",
      "  warnings.warn(\"Singular matrix in solving dual problem. Using \"\n"
     ]
    },
    {
     "name": "stdout",
     "output_type": "stream",
     "text": [
      "MAE: -0.007\n",
      "Config: {'alpha': 0.0}\n",
      "Predicted: 0.108\n",
      "\n",
      "\n",
      "split= 6\n",
      "state= HAWAII\n",
      "MAE: -0.003\n",
      "Config: {'alpha': 0.99}\n",
      "Predicted: 0.018\n",
      "\n",
      "\n",
      "split= 10\n",
      "state= IDAHO\n",
      "MAE: -0.001\n",
      "Config: {'alpha': 0.03}\n",
      "Predicted: 0.017\n",
      "\n",
      "\n",
      "split= 10\n",
      "state= INDIANA\n"
     ]
    },
    {
     "name": "stderr",
     "output_type": "stream",
     "text": [
      "/Users/barbenshabat/opt/anaconda3/lib/python3.8/site-packages/sklearn/linear_model/_ridge.py:187: LinAlgWarning: Ill-conditioned matrix (rcond=4.18874e-17): result may not be accurate.\n",
      "  dual_coef = linalg.solve(K, y, sym_pos=True,\n"
     ]
    },
    {
     "name": "stdout",
     "output_type": "stream",
     "text": [
      "MAE: -0.011\n",
      "Config: {'alpha': 0.0}\n",
      "Predicted: 0.044\n",
      "\n",
      "\n",
      "split= 9\n",
      "state= IOWA\n",
      "MAE: -0.003\n",
      "Config: {'alpha': 0.01}\n",
      "Predicted: 0.059\n",
      "\n",
      "\n",
      "split= 10\n",
      "state= KANSAS\n"
     ]
    },
    {
     "name": "stderr",
     "output_type": "stream",
     "text": [
      "/Users/barbenshabat/opt/anaconda3/lib/python3.8/site-packages/sklearn/linear_model/_ridge.py:190: UserWarning: Singular matrix in solving dual problem. Using least-squares solution instead.\n",
      "  warnings.warn(\"Singular matrix in solving dual problem. Using \"\n"
     ]
    },
    {
     "name": "stdout",
     "output_type": "stream",
     "text": [
      "MAE: -0.007\n",
      "Config: {'alpha': 0.0}\n",
      "Predicted: 0.049\n",
      "\n",
      "\n",
      "split= 10\n",
      "state= KENTUCKY\n"
     ]
    },
    {
     "name": "stderr",
     "output_type": "stream",
     "text": [
      "/Users/barbenshabat/opt/anaconda3/lib/python3.8/site-packages/sklearn/linear_model/_ridge.py:190: UserWarning: Singular matrix in solving dual problem. Using least-squares solution instead.\n",
      "  warnings.warn(\"Singular matrix in solving dual problem. Using \"\n"
     ]
    },
    {
     "name": "stdout",
     "output_type": "stream",
     "text": [
      "MAE: -0.006\n",
      "Config: {'alpha': 0.0}\n",
      "Predicted: 0.044\n",
      "\n",
      "\n",
      "split= 10\n",
      "state= LOUISIANA\n"
     ]
    },
    {
     "name": "stderr",
     "output_type": "stream",
     "text": [
      "/Users/barbenshabat/opt/anaconda3/lib/python3.8/site-packages/sklearn/linear_model/_ridge.py:187: LinAlgWarning: Ill-conditioned matrix (rcond=2.81863e-17): result may not be accurate.\n",
      "  dual_coef = linalg.solve(K, y, sym_pos=True,\n"
     ]
    },
    {
     "name": "stdout",
     "output_type": "stream",
     "text": [
      "MAE: -0.007\n",
      "Config: {'alpha': 0.0}\n",
      "Predicted: 0.091\n",
      "\n",
      "\n",
      "split= 10\n",
      "state= MAINE\n",
      "MAE: -0.001\n",
      "Config: {'alpha': 0.24}\n",
      "Predicted: 0.006\n",
      "\n",
      "\n",
      "split= 10\n",
      "state= MARYLAND\n"
     ]
    },
    {
     "name": "stderr",
     "output_type": "stream",
     "text": [
      "/Users/barbenshabat/opt/anaconda3/lib/python3.8/site-packages/sklearn/linear_model/_ridge.py:187: LinAlgWarning: Ill-conditioned matrix (rcond=4.26814e-17): result may not be accurate.\n",
      "  dual_coef = linalg.solve(K, y, sym_pos=True,\n"
     ]
    },
    {
     "name": "stdout",
     "output_type": "stream",
     "text": [
      "MAE: -0.004\n",
      "Config: {'alpha': 0.0}\n",
      "Predicted: 0.107\n",
      "\n",
      "\n",
      "split= 10\n",
      "state= MASSACHUSETTS\n"
     ]
    },
    {
     "name": "stderr",
     "output_type": "stream",
     "text": [
      "/Users/barbenshabat/opt/anaconda3/lib/python3.8/site-packages/sklearn/linear_model/_ridge.py:190: UserWarning: Singular matrix in solving dual problem. Using least-squares solution instead.\n",
      "  warnings.warn(\"Singular matrix in solving dual problem. Using \"\n"
     ]
    },
    {
     "name": "stdout",
     "output_type": "stream",
     "text": [
      "MAE: -0.006\n",
      "Config: {'alpha': 0.0}\n",
      "Predicted: 0.143\n",
      "\n",
      "\n",
      "split= 10\n",
      "state= MICHIGAN\n"
     ]
    },
    {
     "name": "stderr",
     "output_type": "stream",
     "text": [
      "/Users/barbenshabat/opt/anaconda3/lib/python3.8/site-packages/sklearn/linear_model/_ridge.py:190: UserWarning: Singular matrix in solving dual problem. Using least-squares solution instead.\n",
      "  warnings.warn(\"Singular matrix in solving dual problem. Using \"\n"
     ]
    },
    {
     "name": "stdout",
     "output_type": "stream",
     "text": [
      "MAE: -0.009\n",
      "Config: {'alpha': 0.0}\n",
      "Predicted: 0.252\n",
      "\n",
      "\n",
      "split= 10\n",
      "state= MISSISSIPPI\n"
     ]
    },
    {
     "name": "stderr",
     "output_type": "stream",
     "text": [
      "/Users/barbenshabat/opt/anaconda3/lib/python3.8/site-packages/sklearn/linear_model/_ridge.py:187: LinAlgWarning: Ill-conditioned matrix (rcond=3.56877e-17): result may not be accurate.\n",
      "  dual_coef = linalg.solve(K, y, sym_pos=True,\n"
     ]
    },
    {
     "name": "stdout",
     "output_type": "stream",
     "text": [
      "MAE: -0.002\n",
      "Config: {'alpha': 0.0}\n",
      "Predicted: 0.010\n",
      "\n",
      "\n",
      "split= 10\n",
      "state= MISSOURI\n"
     ]
    },
    {
     "name": "stderr",
     "output_type": "stream",
     "text": [
      "/Users/barbenshabat/opt/anaconda3/lib/python3.8/site-packages/sklearn/linear_model/_ridge.py:187: LinAlgWarning: Ill-conditioned matrix (rcond=5.92325e-17): result may not be accurate.\n",
      "  dual_coef = linalg.solve(K, y, sym_pos=True,\n"
     ]
    },
    {
     "name": "stdout",
     "output_type": "stream",
     "text": [
      "MAE: -0.008\n",
      "Config: {'alpha': 0.0}\n",
      "Predicted: 0.172\n",
      "\n",
      "\n",
      "split= 9\n",
      "state= MONTANA\n",
      "MAE: -0.001\n",
      "Config: {'alpha': 0.02}\n",
      "Predicted: 0.010\n",
      "\n",
      "\n",
      "split= 10\n",
      "state= NEBRASKA\n",
      "MAE: -0.003\n",
      "Config: {'alpha': 0.99}\n",
      "Predicted: 0.030\n",
      "\n",
      "\n",
      "split= 10\n",
      "state= NEVADA\n",
      "MAE: -0.011\n",
      "Config: {'alpha': 0.02}\n",
      "Predicted: 0.119\n",
      "\n",
      "\n",
      "split= 10\n",
      "state= NEW HAMPSHIRE\n",
      "MAE: -0.001\n",
      "Config: {'alpha': 0.99}\n",
      "Predicted: 0.015\n",
      "\n",
      "\n",
      "split= 9\n",
      "state= NEW JERSEY\n"
     ]
    },
    {
     "name": "stderr",
     "output_type": "stream",
     "text": [
      "/Users/barbenshabat/opt/anaconda3/lib/python3.8/site-packages/sklearn/linear_model/_ridge.py:190: UserWarning: Singular matrix in solving dual problem. Using least-squares solution instead.\n",
      "  warnings.warn(\"Singular matrix in solving dual problem. Using \"\n"
     ]
    },
    {
     "name": "stdout",
     "output_type": "stream",
     "text": [
      "MAE: -0.003\n",
      "Config: {'alpha': 0.0}\n",
      "Predicted: 0.140\n",
      "\n",
      "\n",
      "split= 10\n",
      "state= NEW MEXICO\n"
     ]
    },
    {
     "name": "stderr",
     "output_type": "stream",
     "text": [
      "/Users/barbenshabat/opt/anaconda3/lib/python3.8/site-packages/sklearn/linear_model/_ridge.py:187: LinAlgWarning: Ill-conditioned matrix (rcond=2.66795e-17): result may not be accurate.\n",
      "  dual_coef = linalg.solve(K, y, sym_pos=True,\n"
     ]
    },
    {
     "name": "stdout",
     "output_type": "stream",
     "text": [
      "MAE: -0.009\n",
      "Config: {'alpha': 0.0}\n",
      "Predicted: 0.040\n",
      "\n",
      "\n",
      "split= 9\n",
      "state= NEW YORK\n"
     ]
    },
    {
     "name": "stderr",
     "output_type": "stream",
     "text": [
      "/Users/barbenshabat/opt/anaconda3/lib/python3.8/site-packages/sklearn/linear_model/_ridge.py:190: UserWarning: Singular matrix in solving dual problem. Using least-squares solution instead.\n",
      "  warnings.warn(\"Singular matrix in solving dual problem. Using \"\n"
     ]
    },
    {
     "name": "stdout",
     "output_type": "stream",
     "text": [
      "MAE: -0.006\n",
      "Config: {'alpha': 0.0}\n",
      "Predicted: 0.463\n",
      "\n",
      "\n",
      "split= 7\n",
      "state= NORTH CAROLINA\n"
     ]
    },
    {
     "name": "stderr",
     "output_type": "stream",
     "text": [
      "/Users/barbenshabat/opt/anaconda3/lib/python3.8/site-packages/sklearn/linear_model/_ridge.py:190: UserWarning: Singular matrix in solving dual problem. Using least-squares solution instead.\n",
      "  warnings.warn(\"Singular matrix in solving dual problem. Using \"\n"
     ]
    },
    {
     "name": "stdout",
     "output_type": "stream",
     "text": [
      "MAE: -0.010\n",
      "Config: {'alpha': 0.0}\n",
      "Predicted: 0.143\n",
      "\n",
      "\n",
      "split= 10\n",
      "state= NORTH DAKOTA\n",
      "MAE: -0.001\n",
      "Config: {'alpha': 0.03}\n",
      "Predicted: 0.009\n",
      "\n",
      "\n",
      "split= 10\n",
      "state= OHIO\n"
     ]
    },
    {
     "name": "stderr",
     "output_type": "stream",
     "text": [
      "/Users/barbenshabat/opt/anaconda3/lib/python3.8/site-packages/sklearn/linear_model/_ridge.py:190: UserWarning: Singular matrix in solving dual problem. Using least-squares solution instead.\n",
      "  warnings.warn(\"Singular matrix in solving dual problem. Using \"\n"
     ]
    },
    {
     "name": "stdout",
     "output_type": "stream",
     "text": [
      "MAE: -0.015\n",
      "Config: {'alpha': 0.0}\n",
      "Predicted: 0.140\n",
      "\n",
      "\n",
      "split= 10\n",
      "state= OKLAHOMA\n",
      "MAE: -0.003\n",
      "Config: {'alpha': 0.01}\n",
      "Predicted: 0.119\n",
      "\n",
      "\n",
      "split= 10\n",
      "state= PENNSYLVANIA\n",
      "MAE: -0.007\n",
      "Config: {'alpha': 0.01}\n",
      "Predicted: 0.212\n",
      "\n",
      "\n",
      "split= 10\n",
      "state= RHODE ISLAND\n",
      "MAE: -0.002\n",
      "Config: {'alpha': 0.01}\n",
      "Predicted: 0.017\n",
      "\n",
      "\n",
      "split= 10\n",
      "state= SOUTH CAROLINA\n"
     ]
    },
    {
     "name": "stderr",
     "output_type": "stream",
     "text": [
      "/Users/barbenshabat/opt/anaconda3/lib/python3.8/site-packages/sklearn/linear_model/_ridge.py:187: LinAlgWarning: Ill-conditioned matrix (rcond=5.6708e-17): result may not be accurate.\n",
      "  dual_coef = linalg.solve(K, y, sym_pos=True,\n"
     ]
    },
    {
     "name": "stdout",
     "output_type": "stream",
     "text": [
      "MAE: -0.006\n",
      "Config: {'alpha': 0.0}\n",
      "Predicted: 0.062\n",
      "\n",
      "\n",
      "split= 10\n",
      "state= SOUTH DAKOTA\n",
      "MAE: -0.002\n",
      "Config: {'alpha': 0.05}\n",
      "Predicted: 0.013\n",
      "\n",
      "\n",
      "split= 10\n",
      "state= TENNESSEE\n",
      "MAE: -0.004\n",
      "Config: {'alpha': 0.1}\n",
      "Predicted: 0.260\n",
      "\n",
      "\n",
      "split= 10\n",
      "state= TEXAS\n"
     ]
    },
    {
     "name": "stderr",
     "output_type": "stream",
     "text": [
      "/Users/barbenshabat/opt/anaconda3/lib/python3.8/site-packages/sklearn/linear_model/_ridge.py:190: UserWarning: Singular matrix in solving dual problem. Using least-squares solution instead.\n",
      "  warnings.warn(\"Singular matrix in solving dual problem. Using \"\n"
     ]
    },
    {
     "name": "stdout",
     "output_type": "stream",
     "text": [
      "MAE: -0.020\n",
      "Config: {'alpha': 0.0}\n",
      "Predicted: 0.660\n",
      "\n",
      "\n",
      "split= 10\n",
      "state= UTAH\n"
     ]
    },
    {
     "name": "stderr",
     "output_type": "stream",
     "text": [
      "/Users/barbenshabat/opt/anaconda3/lib/python3.8/site-packages/sklearn/linear_model/_ridge.py:190: UserWarning: Singular matrix in solving dual problem. Using least-squares solution instead.\n",
      "  warnings.warn(\"Singular matrix in solving dual problem. Using \"\n"
     ]
    },
    {
     "name": "stdout",
     "output_type": "stream",
     "text": [
      "MAE: -0.003\n",
      "Config: {'alpha': 0.0}\n",
      "Predicted: 0.043\n",
      "\n",
      "\n",
      "split= 10\n",
      "state= VERMONT\n",
      "MAE: -0.001\n",
      "Config: {'alpha': 0.1}\n",
      "Predicted: 0.002\n",
      "\n",
      "\n",
      "split= 10\n",
      "state= VIRGINIA\n",
      "MAE: -0.003\n",
      "Config: {'alpha': 0.77}\n",
      "Predicted: 0.068\n",
      "\n",
      "\n",
      "split= 10\n",
      "state= WASHINGTON\n",
      "MAE: -0.004\n",
      "Config: {'alpha': 0.09}\n",
      "Predicted: 0.126\n",
      "\n",
      "\n",
      "split= 9\n",
      "state= WEST VIRGINIA\n",
      "MAE: -0.003\n",
      "Config: {'alpha': 0.03}\n",
      "Predicted: 0.012\n",
      "\n",
      "\n",
      "split= 10\n",
      "state= WISCONSIN\n",
      "MAE: -0.005\n",
      "Config: {'alpha': 0.09}\n",
      "Predicted: 0.118\n",
      "\n",
      "\n",
      "split= 10\n",
      "state= WYOMING\n",
      "MAE: -0.000\n",
      "Config: {'alpha': 0.99}\n",
      "Predicted: 0.004\n",
      "\n",
      "\n",
      "split= 9\n",
      "state= ILLINOIS\n",
      "MAE: -0.039\n",
      "Config: {'alpha': 0.03}\n",
      "Predicted: 0.294\n",
      "\n",
      "\n",
      "split= 9\n",
      "state= OREGON\n"
     ]
    },
    {
     "name": "stderr",
     "output_type": "stream",
     "text": [
      "/Users/barbenshabat/opt/anaconda3/lib/python3.8/site-packages/sklearn/linear_model/_ridge.py:187: LinAlgWarning: Ill-conditioned matrix (rcond=2.93435e-17): result may not be accurate.\n",
      "  dual_coef = linalg.solve(K, y, sym_pos=True,\n"
     ]
    },
    {
     "name": "stdout",
     "output_type": "stream",
     "text": [
      "MAE: -0.006\n",
      "Config: {'alpha': 0.0}\n",
      "Predicted: 0.065\n",
      "\n",
      "\n",
      "split= 7\n",
      "state= MINNESOTA\n",
      "MAE: -0.004\n",
      "Config: {'alpha': 0.02}\n",
      "Predicted: 0.086\n",
      "\n",
      "\n",
      "---------crime--------------------------------- Murder and nonnegligent manslaughter\n",
      "split= 8\n",
      "state= ALABAMA\n"
     ]
    },
    {
     "name": "stderr",
     "output_type": "stream",
     "text": [
      "/Users/barbenshabat/opt/anaconda3/lib/python3.8/site-packages/sklearn/linear_model/_ridge.py:190: UserWarning: Singular matrix in solving dual problem. Using least-squares solution instead.\n",
      "  warnings.warn(\"Singular matrix in solving dual problem. Using \"\n"
     ]
    },
    {
     "name": "stdout",
     "output_type": "stream",
     "text": [
      "MAE: -0.014\n",
      "Config: {'alpha': 0.0}\n",
      "Predicted: 0.161\n",
      "\n",
      "\n",
      "split= 9\n",
      "state= ALASKA\n",
      "MAE: -0.005\n",
      "Config: {'alpha': 0.04}\n",
      "Predicted: 0.030\n",
      "\n",
      "\n",
      "split= 10\n",
      "state= ARIZONA\n"
     ]
    },
    {
     "name": "stderr",
     "output_type": "stream",
     "text": [
      "/Users/barbenshabat/opt/anaconda3/lib/python3.8/site-packages/sklearn/linear_model/_ridge.py:187: LinAlgWarning: Ill-conditioned matrix (rcond=5.32574e-17): result may not be accurate.\n",
      "  dual_coef = linalg.solve(K, y, sym_pos=True,\n"
     ]
    },
    {
     "name": "stdout",
     "output_type": "stream",
     "text": [
      "MAE: -0.012\n",
      "Config: {'alpha': 0.0}\n",
      "Predicted: 0.195\n",
      "\n",
      "\n",
      "split= 10\n",
      "state= ARKANSAS\n"
     ]
    },
    {
     "name": "stderr",
     "output_type": "stream",
     "text": [
      "/Users/barbenshabat/opt/anaconda3/lib/python3.8/site-packages/sklearn/linear_model/_ridge.py:190: UserWarning: Singular matrix in solving dual problem. Using least-squares solution instead.\n",
      "  warnings.warn(\"Singular matrix in solving dual problem. Using \"\n"
     ]
    },
    {
     "name": "stdout",
     "output_type": "stream",
     "text": [
      "MAE: -0.006\n",
      "Config: {'alpha': 0.0}\n",
      "Predicted: 0.094\n",
      "\n",
      "\n",
      "split= 10\n",
      "state= CALIFORNIA\n"
     ]
    },
    {
     "name": "stderr",
     "output_type": "stream",
     "text": [
      "/Users/barbenshabat/opt/anaconda3/lib/python3.8/site-packages/sklearn/linear_model/_ridge.py:187: LinAlgWarning: Ill-conditioned matrix (rcond=6.28375e-18): result may not be accurate.\n",
      "  dual_coef = linalg.solve(K, y, sym_pos=True,\n"
     ]
    },
    {
     "name": "stdout",
     "output_type": "stream",
     "text": [
      "MAE: -0.036\n",
      "Config: {'alpha': 0.0}\n",
      "Predicted: 0.680\n",
      "\n",
      "\n",
      "split= 10\n",
      "state= COLORADO\n",
      "MAE: -0.009\n",
      "Config: {'alpha': 0.02}\n",
      "Predicted: 0.119\n",
      "\n",
      "\n",
      "split= 10\n",
      "state= CONNECTICUT\n"
     ]
    },
    {
     "name": "stderr",
     "output_type": "stream",
     "text": [
      "/Users/barbenshabat/opt/anaconda3/lib/python3.8/site-packages/sklearn/linear_model/_ridge.py:187: LinAlgWarning: Ill-conditioned matrix (rcond=5.63286e-17): result may not be accurate.\n",
      "  dual_coef = linalg.solve(K, y, sym_pos=True,\n"
     ]
    },
    {
     "name": "stdout",
     "output_type": "stream",
     "text": [
      "MAE: -0.008\n",
      "Config: {'alpha': 0.0}\n",
      "Predicted: 0.053\n",
      "\n",
      "\n",
      "split= 10\n",
      "state= DELAWARE\n",
      "MAE: -0.003\n",
      "Config: {'alpha': 0.99}\n",
      "Predicted: 0.023\n",
      "\n",
      "\n",
      "split= 10\n",
      "state= DISTRICT OF COLUMBIA\n",
      "MAE: -0.018\n",
      "Config: {'alpha': 0.99}\n",
      "Predicted: 0.095\n",
      "\n",
      "\n",
      "split= 10\n",
      "state= FLORIDA\n"
     ]
    },
    {
     "name": "stderr",
     "output_type": "stream",
     "text": [
      "/Users/barbenshabat/opt/anaconda3/lib/python3.8/site-packages/sklearn/linear_model/_ridge.py:187: LinAlgWarning: Ill-conditioned matrix (rcond=1.7537e-17): result may not be accurate.\n",
      "  dual_coef = linalg.solve(K, y, sym_pos=True,\n"
     ]
    },
    {
     "name": "stdout",
     "output_type": "stream",
     "text": [
      "MAE: -0.028\n",
      "Config: {'alpha': 0.0}\n",
      "Predicted: 0.444\n",
      "\n",
      "\n",
      "split= 8\n",
      "state= GEORGIA\n",
      "MAE: -0.013\n",
      "Config: {'alpha': 0.03}\n",
      "Predicted: 0.200\n",
      "\n",
      "\n",
      "split= 6\n",
      "state= HAWAII\n"
     ]
    },
    {
     "name": "stderr",
     "output_type": "stream",
     "text": [
      "/Users/barbenshabat/opt/anaconda3/lib/python3.8/site-packages/sklearn/linear_model/_ridge.py:190: UserWarning: Singular matrix in solving dual problem. Using least-squares solution instead.\n",
      "  warnings.warn(\"Singular matrix in solving dual problem. Using \"\n"
     ]
    },
    {
     "name": "stdout",
     "output_type": "stream",
     "text": [
      "MAE: -0.004\n",
      "Config: {'alpha': 0.0}\n",
      "Predicted: 0.028\n",
      "\n",
      "\n",
      "split= 10\n",
      "state= IDAHO\n"
     ]
    },
    {
     "name": "stderr",
     "output_type": "stream",
     "text": [
      "/Users/barbenshabat/opt/anaconda3/lib/python3.8/site-packages/sklearn/linear_model/_ridge.py:190: UserWarning: Singular matrix in solving dual problem. Using least-squares solution instead.\n",
      "  warnings.warn(\"Singular matrix in solving dual problem. Using \"\n"
     ]
    },
    {
     "name": "stdout",
     "output_type": "stream",
     "text": [
      "MAE: -0.003\n",
      "Config: {'alpha': 0.0}\n",
      "Predicted: 0.016\n",
      "\n",
      "\n",
      "split= 10\n",
      "state= INDIANA\n"
     ]
    },
    {
     "name": "stderr",
     "output_type": "stream",
     "text": [
      "/Users/barbenshabat/opt/anaconda3/lib/python3.8/site-packages/sklearn/linear_model/_ridge.py:187: LinAlgWarning: Ill-conditioned matrix (rcond=1.63233e-17): result may not be accurate.\n",
      "  dual_coef = linalg.solve(K, y, sym_pos=True,\n"
     ]
    },
    {
     "name": "stdout",
     "output_type": "stream",
     "text": [
      "MAE: -0.015\n",
      "Config: {'alpha': 0.0}\n",
      "Predicted: 0.113\n",
      "\n",
      "\n",
      "split= 9\n",
      "state= IOWA\n",
      "MAE: -0.006\n",
      "Config: {'alpha': 0.01}\n",
      "Predicted: 0.055\n",
      "\n",
      "\n",
      "split= 10\n",
      "state= KANSAS\n",
      "MAE: -0.008\n",
      "Config: {'alpha': 0.02}\n",
      "Predicted: 0.053\n",
      "\n",
      "\n",
      "split= 10\n",
      "state= KENTUCKY\n",
      "MAE: -0.023\n",
      "Config: {'alpha': 0.01}\n",
      "Predicted: 0.088\n",
      "\n",
      "\n",
      "split= 10\n",
      "state= LOUISIANA\n",
      "MAE: -0.042\n",
      "Config: {'alpha': 0.01}\n",
      "Predicted: 0.244\n",
      "\n",
      "\n",
      "split= 10\n",
      "state= MAINE\n",
      "MAE: -0.002\n",
      "Config: {'alpha': 0.22}\n",
      "Predicted: 0.008\n",
      "\n",
      "\n",
      "split= 10\n",
      "state= MARYLAND\n",
      "MAE: -0.025\n",
      "Config: {'alpha': 0.23}\n",
      "Predicted: 0.260\n",
      "\n",
      "\n",
      "split= 10\n",
      "state= MASSACHUSETTS\n"
     ]
    },
    {
     "name": "stderr",
     "output_type": "stream",
     "text": [
      "/Users/barbenshabat/opt/anaconda3/lib/python3.8/site-packages/sklearn/linear_model/_ridge.py:190: UserWarning: Singular matrix in solving dual problem. Using least-squares solution instead.\n",
      "  warnings.warn(\"Singular matrix in solving dual problem. Using \"\n"
     ]
    },
    {
     "name": "stdout",
     "output_type": "stream",
     "text": [
      "MAE: -0.014\n",
      "Config: {'alpha': 0.0}\n",
      "Predicted: 0.111\n",
      "\n",
      "\n",
      "split= 10\n",
      "state= MICHIGAN\n",
      "MAE: -0.022\n",
      "Config: {'alpha': 0.9}\n",
      "Predicted: 0.344\n",
      "\n",
      "\n",
      "split= 10\n",
      "state= MISSISSIPPI\n",
      "MAE: -0.013\n",
      "Config: {'alpha': 0.02}\n",
      "Predicted: 0.028\n",
      "\n",
      "\n",
      "split= 10\n",
      "state= MISSOURI\n"
     ]
    },
    {
     "name": "stderr",
     "output_type": "stream",
     "text": [
      "/Users/barbenshabat/opt/anaconda3/lib/python3.8/site-packages/sklearn/linear_model/_ridge.py:187: LinAlgWarning: Ill-conditioned matrix (rcond=8.08393e-17): result may not be accurate.\n",
      "  dual_coef = linalg.solve(K, y, sym_pos=True,\n"
     ]
    },
    {
     "name": "stdout",
     "output_type": "stream",
     "text": [
      "MAE: -0.013\n",
      "Config: {'alpha': 0.0}\n",
      "Predicted: 0.359\n",
      "\n",
      "\n",
      "split= 9\n",
      "state= MONTANA\n",
      "MAE: -0.003\n",
      "Config: {'alpha': 0.99}\n",
      "Predicted: 0.009\n",
      "\n",
      "\n",
      "split= 10\n",
      "state= NEBRASKA\n",
      "MAE: -0.004\n",
      "Config: {'alpha': 0.01}\n",
      "Predicted: 0.024\n",
      "\n",
      "\n",
      "split= 10\n",
      "state= NEVADA\n",
      "MAE: -0.020\n",
      "Config: {'alpha': 0.02}\n",
      "Predicted: 0.146\n",
      "\n",
      "\n",
      "split= 10\n",
      "state= NEW HAMPSHIRE\n",
      "MAE: -0.002\n",
      "Config: {'alpha': 0.99}\n",
      "Predicted: 0.011\n",
      "\n",
      "\n",
      "split= 9\n",
      "state= NEW JERSEY\n"
     ]
    },
    {
     "name": "stderr",
     "output_type": "stream",
     "text": [
      "/Users/barbenshabat/opt/anaconda3/lib/python3.8/site-packages/sklearn/linear_model/_ridge.py:190: UserWarning: Singular matrix in solving dual problem. Using least-squares solution instead.\n",
      "  warnings.warn(\"Singular matrix in solving dual problem. Using \"\n"
     ]
    },
    {
     "name": "stdout",
     "output_type": "stream",
     "text": [
      "MAE: -0.011\n",
      "Config: {'alpha': 0.0}\n",
      "Predicted: 0.194\n",
      "\n",
      "\n",
      "split= 10\n",
      "state= NEW MEXICO\n"
     ]
    },
    {
     "name": "stderr",
     "output_type": "stream",
     "text": [
      "/Users/barbenshabat/opt/anaconda3/lib/python3.8/site-packages/sklearn/linear_model/_ridge.py:187: LinAlgWarning: Ill-conditioned matrix (rcond=2.07228e-17): result may not be accurate.\n",
      "  dual_coef = linalg.solve(K, y, sym_pos=True,\n"
     ]
    },
    {
     "name": "stdout",
     "output_type": "stream",
     "text": [
      "MAE: -0.011\n",
      "Config: {'alpha': 0.0}\n",
      "Predicted: 0.028\n",
      "\n",
      "\n",
      "split= 9\n",
      "state= NEW YORK\n"
     ]
    },
    {
     "name": "stderr",
     "output_type": "stream",
     "text": [
      "/Users/barbenshabat/opt/anaconda3/lib/python3.8/site-packages/sklearn/linear_model/_ridge.py:190: UserWarning: Singular matrix in solving dual problem. Using least-squares solution instead.\n",
      "  warnings.warn(\"Singular matrix in solving dual problem. Using \"\n"
     ]
    },
    {
     "name": "stdout",
     "output_type": "stream",
     "text": [
      "MAE: -0.040\n",
      "Config: {'alpha': 0.0}\n",
      "Predicted: 0.378\n",
      "\n",
      "\n",
      "split= 7\n",
      "state= NORTH CAROLINA\n",
      "MAE: -0.014\n",
      "Config: {'alpha': 0.17}\n",
      "Predicted: 0.220\n",
      "\n",
      "\n",
      "split= 10\n",
      "state= NORTH DAKOTA\n",
      "MAE: -0.002\n",
      "Config: {'alpha': 0.99}\n",
      "Predicted: 0.007\n",
      "\n",
      "\n",
      "split= 10\n",
      "state= OHIO\n"
     ]
    },
    {
     "name": "stderr",
     "output_type": "stream",
     "text": [
      "/Users/barbenshabat/opt/anaconda3/lib/python3.8/site-packages/sklearn/linear_model/_ridge.py:190: UserWarning: Singular matrix in solving dual problem. Using least-squares solution instead.\n",
      "  warnings.warn(\"Singular matrix in solving dual problem. Using \"\n"
     ]
    },
    {
     "name": "stdout",
     "output_type": "stream",
     "text": [
      "MAE: -0.039\n",
      "Config: {'alpha': 0.0}\n",
      "Predicted: 0.295\n",
      "\n",
      "\n",
      "split= 10\n",
      "state= OKLAHOMA\n",
      "MAE: -0.016\n",
      "Config: {'alpha': 0.99}\n",
      "Predicted: 0.132\n",
      "\n",
      "\n",
      "split= 10\n",
      "state= PENNSYLVANIA\n",
      "MAE: -0.030\n",
      "Config: {'alpha': 0.02}\n",
      "Predicted: 0.467\n",
      "\n",
      "\n",
      "split= 10\n",
      "state= RHODE ISLAND\n",
      "MAE: -0.006\n",
      "Config: {'alpha': 0.99}\n",
      "Predicted: 0.017\n",
      "\n",
      "\n",
      "split= 10\n",
      "state= SOUTH CAROLINA\n",
      "MAE: -0.010\n",
      "Config: {'alpha': 0.02}\n",
      "Predicted: 0.097\n",
      "\n",
      "\n",
      "split= 10\n",
      "state= SOUTH DAKOTA\n",
      "MAE: -0.002\n",
      "Config: {'alpha': 0.03}\n",
      "Predicted: 0.009\n",
      "\n",
      "\n",
      "split= 10\n",
      "state= TENNESSEE\n",
      "MAE: -0.018\n",
      "Config: {'alpha': 0.07}\n",
      "Predicted: 0.327\n",
      "\n",
      "\n",
      "split= 10\n",
      "state= TEXAS\n"
     ]
    },
    {
     "name": "stderr",
     "output_type": "stream",
     "text": [
      "/Users/barbenshabat/opt/anaconda3/lib/python3.8/site-packages/sklearn/linear_model/_ridge.py:190: UserWarning: Singular matrix in solving dual problem. Using least-squares solution instead.\n",
      "  warnings.warn(\"Singular matrix in solving dual problem. Using \"\n"
     ]
    },
    {
     "name": "stdout",
     "output_type": "stream",
     "text": [
      "MAE: -0.019\n",
      "Config: {'alpha': 0.0}\n",
      "Predicted: 0.731\n",
      "\n",
      "\n",
      "split= 10\n",
      "state= UTAH\n",
      "MAE: -0.003\n",
      "Config: {'alpha': 0.01}\n",
      "Predicted: 0.034\n",
      "\n",
      "\n",
      "split= 10\n",
      "state= VERMONT\n",
      "MAE: -0.001\n",
      "Config: {'alpha': 0.03}\n",
      "Predicted: 0.003\n",
      "\n",
      "\n",
      "split= 10\n",
      "state= VIRGINIA\n"
     ]
    },
    {
     "name": "stderr",
     "output_type": "stream",
     "text": [
      "/Users/barbenshabat/opt/anaconda3/lib/python3.8/site-packages/sklearn/linear_model/_ridge.py:187: LinAlgWarning: Ill-conditioned matrix (rcond=1.14444e-17): result may not be accurate.\n",
      "  dual_coef = linalg.solve(K, y, sym_pos=True,\n"
     ]
    },
    {
     "name": "stdout",
     "output_type": "stream",
     "text": [
      "MAE: -0.005\n",
      "Config: {'alpha': 0.0}\n",
      "Predicted: 0.176\n",
      "\n",
      "\n",
      "split= 10\n",
      "state= WASHINGTON\n",
      "MAE: -0.009\n",
      "Config: {'alpha': 0.01}\n",
      "Predicted: 0.119\n",
      "\n",
      "\n",
      "split= 9\n",
      "state= WEST VIRGINIA\n",
      "MAE: -0.005\n",
      "Config: {'alpha': 0.2}\n",
      "Predicted: 0.018\n",
      "\n",
      "\n",
      "split= 10\n",
      "state= WISCONSIN\n",
      "MAE: -0.016\n",
      "Config: {'alpha': 0.02}\n",
      "Predicted: 0.115\n",
      "\n",
      "\n",
      "split= 10\n",
      "state= WYOMING\n",
      "MAE: -0.002\n",
      "Config: {'alpha': 0.11}\n",
      "Predicted: 0.007\n",
      "\n",
      "\n",
      "split= 9\n",
      "state= ILLINOIS\n",
      "MAE: -0.057\n",
      "Config: {'alpha': 0.05}\n",
      "Predicted: 0.596\n",
      "\n",
      "\n",
      "split= 9\n",
      "state= OREGON\n",
      "MAE: -0.004\n",
      "Config: {'alpha': 0.99}\n",
      "Predicted: 0.038\n",
      "\n",
      "\n",
      "split= 7\n",
      "state= MINNESOTA\n",
      "MAE: -0.010\n",
      "Config: {'alpha': 0.99}\n",
      "Predicted: 0.066\n",
      "\n",
      "\n",
      "---------crime--------------------------------- Forcible rape\n",
      "split= 8\n",
      "state= ALABAMA\n"
     ]
    },
    {
     "name": "stderr",
     "output_type": "stream",
     "text": [
      "/Users/barbenshabat/opt/anaconda3/lib/python3.8/site-packages/sklearn/linear_model/_ridge.py:190: UserWarning: Singular matrix in solving dual problem. Using least-squares solution instead.\n",
      "  warnings.warn(\"Singular matrix in solving dual problem. Using \"\n"
     ]
    },
    {
     "name": "stdout",
     "output_type": "stream",
     "text": [
      "MAE: -0.012\n",
      "Config: {'alpha': 0.0}\n",
      "Predicted: 0.048\n",
      "\n",
      "\n",
      "split= 9\n",
      "state= ALASKA\n"
     ]
    },
    {
     "name": "stderr",
     "output_type": "stream",
     "text": [
      "/Users/barbenshabat/opt/anaconda3/lib/python3.8/site-packages/sklearn/linear_model/_ridge.py:187: LinAlgWarning: Ill-conditioned matrix (rcond=1.30993e-17): result may not be accurate.\n",
      "  dual_coef = linalg.solve(K, y, sym_pos=True,\n"
     ]
    },
    {
     "name": "stdout",
     "output_type": "stream",
     "text": [
      "MAE: -0.008\n",
      "Config: {'alpha': 0.0}\n",
      "Predicted: 0.068\n",
      "\n",
      "\n",
      "split= 10\n",
      "state= ARIZONA\n"
     ]
    },
    {
     "name": "stderr",
     "output_type": "stream",
     "text": [
      "/Users/barbenshabat/opt/anaconda3/lib/python3.8/site-packages/sklearn/linear_model/_ridge.py:187: LinAlgWarning: Ill-conditioned matrix (rcond=2.40055e-17): result may not be accurate.\n",
      "  dual_coef = linalg.solve(K, y, sym_pos=True,\n"
     ]
    },
    {
     "name": "stdout",
     "output_type": "stream",
     "text": [
      "MAE: -0.012\n",
      "Config: {'alpha': 0.0}\n",
      "Predicted: 0.249\n",
      "\n",
      "\n",
      "split= 10\n",
      "state= ARKANSAS\n",
      "MAE: -0.008\n",
      "Config: {'alpha': 0.01}\n",
      "Predicted: 0.110\n",
      "\n",
      "\n",
      "split= 10\n",
      "state= CALIFORNIA\n",
      "MAE: -0.030\n",
      "Config: {'alpha': 0.04}\n",
      "Predicted: 1.023\n",
      "\n",
      "\n",
      "split= 10\n",
      "state= COLORADO\n"
     ]
    },
    {
     "name": "stderr",
     "output_type": "stream",
     "text": [
      "/Users/barbenshabat/opt/anaconda3/lib/python3.8/site-packages/sklearn/linear_model/_ridge.py:190: UserWarning: Singular matrix in solving dual problem. Using least-squares solution instead.\n",
      "  warnings.warn(\"Singular matrix in solving dual problem. Using \"\n"
     ]
    },
    {
     "name": "stdout",
     "output_type": "stream",
     "text": [
      "MAE: -0.013\n",
      "Config: {'alpha': 0.0}\n",
      "Predicted: 0.265\n",
      "\n",
      "\n",
      "split= 10\n",
      "state= CONNECTICUT\n",
      "MAE: -0.006\n",
      "Config: {'alpha': 0.99}\n",
      "Predicted: 0.057\n",
      "\n",
      "\n",
      "split= 10\n",
      "state= DELAWARE\n",
      "MAE: -0.001\n",
      "Config: {'alpha': 0.99}\n",
      "Predicted: 0.007\n",
      "\n",
      "\n",
      "split= 10\n",
      "state= DISTRICT OF COLUMBIA\n",
      "MAE: -0.007\n",
      "Config: {'alpha': 0.03}\n",
      "Predicted: 0.038\n",
      "\n",
      "\n",
      "split= 10\n",
      "state= FLORIDA\n"
     ]
    },
    {
     "name": "stderr",
     "output_type": "stream",
     "text": [
      "/Users/barbenshabat/opt/anaconda3/lib/python3.8/site-packages/sklearn/linear_model/_ridge.py:187: LinAlgWarning: Ill-conditioned matrix (rcond=1.81057e-17): result may not be accurate.\n",
      "  dual_coef = linalg.solve(K, y, sym_pos=True,\n"
     ]
    },
    {
     "name": "stdout",
     "output_type": "stream",
     "text": [
      "MAE: -0.017\n",
      "Config: {'alpha': 0.0}\n",
      "Predicted: 0.358\n",
      "\n",
      "\n",
      "split= 8\n",
      "state= GEORGIA\n"
     ]
    },
    {
     "name": "stderr",
     "output_type": "stream",
     "text": [
      "/Users/barbenshabat/opt/anaconda3/lib/python3.8/site-packages/sklearn/linear_model/_ridge.py:190: UserWarning: Singular matrix in solving dual problem. Using least-squares solution instead.\n",
      "  warnings.warn(\"Singular matrix in solving dual problem. Using \"\n"
     ]
    },
    {
     "name": "stdout",
     "output_type": "stream",
     "text": [
      "MAE: -0.010\n",
      "Config: {'alpha': 0.0}\n",
      "Predicted: 0.067\n",
      "\n",
      "\n",
      "split= 6\n",
      "state= HAWAII\n"
     ]
    },
    {
     "name": "stderr",
     "output_type": "stream",
     "text": [
      "/Users/barbenshabat/opt/anaconda3/lib/python3.8/site-packages/sklearn/linear_model/_ridge.py:190: UserWarning: Singular matrix in solving dual problem. Using least-squares solution instead.\n",
      "  warnings.warn(\"Singular matrix in solving dual problem. Using \"\n"
     ]
    },
    {
     "name": "stdout",
     "output_type": "stream",
     "text": [
      "MAE: -0.004\n",
      "Config: {'alpha': 0.0}\n",
      "Predicted: 0.022\n",
      "\n",
      "\n",
      "split= 10\n",
      "state= IDAHO\n",
      "MAE: -0.004\n",
      "Config: {'alpha': 0.01}\n",
      "Predicted: 0.037\n",
      "\n",
      "\n",
      "split= 10\n",
      "state= INDIANA\n"
     ]
    },
    {
     "name": "stderr",
     "output_type": "stream",
     "text": [
      "/Users/barbenshabat/opt/anaconda3/lib/python3.8/site-packages/sklearn/linear_model/_ridge.py:187: LinAlgWarning: Ill-conditioned matrix (rcond=3.51873e-17): result may not be accurate.\n",
      "  dual_coef = linalg.solve(K, y, sym_pos=True,\n"
     ]
    },
    {
     "name": "stdout",
     "output_type": "stream",
     "text": [
      "MAE: -0.012\n",
      "Config: {'alpha': 0.0}\n",
      "Predicted: 0.075\n",
      "\n",
      "\n",
      "split= 9\n",
      "state= IOWA\n"
     ]
    },
    {
     "name": "stderr",
     "output_type": "stream",
     "text": [
      "/Users/barbenshabat/opt/anaconda3/lib/python3.8/site-packages/sklearn/linear_model/_ridge.py:187: LinAlgWarning: Ill-conditioned matrix (rcond=4.85064e-18): result may not be accurate.\n",
      "  dual_coef = linalg.solve(K, y, sym_pos=True,\n"
     ]
    },
    {
     "name": "stdout",
     "output_type": "stream",
     "text": [
      "MAE: -0.005\n",
      "Config: {'alpha': 0.0}\n",
      "Predicted: 0.092\n",
      "\n",
      "\n",
      "split= 10\n",
      "state= KANSAS\n",
      "MAE: -0.006\n",
      "Config: {'alpha': 0.01}\n",
      "Predicted: 0.076\n",
      "\n",
      "\n",
      "split= 10\n",
      "state= KENTUCKY\n",
      "MAE: -0.011\n",
      "Config: {'alpha': 0.01}\n",
      "Predicted: 0.075\n",
      "\n",
      "\n",
      "split= 10\n",
      "state= LOUISIANA\n",
      "MAE: -0.008\n",
      "Config: {'alpha': 0.01}\n",
      "Predicted: 0.096\n",
      "\n",
      "\n",
      "split= 10\n",
      "state= MAINE\n",
      "MAE: -0.004\n",
      "Config: {'alpha': 0.99}\n",
      "Predicted: 0.022\n",
      "\n",
      "\n",
      "split= 10\n",
      "state= MARYLAND\n"
     ]
    },
    {
     "name": "stderr",
     "output_type": "stream",
     "text": [
      "/Users/barbenshabat/opt/anaconda3/lib/python3.8/site-packages/sklearn/linear_model/_ridge.py:187: LinAlgWarning: Ill-conditioned matrix (rcond=3.73959e-17): result may not be accurate.\n",
      "  dual_coef = linalg.solve(K, y, sym_pos=True,\n"
     ]
    },
    {
     "name": "stdout",
     "output_type": "stream",
     "text": [
      "MAE: -0.002\n",
      "Config: {'alpha': 0.0}\n",
      "Predicted: 0.047\n",
      "\n",
      "\n",
      "split= 10\n",
      "state= MASSACHUSETTS\n",
      "MAE: -0.011\n",
      "Config: {'alpha': 0.65}\n",
      "Predicted: 0.161\n",
      "\n",
      "\n",
      "split= 10\n",
      "state= MICHIGAN\n",
      "MAE: -0.026\n",
      "Config: {'alpha': 0.3}\n",
      "Predicted: 0.341\n",
      "\n",
      "\n",
      "split= 10\n",
      "state= MISSISSIPPI\n"
     ]
    },
    {
     "name": "stderr",
     "output_type": "stream",
     "text": [
      "/Users/barbenshabat/opt/anaconda3/lib/python3.8/site-packages/sklearn/linear_model/_ridge.py:187: LinAlgWarning: Ill-conditioned matrix (rcond=4.30433e-17): result may not be accurate.\n",
      "  dual_coef = linalg.solve(K, y, sym_pos=True,\n"
     ]
    },
    {
     "name": "stdout",
     "output_type": "stream",
     "text": [
      "MAE: -0.004\n",
      "Config: {'alpha': 0.0}\n",
      "Predicted: 0.011\n",
      "\n",
      "\n",
      "split= 10\n",
      "state= MISSOURI\n",
      "MAE: -0.019\n",
      "Config: {'alpha': 0.01}\n",
      "Predicted: 0.165\n",
      "\n",
      "\n",
      "split= 9\n",
      "state= MONTANA\n",
      "MAE: -0.002\n",
      "Config: {'alpha': 0.01}\n",
      "Predicted: 0.023\n",
      "\n",
      "\n",
      "split= 10\n",
      "state= NEBRASKA\n",
      "MAE: -0.011\n",
      "Config: {'alpha': 0.99}\n",
      "Predicted: 0.052\n",
      "\n",
      "\n",
      "split= 10\n",
      "state= NEVADA\n",
      "MAE: -0.014\n",
      "Config: {'alpha': 0.02}\n",
      "Predicted: 0.148\n",
      "\n",
      "\n",
      "split= 10\n",
      "state= NEW HAMPSHIRE\n",
      "MAE: -0.006\n",
      "Config: {'alpha': 0.19}\n",
      "Predicted: 0.041\n",
      "\n",
      "\n",
      "split= 9\n",
      "state= NEW JERSEY\n"
     ]
    },
    {
     "name": "stderr",
     "output_type": "stream",
     "text": [
      "/Users/barbenshabat/opt/anaconda3/lib/python3.8/site-packages/sklearn/linear_model/_ridge.py:190: UserWarning: Singular matrix in solving dual problem. Using least-squares solution instead.\n",
      "  warnings.warn(\"Singular matrix in solving dual problem. Using \"\n"
     ]
    },
    {
     "name": "stdout",
     "output_type": "stream",
     "text": [
      "MAE: -0.004\n",
      "Config: {'alpha': 0.0}\n",
      "Predicted: 0.103\n",
      "\n",
      "\n",
      "split= 10\n",
      "state= NEW MEXICO\n"
     ]
    },
    {
     "name": "stderr",
     "output_type": "stream",
     "text": [
      "/Users/barbenshabat/opt/anaconda3/lib/python3.8/site-packages/sklearn/linear_model/_ridge.py:187: LinAlgWarning: Ill-conditioned matrix (rcond=1.34837e-17): result may not be accurate.\n",
      "  dual_coef = linalg.solve(K, y, sym_pos=True,\n"
     ]
    },
    {
     "name": "stdout",
     "output_type": "stream",
     "text": [
      "MAE: -0.008\n",
      "Config: {'alpha': 0.0}\n",
      "Predicted: 0.038\n",
      "\n",
      "\n",
      "split= 9\n",
      "state= NEW YORK\n"
     ]
    },
    {
     "name": "stderr",
     "output_type": "stream",
     "text": [
      "/Users/barbenshabat/opt/anaconda3/lib/python3.8/site-packages/sklearn/linear_model/_ridge.py:190: UserWarning: Singular matrix in solving dual problem. Using least-squares solution instead.\n",
      "  warnings.warn(\"Singular matrix in solving dual problem. Using \"\n"
     ]
    },
    {
     "name": "stdout",
     "output_type": "stream",
     "text": [
      "MAE: -0.021\n",
      "Config: {'alpha': 0.0}\n",
      "Predicted: 0.369\n",
      "\n",
      "\n",
      "split= 7\n",
      "state= NORTH CAROLINA\n"
     ]
    },
    {
     "name": "stderr",
     "output_type": "stream",
     "text": [
      "/Users/barbenshabat/opt/anaconda3/lib/python3.8/site-packages/sklearn/linear_model/_ridge.py:190: UserWarning: Singular matrix in solving dual problem. Using least-squares solution instead.\n",
      "  warnings.warn(\"Singular matrix in solving dual problem. Using \"\n"
     ]
    },
    {
     "name": "stdout",
     "output_type": "stream",
     "text": [
      "MAE: -0.004\n",
      "Config: {'alpha': 0.0}\n",
      "Predicted: 0.070\n",
      "\n",
      "\n",
      "split= 10\n",
      "state= NORTH DAKOTA\n",
      "MAE: -0.002\n",
      "Config: {'alpha': 0.02}\n",
      "Predicted: 0.020\n",
      "\n",
      "\n",
      "split= 10\n",
      "state= OHIO\n"
     ]
    },
    {
     "name": "stderr",
     "output_type": "stream",
     "text": [
      "/Users/barbenshabat/opt/anaconda3/lib/python3.8/site-packages/sklearn/linear_model/_ridge.py:187: LinAlgWarning: Ill-conditioned matrix (rcond=1.72661e-18): result may not be accurate.\n",
      "  dual_coef = linalg.solve(K, y, sym_pos=True,\n"
     ]
    },
    {
     "name": "stdout",
     "output_type": "stream",
     "text": [
      "MAE: -0.019\n",
      "Config: {'alpha': 0.0}\n",
      "Predicted: 0.264\n",
      "\n",
      "\n",
      "split= 10\n",
      "state= OKLAHOMA\n"
     ]
    },
    {
     "name": "stderr",
     "output_type": "stream",
     "text": [
      "/Users/barbenshabat/opt/anaconda3/lib/python3.8/site-packages/sklearn/linear_model/_ridge.py:187: LinAlgWarning: Ill-conditioned matrix (rcond=3.83559e-17): result may not be accurate.\n",
      "  dual_coef = linalg.solve(K, y, sym_pos=True,\n"
     ]
    },
    {
     "name": "stdout",
     "output_type": "stream",
     "text": [
      "MAE: -0.003\n",
      "Config: {'alpha': 0.0}\n",
      "Predicted: 0.163\n",
      "\n",
      "\n",
      "split= 10\n",
      "state= PENNSYLVANIA\n",
      "MAE: -0.010\n",
      "Config: {'alpha': 0.21}\n",
      "Predicted: 0.248\n",
      "\n",
      "\n",
      "split= 10\n",
      "state= RHODE ISLAND\n",
      "MAE: -0.003\n",
      "Config: {'alpha': 0.01}\n",
      "Predicted: 0.032\n",
      "\n",
      "\n",
      "split= 10\n",
      "state= SOUTH CAROLINA\n",
      "MAE: -0.007\n",
      "Config: {'alpha': 0.01}\n",
      "Predicted: 0.070\n",
      "\n",
      "\n",
      "split= 10\n",
      "state= SOUTH DAKOTA\n",
      "MAE: -0.003\n",
      "Config: {'alpha': 0.99}\n",
      "Predicted: 0.027\n",
      "\n",
      "\n",
      "split= 10\n",
      "state= TENNESSEE\n",
      "MAE: -0.009\n",
      "Config: {'alpha': 0.11}\n",
      "Predicted: 0.183\n",
      "\n",
      "\n",
      "split= 10\n",
      "state= TEXAS\n",
      "MAE: -0.021\n",
      "Config: {'alpha': 0.01}\n",
      "Predicted: 0.813\n",
      "\n",
      "\n",
      "split= 10\n",
      "state= UTAH\n"
     ]
    },
    {
     "name": "stderr",
     "output_type": "stream",
     "text": [
      "/Users/barbenshabat/opt/anaconda3/lib/python3.8/site-packages/sklearn/linear_model/_ridge.py:190: UserWarning: Singular matrix in solving dual problem. Using least-squares solution instead.\n",
      "  warnings.warn(\"Singular matrix in solving dual problem. Using \"\n"
     ]
    },
    {
     "name": "stdout",
     "output_type": "stream",
     "text": [
      "MAE: -0.008\n",
      "Config: {'alpha': 0.0}\n",
      "Predicted: 0.122\n",
      "\n",
      "\n",
      "split= 10\n",
      "state= VERMONT\n",
      "MAE: -0.002\n",
      "Config: {'alpha': 0.05}\n",
      "Predicted: 0.007\n",
      "\n",
      "\n",
      "split= 10\n",
      "state= VIRGINIA\n",
      "MAE: -0.009\n",
      "Config: {'alpha': 0.02}\n",
      "Predicted: 0.091\n",
      "\n",
      "\n",
      "split= 10\n",
      "state= WASHINGTON\n",
      "MAE: -0.015\n",
      "Config: {'alpha': 0.02}\n",
      "Predicted: 0.202\n",
      "\n",
      "\n",
      "split= 9\n",
      "state= WEST VIRGINIA\n",
      "MAE: -0.002\n",
      "Config: {'alpha': 0.03}\n",
      "Predicted: 0.015\n",
      "\n",
      "\n",
      "split= 10\n",
      "state= WISCONSIN\n",
      "MAE: -0.008\n",
      "Config: {'alpha': 0.03}\n",
      "Predicted: 0.141\n",
      "\n",
      "\n",
      "split= 10\n",
      "state= WYOMING\n",
      "MAE: -0.001\n",
      "Config: {'alpha': 0.04}\n",
      "Predicted: 0.010\n",
      "\n",
      "\n",
      "split= 9\n",
      "state= ILLINOIS\n",
      "MAE: -0.030\n",
      "Config: {'alpha': 0.12}\n",
      "Predicted: 0.296\n",
      "\n",
      "\n",
      "split= 9\n",
      "state= OREGON\n"
     ]
    },
    {
     "name": "stderr",
     "output_type": "stream",
     "text": [
      "/Users/barbenshabat/opt/anaconda3/lib/python3.8/site-packages/sklearn/linear_model/_ridge.py:187: LinAlgWarning: Ill-conditioned matrix (rcond=4.97826e-17): result may not be accurate.\n",
      "  dual_coef = linalg.solve(K, y, sym_pos=True,\n"
     ]
    },
    {
     "name": "stdout",
     "output_type": "stream",
     "text": [
      "MAE: -0.009\n",
      "Config: {'alpha': 0.0}\n",
      "Predicted: 0.122\n",
      "\n",
      "\n",
      "split= 7\n",
      "state= MINNESOTA\n"
     ]
    },
    {
     "name": "stderr",
     "output_type": "stream",
     "text": [
      "/Users/barbenshabat/opt/anaconda3/lib/python3.8/site-packages/sklearn/linear_model/_ridge.py:190: UserWarning: Singular matrix in solving dual problem. Using least-squares solution instead.\n",
      "  warnings.warn(\"Singular matrix in solving dual problem. Using \"\n"
     ]
    },
    {
     "name": "stdout",
     "output_type": "stream",
     "text": [
      "MAE: -0.007\n",
      "Config: {'alpha': 0.0}\n",
      "Predicted: 0.176\n",
      "\n",
      "\n",
      "---------crime--------------------------------- Robbery\n",
      "split= 8\n",
      "state= ALABAMA\n"
     ]
    },
    {
     "name": "stderr",
     "output_type": "stream",
     "text": [
      "/Users/barbenshabat/opt/anaconda3/lib/python3.8/site-packages/sklearn/linear_model/_ridge.py:190: UserWarning: Singular matrix in solving dual problem. Using least-squares solution instead.\n",
      "  warnings.warn(\"Singular matrix in solving dual problem. Using \"\n"
     ]
    },
    {
     "name": "stdout",
     "output_type": "stream",
     "text": [
      "MAE: -0.006\n",
      "Config: {'alpha': 0.0}\n",
      "Predicted: 0.061\n",
      "\n",
      "\n",
      "split= 9\n",
      "state= ALASKA\n",
      "MAE: -0.002\n",
      "Config: {'alpha': 0.04}\n",
      "Predicted: 0.019\n",
      "\n",
      "\n",
      "split= 10\n",
      "state= ARIZONA\n"
     ]
    },
    {
     "name": "stderr",
     "output_type": "stream",
     "text": [
      "/Users/barbenshabat/opt/anaconda3/lib/python3.8/site-packages/sklearn/linear_model/_ridge.py:187: LinAlgWarning: Ill-conditioned matrix (rcond=1.59471e-17): result may not be accurate.\n",
      "  dual_coef = linalg.solve(K, y, sym_pos=True,\n"
     ]
    },
    {
     "name": "stdout",
     "output_type": "stream",
     "text": [
      "MAE: -0.008\n",
      "Config: {'alpha': 0.0}\n",
      "Predicted: 0.118\n",
      "\n",
      "\n",
      "split= 10\n",
      "state= ARKANSAS\n",
      "MAE: -0.003\n",
      "Config: {'alpha': 0.04}\n",
      "Predicted: 0.037\n",
      "\n",
      "\n",
      "split= 10\n",
      "state= CALIFORNIA\n"
     ]
    },
    {
     "name": "stderr",
     "output_type": "stream",
     "text": [
      "/Users/barbenshabat/opt/anaconda3/lib/python3.8/site-packages/sklearn/linear_model/_ridge.py:190: UserWarning: Singular matrix in solving dual problem. Using least-squares solution instead.\n",
      "  warnings.warn(\"Singular matrix in solving dual problem. Using \"\n"
     ]
    },
    {
     "name": "stdout",
     "output_type": "stream",
     "text": [
      "MAE: -0.016\n",
      "Config: {'alpha': 0.0}\n",
      "Predicted: 0.872\n",
      "\n",
      "\n",
      "split= 10\n",
      "state= COLORADO\n"
     ]
    },
    {
     "name": "stderr",
     "output_type": "stream",
     "text": [
      "/Users/barbenshabat/opt/anaconda3/lib/python3.8/site-packages/sklearn/linear_model/_ridge.py:187: LinAlgWarning: Ill-conditioned matrix (rcond=1.1854e-17): result may not be accurate.\n",
      "  dual_coef = linalg.solve(K, y, sym_pos=True,\n"
     ]
    },
    {
     "name": "stdout",
     "output_type": "stream",
     "text": [
      "MAE: -0.002\n",
      "Config: {'alpha': 0.0}\n",
      "Predicted: 0.070\n",
      "\n",
      "\n",
      "split= 10\n",
      "state= CONNECTICUT\n",
      "MAE: -0.005\n",
      "Config: {'alpha': 0.2}\n",
      "Predicted: 0.052\n",
      "\n",
      "\n",
      "split= 10\n",
      "state= DELAWARE\n",
      "MAE: -0.001\n",
      "Config: {'alpha': 0.03}\n",
      "Predicted: 0.011\n",
      "\n",
      "\n",
      "split= 10\n",
      "state= DISTRICT OF COLUMBIA\n",
      "MAE: -0.004\n",
      "Config: {'alpha': 0.01}\n",
      "Predicted: 0.052\n",
      "\n",
      "\n",
      "split= 10\n",
      "state= FLORIDA\n"
     ]
    },
    {
     "name": "stderr",
     "output_type": "stream",
     "text": [
      "/Users/barbenshabat/opt/anaconda3/lib/python3.8/site-packages/sklearn/linear_model/_ridge.py:187: LinAlgWarning: Ill-conditioned matrix (rcond=1.34213e-17): result may not be accurate.\n",
      "  dual_coef = linalg.solve(K, y, sym_pos=True,\n"
     ]
    },
    {
     "name": "stdout",
     "output_type": "stream",
     "text": [
      "MAE: -0.015\n",
      "Config: {'alpha': 0.0}\n",
      "Predicted: 0.215\n",
      "\n",
      "\n",
      "split= 8\n",
      "state= GEORGIA\n"
     ]
    },
    {
     "name": "stderr",
     "output_type": "stream",
     "text": [
      "/Users/barbenshabat/opt/anaconda3/lib/python3.8/site-packages/sklearn/linear_model/_ridge.py:190: UserWarning: Singular matrix in solving dual problem. Using least-squares solution instead.\n",
      "  warnings.warn(\"Singular matrix in solving dual problem. Using \"\n"
     ]
    },
    {
     "name": "stdout",
     "output_type": "stream",
     "text": [
      "MAE: -0.008\n",
      "Config: {'alpha': 0.0}\n",
      "Predicted: 0.099\n",
      "\n",
      "\n",
      "split= 6\n",
      "state= HAWAII\n",
      "MAE: -0.001\n",
      "Config: {'alpha': 0.01}\n",
      "Predicted: 0.019\n",
      "\n",
      "\n",
      "split= 10\n",
      "state= IDAHO\n",
      "MAE: -0.000\n",
      "Config: {'alpha': 0.99}\n",
      "Predicted: 0.003\n",
      "\n",
      "\n",
      "split= 10\n",
      "state= INDIANA\n"
     ]
    },
    {
     "name": "stderr",
     "output_type": "stream",
     "text": [
      "/Users/barbenshabat/opt/anaconda3/lib/python3.8/site-packages/sklearn/linear_model/_ridge.py:187: LinAlgWarning: Ill-conditioned matrix (rcond=2.95719e-17): result may not be accurate.\n",
      "  dual_coef = linalg.solve(K, y, sym_pos=True,\n"
     ]
    },
    {
     "name": "stdout",
     "output_type": "stream",
     "text": [
      "MAE: -0.012\n",
      "Config: {'alpha': 0.0}\n",
      "Predicted: 0.002\n",
      "\n",
      "\n",
      "split= 9\n",
      "state= IOWA\n",
      "MAE: -0.002\n",
      "Config: {'alpha': 0.01}\n",
      "Predicted: 0.027\n",
      "\n",
      "\n",
      "split= 10\n",
      "state= KANSAS\n",
      "MAE: -0.006\n",
      "Config: {'alpha': 0.27}\n",
      "Predicted: 0.024\n",
      "\n",
      "\n",
      "split= 10\n",
      "state= KENTUCKY\n"
     ]
    },
    {
     "name": "stderr",
     "output_type": "stream",
     "text": [
      "/Users/barbenshabat/opt/anaconda3/lib/python3.8/site-packages/sklearn/linear_model/_ridge.py:190: UserWarning: Singular matrix in solving dual problem. Using least-squares solution instead.\n",
      "  warnings.warn(\"Singular matrix in solving dual problem. Using \"\n"
     ]
    },
    {
     "name": "stdout",
     "output_type": "stream",
     "text": [
      "MAE: -0.008\n",
      "Config: {'alpha': 0.0}\n",
      "Predicted: 0.045\n",
      "\n",
      "\n",
      "split= 10\n",
      "state= LOUISIANA\n"
     ]
    },
    {
     "name": "stderr",
     "output_type": "stream",
     "text": [
      "/Users/barbenshabat/opt/anaconda3/lib/python3.8/site-packages/sklearn/linear_model/_ridge.py:187: LinAlgWarning: Ill-conditioned matrix (rcond=2.58673e-17): result may not be accurate.\n",
      "  dual_coef = linalg.solve(K, y, sym_pos=True,\n"
     ]
    },
    {
     "name": "stdout",
     "output_type": "stream",
     "text": [
      "MAE: -0.006\n",
      "Config: {'alpha': 0.0}\n",
      "Predicted: 0.057\n",
      "\n",
      "\n",
      "split= 10\n",
      "state= MAINE\n",
      "MAE: -0.001\n",
      "Config: {'alpha': 0.13}\n",
      "Predicted: 0.004\n",
      "\n",
      "\n",
      "split= 10\n",
      "state= MARYLAND\n",
      "MAE: -0.007\n",
      "Config: {'alpha': 0.02}\n",
      "Predicted: 0.132\n",
      "\n",
      "\n",
      "split= 10\n",
      "state= MASSACHUSETTS\n",
      "MAE: -0.006\n",
      "Config: {'alpha': 0.14}\n",
      "Predicted: 0.096\n",
      "\n",
      "\n",
      "split= 10\n",
      "state= MICHIGAN\n"
     ]
    },
    {
     "name": "stderr",
     "output_type": "stream",
     "text": [
      "/Users/barbenshabat/opt/anaconda3/lib/python3.8/site-packages/sklearn/linear_model/_ridge.py:190: UserWarning: Singular matrix in solving dual problem. Using least-squares solution instead.\n",
      "  warnings.warn(\"Singular matrix in solving dual problem. Using \"\n"
     ]
    },
    {
     "name": "stdout",
     "output_type": "stream",
     "text": [
      "MAE: -0.011\n",
      "Config: {'alpha': 0.0}\n",
      "Predicted: 0.101\n",
      "\n",
      "\n",
      "split= 10\n",
      "state= MISSISSIPPI\n"
     ]
    },
    {
     "name": "stderr",
     "output_type": "stream",
     "text": [
      "/Users/barbenshabat/opt/anaconda3/lib/python3.8/site-packages/sklearn/linear_model/_ridge.py:187: LinAlgWarning: Ill-conditioned matrix (rcond=3.89013e-17): result may not be accurate.\n",
      "  dual_coef = linalg.solve(K, y, sym_pos=True,\n"
     ]
    },
    {
     "name": "stdout",
     "output_type": "stream",
     "text": [
      "MAE: -0.003\n",
      "Config: {'alpha': 0.0}\n",
      "Predicted: 0.015\n",
      "\n",
      "\n",
      "split= 10\n",
      "state= MISSOURI\n",
      "MAE: -0.010\n",
      "Config: {'alpha': 0.99}\n",
      "Predicted: 0.116\n",
      "\n",
      "\n",
      "split= 9\n",
      "state= MONTANA\n",
      "MAE: -0.001\n",
      "Config: {'alpha': 0.03}\n",
      "Predicted: 0.004\n",
      "\n",
      "\n",
      "split= 10\n",
      "state= NEBRASKA\n",
      "MAE: -0.002\n",
      "Config: {'alpha': 0.01}\n",
      "Predicted: 0.016\n",
      "\n",
      "\n",
      "split= 10\n",
      "state= NEVADA\n"
     ]
    },
    {
     "name": "stderr",
     "output_type": "stream",
     "text": [
      "/Users/barbenshabat/opt/anaconda3/lib/python3.8/site-packages/sklearn/linear_model/_ridge.py:190: UserWarning: Singular matrix in solving dual problem. Using least-squares solution instead.\n",
      "  warnings.warn(\"Singular matrix in solving dual problem. Using \"\n"
     ]
    },
    {
     "name": "stdout",
     "output_type": "stream",
     "text": [
      "MAE: -0.016\n",
      "Config: {'alpha': 0.0}\n",
      "Predicted: 0.075\n",
      "\n",
      "\n",
      "split= 10\n",
      "state= NEW HAMPSHIRE\n",
      "MAE: -0.001\n",
      "Config: {'alpha': 0.99}\n",
      "Predicted: 0.009\n",
      "\n",
      "\n",
      "split= 9\n",
      "state= NEW JERSEY\n"
     ]
    },
    {
     "name": "stderr",
     "output_type": "stream",
     "text": [
      "/Users/barbenshabat/opt/anaconda3/lib/python3.8/site-packages/sklearn/linear_model/_ridge.py:190: UserWarning: Singular matrix in solving dual problem. Using least-squares solution instead.\n",
      "  warnings.warn(\"Singular matrix in solving dual problem. Using \"\n"
     ]
    },
    {
     "name": "stdout",
     "output_type": "stream",
     "text": [
      "MAE: -0.006\n",
      "Config: {'alpha': 0.0}\n",
      "Predicted: 0.144\n",
      "\n",
      "\n",
      "split= 10\n",
      "state= NEW MEXICO\n"
     ]
    },
    {
     "name": "stderr",
     "output_type": "stream",
     "text": [
      "/Users/barbenshabat/opt/anaconda3/lib/python3.8/site-packages/sklearn/linear_model/_ridge.py:187: LinAlgWarning: Ill-conditioned matrix (rcond=1.84911e-17): result may not be accurate.\n",
      "  dual_coef = linalg.solve(K, y, sym_pos=True,\n"
     ]
    },
    {
     "name": "stdout",
     "output_type": "stream",
     "text": [
      "MAE: -0.006\n",
      "Config: {'alpha': 0.0}\n",
      "Predicted: 0.026\n",
      "\n",
      "\n",
      "split= 9\n",
      "state= NEW YORK\n"
     ]
    },
    {
     "name": "stderr",
     "output_type": "stream",
     "text": [
      "/Users/barbenshabat/opt/anaconda3/lib/python3.8/site-packages/sklearn/linear_model/_ridge.py:190: UserWarning: Singular matrix in solving dual problem. Using least-squares solution instead.\n",
      "  warnings.warn(\"Singular matrix in solving dual problem. Using \"\n"
     ]
    },
    {
     "name": "stdout",
     "output_type": "stream",
     "text": [
      "MAE: -0.015\n",
      "Config: {'alpha': 0.0}\n",
      "Predicted: 0.378\n",
      "\n",
      "\n",
      "split= 7\n",
      "state= NORTH CAROLINA\n",
      "MAE: -0.007\n",
      "Config: {'alpha': 0.01}\n",
      "Predicted: 0.118\n",
      "\n",
      "\n",
      "split= 10\n",
      "state= NORTH DAKOTA\n",
      "MAE: -0.000\n",
      "Config: {'alpha': 0.01}\n",
      "Predicted: 0.003\n",
      "\n",
      "\n",
      "split= 10\n",
      "state= OHIO\n",
      "MAE: -0.026\n",
      "Config: {'alpha': 0.33}\n",
      "Predicted: 0.144\n",
      "\n",
      "\n",
      "split= 10\n",
      "state= OKLAHOMA\n",
      "MAE: -0.003\n",
      "Config: {'alpha': 0.06}\n",
      "Predicted: 0.060\n",
      "\n",
      "\n",
      "split= 10\n",
      "state= PENNSYLVANIA\n"
     ]
    },
    {
     "name": "stderr",
     "output_type": "stream",
     "text": [
      "/Users/barbenshabat/opt/anaconda3/lib/python3.8/site-packages/sklearn/linear_model/_ridge.py:190: UserWarning: Singular matrix in solving dual problem. Using least-squares solution instead.\n",
      "  warnings.warn(\"Singular matrix in solving dual problem. Using \"\n"
     ]
    },
    {
     "name": "stdout",
     "output_type": "stream",
     "text": [
      "MAE: -0.011\n",
      "Config: {'alpha': 0.0}\n",
      "Predicted: 0.114\n",
      "\n",
      "\n",
      "split= 10\n",
      "state= RHODE ISLAND\n",
      "MAE: -0.002\n",
      "Config: {'alpha': 0.01}\n",
      "Predicted: 0.012\n",
      "\n",
      "\n",
      "split= 10\n",
      "state= SOUTH CAROLINA\n",
      "MAE: -0.004\n",
      "Config: {'alpha': 0.6900000000000001}\n",
      "Predicted: 0.040\n",
      "\n",
      "\n",
      "split= 10\n",
      "state= SOUTH DAKOTA\n"
     ]
    },
    {
     "name": "stderr",
     "output_type": "stream",
     "text": [
      "/Users/barbenshabat/opt/anaconda3/lib/python3.8/site-packages/sklearn/linear_model/_ridge.py:190: UserWarning: Singular matrix in solving dual problem. Using least-squares solution instead.\n",
      "  warnings.warn(\"Singular matrix in solving dual problem. Using \"\n"
     ]
    },
    {
     "name": "stdout",
     "output_type": "stream",
     "text": [
      "MAE: -0.000\n",
      "Config: {'alpha': 0.0}\n",
      "Predicted: 0.004\n",
      "\n",
      "\n",
      "split= 10\n",
      "state= TENNESSEE\n"
     ]
    },
    {
     "name": "stderr",
     "output_type": "stream",
     "text": [
      "/Users/barbenshabat/opt/anaconda3/lib/python3.8/site-packages/sklearn/linear_model/_ridge.py:187: LinAlgWarning: Ill-conditioned matrix (rcond=2.52839e-17): result may not be accurate.\n",
      "  dual_coef = linalg.solve(K, y, sym_pos=True,\n"
     ]
    },
    {
     "name": "stdout",
     "output_type": "stream",
     "text": [
      "MAE: -0.003\n",
      "Config: {'alpha': 0.0}\n",
      "Predicted: 0.153\n",
      "\n",
      "\n",
      "split= 10\n",
      "state= TEXAS\n"
     ]
    },
    {
     "name": "stderr",
     "output_type": "stream",
     "text": [
      "/Users/barbenshabat/opt/anaconda3/lib/python3.8/site-packages/sklearn/linear_model/_ridge.py:190: UserWarning: Singular matrix in solving dual problem. Using least-squares solution instead.\n",
      "  warnings.warn(\"Singular matrix in solving dual problem. Using \"\n"
     ]
    },
    {
     "name": "stdout",
     "output_type": "stream",
     "text": [
      "MAE: -0.034\n",
      "Config: {'alpha': 0.0}\n",
      "Predicted: 0.462\n",
      "\n",
      "\n",
      "split= 10\n",
      "state= UTAH\n",
      "MAE: -0.004\n",
      "Config: {'alpha': 0.01}\n",
      "Predicted: 0.024\n",
      "\n",
      "\n",
      "split= 10\n",
      "state= VERMONT\n"
     ]
    },
    {
     "name": "stderr",
     "output_type": "stream",
     "text": [
      "/Users/barbenshabat/opt/anaconda3/lib/python3.8/site-packages/sklearn/linear_model/_ridge.py:187: LinAlgWarning: Ill-conditioned matrix (rcond=3.11085e-17): result may not be accurate.\n",
      "  dual_coef = linalg.solve(K, y, sym_pos=True,\n"
     ]
    },
    {
     "name": "stdout",
     "output_type": "stream",
     "text": [
      "MAE: -0.000\n",
      "Config: {'alpha': 0.0}\n",
      "Predicted: 0.001\n",
      "\n",
      "\n",
      "split= 10\n",
      "state= VIRGINIA\n",
      "MAE: -0.005\n",
      "Config: {'alpha': 0.05}\n",
      "Predicted: 0.050\n",
      "\n",
      "\n",
      "split= 10\n",
      "state= WASHINGTON\n",
      "MAE: -0.003\n",
      "Config: {'alpha': 0.1}\n",
      "Predicted: 0.101\n",
      "\n",
      "\n",
      "split= 9\n",
      "state= WEST VIRGINIA\n",
      "MAE: -0.002\n",
      "Config: {'alpha': 0.03}\n",
      "Predicted: 0.006\n",
      "\n",
      "\n",
      "split= 10\n",
      "state= WISCONSIN\n"
     ]
    },
    {
     "name": "stderr",
     "output_type": "stream",
     "text": [
      "/Users/barbenshabat/opt/anaconda3/lib/python3.8/site-packages/sklearn/linear_model/_ridge.py:187: LinAlgWarning: Ill-conditioned matrix (rcond=2.90576e-17): result may not be accurate.\n",
      "  dual_coef = linalg.solve(K, y, sym_pos=True,\n"
     ]
    },
    {
     "name": "stdout",
     "output_type": "stream",
     "text": [
      "MAE: -0.007\n",
      "Config: {'alpha': 0.0}\n",
      "Predicted: 0.063\n",
      "\n",
      "\n",
      "split= 10\n",
      "state= WYOMING\n",
      "MAE: -0.000\n",
      "Config: {'alpha': 0.99}\n",
      "Predicted: 0.001\n",
      "\n",
      "\n",
      "split= 9\n",
      "state= ILLINOIS\n",
      "MAE: -0.023\n",
      "Config: {'alpha': 0.01}\n",
      "Predicted: 0.272\n",
      "\n",
      "\n",
      "split= 9\n",
      "state= OREGON\n",
      "MAE: -0.006\n",
      "Config: {'alpha': 0.01}\n",
      "Predicted: 0.046\n",
      "\n",
      "\n",
      "split= 7\n",
      "state= MINNESOTA\n",
      "MAE: -0.006\n",
      "Config: {'alpha': 0.05}\n",
      "Predicted: 0.072\n",
      "\n",
      "\n",
      "---------crime--------------------------------- Aggravated assault\n",
      "split= 8\n",
      "state= ALABAMA\n"
     ]
    },
    {
     "name": "stderr",
     "output_type": "stream",
     "text": [
      "/Users/barbenshabat/opt/anaconda3/lib/python3.8/site-packages/sklearn/linear_model/_ridge.py:190: UserWarning: Singular matrix in solving dual problem. Using least-squares solution instead.\n",
      "  warnings.warn(\"Singular matrix in solving dual problem. Using \"\n"
     ]
    },
    {
     "name": "stdout",
     "output_type": "stream",
     "text": [
      "MAE: -0.011\n",
      "Config: {'alpha': 0.0}\n",
      "Predicted: 0.122\n",
      "\n",
      "\n",
      "split= 9\n",
      "state= ALASKA\n",
      "MAE: -0.004\n",
      "Config: {'alpha': 0.04}\n",
      "Predicted: 0.043\n",
      "\n",
      "\n",
      "split= 10\n",
      "state= ARIZONA\n"
     ]
    },
    {
     "name": "stderr",
     "output_type": "stream",
     "text": [
      "/Users/barbenshabat/opt/anaconda3/lib/python3.8/site-packages/sklearn/linear_model/_ridge.py:187: LinAlgWarning: Ill-conditioned matrix (rcond=2.14382e-17): result may not be accurate.\n",
      "  dual_coef = linalg.solve(K, y, sym_pos=True,\n"
     ]
    },
    {
     "name": "stdout",
     "output_type": "stream",
     "text": [
      "MAE: -0.014\n",
      "Config: {'alpha': 0.0}\n",
      "Predicted: 0.239\n",
      "\n",
      "\n",
      "split= 10\n",
      "state= ARKANSAS\n"
     ]
    },
    {
     "name": "stderr",
     "output_type": "stream",
     "text": [
      "/Users/barbenshabat/opt/anaconda3/lib/python3.8/site-packages/sklearn/linear_model/_ridge.py:190: UserWarning: Singular matrix in solving dual problem. Using least-squares solution instead.\n",
      "  warnings.warn(\"Singular matrix in solving dual problem. Using \"\n"
     ]
    },
    {
     "name": "stdout",
     "output_type": "stream",
     "text": [
      "MAE: -0.006\n",
      "Config: {'alpha': 0.0}\n",
      "Predicted: 0.113\n",
      "\n",
      "\n",
      "split= 10\n",
      "state= CALIFORNIA\n"
     ]
    },
    {
     "name": "stderr",
     "output_type": "stream",
     "text": [
      "/Users/barbenshabat/opt/anaconda3/lib/python3.8/site-packages/sklearn/linear_model/_ridge.py:187: LinAlgWarning: Ill-conditioned matrix (rcond=1.21329e-17): result may not be accurate.\n",
      "  dual_coef = linalg.solve(K, y, sym_pos=True,\n"
     ]
    },
    {
     "name": "stdout",
     "output_type": "stream",
     "text": [
      "MAE: -0.018\n",
      "Config: {'alpha': 0.0}\n",
      "Predicted: 0.954\n",
      "\n",
      "\n",
      "split= 10\n",
      "state= COLORADO\n",
      "MAE: -0.006\n",
      "Config: {'alpha': 0.01}\n",
      "Predicted: 0.140\n",
      "\n",
      "\n",
      "split= 10\n",
      "state= CONNECTICUT\n",
      "MAE: -0.005\n",
      "Config: {'alpha': 0.06}\n",
      "Predicted: 0.052\n",
      "\n",
      "\n",
      "split= 10\n",
      "state= DELAWARE\n",
      "MAE: -0.001\n",
      "Config: {'alpha': 0.79}\n",
      "Predicted: 0.016\n",
      "\n",
      "\n",
      "split= 10\n",
      "state= DISTRICT OF COLUMBIA\n",
      "MAE: -0.003\n",
      "Config: {'alpha': 0.05}\n",
      "Predicted: 0.049\n",
      "\n",
      "\n",
      "split= 10\n",
      "state= FLORIDA\n",
      "MAE: -0.023\n",
      "Config: {'alpha': 0.1}\n",
      "Predicted: 0.375\n",
      "\n",
      "\n",
      "split= 8\n",
      "state= GEORGIA\n"
     ]
    },
    {
     "name": "stderr",
     "output_type": "stream",
     "text": [
      "/Users/barbenshabat/opt/anaconda3/lib/python3.8/site-packages/sklearn/linear_model/_ridge.py:190: UserWarning: Singular matrix in solving dual problem. Using least-squares solution instead.\n",
      "  warnings.warn(\"Singular matrix in solving dual problem. Using \"\n"
     ]
    },
    {
     "name": "stdout",
     "output_type": "stream",
     "text": [
      "MAE: -0.011\n",
      "Config: {'alpha': 0.0}\n",
      "Predicted: 0.117\n",
      "\n",
      "\n",
      "split= 6\n",
      "state= HAWAII\n",
      "MAE: -0.004\n",
      "Config: {'alpha': 0.02}\n",
      "Predicted: 0.014\n",
      "\n",
      "\n",
      "split= 10\n",
      "state= IDAHO\n",
      "MAE: -0.001\n",
      "Config: {'alpha': 0.02}\n",
      "Predicted: 0.022\n",
      "\n",
      "\n",
      "split= 10\n",
      "state= INDIANA\n"
     ]
    },
    {
     "name": "stderr",
     "output_type": "stream",
     "text": [
      "/Users/barbenshabat/opt/anaconda3/lib/python3.8/site-packages/sklearn/linear_model/_ridge.py:187: LinAlgWarning: Ill-conditioned matrix (rcond=2.62992e-17): result may not be accurate.\n",
      "  dual_coef = linalg.solve(K, y, sym_pos=True,\n"
     ]
    },
    {
     "name": "stdout",
     "output_type": "stream",
     "text": [
      "MAE: -0.009\n",
      "Config: {'alpha': 0.0}\n",
      "Predicted: 0.068\n",
      "\n",
      "\n",
      "split= 9\n",
      "state= IOWA\n",
      "MAE: -0.005\n",
      "Config: {'alpha': 0.08}\n",
      "Predicted: 0.068\n",
      "\n",
      "\n",
      "split= 10\n",
      "state= KANSAS\n"
     ]
    },
    {
     "name": "stderr",
     "output_type": "stream",
     "text": [
      "/Users/barbenshabat/opt/anaconda3/lib/python3.8/site-packages/sklearn/linear_model/_ridge.py:190: UserWarning: Singular matrix in solving dual problem. Using least-squares solution instead.\n",
      "  warnings.warn(\"Singular matrix in solving dual problem. Using \"\n"
     ]
    },
    {
     "name": "stdout",
     "output_type": "stream",
     "text": [
      "MAE: -0.012\n",
      "Config: {'alpha': 0.0}\n",
      "Predicted: 0.061\n",
      "\n",
      "\n",
      "split= 10\n",
      "state= KENTUCKY\n"
     ]
    },
    {
     "name": "stderr",
     "output_type": "stream",
     "text": [
      "/Users/barbenshabat/opt/anaconda3/lib/python3.8/site-packages/sklearn/linear_model/_ridge.py:190: UserWarning: Singular matrix in solving dual problem. Using least-squares solution instead.\n",
      "  warnings.warn(\"Singular matrix in solving dual problem. Using \"\n"
     ]
    },
    {
     "name": "stdout",
     "output_type": "stream",
     "text": [
      "MAE: -0.004\n",
      "Config: {'alpha': 0.0}\n",
      "Predicted: 0.036\n",
      "\n",
      "\n",
      "split= 10\n",
      "state= LOUISIANA\n",
      "MAE: -0.010\n",
      "Config: {'alpha': 0.01}\n",
      "Predicted: 0.114\n",
      "\n",
      "\n",
      "split= 10\n",
      "state= MAINE\n",
      "MAE: -0.001\n",
      "Config: {'alpha': 0.01}\n",
      "Predicted: 0.006\n",
      "\n",
      "\n",
      "split= 10\n",
      "state= MARYLAND\n"
     ]
    },
    {
     "name": "stderr",
     "output_type": "stream",
     "text": [
      "/Users/barbenshabat/opt/anaconda3/lib/python3.8/site-packages/sklearn/linear_model/_ridge.py:187: LinAlgWarning: Ill-conditioned matrix (rcond=3.88732e-17): result may not be accurate.\n",
      "  dual_coef = linalg.solve(K, y, sym_pos=True,\n"
     ]
    },
    {
     "name": "stdout",
     "output_type": "stream",
     "text": [
      "MAE: -0.005\n",
      "Config: {'alpha': 0.0}\n",
      "Predicted: 0.098\n",
      "\n",
      "\n",
      "split= 10\n",
      "state= MASSACHUSETTS\n"
     ]
    },
    {
     "name": "stderr",
     "output_type": "stream",
     "text": [
      "/Users/barbenshabat/opt/anaconda3/lib/python3.8/site-packages/sklearn/linear_model/_ridge.py:190: UserWarning: Singular matrix in solving dual problem. Using least-squares solution instead.\n",
      "  warnings.warn(\"Singular matrix in solving dual problem. Using \"\n"
     ]
    },
    {
     "name": "stdout",
     "output_type": "stream",
     "text": [
      "MAE: -0.011\n",
      "Config: {'alpha': 0.0}\n",
      "Predicted: 0.179\n",
      "\n",
      "\n",
      "split= 10\n",
      "state= MICHIGAN\n"
     ]
    },
    {
     "name": "stderr",
     "output_type": "stream",
     "text": [
      "/Users/barbenshabat/opt/anaconda3/lib/python3.8/site-packages/sklearn/linear_model/_ridge.py:190: UserWarning: Singular matrix in solving dual problem. Using least-squares solution instead.\n",
      "  warnings.warn(\"Singular matrix in solving dual problem. Using \"\n"
     ]
    },
    {
     "name": "stdout",
     "output_type": "stream",
     "text": [
      "MAE: -0.017\n",
      "Config: {'alpha': 0.0}\n",
      "Predicted: 0.323\n",
      "\n",
      "\n",
      "split= 10\n",
      "state= MISSISSIPPI\n"
     ]
    },
    {
     "name": "stderr",
     "output_type": "stream",
     "text": [
      "/Users/barbenshabat/opt/anaconda3/lib/python3.8/site-packages/sklearn/linear_model/_ridge.py:187: LinAlgWarning: Ill-conditioned matrix (rcond=4.55998e-17): result may not be accurate.\n",
      "  dual_coef = linalg.solve(K, y, sym_pos=True,\n"
     ]
    },
    {
     "name": "stdout",
     "output_type": "stream",
     "text": [
      "MAE: -0.002\n",
      "Config: {'alpha': 0.0}\n",
      "Predicted: 0.011\n",
      "\n",
      "\n",
      "split= 10\n",
      "state= MISSOURI\n"
     ]
    },
    {
     "name": "stderr",
     "output_type": "stream",
     "text": [
      "/Users/barbenshabat/opt/anaconda3/lib/python3.8/site-packages/sklearn/linear_model/_ridge.py:187: LinAlgWarning: Ill-conditioned matrix (rcond=5.52184e-17): result may not be accurate.\n",
      "  dual_coef = linalg.solve(K, y, sym_pos=True,\n"
     ]
    },
    {
     "name": "stdout",
     "output_type": "stream",
     "text": [
      "MAE: -0.010\n",
      "Config: {'alpha': 0.0}\n",
      "Predicted: 0.221\n",
      "\n",
      "\n",
      "split= 9\n",
      "state= MONTANA\n",
      "MAE: -0.001\n",
      "Config: {'alpha': 0.03}\n",
      "Predicted: 0.013\n",
      "\n",
      "\n",
      "split= 10\n",
      "state= NEBRASKA\n",
      "MAE: -0.003\n",
      "Config: {'alpha': 0.05}\n",
      "Predicted: 0.032\n",
      "\n",
      "\n",
      "split= 10\n",
      "state= NEVADA\n",
      "MAE: -0.012\n",
      "Config: {'alpha': 0.99}\n",
      "Predicted: 0.126\n",
      "\n",
      "\n",
      "split= 10\n",
      "state= NEW HAMPSHIRE\n",
      "MAE: -0.001\n",
      "Config: {'alpha': 0.89}\n",
      "Predicted: 0.016\n",
      "\n",
      "\n",
      "split= 9\n",
      "state= NEW JERSEY\n"
     ]
    },
    {
     "name": "stderr",
     "output_type": "stream",
     "text": [
      "/Users/barbenshabat/opt/anaconda3/lib/python3.8/site-packages/sklearn/linear_model/_ridge.py:190: UserWarning: Singular matrix in solving dual problem. Using least-squares solution instead.\n",
      "  warnings.warn(\"Singular matrix in solving dual problem. Using \"\n"
     ]
    },
    {
     "name": "stdout",
     "output_type": "stream",
     "text": [
      "MAE: -0.004\n",
      "Config: {'alpha': 0.0}\n",
      "Predicted: 0.140\n",
      "\n",
      "\n",
      "split= 10\n",
      "state= NEW MEXICO\n"
     ]
    },
    {
     "name": "stderr",
     "output_type": "stream",
     "text": [
      "/Users/barbenshabat/opt/anaconda3/lib/python3.8/site-packages/sklearn/linear_model/_ridge.py:187: LinAlgWarning: Ill-conditioned matrix (rcond=1.68195e-17): result may not be accurate.\n",
      "  dual_coef = linalg.solve(K, y, sym_pos=True,\n"
     ]
    },
    {
     "name": "stdout",
     "output_type": "stream",
     "text": [
      "MAE: -0.012\n",
      "Config: {'alpha': 0.0}\n",
      "Predicted: 0.048\n",
      "\n",
      "\n",
      "split= 9\n",
      "state= NEW YORK\n"
     ]
    },
    {
     "name": "stderr",
     "output_type": "stream",
     "text": [
      "/Users/barbenshabat/opt/anaconda3/lib/python3.8/site-packages/sklearn/linear_model/_ridge.py:190: UserWarning: Singular matrix in solving dual problem. Using least-squares solution instead.\n",
      "  warnings.warn(\"Singular matrix in solving dual problem. Using \"\n"
     ]
    },
    {
     "name": "stdout",
     "output_type": "stream",
     "text": [
      "MAE: -0.007\n",
      "Config: {'alpha': 0.0}\n",
      "Predicted: 0.527\n",
      "\n",
      "\n",
      "split= 7\n",
      "state= NORTH CAROLINA\n",
      "MAE: -0.013\n",
      "Config: {'alpha': 0.99}\n",
      "Predicted: 0.179\n",
      "\n",
      "\n",
      "split= 10\n",
      "state= NORTH DAKOTA\n",
      "MAE: -0.001\n",
      "Config: {'alpha': 0.03}\n",
      "Predicted: 0.011\n",
      "\n",
      "\n",
      "split= 10\n",
      "state= OHIO\n"
     ]
    },
    {
     "name": "stderr",
     "output_type": "stream",
     "text": [
      "/Users/barbenshabat/opt/anaconda3/lib/python3.8/site-packages/sklearn/linear_model/_ridge.py:187: LinAlgWarning: Ill-conditioned matrix (rcond=4.48624e-18): result may not be accurate.\n",
      "  dual_coef = linalg.solve(K, y, sym_pos=True,\n"
     ]
    },
    {
     "name": "stdout",
     "output_type": "stream",
     "text": [
      "MAE: -0.012\n",
      "Config: {'alpha': 0.0}\n",
      "Predicted: 0.147\n",
      "\n",
      "\n",
      "split= 10\n",
      "state= OKLAHOMA\n",
      "MAE: -0.005\n",
      "Config: {'alpha': 0.01}\n",
      "Predicted: 0.148\n",
      "\n",
      "\n",
      "split= 10\n",
      "state= PENNSYLVANIA\n"
     ]
    },
    {
     "name": "stderr",
     "output_type": "stream",
     "text": [
      "/Users/barbenshabat/opt/anaconda3/lib/python3.8/site-packages/sklearn/linear_model/_ridge.py:190: UserWarning: Singular matrix in solving dual problem. Using least-squares solution instead.\n",
      "  warnings.warn(\"Singular matrix in solving dual problem. Using \"\n"
     ]
    },
    {
     "name": "stdout",
     "output_type": "stream",
     "text": [
      "MAE: -0.008\n",
      "Config: {'alpha': 0.0}\n",
      "Predicted: 0.196\n",
      "\n",
      "\n",
      "split= 10\n",
      "state= RHODE ISLAND\n",
      "MAE: -0.002\n",
      "Config: {'alpha': 0.01}\n",
      "Predicted: 0.017\n",
      "\n",
      "\n",
      "split= 10\n",
      "state= SOUTH CAROLINA\n",
      "MAE: -0.008\n",
      "Config: {'alpha': 0.99}\n",
      "Predicted: 0.081\n",
      "\n",
      "\n",
      "split= 10\n",
      "state= SOUTH DAKOTA\n",
      "MAE: -0.002\n",
      "Config: {'alpha': 0.06}\n",
      "Predicted: 0.016\n",
      "\n",
      "\n",
      "split= 10\n",
      "state= TENNESSEE\n",
      "MAE: -0.006\n",
      "Config: {'alpha': 0.09}\n",
      "Predicted: 0.336\n",
      "\n",
      "\n",
      "split= 10\n",
      "state= TEXAS\n"
     ]
    },
    {
     "name": "stderr",
     "output_type": "stream",
     "text": [
      "/Users/barbenshabat/opt/anaconda3/lib/python3.8/site-packages/sklearn/linear_model/_ridge.py:190: UserWarning: Singular matrix in solving dual problem. Using least-squares solution instead.\n",
      "  warnings.warn(\"Singular matrix in solving dual problem. Using \"\n"
     ]
    },
    {
     "name": "stdout",
     "output_type": "stream",
     "text": [
      "MAE: -0.034\n",
      "Config: {'alpha': 0.0}\n",
      "Predicted: 0.735\n",
      "\n",
      "\n",
      "split= 10\n",
      "state= UTAH\n"
     ]
    },
    {
     "name": "stderr",
     "output_type": "stream",
     "text": [
      "/Users/barbenshabat/opt/anaconda3/lib/python3.8/site-packages/sklearn/linear_model/_ridge.py:190: UserWarning: Singular matrix in solving dual problem. Using least-squares solution instead.\n",
      "  warnings.warn(\"Singular matrix in solving dual problem. Using \"\n"
     ]
    },
    {
     "name": "stdout",
     "output_type": "stream",
     "text": [
      "MAE: -0.005\n",
      "Config: {'alpha': 0.0}\n",
      "Predicted: 0.045\n",
      "\n",
      "\n",
      "split= 10\n",
      "state= VERMONT\n",
      "MAE: -0.001\n",
      "Config: {'alpha': 0.99}\n",
      "Predicted: 0.002\n",
      "\n",
      "\n",
      "split= 10\n",
      "state= VIRGINIA\n",
      "MAE: -0.003\n",
      "Config: {'alpha': 0.99}\n",
      "Predicted: 0.070\n",
      "\n",
      "\n",
      "split= 10\n",
      "state= WASHINGTON\n"
     ]
    },
    {
     "name": "stderr",
     "output_type": "stream",
     "text": [
      "/Users/barbenshabat/opt/anaconda3/lib/python3.8/site-packages/sklearn/linear_model/_ridge.py:187: LinAlgWarning: Ill-conditioned matrix (rcond=6.12613e-18): result may not be accurate.\n",
      "  dual_coef = linalg.solve(K, y, sym_pos=True,\n"
     ]
    },
    {
     "name": "stdout",
     "output_type": "stream",
     "text": [
      "MAE: -0.004\n",
      "Config: {'alpha': 0.0}\n",
      "Predicted: 0.140\n",
      "\n",
      "\n",
      "split= 9\n",
      "state= WEST VIRGINIA\n",
      "MAE: -0.004\n",
      "Config: {'alpha': 0.03}\n",
      "Predicted: 0.016\n",
      "\n",
      "\n",
      "split= 10\n",
      "state= WISCONSIN\n",
      "MAE: -0.007\n",
      "Config: {'alpha': 0.03}\n",
      "Predicted: 0.136\n",
      "\n",
      "\n",
      "split= 10\n",
      "state= WYOMING\n",
      "MAE: -0.001\n",
      "Config: {'alpha': 0.04}\n",
      "Predicted: 0.005\n",
      "\n",
      "\n",
      "split= 9\n",
      "state= ILLINOIS\n"
     ]
    },
    {
     "name": "stderr",
     "output_type": "stream",
     "text": [
      "/Users/barbenshabat/opt/anaconda3/lib/python3.8/site-packages/sklearn/linear_model/_ridge.py:187: LinAlgWarning: Ill-conditioned matrix (rcond=3.22846e-17): result may not be accurate.\n",
      "  dual_coef = linalg.solve(K, y, sym_pos=True,\n"
     ]
    },
    {
     "name": "stdout",
     "output_type": "stream",
     "text": [
      "MAE: -0.015\n",
      "Config: {'alpha': 0.0}\n",
      "Predicted: 0.327\n",
      "\n",
      "\n",
      "split= 9\n",
      "state= OREGON\n",
      "MAE: -0.007\n",
      "Config: {'alpha': 0.01}\n",
      "Predicted: 0.065\n",
      "\n",
      "\n",
      "split= 7\n",
      "state= MINNESOTA\n",
      "MAE: -0.003\n",
      "Config: {'alpha': 0.02}\n",
      "Predicted: 0.081\n",
      "\n",
      "\n",
      "---------crime--------------------------------- Property crime\n",
      "split= 8\n",
      "state= ALABAMA\n"
     ]
    },
    {
     "name": "stderr",
     "output_type": "stream",
     "text": [
      "/Users/barbenshabat/opt/anaconda3/lib/python3.8/site-packages/sklearn/linear_model/_ridge.py:190: UserWarning: Singular matrix in solving dual problem. Using least-squares solution instead.\n",
      "  warnings.warn(\"Singular matrix in solving dual problem. Using \"\n"
     ]
    },
    {
     "name": "stdout",
     "output_type": "stream",
     "text": [
      "MAE: -0.006\n",
      "Config: {'alpha': 0.0}\n",
      "Predicted: 0.094\n",
      "\n",
      "\n",
      "split= 9\n",
      "state= ALASKA\n",
      "MAE: -0.002\n",
      "Config: {'alpha': 0.02}\n",
      "Predicted: 0.027\n",
      "\n",
      "\n",
      "split= 10\n",
      "state= ARIZONA\n",
      "MAE: -0.018\n",
      "Config: {'alpha': 0.99}\n",
      "Predicted: 0.210\n",
      "\n",
      "\n",
      "split= 10\n",
      "state= ARKANSAS\n"
     ]
    },
    {
     "name": "stderr",
     "output_type": "stream",
     "text": [
      "/Users/barbenshabat/opt/anaconda3/lib/python3.8/site-packages/sklearn/linear_model/_ridge.py:190: UserWarning: Singular matrix in solving dual problem. Using least-squares solution instead.\n",
      "  warnings.warn(\"Singular matrix in solving dual problem. Using \"\n"
     ]
    },
    {
     "name": "stdout",
     "output_type": "stream",
     "text": [
      "MAE: -0.003\n",
      "Config: {'alpha': 0.0}\n",
      "Predicted: 0.077\n",
      "\n",
      "\n",
      "split= 10\n",
      "state= CALIFORNIA\n"
     ]
    },
    {
     "name": "stderr",
     "output_type": "stream",
     "text": [
      "/Users/barbenshabat/opt/anaconda3/lib/python3.8/site-packages/sklearn/linear_model/_ridge.py:187: LinAlgWarning: Ill-conditioned matrix (rcond=9.66794e-19): result may not be accurate.\n",
      "  dual_coef = linalg.solve(K, y, sym_pos=True,\n"
     ]
    },
    {
     "name": "stdout",
     "output_type": "stream",
     "text": [
      "MAE: -0.025\n",
      "Config: {'alpha': 0.0}\n",
      "Predicted: 0.806\n",
      "\n",
      "\n",
      "split= 10\n",
      "state= COLORADO\n",
      "MAE: -0.005\n",
      "Config: {'alpha': 0.13}\n",
      "Predicted: 0.148\n",
      "\n",
      "\n",
      "split= 10\n",
      "state= CONNECTICUT\n",
      "MAE: -0.003\n",
      "Config: {'alpha': 0.12}\n",
      "Predicted: 0.071\n",
      "\n",
      "\n",
      "split= 10\n",
      "state= DELAWARE\n",
      "MAE: -0.001\n",
      "Config: {'alpha': 0.02}\n",
      "Predicted: 0.010\n",
      "\n",
      "\n",
      "split= 10\n",
      "state= DISTRICT OF COLUMBIA\n",
      "MAE: -0.002\n",
      "Config: {'alpha': 0.19}\n",
      "Predicted: 0.037\n",
      "\n",
      "\n",
      "split= 10\n",
      "state= FLORIDA\n",
      "MAE: -0.018\n",
      "Config: {'alpha': 0.1}\n",
      "Predicted: 0.361\n",
      "\n",
      "\n",
      "split= 8\n",
      "state= GEORGIA\n"
     ]
    },
    {
     "name": "stderr",
     "output_type": "stream",
     "text": [
      "/Users/barbenshabat/opt/anaconda3/lib/python3.8/site-packages/sklearn/linear_model/_ridge.py:190: UserWarning: Singular matrix in solving dual problem. Using least-squares solution instead.\n",
      "  warnings.warn(\"Singular matrix in solving dual problem. Using \"\n"
     ]
    },
    {
     "name": "stdout",
     "output_type": "stream",
     "text": [
      "MAE: -0.011\n",
      "Config: {'alpha': 0.0}\n",
      "Predicted: 0.134\n",
      "\n",
      "\n",
      "split= 6\n",
      "state= HAWAII\n",
      "MAE: -0.001\n",
      "Config: {'alpha': 0.01}\n",
      "Predicted: 0.033\n",
      "\n",
      "\n",
      "split= 10\n",
      "state= IDAHO\n",
      "MAE: -0.002\n",
      "Config: {'alpha': 0.12}\n",
      "Predicted: 0.026\n",
      "\n",
      "\n",
      "split= 10\n",
      "state= INDIANA\n"
     ]
    },
    {
     "name": "stderr",
     "output_type": "stream",
     "text": [
      "/Users/barbenshabat/opt/anaconda3/lib/python3.8/site-packages/sklearn/linear_model/_ridge.py:187: LinAlgWarning: Ill-conditioned matrix (rcond=7.26255e-18): result may not be accurate.\n",
      "  dual_coef = linalg.solve(K, y, sym_pos=True,\n"
     ]
    },
    {
     "name": "stdout",
     "output_type": "stream",
     "text": [
      "MAE: -0.010\n",
      "Config: {'alpha': 0.0}\n",
      "Predicted: 0.043\n",
      "\n",
      "\n",
      "split= 9\n",
      "state= IOWA\n",
      "MAE: -0.004\n",
      "Config: {'alpha': 0.99}\n",
      "Predicted: 0.067\n",
      "\n",
      "\n",
      "split= 10\n",
      "state= KANSAS\n"
     ]
    },
    {
     "name": "stderr",
     "output_type": "stream",
     "text": [
      "/Users/barbenshabat/opt/anaconda3/lib/python3.8/site-packages/sklearn/linear_model/_ridge.py:190: UserWarning: Singular matrix in solving dual problem. Using least-squares solution instead.\n",
      "  warnings.warn(\"Singular matrix in solving dual problem. Using \"\n"
     ]
    },
    {
     "name": "stdout",
     "output_type": "stream",
     "text": [
      "MAE: -0.009\n",
      "Config: {'alpha': 0.0}\n",
      "Predicted: 0.059\n",
      "\n",
      "\n",
      "split= 10\n",
      "state= KENTUCKY\n"
     ]
    },
    {
     "name": "stderr",
     "output_type": "stream",
     "text": [
      "/Users/barbenshabat/opt/anaconda3/lib/python3.8/site-packages/sklearn/linear_model/_ridge.py:190: UserWarning: Singular matrix in solving dual problem. Using least-squares solution instead.\n",
      "  warnings.warn(\"Singular matrix in solving dual problem. Using \"\n"
     ]
    },
    {
     "name": "stdout",
     "output_type": "stream",
     "text": [
      "MAE: -0.007\n",
      "Config: {'alpha': 0.0}\n",
      "Predicted: 0.076\n",
      "\n",
      "\n",
      "split= 10\n",
      "state= LOUISIANA\n"
     ]
    },
    {
     "name": "stderr",
     "output_type": "stream",
     "text": [
      "/Users/barbenshabat/opt/anaconda3/lib/python3.8/site-packages/sklearn/linear_model/_ridge.py:187: LinAlgWarning: Ill-conditioned matrix (rcond=3.24375e-17): result may not be accurate.\n",
      "  dual_coef = linalg.solve(K, y, sym_pos=True,\n"
     ]
    },
    {
     "name": "stdout",
     "output_type": "stream",
     "text": [
      "MAE: -0.008\n",
      "Config: {'alpha': 0.0}\n",
      "Predicted: 0.093\n",
      "\n",
      "\n",
      "split= 10\n",
      "state= MAINE\n",
      "MAE: -0.004\n",
      "Config: {'alpha': 0.08}\n",
      "Predicted: 0.016\n",
      "\n",
      "\n",
      "split= 10\n",
      "state= MARYLAND\n",
      "MAE: -0.002\n",
      "Config: {'alpha': 0.66}\n",
      "Predicted: 0.059\n",
      "\n",
      "\n",
      "split= 10\n",
      "state= MASSACHUSETTS\n"
     ]
    },
    {
     "name": "stderr",
     "output_type": "stream",
     "text": [
      "/Users/barbenshabat/opt/anaconda3/lib/python3.8/site-packages/sklearn/linear_model/_ridge.py:190: UserWarning: Singular matrix in solving dual problem. Using least-squares solution instead.\n",
      "  warnings.warn(\"Singular matrix in solving dual problem. Using \"\n"
     ]
    },
    {
     "name": "stdout",
     "output_type": "stream",
     "text": [
      "MAE: -0.006\n",
      "Config: {'alpha': 0.0}\n",
      "Predicted: 0.086\n",
      "\n",
      "\n",
      "split= 10\n",
      "state= MICHIGAN\n"
     ]
    },
    {
     "name": "stderr",
     "output_type": "stream",
     "text": [
      "/Users/barbenshabat/opt/anaconda3/lib/python3.8/site-packages/sklearn/linear_model/_ridge.py:190: UserWarning: Singular matrix in solving dual problem. Using least-squares solution instead.\n",
      "  warnings.warn(\"Singular matrix in solving dual problem. Using \"\n"
     ]
    },
    {
     "name": "stdout",
     "output_type": "stream",
     "text": [
      "MAE: -0.009\n",
      "Config: {'alpha': 0.0}\n",
      "Predicted: 0.146\n",
      "\n",
      "\n",
      "split= 10\n",
      "state= MISSISSIPPI\n"
     ]
    },
    {
     "name": "stderr",
     "output_type": "stream",
     "text": [
      "/Users/barbenshabat/opt/anaconda3/lib/python3.8/site-packages/sklearn/linear_model/_ridge.py:187: LinAlgWarning: Ill-conditioned matrix (rcond=4.36233e-17): result may not be accurate.\n",
      "  dual_coef = linalg.solve(K, y, sym_pos=True,\n"
     ]
    },
    {
     "name": "stdout",
     "output_type": "stream",
     "text": [
      "MAE: -0.004\n",
      "Config: {'alpha': 0.0}\n",
      "Predicted: 0.028\n",
      "\n",
      "\n",
      "split= 10\n",
      "state= MISSOURI\n",
      "MAE: -0.008\n",
      "Config: {'alpha': 0.04}\n",
      "Predicted: 0.163\n",
      "\n",
      "\n",
      "split= 9\n",
      "state= MONTANA\n",
      "MAE: -0.002\n",
      "Config: {'alpha': 0.03}\n",
      "Predicted: 0.019\n",
      "\n",
      "\n",
      "split= 10\n",
      "state= NEBRASKA\n",
      "MAE: -0.006\n",
      "Config: {'alpha': 0.03}\n",
      "Predicted: 0.037\n",
      "\n",
      "\n",
      "split= 10\n",
      "state= NEVADA\n",
      "MAE: -0.006\n",
      "Config: {'alpha': 0.07}\n",
      "Predicted: 0.086\n",
      "\n",
      "\n",
      "split= 10\n",
      "state= NEW HAMPSHIRE\n",
      "MAE: -0.002\n",
      "Config: {'alpha': 0.01}\n",
      "Predicted: 0.023\n",
      "\n",
      "\n",
      "split= 9\n",
      "state= NEW JERSEY\n",
      "MAE: -0.009\n",
      "Config: {'alpha': 0.01}\n",
      "Predicted: 0.158\n",
      "\n",
      "\n",
      "split= 10\n",
      "state= NEW MEXICO\n"
     ]
    },
    {
     "name": "stderr",
     "output_type": "stream",
     "text": [
      "/Users/barbenshabat/opt/anaconda3/lib/python3.8/site-packages/sklearn/linear_model/_ridge.py:187: LinAlgWarning: Ill-conditioned matrix (rcond=2.38717e-17): result may not be accurate.\n",
      "  dual_coef = linalg.solve(K, y, sym_pos=True,\n"
     ]
    },
    {
     "name": "stdout",
     "output_type": "stream",
     "text": [
      "MAE: -0.012\n",
      "Config: {'alpha': 0.0}\n",
      "Predicted: 0.050\n",
      "\n",
      "\n",
      "split= 9\n",
      "state= NEW YORK\n"
     ]
    },
    {
     "name": "stderr",
     "output_type": "stream",
     "text": [
      "/Users/barbenshabat/opt/anaconda3/lib/python3.8/site-packages/sklearn/linear_model/_ridge.py:190: UserWarning: Singular matrix in solving dual problem. Using least-squares solution instead.\n",
      "  warnings.warn(\"Singular matrix in solving dual problem. Using \"\n"
     ]
    },
    {
     "name": "stdout",
     "output_type": "stream",
     "text": [
      "MAE: -0.004\n",
      "Config: {'alpha': 0.0}\n",
      "Predicted: 0.283\n",
      "\n",
      "\n",
      "split= 7\n",
      "state= NORTH CAROLINA\n"
     ]
    },
    {
     "name": "stderr",
     "output_type": "stream",
     "text": [
      "/Users/barbenshabat/opt/anaconda3/lib/python3.8/site-packages/sklearn/linear_model/_ridge.py:190: UserWarning: Singular matrix in solving dual problem. Using least-squares solution instead.\n",
      "  warnings.warn(\"Singular matrix in solving dual problem. Using \"\n"
     ]
    },
    {
     "name": "stdout",
     "output_type": "stream",
     "text": [
      "MAE: -0.018\n",
      "Config: {'alpha': 0.0}\n",
      "Predicted: 0.155\n",
      "\n",
      "\n",
      "split= 10\n",
      "state= NORTH DAKOTA\n",
      "MAE: -0.001\n",
      "Config: {'alpha': 0.03}\n",
      "Predicted: 0.014\n",
      "\n",
      "\n",
      "split= 10\n",
      "state= OHIO\n"
     ]
    },
    {
     "name": "stderr",
     "output_type": "stream",
     "text": [
      "/Users/barbenshabat/opt/anaconda3/lib/python3.8/site-packages/sklearn/linear_model/_ridge.py:190: UserWarning: Singular matrix in solving dual problem. Using least-squares solution instead.\n",
      "  warnings.warn(\"Singular matrix in solving dual problem. Using \"\n"
     ]
    },
    {
     "name": "stdout",
     "output_type": "stream",
     "text": [
      "MAE: -0.013\n",
      "Config: {'alpha': 0.0}\n",
      "Predicted: 0.115\n",
      "\n",
      "\n",
      "split= 10\n",
      "state= OKLAHOMA\n",
      "MAE: -0.005\n",
      "Config: {'alpha': 0.03}\n",
      "Predicted: 0.119\n",
      "\n",
      "\n",
      "split= 10\n",
      "state= PENNSYLVANIA\n",
      "MAE: -0.007\n",
      "Config: {'alpha': 0.01}\n",
      "Predicted: 0.163\n",
      "\n",
      "\n",
      "split= 10\n",
      "state= RHODE ISLAND\n",
      "MAE: -0.004\n",
      "Config: {'alpha': 0.04}\n",
      "Predicted: 0.022\n",
      "\n",
      "\n",
      "split= 10\n",
      "state= SOUTH CAROLINA\n"
     ]
    },
    {
     "name": "stderr",
     "output_type": "stream",
     "text": [
      "/Users/barbenshabat/opt/anaconda3/lib/python3.8/site-packages/sklearn/linear_model/_ridge.py:187: LinAlgWarning: Ill-conditioned matrix (rcond=4.73382e-17): result may not be accurate.\n",
      "  dual_coef = linalg.solve(K, y, sym_pos=True,\n"
     ]
    },
    {
     "name": "stdout",
     "output_type": "stream",
     "text": [
      "MAE: -0.005\n",
      "Config: {'alpha': 0.0}\n",
      "Predicted: 0.073\n",
      "\n",
      "\n",
      "split= 10\n",
      "state= SOUTH DAKOTA\n",
      "MAE: -0.001\n",
      "Config: {'alpha': 0.99}\n",
      "Predicted: 0.014\n",
      "\n",
      "\n",
      "split= 10\n",
      "state= TENNESSEE\n"
     ]
    },
    {
     "name": "stderr",
     "output_type": "stream",
     "text": [
      "/Users/barbenshabat/opt/anaconda3/lib/python3.8/site-packages/sklearn/linear_model/_ridge.py:187: LinAlgWarning: Ill-conditioned matrix (rcond=1.44539e-17): result may not be accurate.\n",
      "  dual_coef = linalg.solve(K, y, sym_pos=True,\n"
     ]
    },
    {
     "name": "stdout",
     "output_type": "stream",
     "text": [
      "MAE: -0.006\n",
      "Config: {'alpha': 0.0}\n",
      "Predicted: 0.199\n",
      "\n",
      "\n",
      "split= 10\n",
      "state= TEXAS\n"
     ]
    },
    {
     "name": "stderr",
     "output_type": "stream",
     "text": [
      "/Users/barbenshabat/opt/anaconda3/lib/python3.8/site-packages/sklearn/linear_model/_ridge.py:190: UserWarning: Singular matrix in solving dual problem. Using least-squares solution instead.\n",
      "  warnings.warn(\"Singular matrix in solving dual problem. Using \"\n"
     ]
    },
    {
     "name": "stdout",
     "output_type": "stream",
     "text": [
      "MAE: -0.011\n",
      "Config: {'alpha': 0.0}\n",
      "Predicted: 0.634\n",
      "\n",
      "\n",
      "split= 10\n",
      "state= UTAH\n"
     ]
    },
    {
     "name": "stderr",
     "output_type": "stream",
     "text": [
      "/Users/barbenshabat/opt/anaconda3/lib/python3.8/site-packages/sklearn/linear_model/_ridge.py:190: UserWarning: Singular matrix in solving dual problem. Using least-squares solution instead.\n",
      "  warnings.warn(\"Singular matrix in solving dual problem. Using \"\n"
     ]
    },
    {
     "name": "stdout",
     "output_type": "stream",
     "text": [
      "MAE: -0.012\n",
      "Config: {'alpha': 0.0}\n",
      "Predicted: 0.067\n",
      "\n",
      "\n",
      "split= 10\n",
      "state= VERMONT\n",
      "MAE: -0.001\n",
      "Config: {'alpha': 0.33}\n",
      "Predicted: 0.006\n",
      "\n",
      "\n",
      "split= 10\n",
      "state= VIRGINIA\n",
      "MAE: -0.003\n",
      "Config: {'alpha': 0.03}\n",
      "Predicted: 0.088\n",
      "\n",
      "\n",
      "split= 10\n",
      "state= WASHINGTON\n"
     ]
    },
    {
     "name": "stderr",
     "output_type": "stream",
     "text": [
      "/Users/barbenshabat/opt/anaconda3/lib/python3.8/site-packages/sklearn/linear_model/_ridge.py:187: LinAlgWarning: Ill-conditioned matrix (rcond=7.7123e-18): result may not be accurate.\n",
      "  dual_coef = linalg.solve(K, y, sym_pos=True,\n"
     ]
    },
    {
     "name": "stdout",
     "output_type": "stream",
     "text": [
      "MAE: -0.009\n",
      "Config: {'alpha': 0.0}\n",
      "Predicted: 0.213\n",
      "\n",
      "\n",
      "split= 9\n",
      "state= WEST VIRGINIA\n",
      "MAE: -0.003\n",
      "Config: {'alpha': 0.06}\n",
      "Predicted: 0.013\n",
      "\n",
      "\n",
      "split= 10\n",
      "state= WISCONSIN\n",
      "MAE: -0.008\n",
      "Config: {'alpha': 0.06}\n",
      "Predicted: 0.107\n",
      "\n",
      "\n",
      "split= 10\n",
      "state= WYOMING\n"
     ]
    },
    {
     "name": "stderr",
     "output_type": "stream",
     "text": [
      "/Users/barbenshabat/opt/anaconda3/lib/python3.8/site-packages/sklearn/linear_model/_ridge.py:190: UserWarning: Singular matrix in solving dual problem. Using least-squares solution instead.\n",
      "  warnings.warn(\"Singular matrix in solving dual problem. Using \"\n"
     ]
    },
    {
     "name": "stdout",
     "output_type": "stream",
     "text": [
      "MAE: -0.001\n",
      "Config: {'alpha': 0.0}\n",
      "Predicted: 0.012\n",
      "\n",
      "\n",
      "split= 9\n",
      "state= ILLINOIS\n"
     ]
    },
    {
     "name": "stderr",
     "output_type": "stream",
     "text": [
      "/Users/barbenshabat/opt/anaconda3/lib/python3.8/site-packages/sklearn/linear_model/_ridge.py:187: LinAlgWarning: Ill-conditioned matrix (rcond=1.54612e-17): result may not be accurate.\n",
      "  dual_coef = linalg.solve(K, y, sym_pos=True,\n"
     ]
    },
    {
     "name": "stdout",
     "output_type": "stream",
     "text": [
      "MAE: -0.025\n",
      "Config: {'alpha': 0.0}\n",
      "Predicted: 0.217\n",
      "\n",
      "\n",
      "split= 9\n",
      "state= OREGON\n"
     ]
    },
    {
     "name": "stderr",
     "output_type": "stream",
     "text": [
      "/Users/barbenshabat/opt/anaconda3/lib/python3.8/site-packages/sklearn/linear_model/_ridge.py:187: LinAlgWarning: Ill-conditioned matrix (rcond=4.29862e-17): result may not be accurate.\n",
      "  dual_coef = linalg.solve(K, y, sym_pos=True,\n"
     ]
    },
    {
     "name": "stdout",
     "output_type": "stream",
     "text": [
      "MAE: -0.011\n",
      "Config: {'alpha': 0.0}\n",
      "Predicted: 0.119\n",
      "\n",
      "\n",
      "split= 7\n",
      "state= MINNESOTA\n",
      "MAE: -0.006\n",
      "Config: {'alpha': 0.99}\n",
      "Predicted: 0.129\n",
      "\n",
      "\n",
      "---------crime--------------------------------- Burglary\n",
      "split= 8\n",
      "state= ALABAMA\n",
      "MAE: -0.013\n",
      "Config: {'alpha': 0.01}\n",
      "Predicted: 0.086\n",
      "\n",
      "\n",
      "split= 9\n",
      "state= ALASKA\n",
      "MAE: -0.002\n",
      "Config: {'alpha': 0.03}\n",
      "Predicted: 0.015\n",
      "\n",
      "\n",
      "split= 10\n",
      "state= ARIZONA\n"
     ]
    },
    {
     "name": "stderr",
     "output_type": "stream",
     "text": [
      "/Users/barbenshabat/opt/anaconda3/lib/python3.8/site-packages/sklearn/linear_model/_ridge.py:187: LinAlgWarning: Ill-conditioned matrix (rcond=1.07646e-17): result may not be accurate.\n",
      "  dual_coef = linalg.solve(K, y, sym_pos=True,\n"
     ]
    },
    {
     "name": "stdout",
     "output_type": "stream",
     "text": [
      "MAE: -0.014\n",
      "Config: {'alpha': 0.0}\n",
      "Predicted: 0.090\n",
      "\n",
      "\n",
      "split= 10\n",
      "state= ARKANSAS\n"
     ]
    },
    {
     "name": "stderr",
     "output_type": "stream",
     "text": [
      "/Users/barbenshabat/opt/anaconda3/lib/python3.8/site-packages/sklearn/linear_model/_ridge.py:190: UserWarning: Singular matrix in solving dual problem. Using least-squares solution instead.\n",
      "  warnings.warn(\"Singular matrix in solving dual problem. Using \"\n"
     ]
    },
    {
     "name": "stdout",
     "output_type": "stream",
     "text": [
      "MAE: -0.006\n",
      "Config: {'alpha': 0.0}\n",
      "Predicted: 0.068\n",
      "\n",
      "\n",
      "split= 10\n",
      "state= CALIFORNIA\n"
     ]
    },
    {
     "name": "stderr",
     "output_type": "stream",
     "text": [
      "/Users/barbenshabat/opt/anaconda3/lib/python3.8/site-packages/sklearn/linear_model/_ridge.py:187: LinAlgWarning: Ill-conditioned matrix (rcond=2.7324e-17): result may not be accurate.\n",
      "  dual_coef = linalg.solve(K, y, sym_pos=True,\n"
     ]
    },
    {
     "name": "stdout",
     "output_type": "stream",
     "text": [
      "MAE: -0.014\n",
      "Config: {'alpha': 0.0}\n",
      "Predicted: 0.558\n",
      "\n",
      "\n",
      "split= 10\n",
      "state= COLORADO\n",
      "MAE: -0.004\n",
      "Config: {'alpha': 0.03}\n",
      "Predicted: 0.093\n",
      "\n",
      "\n",
      "split= 10\n",
      "state= CONNECTICUT\n",
      "MAE: -0.004\n",
      "Config: {'alpha': 0.1}\n",
      "Predicted: 0.039\n",
      "\n",
      "\n",
      "split= 10\n",
      "state= DELAWARE\n",
      "MAE: -0.001\n",
      "Config: {'alpha': 0.02}\n",
      "Predicted: 0.002\n",
      "\n",
      "\n",
      "split= 10\n",
      "state= DISTRICT OF COLUMBIA\n",
      "MAE: -0.002\n",
      "Config: {'alpha': 0.04}\n",
      "Predicted: 0.007\n",
      "\n",
      "\n",
      "split= 10\n",
      "state= FLORIDA\n",
      "MAE: -0.023\n",
      "Config: {'alpha': 0.03}\n",
      "Predicted: 0.200\n",
      "\n",
      "\n",
      "split= 8\n",
      "state= GEORGIA\n"
     ]
    },
    {
     "name": "stderr",
     "output_type": "stream",
     "text": [
      "/Users/barbenshabat/opt/anaconda3/lib/python3.8/site-packages/sklearn/linear_model/_ridge.py:190: UserWarning: Singular matrix in solving dual problem. Using least-squares solution instead.\n",
      "  warnings.warn(\"Singular matrix in solving dual problem. Using \"\n"
     ]
    },
    {
     "name": "stdout",
     "output_type": "stream",
     "text": [
      "MAE: -0.012\n",
      "Config: {'alpha': 0.0}\n",
      "Predicted: 0.086\n",
      "\n",
      "\n",
      "split= 6\n",
      "state= HAWAII\n",
      "MAE: -0.004\n",
      "Config: {'alpha': 0.03}\n",
      "Predicted: 0.016\n",
      "\n",
      "\n",
      "split= 10\n",
      "state= IDAHO\n",
      "MAE: -0.002\n",
      "Config: {'alpha': 0.07}\n",
      "Predicted: 0.019\n",
      "\n",
      "\n",
      "split= 10\n",
      "state= INDIANA\n",
      "MAE: -0.018\n",
      "Config: {'alpha': 0.01}\n",
      "Predicted: 0.020\n",
      "\n",
      "\n",
      "split= 9\n",
      "state= IOWA\n",
      "MAE: -0.005\n",
      "Config: {'alpha': 0.99}\n",
      "Predicted: 0.063\n",
      "\n",
      "\n",
      "split= 10\n",
      "state= KANSAS\n"
     ]
    },
    {
     "name": "stderr",
     "output_type": "stream",
     "text": [
      "/Users/barbenshabat/opt/anaconda3/lib/python3.8/site-packages/sklearn/linear_model/_ridge.py:190: UserWarning: Singular matrix in solving dual problem. Using least-squares solution instead.\n",
      "  warnings.warn(\"Singular matrix in solving dual problem. Using \"\n"
     ]
    },
    {
     "name": "stdout",
     "output_type": "stream",
     "text": [
      "MAE: -0.010\n",
      "Config: {'alpha': 0.0}\n",
      "Predicted: 0.036\n",
      "\n",
      "\n",
      "split= 10\n",
      "state= KENTUCKY\n"
     ]
    },
    {
     "name": "stderr",
     "output_type": "stream",
     "text": [
      "/Users/barbenshabat/opt/anaconda3/lib/python3.8/site-packages/sklearn/linear_model/_ridge.py:190: UserWarning: Singular matrix in solving dual problem. Using least-squares solution instead.\n",
      "  warnings.warn(\"Singular matrix in solving dual problem. Using \"\n"
     ]
    },
    {
     "name": "stdout",
     "output_type": "stream",
     "text": [
      "MAE: -0.009\n",
      "Config: {'alpha': 0.0}\n",
      "Predicted: 0.058\n",
      "\n",
      "\n",
      "split= 10\n",
      "state= LOUISIANA\n",
      "MAE: -0.011\n",
      "Config: {'alpha': 0.01}\n",
      "Predicted: 0.066\n",
      "\n",
      "\n",
      "split= 10\n",
      "state= MAINE\n",
      "MAE: -0.003\n",
      "Config: {'alpha': 0.03}\n",
      "Predicted: 0.008\n",
      "\n",
      "\n",
      "split= 10\n",
      "state= MARYLAND\n",
      "MAE: -0.004\n",
      "Config: {'alpha': 0.03}\n",
      "Predicted: 0.046\n",
      "\n",
      "\n",
      "split= 10\n",
      "state= MASSACHUSETTS\n"
     ]
    },
    {
     "name": "stderr",
     "output_type": "stream",
     "text": [
      "/Users/barbenshabat/opt/anaconda3/lib/python3.8/site-packages/sklearn/linear_model/_ridge.py:190: UserWarning: Singular matrix in solving dual problem. Using least-squares solution instead.\n",
      "  warnings.warn(\"Singular matrix in solving dual problem. Using \"\n"
     ]
    },
    {
     "name": "stdout",
     "output_type": "stream",
     "text": [
      "MAE: -0.007\n",
      "Config: {'alpha': 0.0}\n",
      "Predicted: 0.060\n",
      "\n",
      "\n",
      "split= 10\n",
      "state= MICHIGAN\n"
     ]
    },
    {
     "name": "stderr",
     "output_type": "stream",
     "text": [
      "/Users/barbenshabat/opt/anaconda3/lib/python3.8/site-packages/sklearn/linear_model/_ridge.py:190: UserWarning: Singular matrix in solving dual problem. Using least-squares solution instead.\n",
      "  warnings.warn(\"Singular matrix in solving dual problem. Using \"\n"
     ]
    },
    {
     "name": "stdout",
     "output_type": "stream",
     "text": [
      "MAE: -0.017\n",
      "Config: {'alpha': 0.0}\n",
      "Predicted: 0.115\n",
      "\n",
      "\n",
      "split= 10\n",
      "state= MISSISSIPPI\n"
     ]
    },
    {
     "name": "stderr",
     "output_type": "stream",
     "text": [
      "/Users/barbenshabat/opt/anaconda3/lib/python3.8/site-packages/sklearn/linear_model/_ridge.py:187: LinAlgWarning: Ill-conditioned matrix (rcond=3.44461e-17): result may not be accurate.\n",
      "  dual_coef = linalg.solve(K, y, sym_pos=True,\n"
     ]
    },
    {
     "name": "stdout",
     "output_type": "stream",
     "text": [
      "MAE: -0.007\n",
      "Config: {'alpha': 0.0}\n",
      "Predicted: 0.023\n",
      "\n",
      "\n",
      "split= 10\n",
      "state= MISSOURI\n",
      "MAE: -0.010\n",
      "Config: {'alpha': 0.11}\n",
      "Predicted: 0.112\n",
      "\n",
      "\n",
      "split= 9\n",
      "state= MONTANA\n",
      "MAE: -0.001\n",
      "Config: {'alpha': 0.99}\n",
      "Predicted: 0.008\n",
      "\n",
      "\n",
      "split= 10\n",
      "state= NEBRASKA\n",
      "MAE: -0.006\n",
      "Config: {'alpha': 0.01}\n",
      "Predicted: 0.017\n",
      "\n",
      "\n",
      "split= 10\n",
      "state= NEVADA\n",
      "MAE: -0.010\n",
      "Config: {'alpha': 0.01}\n",
      "Predicted: 0.096\n",
      "\n",
      "\n",
      "split= 10\n",
      "state= NEW HAMPSHIRE\n",
      "MAE: -0.002\n",
      "Config: {'alpha': 0.03}\n",
      "Predicted: 0.013\n",
      "\n",
      "\n",
      "split= 9\n",
      "state= NEW JERSEY\n",
      "MAE: -0.017\n",
      "Config: {'alpha': 0.01}\n",
      "Predicted: 0.107\n",
      "\n",
      "\n",
      "split= 10\n",
      "state= NEW MEXICO\n"
     ]
    },
    {
     "name": "stderr",
     "output_type": "stream",
     "text": [
      "/Users/barbenshabat/opt/anaconda3/lib/python3.8/site-packages/sklearn/linear_model/_ridge.py:187: LinAlgWarning: Ill-conditioned matrix (rcond=3.20988e-17): result may not be accurate.\n",
      "  dual_coef = linalg.solve(K, y, sym_pos=True,\n"
     ]
    },
    {
     "name": "stdout",
     "output_type": "stream",
     "text": [
      "MAE: -0.015\n",
      "Config: {'alpha': 0.0}\n",
      "Predicted: 0.050\n",
      "\n",
      "\n",
      "split= 9\n",
      "state= NEW YORK\n"
     ]
    },
    {
     "name": "stderr",
     "output_type": "stream",
     "text": [
      "/Users/barbenshabat/opt/anaconda3/lib/python3.8/site-packages/sklearn/linear_model/_ridge.py:190: UserWarning: Singular matrix in solving dual problem. Using least-squares solution instead.\n",
      "  warnings.warn(\"Singular matrix in solving dual problem. Using \"\n"
     ]
    },
    {
     "name": "stdout",
     "output_type": "stream",
     "text": [
      "MAE: -0.006\n",
      "Config: {'alpha': 0.0}\n",
      "Predicted: 0.140\n",
      "\n",
      "\n",
      "split= 7\n",
      "state= NORTH CAROLINA\n"
     ]
    },
    {
     "name": "stderr",
     "output_type": "stream",
     "text": [
      "/Users/barbenshabat/opt/anaconda3/lib/python3.8/site-packages/sklearn/linear_model/_ridge.py:190: UserWarning: Singular matrix in solving dual problem. Using least-squares solution instead.\n",
      "  warnings.warn(\"Singular matrix in solving dual problem. Using \"\n"
     ]
    },
    {
     "name": "stdout",
     "output_type": "stream",
     "text": [
      "MAE: -0.019\n",
      "Config: {'alpha': 0.0}\n",
      "Predicted: 0.148\n",
      "\n",
      "\n",
      "split= 10\n",
      "state= NORTH DAKOTA\n",
      "MAE: -0.001\n",
      "Config: {'alpha': 0.11}\n",
      "Predicted: 0.008\n",
      "\n",
      "\n",
      "split= 10\n",
      "state= OHIO\n"
     ]
    },
    {
     "name": "stderr",
     "output_type": "stream",
     "text": [
      "/Users/barbenshabat/opt/anaconda3/lib/python3.8/site-packages/sklearn/linear_model/_ridge.py:190: UserWarning: Singular matrix in solving dual problem. Using least-squares solution instead.\n",
      "  warnings.warn(\"Singular matrix in solving dual problem. Using \"\n"
     ]
    },
    {
     "name": "stdout",
     "output_type": "stream",
     "text": [
      "MAE: -0.027\n",
      "Config: {'alpha': 0.0}\n",
      "Predicted: 0.047\n",
      "\n",
      "\n",
      "split= 10\n",
      "state= OKLAHOMA\n",
      "MAE: -0.008\n",
      "Config: {'alpha': 0.04}\n",
      "Predicted: 0.120\n",
      "\n",
      "\n",
      "split= 10\n",
      "state= PENNSYLVANIA\n",
      "MAE: -0.010\n",
      "Config: {'alpha': 0.02}\n",
      "Predicted: 0.078\n",
      "\n",
      "\n",
      "split= 10\n",
      "state= RHODE ISLAND\n",
      "MAE: -0.003\n",
      "Config: {'alpha': 0.02}\n",
      "Predicted: 0.019\n",
      "\n",
      "\n",
      "split= 10\n",
      "state= SOUTH CAROLINA\n"
     ]
    },
    {
     "name": "stderr",
     "output_type": "stream",
     "text": [
      "/Users/barbenshabat/opt/anaconda3/lib/python3.8/site-packages/sklearn/linear_model/_ridge.py:187: LinAlgWarning: Ill-conditioned matrix (rcond=4.95875e-17): result may not be accurate.\n",
      "  dual_coef = linalg.solve(K, y, sym_pos=True,\n"
     ]
    },
    {
     "name": "stdout",
     "output_type": "stream",
     "text": [
      "MAE: -0.005\n",
      "Config: {'alpha': 0.0}\n",
      "Predicted: 0.040\n",
      "\n",
      "\n",
      "split= 10\n",
      "state= SOUTH DAKOTA\n",
      "MAE: -0.001\n",
      "Config: {'alpha': 0.08}\n",
      "Predicted: 0.008\n",
      "\n",
      "\n",
      "split= 10\n",
      "state= TENNESSEE\n"
     ]
    },
    {
     "name": "stderr",
     "output_type": "stream",
     "text": [
      "/Users/barbenshabat/opt/anaconda3/lib/python3.8/site-packages/sklearn/linear_model/_ridge.py:187: LinAlgWarning: Ill-conditioned matrix (rcond=1.20945e-17): result may not be accurate.\n",
      "  dual_coef = linalg.solve(K, y, sym_pos=True,\n"
     ]
    },
    {
     "name": "stdout",
     "output_type": "stream",
     "text": [
      "MAE: -0.007\n",
      "Config: {'alpha': 0.0}\n",
      "Predicted: 0.123\n",
      "\n",
      "\n",
      "split= 10\n",
      "state= TEXAS\n"
     ]
    },
    {
     "name": "stderr",
     "output_type": "stream",
     "text": [
      "/Users/barbenshabat/opt/anaconda3/lib/python3.8/site-packages/sklearn/linear_model/_ridge.py:190: UserWarning: Singular matrix in solving dual problem. Using least-squares solution instead.\n",
      "  warnings.warn(\"Singular matrix in solving dual problem. Using \"\n"
     ]
    },
    {
     "name": "stdout",
     "output_type": "stream",
     "text": [
      "MAE: -0.019\n",
      "Config: {'alpha': 0.0}\n",
      "Predicted: 0.502\n",
      "\n",
      "\n",
      "split= 10\n",
      "state= UTAH\n",
      "MAE: -0.008\n",
      "Config: {'alpha': 0.01}\n",
      "Predicted: 0.049\n",
      "\n",
      "\n",
      "split= 10\n",
      "state= VERMONT\n",
      "MAE: -0.002\n",
      "Config: {'alpha': 0.32}\n",
      "Predicted: 0.003\n",
      "\n",
      "\n",
      "split= 10\n",
      "state= VIRGINIA\n",
      "MAE: -0.003\n",
      "Config: {'alpha': 0.01}\n",
      "Predicted: 0.041\n",
      "\n",
      "\n",
      "split= 10\n",
      "state= WASHINGTON\n",
      "MAE: -0.010\n",
      "Config: {'alpha': 0.01}\n",
      "Predicted: 0.151\n",
      "\n",
      "\n",
      "split= 9\n",
      "state= WEST VIRGINIA\n",
      "MAE: -0.004\n",
      "Config: {'alpha': 0.1}\n",
      "Predicted: 0.010\n",
      "\n",
      "\n",
      "split= 10\n",
      "state= WISCONSIN\n",
      "MAE: -0.009\n",
      "Config: {'alpha': 0.01}\n",
      "Predicted: 0.064\n",
      "\n",
      "\n",
      "split= 10\n",
      "state= WYOMING\n"
     ]
    },
    {
     "name": "stderr",
     "output_type": "stream",
     "text": [
      "/Users/barbenshabat/opt/anaconda3/lib/python3.8/site-packages/sklearn/linear_model/_ridge.py:190: UserWarning: Singular matrix in solving dual problem. Using least-squares solution instead.\n",
      "  warnings.warn(\"Singular matrix in solving dual problem. Using \"\n"
     ]
    },
    {
     "name": "stdout",
     "output_type": "stream",
     "text": [
      "MAE: -0.001\n",
      "Config: {'alpha': 0.0}\n",
      "Predicted: 0.006\n",
      "\n",
      "\n",
      "split= 9\n",
      "state= ILLINOIS\n"
     ]
    },
    {
     "name": "stderr",
     "output_type": "stream",
     "text": [
      "/Users/barbenshabat/opt/anaconda3/lib/python3.8/site-packages/sklearn/linear_model/_ridge.py:187: LinAlgWarning: Ill-conditioned matrix (rcond=1.70463e-17): result may not be accurate.\n",
      "  dual_coef = linalg.solve(K, y, sym_pos=True,\n"
     ]
    },
    {
     "name": "stdout",
     "output_type": "stream",
     "text": [
      "MAE: -0.029\n",
      "Config: {'alpha': 0.0}\n",
      "Predicted: 0.145\n",
      "\n",
      "\n",
      "split= 9\n",
      "state= OREGON\n",
      "MAE: -0.007\n",
      "Config: {'alpha': 0.01}\n",
      "Predicted: 0.060\n",
      "\n",
      "\n",
      "split= 7\n",
      "state= MINNESOTA\n"
     ]
    },
    {
     "name": "stderr",
     "output_type": "stream",
     "text": [
      "/Users/barbenshabat/opt/anaconda3/lib/python3.8/site-packages/sklearn/linear_model/_ridge.py:187: LinAlgWarning: Ill-conditioned matrix (rcond=1.56329e-17): result may not be accurate.\n",
      "  dual_coef = linalg.solve(K, y, sym_pos=True,\n"
     ]
    },
    {
     "name": "stdout",
     "output_type": "stream",
     "text": [
      "MAE: -0.006\n",
      "Config: {'alpha': 0.0}\n",
      "Predicted: 0.074\n",
      "\n",
      "\n",
      "---------crime--------------------------------- Larceny-theft\n",
      "split= 8\n",
      "state= ALABAMA\n"
     ]
    },
    {
     "name": "stderr",
     "output_type": "stream",
     "text": [
      "/Users/barbenshabat/opt/anaconda3/lib/python3.8/site-packages/sklearn/linear_model/_ridge.py:190: UserWarning: Singular matrix in solving dual problem. Using least-squares solution instead.\n",
      "  warnings.warn(\"Singular matrix in solving dual problem. Using \"\n"
     ]
    },
    {
     "name": "stdout",
     "output_type": "stream",
     "text": [
      "MAE: -0.006\n",
      "Config: {'alpha': 0.0}\n",
      "Predicted: 0.090\n",
      "\n",
      "\n",
      "split= 9\n",
      "state= ALASKA\n",
      "MAE: -0.001\n",
      "Config: {'alpha': 0.01}\n",
      "Predicted: 0.027\n",
      "\n",
      "\n",
      "split= 10\n",
      "state= ARIZONA\n",
      "MAE: -0.021\n",
      "Config: {'alpha': 0.55}\n",
      "Predicted: 0.220\n",
      "\n",
      "\n",
      "split= 10\n",
      "state= ARKANSAS\n",
      "MAE: -0.003\n",
      "Config: {'alpha': 0.05}\n",
      "Predicted: 0.089\n",
      "\n",
      "\n",
      "split= 10\n",
      "state= CALIFORNIA\n"
     ]
    },
    {
     "name": "stderr",
     "output_type": "stream",
     "text": [
      "/Users/barbenshabat/opt/anaconda3/lib/python3.8/site-packages/sklearn/linear_model/_ridge.py:187: LinAlgWarning: Ill-conditioned matrix (rcond=1.16061e-17): result may not be accurate.\n",
      "  dual_coef = linalg.solve(K, y, sym_pos=True,\n"
     ]
    },
    {
     "name": "stdout",
     "output_type": "stream",
     "text": [
      "MAE: -0.025\n",
      "Config: {'alpha': 0.0}\n",
      "Predicted: 0.816\n",
      "\n",
      "\n",
      "split= 10\n",
      "state= COLORADO\n"
     ]
    },
    {
     "name": "stderr",
     "output_type": "stream",
     "text": [
      "/Users/barbenshabat/opt/anaconda3/lib/python3.8/site-packages/sklearn/linear_model/_ridge.py:187: LinAlgWarning: Ill-conditioned matrix (rcond=2.42494e-17): result may not be accurate.\n",
      "  dual_coef = linalg.solve(K, y, sym_pos=True,\n"
     ]
    },
    {
     "name": "stdout",
     "output_type": "stream",
     "text": [
      "MAE: -0.005\n",
      "Config: {'alpha': 0.0}\n",
      "Predicted: 0.150\n",
      "\n",
      "\n",
      "split= 10\n",
      "state= CONNECTICUT\n",
      "MAE: -0.003\n",
      "Config: {'alpha': 0.19}\n",
      "Predicted: 0.077\n",
      "\n",
      "\n",
      "split= 10\n",
      "state= DELAWARE\n",
      "MAE: -0.000\n",
      "Config: {'alpha': 0.08}\n",
      "Predicted: 0.012\n",
      "\n",
      "\n",
      "split= 10\n",
      "state= DISTRICT OF COLUMBIA\n"
     ]
    },
    {
     "name": "stderr",
     "output_type": "stream",
     "text": [
      "/Users/barbenshabat/opt/anaconda3/lib/python3.8/site-packages/sklearn/linear_model/_ridge.py:187: LinAlgWarning: Ill-conditioned matrix (rcond=7.31402e-19): result may not be accurate.\n",
      "  dual_coef = linalg.solve(K, y, sym_pos=True,\n"
     ]
    },
    {
     "name": "stdout",
     "output_type": "stream",
     "text": [
      "MAE: -0.002\n",
      "Config: {'alpha': 0.0}\n",
      "Predicted: 0.042\n",
      "\n",
      "\n",
      "split= 10\n",
      "state= FLORIDA\n",
      "MAE: -0.018\n",
      "Config: {'alpha': 0.01}\n",
      "Predicted: 0.403\n",
      "\n",
      "\n",
      "split= 8\n",
      "state= GEORGIA\n"
     ]
    },
    {
     "name": "stderr",
     "output_type": "stream",
     "text": [
      "/Users/barbenshabat/opt/anaconda3/lib/python3.8/site-packages/sklearn/linear_model/_ridge.py:190: UserWarning: Singular matrix in solving dual problem. Using least-squares solution instead.\n",
      "  warnings.warn(\"Singular matrix in solving dual problem. Using \"\n"
     ]
    },
    {
     "name": "stdout",
     "output_type": "stream",
     "text": [
      "MAE: -0.011\n",
      "Config: {'alpha': 0.0}\n",
      "Predicted: 0.149\n",
      "\n",
      "\n",
      "split= 6\n",
      "state= HAWAII\n",
      "MAE: -0.002\n",
      "Config: {'alpha': 0.24}\n",
      "Predicted: 0.037\n",
      "\n",
      "\n",
      "split= 10\n",
      "state= IDAHO\n",
      "MAE: -0.002\n",
      "Config: {'alpha': 0.06}\n",
      "Predicted: 0.028\n",
      "\n",
      "\n",
      "split= 10\n",
      "state= INDIANA\n"
     ]
    },
    {
     "name": "stderr",
     "output_type": "stream",
     "text": [
      "/Users/barbenshabat/opt/anaconda3/lib/python3.8/site-packages/sklearn/linear_model/_ridge.py:187: LinAlgWarning: Ill-conditioned matrix (rcond=1.89873e-17): result may not be accurate.\n",
      "  dual_coef = linalg.solve(K, y, sym_pos=True,\n"
     ]
    },
    {
     "name": "stdout",
     "output_type": "stream",
     "text": [
      "MAE: -0.010\n",
      "Config: {'alpha': 0.0}\n",
      "Predicted: 0.058\n",
      "\n",
      "\n",
      "split= 9\n",
      "state= IOWA\n",
      "MAE: -0.003\n",
      "Config: {'alpha': 0.99}\n",
      "Predicted: 0.070\n",
      "\n",
      "\n",
      "split= 10\n",
      "state= KANSAS\n"
     ]
    },
    {
     "name": "stderr",
     "output_type": "stream",
     "text": [
      "/Users/barbenshabat/opt/anaconda3/lib/python3.8/site-packages/sklearn/linear_model/_ridge.py:190: UserWarning: Singular matrix in solving dual problem. Using least-squares solution instead.\n",
      "  warnings.warn(\"Singular matrix in solving dual problem. Using \"\n"
     ]
    },
    {
     "name": "stdout",
     "output_type": "stream",
     "text": [
      "MAE: -0.009\n",
      "Config: {'alpha': 0.0}\n",
      "Predicted: 0.064\n",
      "\n",
      "\n",
      "split= 10\n",
      "state= KENTUCKY\n"
     ]
    },
    {
     "name": "stderr",
     "output_type": "stream",
     "text": [
      "/Users/barbenshabat/opt/anaconda3/lib/python3.8/site-packages/sklearn/linear_model/_ridge.py:190: UserWarning: Singular matrix in solving dual problem. Using least-squares solution instead.\n",
      "  warnings.warn(\"Singular matrix in solving dual problem. Using \"\n"
     ]
    },
    {
     "name": "stdout",
     "output_type": "stream",
     "text": [
      "MAE: -0.007\n",
      "Config: {'alpha': 0.0}\n",
      "Predicted: 0.083\n",
      "\n",
      "\n",
      "split= 10\n",
      "state= LOUISIANA\n"
     ]
    },
    {
     "name": "stderr",
     "output_type": "stream",
     "text": [
      "/Users/barbenshabat/opt/anaconda3/lib/python3.8/site-packages/sklearn/linear_model/_ridge.py:187: LinAlgWarning: Ill-conditioned matrix (rcond=2.6536e-17): result may not be accurate.\n",
      "  dual_coef = linalg.solve(K, y, sym_pos=True,\n"
     ]
    },
    {
     "name": "stdout",
     "output_type": "stream",
     "text": [
      "MAE: -0.009\n",
      "Config: {'alpha': 0.0}\n",
      "Predicted: 0.099\n",
      "\n",
      "\n",
      "split= 10\n",
      "state= MAINE\n",
      "MAE: -0.004\n",
      "Config: {'alpha': 0.11}\n",
      "Predicted: 0.020\n",
      "\n",
      "\n",
      "split= 10\n",
      "state= MARYLAND\n",
      "MAE: -0.001\n",
      "Config: {'alpha': 0.34}\n",
      "Predicted: 0.056\n",
      "\n",
      "\n",
      "split= 10\n",
      "state= MASSACHUSETTS\n",
      "MAE: -0.006\n",
      "Config: {'alpha': 0.02}\n",
      "Predicted: 0.112\n",
      "\n",
      "\n",
      "split= 10\n",
      "state= MICHIGAN\n"
     ]
    },
    {
     "name": "stderr",
     "output_type": "stream",
     "text": [
      "/Users/barbenshabat/opt/anaconda3/lib/python3.8/site-packages/sklearn/linear_model/_ridge.py:190: UserWarning: Singular matrix in solving dual problem. Using least-squares solution instead.\n",
      "  warnings.warn(\"Singular matrix in solving dual problem. Using \"\n"
     ]
    },
    {
     "name": "stdout",
     "output_type": "stream",
     "text": [
      "MAE: -0.005\n",
      "Config: {'alpha': 0.0}\n",
      "Predicted: 0.150\n",
      "\n",
      "\n",
      "split= 10\n",
      "state= MISSISSIPPI\n"
     ]
    },
    {
     "name": "stderr",
     "output_type": "stream",
     "text": [
      "/Users/barbenshabat/opt/anaconda3/lib/python3.8/site-packages/sklearn/linear_model/_ridge.py:187: LinAlgWarning: Ill-conditioned matrix (rcond=2.4138e-17): result may not be accurate.\n",
      "  dual_coef = linalg.solve(K, y, sym_pos=True,\n"
     ]
    },
    {
     "name": "stdout",
     "output_type": "stream",
     "text": [
      "MAE: -0.004\n",
      "Config: {'alpha': 0.0}\n",
      "Predicted: 0.030\n",
      "\n",
      "\n",
      "split= 10\n",
      "state= MISSOURI\n",
      "MAE: -0.008\n",
      "Config: {'alpha': 0.05}\n",
      "Predicted: 0.170\n",
      "\n",
      "\n",
      "split= 9\n",
      "state= MONTANA\n",
      "MAE: -0.002\n",
      "Config: {'alpha': 0.03}\n",
      "Predicted: 0.022\n",
      "\n",
      "\n",
      "split= 10\n",
      "state= NEBRASKA\n",
      "MAE: -0.006\n",
      "Config: {'alpha': 0.02}\n",
      "Predicted: 0.038\n",
      "\n",
      "\n",
      "split= 10\n",
      "state= NEVADA\n",
      "MAE: -0.005\n",
      "Config: {'alpha': 0.1}\n",
      "Predicted: 0.070\n",
      "\n",
      "\n",
      "split= 10\n",
      "state= NEW HAMPSHIRE\n",
      "MAE: -0.002\n",
      "Config: {'alpha': 0.01}\n",
      "Predicted: 0.027\n",
      "\n",
      "\n",
      "split= 9\n",
      "state= NEW JERSEY\n",
      "MAE: -0.006\n",
      "Config: {'alpha': 0.01}\n",
      "Predicted: 0.171\n",
      "\n",
      "\n",
      "split= 10\n",
      "state= NEW MEXICO\n"
     ]
    },
    {
     "name": "stderr",
     "output_type": "stream",
     "text": [
      "/Users/barbenshabat/opt/anaconda3/lib/python3.8/site-packages/sklearn/linear_model/_ridge.py:187: LinAlgWarning: Ill-conditioned matrix (rcond=8.16305e-18): result may not be accurate.\n",
      "  dual_coef = linalg.solve(K, y, sym_pos=True,\n"
     ]
    },
    {
     "name": "stdout",
     "output_type": "stream",
     "text": [
      "MAE: -0.012\n",
      "Config: {'alpha': 0.0}\n",
      "Predicted: 0.045\n",
      "\n",
      "\n",
      "split= 9\n",
      "state= NEW YORK\n",
      "MAE: -0.005\n",
      "Config: {'alpha': 0.01}\n",
      "Predicted: 0.338\n",
      "\n",
      "\n",
      "split= 7\n",
      "state= NORTH CAROLINA\n"
     ]
    },
    {
     "name": "stderr",
     "output_type": "stream",
     "text": [
      "/Users/barbenshabat/opt/anaconda3/lib/python3.8/site-packages/sklearn/linear_model/_ridge.py:190: UserWarning: Singular matrix in solving dual problem. Using least-squares solution instead.\n",
      "  warnings.warn(\"Singular matrix in solving dual problem. Using \"\n"
     ]
    },
    {
     "name": "stdout",
     "output_type": "stream",
     "text": [
      "MAE: -0.021\n",
      "Config: {'alpha': 0.0}\n",
      "Predicted: 0.162\n",
      "\n",
      "\n",
      "split= 10\n",
      "state= NORTH DAKOTA\n",
      "MAE: -0.001\n",
      "Config: {'alpha': 0.01}\n",
      "Predicted: 0.015\n",
      "\n",
      "\n",
      "split= 10\n",
      "state= OHIO\n"
     ]
    },
    {
     "name": "stderr",
     "output_type": "stream",
     "text": [
      "/Users/barbenshabat/opt/anaconda3/lib/python3.8/site-packages/sklearn/linear_model/_ridge.py:190: UserWarning: Singular matrix in solving dual problem. Using least-squares solution instead.\n",
      "  warnings.warn(\"Singular matrix in solving dual problem. Using \"\n"
     ]
    },
    {
     "name": "stdout",
     "output_type": "stream",
     "text": [
      "MAE: -0.016\n",
      "Config: {'alpha': 0.0}\n",
      "Predicted: 0.125\n",
      "\n",
      "\n",
      "split= 10\n",
      "state= OKLAHOMA\n",
      "MAE: -0.004\n",
      "Config: {'alpha': 0.02}\n",
      "Predicted: 0.111\n",
      "\n",
      "\n",
      "split= 10\n",
      "state= PENNSYLVANIA\n"
     ]
    },
    {
     "name": "stderr",
     "output_type": "stream",
     "text": [
      "/Users/barbenshabat/opt/anaconda3/lib/python3.8/site-packages/sklearn/linear_model/_ridge.py:190: UserWarning: Singular matrix in solving dual problem. Using least-squares solution instead.\n",
      "  warnings.warn(\"Singular matrix in solving dual problem. Using \"\n"
     ]
    },
    {
     "name": "stdout",
     "output_type": "stream",
     "text": [
      "MAE: -0.007\n",
      "Config: {'alpha': 0.0}\n",
      "Predicted: 0.153\n",
      "\n",
      "\n",
      "split= 10\n",
      "state= RHODE ISLAND\n",
      "MAE: -0.002\n",
      "Config: {'alpha': 0.02}\n",
      "Predicted: 0.024\n",
      "\n",
      "\n",
      "split= 10\n",
      "state= SOUTH CAROLINA\n"
     ]
    },
    {
     "name": "stderr",
     "output_type": "stream",
     "text": [
      "/Users/barbenshabat/opt/anaconda3/lib/python3.8/site-packages/sklearn/linear_model/_ridge.py:187: LinAlgWarning: Ill-conditioned matrix (rcond=4.23365e-17): result may not be accurate.\n",
      "  dual_coef = linalg.solve(K, y, sym_pos=True,\n"
     ]
    },
    {
     "name": "stdout",
     "output_type": "stream",
     "text": [
      "MAE: -0.005\n",
      "Config: {'alpha': 0.0}\n",
      "Predicted: 0.085\n",
      "\n",
      "\n",
      "split= 10\n",
      "state= SOUTH DAKOTA\n",
      "MAE: -0.001\n",
      "Config: {'alpha': 0.99}\n",
      "Predicted: 0.015\n",
      "\n",
      "\n",
      "split= 10\n",
      "state= TENNESSEE\n",
      "MAE: -0.005\n",
      "Config: {'alpha': 0.04}\n",
      "Predicted: 0.203\n",
      "\n",
      "\n",
      "split= 10\n",
      "state= TEXAS\n",
      "MAE: -0.019\n",
      "Config: {'alpha': 0.01}\n",
      "Predicted: 0.655\n",
      "\n",
      "\n",
      "split= 10\n",
      "state= UTAH\n",
      "MAE: -0.013\n",
      "Config: {'alpha': 0.99}\n",
      "Predicted: 0.083\n",
      "\n",
      "\n",
      "split= 10\n",
      "state= VERMONT\n",
      "MAE: -0.002\n",
      "Config: {'alpha': 0.99}\n",
      "Predicted: 0.007\n",
      "\n",
      "\n",
      "split= 10\n",
      "state= VIRGINIA\n",
      "MAE: -0.003\n",
      "Config: {'alpha': 0.03}\n",
      "Predicted: 0.103\n",
      "\n",
      "\n",
      "split= 10\n",
      "state= WASHINGTON\n"
     ]
    },
    {
     "name": "stderr",
     "output_type": "stream",
     "text": [
      "/Users/barbenshabat/opt/anaconda3/lib/python3.8/site-packages/sklearn/linear_model/_ridge.py:187: LinAlgWarning: Ill-conditioned matrix (rcond=2.04148e-18): result may not be accurate.\n",
      "  dual_coef = linalg.solve(K, y, sym_pos=True,\n"
     ]
    },
    {
     "name": "stdout",
     "output_type": "stream",
     "text": [
      "MAE: -0.009\n",
      "Config: {'alpha': 0.0}\n",
      "Predicted: 0.221\n",
      "\n",
      "\n",
      "split= 9\n",
      "state= WEST VIRGINIA\n",
      "MAE: -0.004\n",
      "Config: {'alpha': 0.04}\n",
      "Predicted: 0.015\n",
      "\n",
      "\n",
      "split= 10\n",
      "state= WISCONSIN\n",
      "MAE: -0.009\n",
      "Config: {'alpha': 0.05}\n",
      "Predicted: 0.114\n",
      "\n",
      "\n",
      "split= 10\n",
      "state= WYOMING\n"
     ]
    },
    {
     "name": "stderr",
     "output_type": "stream",
     "text": [
      "/Users/barbenshabat/opt/anaconda3/lib/python3.8/site-packages/sklearn/linear_model/_ridge.py:190: UserWarning: Singular matrix in solving dual problem. Using least-squares solution instead.\n",
      "  warnings.warn(\"Singular matrix in solving dual problem. Using \"\n"
     ]
    },
    {
     "name": "stdout",
     "output_type": "stream",
     "text": [
      "MAE: -0.001\n",
      "Config: {'alpha': 0.0}\n",
      "Predicted: 0.014\n",
      "\n",
      "\n",
      "split= 9\n",
      "state= ILLINOIS\n",
      "MAE: -0.025\n",
      "Config: {'alpha': 0.02}\n",
      "Predicted: 0.236\n",
      "\n",
      "\n",
      "split= 9\n",
      "state= OREGON\n",
      "MAE: -0.013\n",
      "Config: {'alpha': 0.01}\n",
      "Predicted: 0.126\n",
      "\n",
      "\n",
      "split= 7\n",
      "state= MINNESOTA\n",
      "MAE: -0.007\n",
      "Config: {'alpha': 0.99}\n",
      "Predicted: 0.143\n",
      "\n",
      "\n",
      "---------crime--------------------------------- Motor vehicle theft\n",
      "split= 8\n",
      "state= ALABAMA\n"
     ]
    },
    {
     "name": "stderr",
     "output_type": "stream",
     "text": [
      "/Users/barbenshabat/opt/anaconda3/lib/python3.8/site-packages/sklearn/linear_model/_ridge.py:187: LinAlgWarning: Ill-conditioned matrix (rcond=1.00724e-18): result may not be accurate.\n",
      "  dual_coef = linalg.solve(K, y, sym_pos=True,\n"
     ]
    },
    {
     "name": "stdout",
     "output_type": "stream",
     "text": [
      "MAE: -0.003\n",
      "Config: {'alpha': 0.0}\n",
      "Predicted: 0.037\n",
      "\n",
      "\n",
      "split= 9\n",
      "state= ALASKA\n",
      "MAE: -0.004\n",
      "Config: {'alpha': 0.02}\n",
      "Predicted: 0.029\n",
      "\n",
      "\n",
      "split= 10\n",
      "state= ARIZONA\n",
      "MAE: -0.008\n",
      "Config: {'alpha': 0.01}\n",
      "Predicted: 0.119\n",
      "\n",
      "\n",
      "split= 10\n",
      "state= ARKANSAS\n",
      "MAE: -0.003\n",
      "Config: {'alpha': 0.01}\n",
      "Predicted: 0.033\n",
      "\n",
      "\n",
      "split= 10\n",
      "state= CALIFORNIA\n"
     ]
    },
    {
     "name": "stderr",
     "output_type": "stream",
     "text": [
      "/Users/barbenshabat/opt/anaconda3/lib/python3.8/site-packages/sklearn/linear_model/_ridge.py:187: LinAlgWarning: Ill-conditioned matrix (rcond=1.64245e-17): result may not be accurate.\n",
      "  dual_coef = linalg.solve(K, y, sym_pos=True,\n"
     ]
    },
    {
     "name": "stdout",
     "output_type": "stream",
     "text": [
      "MAE: -0.037\n",
      "Config: {'alpha': 0.0}\n",
      "Predicted: 0.606\n",
      "\n",
      "\n",
      "split= 10\n",
      "state= COLORADO\n"
     ]
    },
    {
     "name": "stderr",
     "output_type": "stream",
     "text": [
      "/Users/barbenshabat/opt/anaconda3/lib/python3.8/site-packages/sklearn/linear_model/_ridge.py:187: LinAlgWarning: Ill-conditioned matrix (rcond=1.79943e-17): result may not be accurate.\n",
      "  dual_coef = linalg.solve(K, y, sym_pos=True,\n"
     ]
    },
    {
     "name": "stdout",
     "output_type": "stream",
     "text": [
      "MAE: -0.006\n",
      "Config: {'alpha': 0.0}\n",
      "Predicted: 0.123\n",
      "\n",
      "\n",
      "split= 10\n",
      "state= CONNECTICUT\n",
      "MAE: -0.002\n",
      "Config: {'alpha': 0.01}\n",
      "Predicted: 0.055\n",
      "\n",
      "\n",
      "split= 10\n",
      "state= DELAWARE\n",
      "MAE: -0.001\n",
      "Config: {'alpha': 0.99}\n",
      "Predicted: 0.005\n",
      "\n",
      "\n",
      "split= 10\n",
      "state= DISTRICT OF COLUMBIA\n",
      "MAE: -0.003\n",
      "Config: {'alpha': 0.07}\n",
      "Predicted: 0.019\n",
      "\n",
      "\n",
      "split= 10\n",
      "state= FLORIDA\n",
      "MAE: -0.008\n",
      "Config: {'alpha': 0.01}\n",
      "Predicted: 0.179\n",
      "\n",
      "\n",
      "split= 8\n",
      "state= GEORGIA\n",
      "MAE: -0.006\n",
      "Config: {'alpha': 0.01}\n",
      "Predicted: 0.069\n",
      "\n",
      "\n",
      "split= 6\n",
      "state= HAWAII\n"
     ]
    },
    {
     "name": "stderr",
     "output_type": "stream",
     "text": [
      "/Users/barbenshabat/opt/anaconda3/lib/python3.8/site-packages/sklearn/linear_model/_ridge.py:190: UserWarning: Singular matrix in solving dual problem. Using least-squares solution instead.\n",
      "  warnings.warn(\"Singular matrix in solving dual problem. Using \"\n"
     ]
    },
    {
     "name": "stdout",
     "output_type": "stream",
     "text": [
      "MAE: -0.001\n",
      "Config: {'alpha': 0.0}\n",
      "Predicted: 0.027\n",
      "\n",
      "\n",
      "split= 10\n",
      "state= IDAHO\n",
      "MAE: -0.001\n",
      "Config: {'alpha': 0.02}\n",
      "Predicted: 0.009\n",
      "\n",
      "\n",
      "split= 10\n",
      "state= INDIANA\n",
      "MAE: -0.006\n",
      "Config: {'alpha': 0.01}\n",
      "Predicted: 0.034\n",
      "\n",
      "\n",
      "split= 9\n",
      "state= IOWA\n",
      "MAE: -0.002\n",
      "Config: {'alpha': 0.01}\n",
      "Predicted: 0.034\n",
      "\n",
      "\n",
      "split= 10\n",
      "state= KANSAS\n"
     ]
    },
    {
     "name": "stderr",
     "output_type": "stream",
     "text": [
      "/Users/barbenshabat/opt/anaconda3/lib/python3.8/site-packages/sklearn/linear_model/_ridge.py:190: UserWarning: Singular matrix in solving dual problem. Using least-squares solution instead.\n",
      "  warnings.warn(\"Singular matrix in solving dual problem. Using \"\n"
     ]
    },
    {
     "name": "stdout",
     "output_type": "stream",
     "text": [
      "MAE: -0.004\n",
      "Config: {'alpha': 0.0}\n",
      "Predicted: 0.035\n",
      "\n",
      "\n",
      "split= 10\n",
      "state= KENTUCKY\n"
     ]
    },
    {
     "name": "stderr",
     "output_type": "stream",
     "text": [
      "/Users/barbenshabat/opt/anaconda3/lib/python3.8/site-packages/sklearn/linear_model/_ridge.py:190: UserWarning: Singular matrix in solving dual problem. Using least-squares solution instead.\n",
      "  warnings.warn(\"Singular matrix in solving dual problem. Using \"\n"
     ]
    },
    {
     "name": "stdout",
     "output_type": "stream",
     "text": [
      "MAE: -0.004\n",
      "Config: {'alpha': 0.0}\n",
      "Predicted: 0.048\n",
      "\n",
      "\n",
      "split= 10\n",
      "state= LOUISIANA\n"
     ]
    },
    {
     "name": "stderr",
     "output_type": "stream",
     "text": [
      "/Users/barbenshabat/opt/anaconda3/lib/python3.8/site-packages/sklearn/linear_model/_ridge.py:187: LinAlgWarning: Ill-conditioned matrix (rcond=1.83409e-17): result may not be accurate.\n",
      "  dual_coef = linalg.solve(K, y, sym_pos=True,\n"
     ]
    },
    {
     "name": "stdout",
     "output_type": "stream",
     "text": [
      "MAE: -0.004\n",
      "Config: {'alpha': 0.0}\n",
      "Predicted: 0.054\n",
      "\n",
      "\n",
      "split= 10\n",
      "state= MAINE\n",
      "MAE: -0.001\n",
      "Config: {'alpha': 0.14}\n",
      "Predicted: 0.003\n",
      "\n",
      "\n",
      "split= 10\n",
      "state= MARYLAND\n"
     ]
    },
    {
     "name": "stderr",
     "output_type": "stream",
     "text": [
      "/Users/barbenshabat/opt/anaconda3/lib/python3.8/site-packages/sklearn/linear_model/_ridge.py:187: LinAlgWarning: Ill-conditioned matrix (rcond=3.71817e-17): result may not be accurate.\n",
      "  dual_coef = linalg.solve(K, y, sym_pos=True,\n"
     ]
    },
    {
     "name": "stdout",
     "output_type": "stream",
     "text": [
      "MAE: -0.002\n",
      "Config: {'alpha': 0.0}\n",
      "Predicted: 0.042\n",
      "\n",
      "\n",
      "split= 10\n",
      "state= MASSACHUSETTS\n"
     ]
    },
    {
     "name": "stderr",
     "output_type": "stream",
     "text": [
      "/Users/barbenshabat/opt/anaconda3/lib/python3.8/site-packages/sklearn/linear_model/_ridge.py:190: UserWarning: Singular matrix in solving dual problem. Using least-squares solution instead.\n",
      "  warnings.warn(\"Singular matrix in solving dual problem. Using \"\n"
     ]
    },
    {
     "name": "stdout",
     "output_type": "stream",
     "text": [
      "MAE: -0.003\n",
      "Config: {'alpha': 0.0}\n",
      "Predicted: 0.043\n",
      "\n",
      "\n",
      "split= 10\n",
      "state= MICHIGAN\n",
      "MAE: -0.014\n",
      "Config: {'alpha': 0.06}\n",
      "Predicted: 0.120\n",
      "\n",
      "\n",
      "split= 10\n",
      "state= MISSISSIPPI\n"
     ]
    },
    {
     "name": "stderr",
     "output_type": "stream",
     "text": [
      "/Users/barbenshabat/opt/anaconda3/lib/python3.8/site-packages/sklearn/linear_model/_ridge.py:187: LinAlgWarning: Ill-conditioned matrix (rcond=4.24517e-17): result may not be accurate.\n",
      "  dual_coef = linalg.solve(K, y, sym_pos=True,\n"
     ]
    },
    {
     "name": "stdout",
     "output_type": "stream",
     "text": [
      "MAE: -0.001\n",
      "Config: {'alpha': 0.0}\n",
      "Predicted: 0.009\n",
      "\n",
      "\n",
      "split= 10\n",
      "state= MISSOURI\n",
      "MAE: -0.004\n",
      "Config: {'alpha': 0.16}\n",
      "Predicted: 0.115\n",
      "\n",
      "\n",
      "split= 9\n",
      "state= MONTANA\n",
      "MAE: -0.001\n",
      "Config: {'alpha': 0.03}\n",
      "Predicted: 0.010\n",
      "\n",
      "\n",
      "split= 10\n",
      "state= NEBRASKA\n",
      "MAE: -0.003\n",
      "Config: {'alpha': 0.99}\n",
      "Predicted: 0.028\n",
      "\n",
      "\n",
      "split= 10\n",
      "state= NEVADA\n",
      "MAE: -0.006\n",
      "Config: {'alpha': 0.01}\n",
      "Predicted: 0.081\n",
      "\n",
      "\n",
      "split= 10\n",
      "state= NEW HAMPSHIRE\n",
      "MAE: -0.000\n",
      "Config: {'alpha': 0.01}\n",
      "Predicted: 0.006\n",
      "\n",
      "\n",
      "split= 9\n",
      "state= NEW JERSEY\n"
     ]
    },
    {
     "name": "stderr",
     "output_type": "stream",
     "text": [
      "/Users/barbenshabat/opt/anaconda3/lib/python3.8/site-packages/sklearn/linear_model/_ridge.py:190: UserWarning: Singular matrix in solving dual problem. Using least-squares solution instead.\n",
      "  warnings.warn(\"Singular matrix in solving dual problem. Using \"\n"
     ]
    },
    {
     "name": "stdout",
     "output_type": "stream",
     "text": [
      "MAE: -0.009\n",
      "Config: {'alpha': 0.0}\n",
      "Predicted: 0.080\n",
      "\n",
      "\n",
      "split= 10\n",
      "state= NEW MEXICO\n"
     ]
    },
    {
     "name": "stderr",
     "output_type": "stream",
     "text": [
      "/Users/barbenshabat/opt/anaconda3/lib/python3.8/site-packages/sklearn/linear_model/_ridge.py:187: LinAlgWarning: Ill-conditioned matrix (rcond=2.83599e-17): result may not be accurate.\n",
      "  dual_coef = linalg.solve(K, y, sym_pos=True,\n"
     ]
    },
    {
     "name": "stdout",
     "output_type": "stream",
     "text": [
      "MAE: -0.004\n",
      "Config: {'alpha': 0.0}\n",
      "Predicted: 0.024\n",
      "\n",
      "\n",
      "split= 9\n",
      "state= NEW YORK\n"
     ]
    },
    {
     "name": "stderr",
     "output_type": "stream",
     "text": [
      "/Users/barbenshabat/opt/anaconda3/lib/python3.8/site-packages/sklearn/linear_model/_ridge.py:190: UserWarning: Singular matrix in solving dual problem. Using least-squares solution instead.\n",
      "  warnings.warn(\"Singular matrix in solving dual problem. Using \"\n"
     ]
    },
    {
     "name": "stdout",
     "output_type": "stream",
     "text": [
      "MAE: -0.005\n",
      "Config: {'alpha': 0.0}\n",
      "Predicted: 0.083\n",
      "\n",
      "\n",
      "split= 7\n",
      "state= NORTH CAROLINA\n",
      "MAE: -0.006\n",
      "Config: {'alpha': 0.01}\n",
      "Predicted: 0.047\n",
      "\n",
      "\n",
      "split= 10\n",
      "state= NORTH DAKOTA\n",
      "MAE: -0.001\n",
      "Config: {'alpha': 0.02}\n",
      "Predicted: 0.009\n",
      "\n",
      "\n",
      "split= 10\n",
      "state= OHIO\n"
     ]
    },
    {
     "name": "stderr",
     "output_type": "stream",
     "text": [
      "/Users/barbenshabat/opt/anaconda3/lib/python3.8/site-packages/sklearn/linear_model/_ridge.py:190: UserWarning: Singular matrix in solving dual problem. Using least-squares solution instead.\n",
      "  warnings.warn(\"Singular matrix in solving dual problem. Using \"\n"
     ]
    },
    {
     "name": "stdout",
     "output_type": "stream",
     "text": [
      "MAE: -0.013\n",
      "Config: {'alpha': 0.0}\n",
      "Predicted: 0.080\n",
      "\n",
      "\n",
      "split= 10\n",
      "state= OKLAHOMA\n",
      "MAE: -0.004\n",
      "Config: {'alpha': 0.01}\n",
      "Predicted: 0.083\n",
      "\n",
      "\n",
      "split= 10\n",
      "state= PENNSYLVANIA\n",
      "MAE: -0.005\n",
      "Config: {'alpha': 0.01}\n",
      "Predicted: 0.077\n",
      "\n",
      "\n",
      "split= 10\n",
      "state= RHODE ISLAND\n",
      "MAE: -0.003\n",
      "Config: {'alpha': 0.03}\n",
      "Predicted: 0.011\n",
      "\n",
      "\n",
      "split= 10\n",
      "state= SOUTH CAROLINA\n"
     ]
    },
    {
     "name": "stderr",
     "output_type": "stream",
     "text": [
      "/Users/barbenshabat/opt/anaconda3/lib/python3.8/site-packages/sklearn/linear_model/_ridge.py:187: LinAlgWarning: Ill-conditioned matrix (rcond=4.83236e-17): result may not be accurate.\n",
      "  dual_coef = linalg.solve(K, y, sym_pos=True,\n"
     ]
    },
    {
     "name": "stdout",
     "output_type": "stream",
     "text": [
      "MAE: -0.002\n",
      "Config: {'alpha': 0.0}\n",
      "Predicted: 0.035\n",
      "\n",
      "\n",
      "split= 10\n",
      "state= SOUTH DAKOTA\n",
      "MAE: -0.001\n",
      "Config: {'alpha': 0.01}\n",
      "Predicted: 0.007\n",
      "\n",
      "\n",
      "split= 10\n",
      "state= TENNESSEE\n"
     ]
    },
    {
     "name": "stderr",
     "output_type": "stream",
     "text": [
      "/Users/barbenshabat/opt/anaconda3/lib/python3.8/site-packages/sklearn/linear_model/_ridge.py:187: LinAlgWarning: Ill-conditioned matrix (rcond=1.2434e-17): result may not be accurate.\n",
      "  dual_coef = linalg.solve(K, y, sym_pos=True,\n"
     ]
    },
    {
     "name": "stdout",
     "output_type": "stream",
     "text": [
      "MAE: -0.005\n",
      "Config: {'alpha': 0.0}\n",
      "Predicted: 0.132\n",
      "\n",
      "\n",
      "split= 10\n",
      "state= TEXAS\n",
      "MAE: -0.016\n",
      "Config: {'alpha': 0.11}\n",
      "Predicted: 0.359\n",
      "\n",
      "\n",
      "split= 10\n",
      "state= UTAH\n"
     ]
    },
    {
     "name": "stderr",
     "output_type": "stream",
     "text": [
      "/Users/barbenshabat/opt/anaconda3/lib/python3.8/site-packages/sklearn/linear_model/_ridge.py:190: UserWarning: Singular matrix in solving dual problem. Using least-squares solution instead.\n",
      "  warnings.warn(\"Singular matrix in solving dual problem. Using \"\n"
     ]
    },
    {
     "name": "stdout",
     "output_type": "stream",
     "text": [
      "MAE: -0.007\n",
      "Config: {'alpha': 0.0}\n",
      "Predicted: 0.038\n",
      "\n",
      "\n",
      "split= 10\n",
      "state= VERMONT\n",
      "MAE: -0.000\n",
      "Config: {'alpha': 0.08}\n",
      "Predicted: 0.000\n",
      "\n",
      "\n",
      "split= 10\n",
      "state= VIRGINIA\n"
     ]
    },
    {
     "name": "stderr",
     "output_type": "stream",
     "text": [
      "/Users/barbenshabat/opt/anaconda3/lib/python3.8/site-packages/sklearn/linear_model/_ridge.py:187: LinAlgWarning: Ill-conditioned matrix (rcond=3.51543e-17): result may not be accurate.\n",
      "  dual_coef = linalg.solve(K, y, sym_pos=True,\n"
     ]
    },
    {
     "name": "stdout",
     "output_type": "stream",
     "text": [
      "MAE: -0.003\n",
      "Config: {'alpha': 0.0}\n",
      "Predicted: 0.041\n",
      "\n",
      "\n",
      "split= 10\n",
      "state= WASHINGTON\n",
      "MAE: -0.012\n",
      "Config: {'alpha': 0.04}\n",
      "Predicted: 0.170\n",
      "\n",
      "\n",
      "split= 9\n",
      "state= WEST VIRGINIA\n",
      "MAE: -0.001\n",
      "Config: {'alpha': 0.07}\n",
      "Predicted: 0.005\n",
      "\n",
      "\n",
      "split= 10\n",
      "state= WISCONSIN\n",
      "MAE: -0.006\n",
      "Config: {'alpha': 0.01}\n",
      "Predicted: 0.058\n",
      "\n",
      "\n",
      "split= 10\n",
      "state= WYOMING\n",
      "MAE: -0.000\n",
      "Config: {'alpha': 0.02}\n",
      "Predicted: 0.003\n",
      "\n",
      "\n",
      "split= 9\n",
      "state= ILLINOIS\n",
      "MAE: -0.014\n",
      "Config: {'alpha': 0.06}\n",
      "Predicted: 0.117\n",
      "\n",
      "\n",
      "split= 9\n",
      "state= OREGON\n"
     ]
    },
    {
     "name": "stderr",
     "output_type": "stream",
     "text": [
      "/Users/barbenshabat/opt/anaconda3/lib/python3.8/site-packages/sklearn/linear_model/_ridge.py:187: LinAlgWarning: Ill-conditioned matrix (rcond=4.81036e-17): result may not be accurate.\n",
      "  dual_coef = linalg.solve(K, y, sym_pos=True,\n"
     ]
    },
    {
     "name": "stdout",
     "output_type": "stream",
     "text": [
      "MAE: -0.008\n",
      "Config: {'alpha': 0.0}\n",
      "Predicted: 0.112\n",
      "\n",
      "\n",
      "split= 7\n",
      "state= MINNESOTA\n",
      "MAE: -0.005\n",
      "Config: {'alpha': 0.01}\n",
      "Predicted: 0.068\n",
      "\n",
      "\n",
      "---------crime--------------------------------- Arson1\n",
      "split= 8\n",
      "state= ALABAMA\n",
      "MAE: -0.014\n",
      "Config: {'alpha': 0.27}\n",
      "Predicted: 0.013\n",
      "\n",
      "\n",
      "split= 9\n",
      "state= ALASKA\n",
      "MAE: -0.002\n",
      "Config: {'alpha': 0.01}\n",
      "Predicted: 0.010\n",
      "\n",
      "\n",
      "split= 10\n",
      "state= ARIZONA\n"
     ]
    },
    {
     "name": "stderr",
     "output_type": "stream",
     "text": [
      "/Users/barbenshabat/opt/anaconda3/lib/python3.8/site-packages/sklearn/linear_model/_ridge.py:187: LinAlgWarning: Ill-conditioned matrix (rcond=3.01871e-17): result may not be accurate.\n",
      "  dual_coef = linalg.solve(K, y, sym_pos=True,\n"
     ]
    },
    {
     "name": "stdout",
     "output_type": "stream",
     "text": [
      "MAE: -0.005\n",
      "Config: {'alpha': 0.0}\n",
      "Predicted: 0.135\n",
      "\n",
      "\n",
      "split= 10\n",
      "state= ARKANSAS\n"
     ]
    },
    {
     "name": "stderr",
     "output_type": "stream",
     "text": [
      "/Users/barbenshabat/opt/anaconda3/lib/python3.8/site-packages/sklearn/linear_model/_ridge.py:190: UserWarning: Singular matrix in solving dual problem. Using least-squares solution instead.\n",
      "  warnings.warn(\"Singular matrix in solving dual problem. Using \"\n"
     ]
    },
    {
     "name": "stdout",
     "output_type": "stream",
     "text": [
      "MAE: -0.003\n",
      "Config: {'alpha': 0.0}\n",
      "Predicted: 0.047\n",
      "\n",
      "\n",
      "split= 10\n",
      "state= CALIFORNIA\n",
      "MAE: -0.026\n",
      "Config: {'alpha': 0.07}\n",
      "Predicted: 1.026\n",
      "\n",
      "\n",
      "split= 10\n",
      "state= COLORADO\n"
     ]
    },
    {
     "name": "stderr",
     "output_type": "stream",
     "text": [
      "/Users/barbenshabat/opt/anaconda3/lib/python3.8/site-packages/sklearn/linear_model/_ridge.py:187: LinAlgWarning: Ill-conditioned matrix (rcond=4.31616e-18): result may not be accurate.\n",
      "  dual_coef = linalg.solve(K, y, sym_pos=True,\n"
     ]
    },
    {
     "name": "stdout",
     "output_type": "stream",
     "text": [
      "MAE: -0.007\n",
      "Config: {'alpha': 0.0}\n",
      "Predicted: 0.106\n",
      "\n",
      "\n",
      "split= 10\n",
      "state= CONNECTICUT\n",
      "MAE: -0.008\n",
      "Config: {'alpha': 0.05}\n",
      "Predicted: 0.041\n",
      "\n",
      "\n",
      "split= 10\n",
      "state= DELAWARE\n",
      "MAE: -0.001\n",
      "Config: {'alpha': 0.99}\n",
      "Predicted: 0.002\n",
      "\n",
      "\n",
      "split= 10\n",
      "state= DISTRICT OF COLUMBIA\n",
      "MAE: -0.002\n",
      "Config: {'alpha': 0.03}\n",
      "Predicted: -0.000\n",
      "\n",
      "\n",
      "split= 10\n",
      "state= FLORIDA\n"
     ]
    },
    {
     "name": "stderr",
     "output_type": "stream",
     "text": [
      "/Users/barbenshabat/opt/anaconda3/lib/python3.8/site-packages/sklearn/linear_model/_ridge.py:187: LinAlgWarning: Ill-conditioned matrix (rcond=1.95933e-17): result may not be accurate.\n",
      "  dual_coef = linalg.solve(K, y, sym_pos=True,\n"
     ]
    },
    {
     "name": "stdout",
     "output_type": "stream",
     "text": [
      "MAE: -0.009\n",
      "Config: {'alpha': 0.0}\n",
      "Predicted: 0.089\n",
      "\n",
      "\n",
      "split= 8\n",
      "state= GEORGIA\n"
     ]
    },
    {
     "name": "stderr",
     "output_type": "stream",
     "text": [
      "/Users/barbenshabat/opt/anaconda3/lib/python3.8/site-packages/sklearn/linear_model/_ridge.py:190: UserWarning: Singular matrix in solving dual problem. Using least-squares solution instead.\n",
      "  warnings.warn(\"Singular matrix in solving dual problem. Using \"\n"
     ]
    },
    {
     "name": "stdout",
     "output_type": "stream",
     "text": [
      "MAE: -0.008\n",
      "Config: {'alpha': 0.0}\n",
      "Predicted: 0.037\n",
      "\n",
      "\n",
      "split= 6\n",
      "state= HAWAII\n"
     ]
    },
    {
     "name": "stderr",
     "output_type": "stream",
     "text": [
      "/Users/barbenshabat/opt/anaconda3/lib/python3.8/site-packages/sklearn/linear_model/_ridge.py:190: UserWarning: Singular matrix in solving dual problem. Using least-squares solution instead.\n",
      "  warnings.warn(\"Singular matrix in solving dual problem. Using \"\n"
     ]
    },
    {
     "name": "stdout",
     "output_type": "stream",
     "text": [
      "MAE: -0.008\n",
      "Config: {'alpha': 0.0}\n",
      "Predicted: 0.057\n",
      "\n",
      "\n",
      "split= 10\n",
      "state= IDAHO\n",
      "MAE: -0.003\n",
      "Config: {'alpha': 0.99}\n",
      "Predicted: 0.023\n",
      "\n",
      "\n",
      "split= 10\n",
      "state= INDIANA\n"
     ]
    },
    {
     "name": "stderr",
     "output_type": "stream",
     "text": [
      "/Users/barbenshabat/opt/anaconda3/lib/python3.8/site-packages/sklearn/linear_model/_ridge.py:187: LinAlgWarning: Ill-conditioned matrix (rcond=1.78628e-17): result may not be accurate.\n",
      "  dual_coef = linalg.solve(K, y, sym_pos=True,\n"
     ]
    },
    {
     "name": "stdout",
     "output_type": "stream",
     "text": [
      "MAE: -0.017\n",
      "Config: {'alpha': 0.0}\n",
      "Predicted: 0.044\n",
      "\n",
      "\n",
      "split= 9\n",
      "state= IOWA\n",
      "MAE: -0.004\n",
      "Config: {'alpha': 0.04}\n",
      "Predicted: 0.049\n",
      "\n",
      "\n",
      "split= 10\n",
      "state= KANSAS\n",
      "MAE: -0.010\n",
      "Config: {'alpha': 0.02}\n",
      "Predicted: 0.047\n",
      "\n",
      "\n",
      "split= 10\n",
      "state= KENTUCKY\n",
      "MAE: -0.007\n",
      "Config: {'alpha': 0.02}\n",
      "Predicted: 0.027\n",
      "\n",
      "\n",
      "split= 10\n",
      "state= LOUISIANA\n",
      "MAE: -0.012\n",
      "Config: {'alpha': 0.15}\n",
      "Predicted: 0.048\n",
      "\n",
      "\n",
      "split= 10\n",
      "state= MAINE\n",
      "MAE: -0.002\n",
      "Config: {'alpha': 0.15}\n",
      "Predicted: 0.008\n",
      "\n",
      "\n",
      "split= 10\n",
      "state= MARYLAND\n",
      "MAE: -0.010\n",
      "Config: {'alpha': 0.01}\n",
      "Predicted: 0.034\n",
      "\n",
      "\n",
      "split= 10\n",
      "state= MASSACHUSETTS\n",
      "MAE: -0.008\n",
      "Config: {'alpha': 0.35000000000000003}\n",
      "Predicted: 0.051\n",
      "\n",
      "\n",
      "split= 10\n",
      "state= MICHIGAN\n"
     ]
    },
    {
     "name": "stderr",
     "output_type": "stream",
     "text": [
      "/Users/barbenshabat/opt/anaconda3/lib/python3.8/site-packages/sklearn/linear_model/_ridge.py:190: UserWarning: Singular matrix in solving dual problem. Using least-squares solution instead.\n",
      "  warnings.warn(\"Singular matrix in solving dual problem. Using \"\n"
     ]
    },
    {
     "name": "stdout",
     "output_type": "stream",
     "text": [
      "MAE: -0.031\n",
      "Config: {'alpha': 0.0}\n",
      "Predicted: 0.189\n",
      "\n",
      "\n",
      "split= 10\n",
      "state= MISSISSIPPI\n",
      "MAE: -0.010\n",
      "Config: {'alpha': 0.02}\n",
      "Predicted: 0.006\n",
      "\n",
      "\n",
      "split= 10\n",
      "state= MISSOURI\n",
      "MAE: -0.012\n",
      "Config: {'alpha': 0.02}\n",
      "Predicted: 0.111\n",
      "\n",
      "\n",
      "split= 9\n",
      "state= MONTANA\n",
      "MAE: -0.003\n",
      "Config: {'alpha': 0.08}\n",
      "Predicted: 0.011\n",
      "\n",
      "\n",
      "split= 10\n",
      "state= NEBRASKA\n",
      "MAE: -0.008\n",
      "Config: {'alpha': 0.01}\n",
      "Predicted: 0.002\n",
      "\n",
      "\n",
      "split= 10\n",
      "state= NEVADA\n",
      "MAE: -0.004\n",
      "Config: {'alpha': 0.02}\n",
      "Predicted: 0.027\n",
      "\n",
      "\n",
      "split= 10\n",
      "state= NEW HAMPSHIRE\n",
      "MAE: -0.005\n",
      "Config: {'alpha': 0.05}\n",
      "Predicted: 0.024\n",
      "\n",
      "\n",
      "split= 9\n",
      "state= NEW JERSEY\n"
     ]
    },
    {
     "name": "stderr",
     "output_type": "stream",
     "text": [
      "/Users/barbenshabat/opt/anaconda3/lib/python3.8/site-packages/sklearn/linear_model/_ridge.py:190: UserWarning: Singular matrix in solving dual problem. Using least-squares solution instead.\n",
      "  warnings.warn(\"Singular matrix in solving dual problem. Using \"\n"
     ]
    },
    {
     "name": "stdout",
     "output_type": "stream",
     "text": [
      "MAE: -0.007\n",
      "Config: {'alpha': 0.0}\n",
      "Predicted: 0.071\n",
      "\n",
      "\n",
      "split= 10\n",
      "state= NEW MEXICO\n"
     ]
    },
    {
     "name": "stderr",
     "output_type": "stream",
     "text": [
      "/Users/barbenshabat/opt/anaconda3/lib/python3.8/site-packages/sklearn/linear_model/_ridge.py:187: LinAlgWarning: Ill-conditioned matrix (rcond=3.8136e-17): result may not be accurate.\n",
      "  dual_coef = linalg.solve(K, y, sym_pos=True,\n"
     ]
    },
    {
     "name": "stdout",
     "output_type": "stream",
     "text": [
      "MAE: -0.008\n",
      "Config: {'alpha': 0.0}\n",
      "Predicted: 0.021\n",
      "\n",
      "\n",
      "split= 9\n",
      "state= NEW YORK\n",
      "MAE: -0.023\n",
      "Config: {'alpha': 0.05}\n",
      "Predicted: 0.104\n",
      "\n",
      "\n",
      "split= 7\n",
      "state= NORTH CAROLINA\n"
     ]
    },
    {
     "name": "stderr",
     "output_type": "stream",
     "text": [
      "/Users/barbenshabat/opt/anaconda3/lib/python3.8/site-packages/sklearn/linear_model/_ridge.py:190: UserWarning: Singular matrix in solving dual problem. Using least-squares solution instead.\n",
      "  warnings.warn(\"Singular matrix in solving dual problem. Using \"\n"
     ]
    },
    {
     "name": "stdout",
     "output_type": "stream",
     "text": [
      "MAE: -0.017\n",
      "Config: {'alpha': 0.0}\n",
      "Predicted: 0.094\n",
      "\n",
      "\n",
      "split= 10\n",
      "state= NORTH DAKOTA\n",
      "MAE: -0.002\n",
      "Config: {'alpha': 0.14}\n",
      "Predicted: 0.007\n",
      "\n",
      "\n",
      "split= 10\n",
      "state= OHIO\n",
      "MAE: -0.070\n",
      "Config: {'alpha': 0.07}\n",
      "Predicted: 0.066\n",
      "\n",
      "\n",
      "split= 10\n",
      "state= OKLAHOMA\n",
      "MAE: -0.007\n",
      "Config: {'alpha': 0.07}\n",
      "Predicted: 0.078\n",
      "\n",
      "\n",
      "split= 10\n",
      "state= PENNSYLVANIA\n",
      "MAE: -0.014\n",
      "Config: {'alpha': 0.99}\n",
      "Predicted: 0.172\n",
      "\n",
      "\n",
      "split= 10\n",
      "state= RHODE ISLAND\n",
      "MAE: -0.003\n",
      "Config: {'alpha': 0.01}\n",
      "Predicted: 0.021\n",
      "\n",
      "\n",
      "split= 10\n",
      "state= SOUTH CAROLINA\n",
      "MAE: -0.002\n",
      "Config: {'alpha': 0.32}\n",
      "Predicted: 0.030\n",
      "\n",
      "\n",
      "split= 10\n",
      "state= SOUTH DAKOTA\n",
      "MAE: -0.002\n",
      "Config: {'alpha': 0.01}\n",
      "Predicted: 0.010\n",
      "\n",
      "\n",
      "split= 10\n",
      "state= TENNESSEE\n"
     ]
    },
    {
     "name": "stderr",
     "output_type": "stream",
     "text": [
      "/Users/barbenshabat/opt/anaconda3/lib/python3.8/site-packages/sklearn/linear_model/_ridge.py:187: LinAlgWarning: Ill-conditioned matrix (rcond=1.70594e-17): result may not be accurate.\n",
      "  dual_coef = linalg.solve(K, y, sym_pos=True,\n"
     ]
    },
    {
     "name": "stdout",
     "output_type": "stream",
     "text": [
      "MAE: -0.007\n",
      "Config: {'alpha': 0.0}\n",
      "Predicted: 0.067\n",
      "\n",
      "\n",
      "split= 10\n",
      "state= TEXAS\n"
     ]
    },
    {
     "name": "stderr",
     "output_type": "stream",
     "text": [
      "/Users/barbenshabat/opt/anaconda3/lib/python3.8/site-packages/sklearn/linear_model/_ridge.py:190: UserWarning: Singular matrix in solving dual problem. Using least-squares solution instead.\n",
      "  warnings.warn(\"Singular matrix in solving dual problem. Using \"\n"
     ]
    },
    {
     "name": "stdout",
     "output_type": "stream",
     "text": [
      "MAE: -0.026\n",
      "Config: {'alpha': 0.0}\n",
      "Predicted: 0.283\n",
      "\n",
      "\n",
      "split= 10\n",
      "state= UTAH\n"
     ]
    },
    {
     "name": "stderr",
     "output_type": "stream",
     "text": [
      "/Users/barbenshabat/opt/anaconda3/lib/python3.8/site-packages/sklearn/linear_model/_ridge.py:190: UserWarning: Singular matrix in solving dual problem. Using least-squares solution instead.\n",
      "  warnings.warn(\"Singular matrix in solving dual problem. Using \"\n"
     ]
    },
    {
     "name": "stdout",
     "output_type": "stream",
     "text": [
      "MAE: -0.004\n",
      "Config: {'alpha': 0.0}\n",
      "Predicted: 0.020\n",
      "\n",
      "\n",
      "split= 10\n",
      "state= VERMONT\n",
      "MAE: -0.001\n",
      "Config: {'alpha': 0.99}\n",
      "Predicted: 0.003\n",
      "\n",
      "\n",
      "split= 10\n",
      "state= VIRGINIA\n",
      "MAE: -0.005\n",
      "Config: {'alpha': 0.02}\n",
      "Predicted: 0.047\n",
      "\n",
      "\n",
      "split= 10\n",
      "state= WASHINGTON\n"
     ]
    },
    {
     "name": "stderr",
     "output_type": "stream",
     "text": [
      "/Users/barbenshabat/opt/anaconda3/lib/python3.8/site-packages/sklearn/linear_model/_ridge.py:187: LinAlgWarning: Ill-conditioned matrix (rcond=1.33904e-17): result may not be accurate.\n",
      "  dual_coef = linalg.solve(K, y, sym_pos=True,\n"
     ]
    },
    {
     "name": "stdout",
     "output_type": "stream",
     "text": [
      "MAE: -0.004\n",
      "Config: {'alpha': 0.0}\n",
      "Predicted: 0.099\n",
      "\n",
      "\n",
      "split= 9\n",
      "state= WEST VIRGINIA\n",
      "MAE: -0.002\n",
      "Config: {'alpha': 0.03}\n",
      "Predicted: 0.012\n",
      "\n",
      "\n",
      "split= 10\n",
      "state= WISCONSIN\n"
     ]
    },
    {
     "name": "stderr",
     "output_type": "stream",
     "text": [
      "/Users/barbenshabat/opt/anaconda3/lib/python3.8/site-packages/sklearn/linear_model/_ridge.py:187: LinAlgWarning: Ill-conditioned matrix (rcond=3.64092e-17): result may not be accurate.\n",
      "  dual_coef = linalg.solve(K, y, sym_pos=True,\n"
     ]
    },
    {
     "name": "stdout",
     "output_type": "stream",
     "text": [
      "MAE: -0.009\n",
      "Config: {'alpha': 0.0}\n",
      "Predicted: 0.079\n",
      "\n",
      "\n",
      "split= 10\n",
      "state= WYOMING\n",
      "MAE: -0.002\n",
      "Config: {'alpha': 0.99}\n",
      "Predicted: 0.006\n",
      "\n",
      "\n",
      "split= 9\n",
      "state= ILLINOIS\n"
     ]
    },
    {
     "name": "stderr",
     "output_type": "stream",
     "text": [
      "/Users/barbenshabat/opt/anaconda3/lib/python3.8/site-packages/sklearn/linear_model/_ridge.py:187: LinAlgWarning: Ill-conditioned matrix (rcond=2.4335e-17): result may not be accurate.\n",
      "  dual_coef = linalg.solve(K, y, sym_pos=True,\n"
     ]
    },
    {
     "name": "stdout",
     "output_type": "stream",
     "text": [
      "MAE: -0.012\n",
      "Config: {'alpha': 0.0}\n",
      "Predicted: 0.138\n",
      "\n",
      "\n",
      "split= 9\n",
      "state= OREGON\n",
      "MAE: -0.024\n",
      "Config: {'alpha': 0.01}\n",
      "Predicted: 0.075\n",
      "\n",
      "\n",
      "split= 7\n",
      "state= MINNESOTA\n",
      "MAE: -0.010\n",
      "Config: {'alpha': 0.0}\n",
      "Predicted: 0.059\n",
      "\n",
      "\n"
     ]
    },
    {
     "name": "stderr",
     "output_type": "stream",
     "text": [
      "/Users/barbenshabat/opt/anaconda3/lib/python3.8/site-packages/sklearn/linear_model/_ridge.py:187: LinAlgWarning: Ill-conditioned matrix (rcond=1.17769e-17): result may not be accurate.\n",
      "  dual_coef = linalg.solve(K, y, sym_pos=True,\n"
     ]
    }
   ],
   "source": [
    "\n",
    "\n",
    "# Get data\n",
    "path='/Users/barbenshabat/Downloads/Datascience/project/'\n",
    "name='df_Y_S_KFF.xlsx'\n",
    "df_kff=pd.read_excel(path+name, index_col=0) # read each file in the folder\n",
    "df_kff.shape\n",
    "\n",
    "# Copy the data\n",
    "df_sklearn = df_kff.copy()\n",
    "\n",
    "# Apply normalization techniques\n",
    "cols=df_kff.drop({'Governor Political Affiliation'},axis=1).iloc[:,2:].columns #all relevant numeric\n",
    "\n",
    "  \n",
    "# Normlize\n",
    "for column in cols: \n",
    "    df_sklearn[column] = MinMaxScaler().fit_transform(np.array(df_sklearn[column]).reshape(-1,1))\n",
    "\n",
    "crime_list = df_kff.iloc[:,3:13].columns\n",
    "states=[]\n",
    "list_of_prediction_lists = []\n",
    "\n",
    "#List of states in the US\n",
    "for state in df_kff.State:\n",
    "    if state in states:\n",
    "        continue\n",
    "    else:\n",
    "        states.append(state)\n",
    "\n",
    "for crime in crime_list:\n",
    "    print(\"---------crime---------------------------------\", crime)\n",
    "    list_of_prediction_lists.append(preper_for_ridge(df_sklearn,states,crime))\n",
    "\n"
   ]
  },
  {
   "cell_type": "code",
   "execution_count": 14,
   "metadata": {
    "scrolled": false
   },
   "outputs": [
    {
     "data": {
      "text/html": [
       "<div>\n",
       "<style scoped>\n",
       "    .dataframe tbody tr th:only-of-type {\n",
       "        vertical-align: middle;\n",
       "    }\n",
       "\n",
       "    .dataframe tbody tr th {\n",
       "        vertical-align: top;\n",
       "    }\n",
       "\n",
       "    .dataframe thead th {\n",
       "        text-align: right;\n",
       "    }\n",
       "</style>\n",
       "<table border=\"1\" class=\"dataframe\">\n",
       "  <thead>\n",
       "    <tr style=\"text-align: right;\">\n",
       "      <th></th>\n",
       "      <th>Pred Violent crime</th>\n",
       "      <th>Actual Violent crime</th>\n",
       "      <th>deviation Violent crime</th>\n",
       "      <th>deviation Violent crime %</th>\n",
       "      <th>Pred Murder and nonnegligent manslaughter</th>\n",
       "      <th>Actual Murder and nonnegligent manslaughter</th>\n",
       "      <th>deviation Murder and nonnegligent manslaughter</th>\n",
       "      <th>deviation Murder and nonnegligent manslaughter %</th>\n",
       "      <th>Pred Forcible rape</th>\n",
       "      <th>Actual Forcible rape</th>\n",
       "      <th>...</th>\n",
       "      <th>deviation Larceny-theft %</th>\n",
       "      <th>Pred Motor vehicle theft</th>\n",
       "      <th>Actual Motor vehicle theft</th>\n",
       "      <th>deviation Motor vehicle theft</th>\n",
       "      <th>deviation Motor vehicle theft %</th>\n",
       "      <th>Pred Arson1</th>\n",
       "      <th>Actual Arson1</th>\n",
       "      <th>deviation Arson1</th>\n",
       "      <th>deviation Arson1 %</th>\n",
       "      <th>Sum pred</th>\n",
       "    </tr>\n",
       "  </thead>\n",
       "  <tbody>\n",
       "    <tr>\n",
       "      <th>count</th>\n",
       "      <td>51.000000</td>\n",
       "      <td>48.000000</td>\n",
       "      <td>48.000000</td>\n",
       "      <td>48.000000</td>\n",
       "      <td>51.000000</td>\n",
       "      <td>48.000000</td>\n",
       "      <td>48.000000</td>\n",
       "      <td>48.000000</td>\n",
       "      <td>51.000000</td>\n",
       "      <td>48.000000</td>\n",
       "      <td>...</td>\n",
       "      <td>48.000000</td>\n",
       "      <td>51.000000</td>\n",
       "      <td>48.000000</td>\n",
       "      <td>48.000000</td>\n",
       "      <td>48.000000</td>\n",
       "      <td>51.000000</td>\n",
       "      <td>48.000000</td>\n",
       "      <td>48.000000</td>\n",
       "      <td>48.000000</td>\n",
       "      <td>51.000000</td>\n",
       "    </tr>\n",
       "    <tr>\n",
       "      <th>mean</th>\n",
       "      <td>0.123824</td>\n",
       "      <td>0.126875</td>\n",
       "      <td>0.091833</td>\n",
       "      <td>2.083375</td>\n",
       "      <td>0.158137</td>\n",
       "      <td>0.119500</td>\n",
       "      <td>0.131000</td>\n",
       "      <td>2.083417</td>\n",
       "      <td>0.144235</td>\n",
       "      <td>0.145563</td>\n",
       "      <td>...</td>\n",
       "      <td>2.083312</td>\n",
       "      <td>0.070804</td>\n",
       "      <td>0.117417</td>\n",
       "      <td>0.083417</td>\n",
       "      <td>2.083333</td>\n",
       "      <td>0.075020</td>\n",
       "      <td>0.072000</td>\n",
       "      <td>0.057250</td>\n",
       "      <td>2.083396</td>\n",
       "      <td>1.123471</td>\n",
       "    </tr>\n",
       "    <tr>\n",
       "      <th>std</th>\n",
       "      <td>0.169331</td>\n",
       "      <td>0.176135</td>\n",
       "      <td>0.131062</td>\n",
       "      <td>2.970221</td>\n",
       "      <td>0.178081</td>\n",
       "      <td>0.176272</td>\n",
       "      <td>0.154398</td>\n",
       "      <td>2.457145</td>\n",
       "      <td>0.186542</td>\n",
       "      <td>0.182100</td>\n",
       "      <td>...</td>\n",
       "      <td>2.378910</td>\n",
       "      <td>0.098193</td>\n",
       "      <td>0.160216</td>\n",
       "      <td>0.109323</td>\n",
       "      <td>2.730062</td>\n",
       "      <td>0.146524</td>\n",
       "      <td>0.124958</td>\n",
       "      <td>0.075088</td>\n",
       "      <td>2.733341</td>\n",
       "      <td>1.444178</td>\n",
       "    </tr>\n",
       "    <tr>\n",
       "      <th>min</th>\n",
       "      <td>0.002000</td>\n",
       "      <td>0.004000</td>\n",
       "      <td>0.000000</td>\n",
       "      <td>0.006000</td>\n",
       "      <td>0.003000</td>\n",
       "      <td>0.002000</td>\n",
       "      <td>0.000000</td>\n",
       "      <td>0.006000</td>\n",
       "      <td>0.007000</td>\n",
       "      <td>0.003000</td>\n",
       "      <td>...</td>\n",
       "      <td>0.126000</td>\n",
       "      <td>0.000000</td>\n",
       "      <td>0.003000</td>\n",
       "      <td>0.001000</td>\n",
       "      <td>0.036000</td>\n",
       "      <td>-0.000000</td>\n",
       "      <td>0.001000</td>\n",
       "      <td>0.001000</td>\n",
       "      <td>0.040000</td>\n",
       "      <td>0.034000</td>\n",
       "    </tr>\n",
       "    <tr>\n",
       "      <th>25%</th>\n",
       "      <td>0.024000</td>\n",
       "      <td>0.032750</td>\n",
       "      <td>0.015250</td>\n",
       "      <td>0.350000</td>\n",
       "      <td>0.028000</td>\n",
       "      <td>0.018000</td>\n",
       "      <td>0.017500</td>\n",
       "      <td>0.273500</td>\n",
       "      <td>0.038000</td>\n",
       "      <td>0.025750</td>\n",
       "      <td>...</td>\n",
       "      <td>0.710250</td>\n",
       "      <td>0.021500</td>\n",
       "      <td>0.023750</td>\n",
       "      <td>0.017250</td>\n",
       "      <td>0.432750</td>\n",
       "      <td>0.016500</td>\n",
       "      <td>0.013000</td>\n",
       "      <td>0.011500</td>\n",
       "      <td>0.409500</td>\n",
       "      <td>0.272500</td>\n",
       "    </tr>\n",
       "    <tr>\n",
       "      <th>50%</th>\n",
       "      <td>0.068000</td>\n",
       "      <td>0.068500</td>\n",
       "      <td>0.049000</td>\n",
       "      <td>1.105500</td>\n",
       "      <td>0.097000</td>\n",
       "      <td>0.062500</td>\n",
       "      <td>0.074000</td>\n",
       "      <td>1.175500</td>\n",
       "      <td>0.076000</td>\n",
       "      <td>0.075500</td>\n",
       "      <td>...</td>\n",
       "      <td>1.484000</td>\n",
       "      <td>0.042000</td>\n",
       "      <td>0.065500</td>\n",
       "      <td>0.044000</td>\n",
       "      <td>1.097500</td>\n",
       "      <td>0.047000</td>\n",
       "      <td>0.038000</td>\n",
       "      <td>0.028000</td>\n",
       "      <td>1.011500</td>\n",
       "      <td>0.775000</td>\n",
       "    </tr>\n",
       "    <tr>\n",
       "      <th>75%</th>\n",
       "      <td>0.140000</td>\n",
       "      <td>0.138500</td>\n",
       "      <td>0.098250</td>\n",
       "      <td>2.234750</td>\n",
       "      <td>0.210000</td>\n",
       "      <td>0.122500</td>\n",
       "      <td>0.206500</td>\n",
       "      <td>3.290500</td>\n",
       "      <td>0.170500</td>\n",
       "      <td>0.190000</td>\n",
       "      <td>...</td>\n",
       "      <td>2.310500</td>\n",
       "      <td>0.082000</td>\n",
       "      <td>0.138250</td>\n",
       "      <td>0.105000</td>\n",
       "      <td>2.626750</td>\n",
       "      <td>0.078500</td>\n",
       "      <td>0.078000</td>\n",
       "      <td>0.067500</td>\n",
       "      <td>2.460750</td>\n",
       "      <td>1.338500</td>\n",
       "    </tr>\n",
       "    <tr>\n",
       "      <th>max</th>\n",
       "      <td>0.940000</td>\n",
       "      <td>0.973000</td>\n",
       "      <td>0.607000</td>\n",
       "      <td>13.759000</td>\n",
       "      <td>0.731000</td>\n",
       "      <td>0.934000</td>\n",
       "      <td>0.660000</td>\n",
       "      <td>10.506000</td>\n",
       "      <td>1.023000</td>\n",
       "      <td>0.811000</td>\n",
       "      <td>...</td>\n",
       "      <td>13.641000</td>\n",
       "      <td>0.606000</td>\n",
       "      <td>0.867000</td>\n",
       "      <td>0.631000</td>\n",
       "      <td>15.757000</td>\n",
       "      <td>1.026000</td>\n",
       "      <td>0.777000</td>\n",
       "      <td>0.390000</td>\n",
       "      <td>14.187000</td>\n",
       "      <td>8.281000</td>\n",
       "    </tr>\n",
       "  </tbody>\n",
       "</table>\n",
       "<p>8 rows × 41 columns</p>\n",
       "</div>"
      ],
      "text/plain": [
       "       Pred Violent crime  Actual Violent crime  deviation Violent crime  \\\n",
       "count           51.000000             48.000000                48.000000   \n",
       "mean             0.123824              0.126875                 0.091833   \n",
       "std              0.169331              0.176135                 0.131062   \n",
       "min              0.002000              0.004000                 0.000000   \n",
       "25%              0.024000              0.032750                 0.015250   \n",
       "50%              0.068000              0.068500                 0.049000   \n",
       "75%              0.140000              0.138500                 0.098250   \n",
       "max              0.940000              0.973000                 0.607000   \n",
       "\n",
       "       deviation Violent crime %  Pred Murder and nonnegligent manslaughter  \\\n",
       "count                  48.000000                                  51.000000   \n",
       "mean                    2.083375                                   0.158137   \n",
       "std                     2.970221                                   0.178081   \n",
       "min                     0.006000                                   0.003000   \n",
       "25%                     0.350000                                   0.028000   \n",
       "50%                     1.105500                                   0.097000   \n",
       "75%                     2.234750                                   0.210000   \n",
       "max                    13.759000                                   0.731000   \n",
       "\n",
       "       Actual Murder and nonnegligent manslaughter  \\\n",
       "count                                    48.000000   \n",
       "mean                                      0.119500   \n",
       "std                                       0.176272   \n",
       "min                                       0.002000   \n",
       "25%                                       0.018000   \n",
       "50%                                       0.062500   \n",
       "75%                                       0.122500   \n",
       "max                                       0.934000   \n",
       "\n",
       "       deviation Murder and nonnegligent manslaughter  \\\n",
       "count                                       48.000000   \n",
       "mean                                         0.131000   \n",
       "std                                          0.154398   \n",
       "min                                          0.000000   \n",
       "25%                                          0.017500   \n",
       "50%                                          0.074000   \n",
       "75%                                          0.206500   \n",
       "max                                          0.660000   \n",
       "\n",
       "       deviation Murder and nonnegligent manslaughter %  Pred Forcible rape  \\\n",
       "count                                         48.000000           51.000000   \n",
       "mean                                           2.083417            0.144235   \n",
       "std                                            2.457145            0.186542   \n",
       "min                                            0.006000            0.007000   \n",
       "25%                                            0.273500            0.038000   \n",
       "50%                                            1.175500            0.076000   \n",
       "75%                                            3.290500            0.170500   \n",
       "max                                           10.506000            1.023000   \n",
       "\n",
       "       Actual Forcible rape  ...  deviation Larceny-theft %  \\\n",
       "count             48.000000  ...                  48.000000   \n",
       "mean               0.145563  ...                   2.083312   \n",
       "std                0.182100  ...                   2.378910   \n",
       "min                0.003000  ...                   0.126000   \n",
       "25%                0.025750  ...                   0.710250   \n",
       "50%                0.075500  ...                   1.484000   \n",
       "75%                0.190000  ...                   2.310500   \n",
       "max                0.811000  ...                  13.641000   \n",
       "\n",
       "       Pred Motor vehicle theft  Actual Motor vehicle theft  \\\n",
       "count                 51.000000                   48.000000   \n",
       "mean                   0.070804                    0.117417   \n",
       "std                    0.098193                    0.160216   \n",
       "min                    0.000000                    0.003000   \n",
       "25%                    0.021500                    0.023750   \n",
       "50%                    0.042000                    0.065500   \n",
       "75%                    0.082000                    0.138250   \n",
       "max                    0.606000                    0.867000   \n",
       "\n",
       "       deviation Motor vehicle theft  deviation Motor vehicle theft %  \\\n",
       "count                      48.000000                        48.000000   \n",
       "mean                        0.083417                         2.083333   \n",
       "std                         0.109323                         2.730062   \n",
       "min                         0.001000                         0.036000   \n",
       "25%                         0.017250                         0.432750   \n",
       "50%                         0.044000                         1.097500   \n",
       "75%                         0.105000                         2.626750   \n",
       "max                         0.631000                        15.757000   \n",
       "\n",
       "       Pred Arson1  Actual Arson1  deviation Arson1  deviation Arson1 %  \\\n",
       "count    51.000000      48.000000         48.000000           48.000000   \n",
       "mean      0.075020       0.072000          0.057250            2.083396   \n",
       "std       0.146524       0.124958          0.075088            2.733341   \n",
       "min      -0.000000       0.001000          0.001000            0.040000   \n",
       "25%       0.016500       0.013000          0.011500            0.409500   \n",
       "50%       0.047000       0.038000          0.028000            1.011500   \n",
       "75%       0.078500       0.078000          0.067500            2.460750   \n",
       "max       1.026000       0.777000          0.390000           14.187000   \n",
       "\n",
       "        Sum pred  \n",
       "count  51.000000  \n",
       "mean    1.123471  \n",
       "std     1.444178  \n",
       "min     0.034000  \n",
       "25%     0.272500  \n",
       "50%     0.775000  \n",
       "75%     1.338500  \n",
       "max     8.281000  \n",
       "\n",
       "[8 rows x 41 columns]"
      ]
     },
     "execution_count": 14,
     "metadata": {},
     "output_type": "execute_result"
    }
   ],
   "source": [
    "predictions_df = pd.DataFrame(states, columns =['State'])\n",
    "df19 = df_sklearn[df_sklearn['Year']== 2019] #shape (48,100)\n",
    "\n",
    "for idx,crime in enumerate(crime_list):\n",
    "    pred = list_of_prediction_lists[idx]\n",
    "    actu = df19.loc[:,crime]\n",
    "    predictions_df.insert(len(predictions_df.columns),\"Pred \"+crime,pred) #shape (51,11)\n",
    "    \n",
    "    \n",
    "x = list(set(states).difference(df19['State']))\n",
    "y_48_11=predictions_df.copy()\n",
    "\n",
    "predictions_df[\"Sum pred\"] = predictions_df.sum(axis=1)\n",
    "\n",
    "for val in x:\n",
    "    y_48_11.drop(y_48_11.loc[y_48_11['State']==val].index, inplace=True)#shape (48,11)\n",
    "    \n",
    "y_48_11[\"Sum pred\"] = y_48_11.sum(axis=1)\n",
    "\n",
    "map_df = pd.DataFrame(y_48_11, columns =['State']) #shape (48,1)\n",
    "\n",
    "for idx,crime in enumerate(crime_list):\n",
    "    pred = y_48_11.iloc[:,idx+1]\n",
    "    actu = list(df19.iloc[:,idx+2])\n",
    "    map_df.insert(len(map_df.columns),\"Pred \"+crime,pred)\n",
    "    map_df.insert(len(map_df.columns),\"Actual \"+crime,actu)    \n",
    "    map_df.insert(len(map_df.columns),\"deviation \"+crime,abs(actu-pred))\n",
    "    div = (map_df[\"deviation \"+crime] / map_df[\"deviation \"+crime].sum()) * 100\n",
    "    map_df.insert(len(map_df.columns),\"deviation \"+crime+\" %\",div)\n",
    "    \n",
    "for i in range (3):\n",
    "    entry = predictions_df.loc[predictions_df['State'] == x[i]]\n",
    "    map_df = pd.concat([map_df,entry])\n",
    "    \n",
    "map_df[\"Sum pred\"] = predictions_df[\"Sum pred\"]\n",
    "map_df=map_df.round(decimals=3)\n",
    "map_df=map_df.sort_values(by=[map_df.columns[0]])\n",
    "map_df.to_excel('Ridge model all crime.xlsx',engine='xlsxwriter')\n",
    "map_df.describe()\n"
   ]
  },
  {
   "cell_type": "code",
   "execution_count": 18,
   "metadata": {},
   "outputs": [
    {
     "data": {
      "text/html": [
       "<div>\n",
       "<style scoped>\n",
       "    .dataframe tbody tr th:only-of-type {\n",
       "        vertical-align: middle;\n",
       "    }\n",
       "\n",
       "    .dataframe tbody tr th {\n",
       "        vertical-align: top;\n",
       "    }\n",
       "\n",
       "    .dataframe thead th {\n",
       "        text-align: right;\n",
       "    }\n",
       "</style>\n",
       "<table border=\"1\" class=\"dataframe\">\n",
       "  <thead>\n",
       "    <tr style=\"text-align: right;\">\n",
       "      <th></th>\n",
       "      <th>State</th>\n",
       "      <th>Pred Violent crime</th>\n",
       "      <th>Actual Violent crime</th>\n",
       "      <th>deviation Violent crime</th>\n",
       "      <th>deviation Violent crime %</th>\n",
       "      <th>Pred Murder and nonnegligent manslaughter</th>\n",
       "      <th>Actual Murder and nonnegligent manslaughter</th>\n",
       "      <th>deviation Murder and nonnegligent manslaughter</th>\n",
       "      <th>deviation Murder and nonnegligent manslaughter %</th>\n",
       "      <th>Pred Forcible rape</th>\n",
       "      <th>...</th>\n",
       "      <th>deviation Larceny-theft %</th>\n",
       "      <th>Pred Motor vehicle theft</th>\n",
       "      <th>Actual Motor vehicle theft</th>\n",
       "      <th>deviation Motor vehicle theft</th>\n",
       "      <th>deviation Motor vehicle theft %</th>\n",
       "      <th>Pred Arson1</th>\n",
       "      <th>Actual Arson1</th>\n",
       "      <th>deviation Arson1</th>\n",
       "      <th>deviation Arson1 %</th>\n",
       "      <th>Sum pred</th>\n",
       "    </tr>\n",
       "  </thead>\n",
       "  <tbody>\n",
       "    <tr>\n",
       "      <th>0</th>\n",
       "      <td>ALABAMA</td>\n",
       "      <td>0.097</td>\n",
       "      <td>NaN</td>\n",
       "      <td>NaN</td>\n",
       "      <td>NaN</td>\n",
       "      <td>0.161</td>\n",
       "      <td>NaN</td>\n",
       "      <td>NaN</td>\n",
       "      <td>NaN</td>\n",
       "      <td>0.048</td>\n",
       "      <td>...</td>\n",
       "      <td>NaN</td>\n",
       "      <td>0.037</td>\n",
       "      <td>NaN</td>\n",
       "      <td>NaN</td>\n",
       "      <td>NaN</td>\n",
       "      <td>0.013</td>\n",
       "      <td>NaN</td>\n",
       "      <td>NaN</td>\n",
       "      <td>NaN</td>\n",
       "      <td>0.809</td>\n",
       "    </tr>\n",
       "    <tr>\n",
       "      <th>1</th>\n",
       "      <td>ALASKA</td>\n",
       "      <td>0.037</td>\n",
       "      <td>0.015</td>\n",
       "      <td>0.022</td>\n",
       "      <td>0.499</td>\n",
       "      <td>0.030</td>\n",
       "      <td>0.035</td>\n",
       "      <td>0.005</td>\n",
       "      <td>0.079</td>\n",
       "      <td>0.068</td>\n",
       "      <td>...</td>\n",
       "      <td>0.368</td>\n",
       "      <td>0.029</td>\n",
       "      <td>0.023</td>\n",
       "      <td>0.007</td>\n",
       "      <td>0.166</td>\n",
       "      <td>0.010</td>\n",
       "      <td>0.016</td>\n",
       "      <td>0.006</td>\n",
       "      <td>0.209</td>\n",
       "      <td>0.306</td>\n",
       "    </tr>\n",
       "    <tr>\n",
       "      <th>2</th>\n",
       "      <td>ARIZONA</td>\n",
       "      <td>0.198</td>\n",
       "      <td>0.203</td>\n",
       "      <td>0.005</td>\n",
       "      <td>0.113</td>\n",
       "      <td>0.195</td>\n",
       "      <td>0.188</td>\n",
       "      <td>0.008</td>\n",
       "      <td>0.120</td>\n",
       "      <td>0.249</td>\n",
       "      <td>...</td>\n",
       "      <td>2.105</td>\n",
       "      <td>0.119</td>\n",
       "      <td>0.200</td>\n",
       "      <td>0.081</td>\n",
       "      <td>2.032</td>\n",
       "      <td>0.135</td>\n",
       "      <td>0.114</td>\n",
       "      <td>0.021</td>\n",
       "      <td>0.768</td>\n",
       "      <td>1.772</td>\n",
       "    </tr>\n",
       "    <tr>\n",
       "      <th>3</th>\n",
       "      <td>ARKANSAS</td>\n",
       "      <td>0.084</td>\n",
       "      <td>0.062</td>\n",
       "      <td>0.023</td>\n",
       "      <td>0.513</td>\n",
       "      <td>0.094</td>\n",
       "      <td>0.094</td>\n",
       "      <td>0.000</td>\n",
       "      <td>0.006</td>\n",
       "      <td>0.110</td>\n",
       "      <td>...</td>\n",
       "      <td>0.573</td>\n",
       "      <td>0.033</td>\n",
       "      <td>0.084</td>\n",
       "      <td>0.050</td>\n",
       "      <td>1.258</td>\n",
       "      <td>0.047</td>\n",
       "      <td>0.038</td>\n",
       "      <td>0.009</td>\n",
       "      <td>0.324</td>\n",
       "      <td>0.752</td>\n",
       "    </tr>\n",
       "    <tr>\n",
       "      <th>4</th>\n",
       "      <td>CALIFORNIA</td>\n",
       "      <td>0.940</td>\n",
       "      <td>0.973</td>\n",
       "      <td>0.033</td>\n",
       "      <td>0.742</td>\n",
       "      <td>0.680</td>\n",
       "      <td>0.934</td>\n",
       "      <td>0.255</td>\n",
       "      <td>4.052</td>\n",
       "      <td>1.023</td>\n",
       "      <td>...</td>\n",
       "      <td>5.114</td>\n",
       "      <td>0.606</td>\n",
       "      <td>0.867</td>\n",
       "      <td>0.262</td>\n",
       "      <td>6.528</td>\n",
       "      <td>1.026</td>\n",
       "      <td>0.777</td>\n",
       "      <td>0.249</td>\n",
       "      <td>9.079</td>\n",
       "      <td>8.281</td>\n",
       "    </tr>\n",
       "  </tbody>\n",
       "</table>\n",
       "<p>5 rows × 42 columns</p>\n",
       "</div>"
      ],
      "text/plain": [
       "        State  Pred Violent crime  Actual Violent crime  \\\n",
       "0     ALABAMA               0.097                   NaN   \n",
       "1      ALASKA               0.037                 0.015   \n",
       "2     ARIZONA               0.198                 0.203   \n",
       "3    ARKANSAS               0.084                 0.062   \n",
       "4  CALIFORNIA               0.940                 0.973   \n",
       "\n",
       "   deviation Violent crime  deviation Violent crime %  \\\n",
       "0                      NaN                        NaN   \n",
       "1                    0.022                      0.499   \n",
       "2                    0.005                      0.113   \n",
       "3                    0.023                      0.513   \n",
       "4                    0.033                      0.742   \n",
       "\n",
       "   Pred Murder and nonnegligent manslaughter  \\\n",
       "0                                      0.161   \n",
       "1                                      0.030   \n",
       "2                                      0.195   \n",
       "3                                      0.094   \n",
       "4                                      0.680   \n",
       "\n",
       "   Actual Murder and nonnegligent manslaughter  \\\n",
       "0                                          NaN   \n",
       "1                                        0.035   \n",
       "2                                        0.188   \n",
       "3                                        0.094   \n",
       "4                                        0.934   \n",
       "\n",
       "   deviation Murder and nonnegligent manslaughter  \\\n",
       "0                                             NaN   \n",
       "1                                           0.005   \n",
       "2                                           0.008   \n",
       "3                                           0.000   \n",
       "4                                           0.255   \n",
       "\n",
       "   deviation Murder and nonnegligent manslaughter %  Pred Forcible rape  ...  \\\n",
       "0                                               NaN               0.048  ...   \n",
       "1                                             0.079               0.068  ...   \n",
       "2                                             0.120               0.249  ...   \n",
       "3                                             0.006               0.110  ...   \n",
       "4                                             4.052               1.023  ...   \n",
       "\n",
       "   deviation Larceny-theft %  Pred Motor vehicle theft  \\\n",
       "0                        NaN                     0.037   \n",
       "1                      0.368                     0.029   \n",
       "2                      2.105                     0.119   \n",
       "3                      0.573                     0.033   \n",
       "4                      5.114                     0.606   \n",
       "\n",
       "   Actual Motor vehicle theft  deviation Motor vehicle theft  \\\n",
       "0                         NaN                            NaN   \n",
       "1                       0.023                          0.007   \n",
       "2                       0.200                          0.081   \n",
       "3                       0.084                          0.050   \n",
       "4                       0.867                          0.262   \n",
       "\n",
       "   deviation Motor vehicle theft %  Pred Arson1  Actual Arson1  \\\n",
       "0                              NaN        0.013            NaN   \n",
       "1                            0.166        0.010          0.016   \n",
       "2                            2.032        0.135          0.114   \n",
       "3                            1.258        0.047          0.038   \n",
       "4                            6.528        1.026          0.777   \n",
       "\n",
       "   deviation Arson1  deviation Arson1 %  Sum pred  \n",
       "0               NaN                 NaN     0.809  \n",
       "1             0.006               0.209     0.306  \n",
       "2             0.021               0.768     1.772  \n",
       "3             0.009               0.324     0.752  \n",
       "4             0.249               9.079     8.281  \n",
       "\n",
       "[5 rows x 42 columns]"
      ]
     },
     "execution_count": 18,
     "metadata": {},
     "output_type": "execute_result"
    }
   ],
   "source": [
    "map_df.head()"
   ]
  },
  {
   "cell_type": "code",
   "execution_count": 19,
   "metadata": {},
   "outputs": [
    {
     "data": {
      "text/html": [
       "<div>\n",
       "<style scoped>\n",
       "    .dataframe tbody tr th:only-of-type {\n",
       "        vertical-align: middle;\n",
       "    }\n",
       "\n",
       "    .dataframe tbody tr th {\n",
       "        vertical-align: top;\n",
       "    }\n",
       "\n",
       "    .dataframe thead th {\n",
       "        text-align: right;\n",
       "    }\n",
       "</style>\n",
       "<table border=\"1\" class=\"dataframe\">\n",
       "  <thead>\n",
       "    <tr style=\"text-align: right;\">\n",
       "      <th></th>\n",
       "      <th>deviation Violent crime %</th>\n",
       "      <th>deviation Murder and nonnegligent manslaughter %</th>\n",
       "      <th>deviation Forcible rape %</th>\n",
       "      <th>deviation Robbery %</th>\n",
       "      <th>deviation Aggravated assault %</th>\n",
       "      <th>deviation Property crime %</th>\n",
       "      <th>deviation Burglary %</th>\n",
       "      <th>deviation Larceny-theft %</th>\n",
       "      <th>deviation Motor vehicle theft %</th>\n",
       "      <th>deviation Arson1 %</th>\n",
       "    </tr>\n",
       "  </thead>\n",
       "  <tbody>\n",
       "    <tr>\n",
       "      <th>43</th>\n",
       "      <td>12.869</td>\n",
       "      <td>8.186</td>\n",
       "      <td>10.790</td>\n",
       "      <td>15.296</td>\n",
       "      <td>8.487</td>\n",
       "      <td>13.360</td>\n",
       "      <td>15.012</td>\n",
       "      <td>7.436</td>\n",
       "      <td>15.757</td>\n",
       "      <td>14.187</td>\n",
       "    </tr>\n",
       "    <tr>\n",
       "      <th>44</th>\n",
       "      <td>1.062</td>\n",
       "      <td>1.236</td>\n",
       "      <td>2.646</td>\n",
       "      <td>0.192</td>\n",
       "      <td>2.261</td>\n",
       "      <td>3.377</td>\n",
       "      <td>2.184</td>\n",
       "      <td>4.170</td>\n",
       "      <td>2.480</td>\n",
       "      <td>2.219</td>\n",
       "    </tr>\n",
       "    <tr>\n",
       "      <th>45</th>\n",
       "      <td>0.032</td>\n",
       "      <td>0.224</td>\n",
       "      <td>0.188</td>\n",
       "      <td>0.160</td>\n",
       "      <td>0.289</td>\n",
       "      <td>0.159</td>\n",
       "      <td>0.088</td>\n",
       "      <td>0.312</td>\n",
       "      <td>0.090</td>\n",
       "      <td>0.419</td>\n",
       "    </tr>\n",
       "    <tr>\n",
       "      <th>46</th>\n",
       "      <td>0.214</td>\n",
       "      <td>0.667</td>\n",
       "      <td>0.753</td>\n",
       "      <td>0.557</td>\n",
       "      <td>1.657</td>\n",
       "      <td>0.473</td>\n",
       "      <td>0.714</td>\n",
       "      <td>1.660</td>\n",
       "      <td>1.269</td>\n",
       "      <td>1.289</td>\n",
       "    </tr>\n",
       "    <tr>\n",
       "      <th>47</th>\n",
       "      <td>3.602</td>\n",
       "      <td>1.829</td>\n",
       "      <td>1.303</td>\n",
       "      <td>3.631</td>\n",
       "      <td>1.640</td>\n",
       "      <td>2.333</td>\n",
       "      <td>4.731</td>\n",
       "      <td>2.632</td>\n",
       "      <td>5.019</td>\n",
       "      <td>4.673</td>\n",
       "    </tr>\n",
       "  </tbody>\n",
       "</table>\n",
       "</div>"
      ],
      "text/plain": [
       "    deviation Violent crime %  \\\n",
       "43                     12.869   \n",
       "44                      1.062   \n",
       "45                      0.032   \n",
       "46                      0.214   \n",
       "47                      3.602   \n",
       "\n",
       "    deviation Murder and nonnegligent manslaughter %  \\\n",
       "43                                             8.186   \n",
       "44                                             1.236   \n",
       "45                                             0.224   \n",
       "46                                             0.667   \n",
       "47                                             1.829   \n",
       "\n",
       "    deviation Forcible rape %  deviation Robbery %  \\\n",
       "43                     10.790               15.296   \n",
       "44                      2.646                0.192   \n",
       "45                      0.188                0.160   \n",
       "46                      0.753                0.557   \n",
       "47                      1.303                3.631   \n",
       "\n",
       "    deviation Aggravated assault %  deviation Property crime %  \\\n",
       "43                           8.487                      13.360   \n",
       "44                           2.261                       3.377   \n",
       "45                           0.289                       0.159   \n",
       "46                           1.657                       0.473   \n",
       "47                           1.640                       2.333   \n",
       "\n",
       "    deviation Burglary %  deviation Larceny-theft %  \\\n",
       "43                15.012                      7.436   \n",
       "44                 2.184                      4.170   \n",
       "45                 0.088                      0.312   \n",
       "46                 0.714                      1.660   \n",
       "47                 4.731                      2.632   \n",
       "\n",
       "    deviation Motor vehicle theft %  deviation Arson1 %  \n",
       "43                           15.757              14.187  \n",
       "44                            2.480               2.219  \n",
       "45                            0.090               0.419  \n",
       "46                            1.269               1.289  \n",
       "47                            5.019               4.673  "
      ]
     },
     "execution_count": 19,
     "metadata": {},
     "output_type": "execute_result"
    }
   ],
   "source": [
    "map_df.columns\n",
    "\n",
    "divper = pd.DataFrame(map_df, columns = ['deviation Violent crime %',\n",
    " 'deviation Murder and nonnegligent manslaughter %',\n",
    " 'deviation Forcible rape %',\n",
    " 'deviation Robbery %',\n",
    " 'deviation Aggravated assault %',\n",
    " 'deviation Property crime %',\n",
    " 'deviation Burglary %',\n",
    " 'deviation Larceny-theft %',\n",
    " 'deviation Motor vehicle theft %',\n",
    " 'deviation Arson1 %'])\n",
    "divper.tail()"
   ]
  },
  {
   "cell_type": "code",
   "execution_count": null,
   "metadata": {},
   "outputs": [],
   "source": []
  }
 ],
 "metadata": {
  "kernelspec": {
   "display_name": "Python 3",
   "language": "python",
   "name": "python3"
  },
  "language_info": {
   "codemirror_mode": {
    "name": "ipython",
    "version": 3
   },
   "file_extension": ".py",
   "mimetype": "text/x-python",
   "name": "python",
   "nbconvert_exporter": "python",
   "pygments_lexer": "ipython3",
   "version": "3.8.5"
  }
 },
 "nbformat": 4,
 "nbformat_minor": 4
}
