{
 "cells": [
  {
   "cell_type": "markdown",
   "metadata": {},
   "source": [
    "## ML Ridge Model"
   ]
  },
  {
   "cell_type": "code",
   "execution_count": 1,
   "metadata": {},
   "outputs": [],
   "source": [
    "# evaluate an ridge regression model on the dataset\n",
    "\n",
    "import os \n",
    "\n",
    "import pandas as pd\n",
    "import pandas as pd\n",
    "from pandas import read_csv\n",
    "\n",
    "\n",
    "import numpy as np\n",
    "from numpy import arange\n",
    "from numpy import mean\n",
    "from numpy import std\n",
    "from numpy import absolute\n",
    "\n",
    "import matplotlib as mpl\n",
    "import matplotlib.pyplot as plt\n",
    "\n",
    "import seaborn as sns\n",
    "from collections import Counter\n",
    "\n",
    "import sklearn\n",
    "from sklearn import linear_model, metrics, preprocessing\n",
    "from sklearn.preprocessing import StandardScaler, LabelEncoder\n",
    "from sklearn.metrics import r2_score, mean_squared_error\n",
    "from sklearn.model_selection import cross_val_score\n",
    "from sklearn.model_selection import RepeatedKFold\n",
    "from sklearn.preprocessing import MinMaxScaler\n",
    "from sklearn.linear_model import RidgeCV\n",
    "from sklearn.model_selection import RepeatedKFold\n",
    "from sklearn.model_selection import GridSearchCV\n",
    "from sklearn.model_selection import RepeatedKFold\n",
    "from sklearn.linear_model import Ridge\n",
    "\n",
    "%matplotlib inline\n",
    "plt.rcParams['figure.figsize'] = (10, 5)\n",
    "#pd.set_option('display.max_columns', None) # spread dataframe columns \n",
    "\n",
    "\n",
    "\n"
   ]
  },
  {
   "cell_type": "code",
   "execution_count": 221,
   "metadata": {},
   "outputs": [],
   "source": [
    "def ridg_prediction(df, row2, split):\n",
    "    \n",
    "    # load the dataset\n",
    "    data = df.values\n",
    "    X, y = data[:, 1:], data[:, :1]\n",
    "\n",
    "    # define model\n",
    "    model = Ridge()\n",
    "    \n",
    "    # define model evaluation method\n",
    "    cv = RepeatedKFold(n_splits=split, n_repeats=3, random_state=1)\n",
    "    \n",
    "    # define grid\n",
    "    grid = dict()\n",
    "    grid['alpha'] = arange(0, 1, 0.01)\n",
    "    \n",
    "    # define search\n",
    "    search = GridSearchCV(model, grid, scoring='neg_mean_absolute_error', cv=cv, n_jobs=-1)\n",
    "    \n",
    "    # perform the search\n",
    "    results = search.fit(X, y)\n",
    "    \n",
    "    # summarize\n",
    "    print('MAE: %.3f' % results.best_score_)\n",
    "    print('Config: %s' % results.best_params_)\n",
    "\n",
    "    # make a prediction\n",
    "    yhat = results.predict([row2])\n",
    "\n",
    "    # summarize prediction\n",
    "    print('Predicted: %.3f' % yhat)\n",
    "    \n",
    "    return yhat"
   ]
  },
  {
   "cell_type": "code",
   "execution_count": 222,
   "metadata": {},
   "outputs": [],
   "source": [
    "#Return list of states in US\n",
    "def states_list(df_kff):\n",
    "    \n",
    "    states = [] #list of states\n",
    "    for state in df_kff.State:\n",
    "        if state in states:\n",
    "            continue\n",
    "        else:\n",
    "            states.append(state)\n",
    "    return states"
   ]
  },
  {
   "cell_type": "code",
   "execution_count": 236,
   "metadata": {},
   "outputs": [
    {
     "name": "stderr",
     "output_type": "stream",
     "text": [
      "/Users/barbenshabat/opt/anaconda3/lib/python3.8/site-packages/ipykernel/ipkernel.py:287: DeprecationWarning: `should_run_async` will not call `transform_cell` automatically in the future. Please pass the result to `transformed_cell` argument and any exception that happen during thetransform in `preprocessing_exc_tuple` in IPython 7.17 and above.\n",
      "  and should_run_async(code)\n"
     ]
    }
   ],
   "source": [
    "#The function gets crime and for each crime will Ridge for each state\n",
    "#Out put: return a predicted list of spesific crime for each state\n",
    "def preper_for_ridge(df,states, crime):\n",
    "\n",
    "    #groupd state\n",
    "    grouped = df.groupby(df.State)\n",
    "    dic_predict = {}\n",
    "    list_predict = []\n",
    "\n",
    "    for state in states:\n",
    "        curr = grouped.get_group(state)#state from 2010-2019\n",
    "        split = len(curr['Year'])\n",
    "        x=curr.copy()\n",
    "\n",
    "        x.drop(['Year', 'State', crime,'Governor Political Affiliation'],axis=1, inplace=True)\n",
    "        row2 = x.iloc[-1]\n",
    "\n",
    "        curr=curr.drop(curr.index[[-1,-1]])\n",
    "        curr.drop(['Year', 'State','Governor Political Affiliation'],axis=1, inplace=True)\n",
    "        curr.iloc[:,1:2]\n",
    "\n",
    "        # shift column to first position\n",
    "        first_column = curr.pop(crime)\n",
    "        curr.insert(0, crime, first_column)\n",
    "        print(\"split=\",split)\n",
    "        print(\"state=\",state)\n",
    "\n",
    "        pediction = ridg_prediction(curr, row2, split-1)\n",
    "        dic_predict[state]=pediction[0][0]\n",
    "        list_predict.append(pediction[0][0])\n",
    "        print(\"\\n\")\n",
    "    return list_predict\n",
    "\n"
   ]
  },
  {
   "cell_type": "code",
   "execution_count": 237,
   "metadata": {
    "scrolled": true
   },
   "outputs": [
    {
     "name": "stderr",
     "output_type": "stream",
     "text": [
      "/Users/barbenshabat/opt/anaconda3/lib/python3.8/site-packages/xlrd/xlsx.py:266: DeprecationWarning: This method will be removed in future versions.  Use 'tree.iter()' or 'list(tree.iter())' instead.\n",
      "  for elem in self.tree.iter() if Element_has_iter else self.tree.getiterator():\n"
     ]
    },
    {
     "name": "stdout",
     "output_type": "stream",
     "text": [
      "---------crime--------------------------------- Violent crime\n",
      "split= 8\n",
      "state= ALABAMA\n"
     ]
    },
    {
     "name": "stderr",
     "output_type": "stream",
     "text": [
      "/Users/barbenshabat/opt/anaconda3/lib/python3.8/site-packages/sklearn/linear_model/_ridge.py:190: UserWarning: Singular matrix in solving dual problem. Using least-squares solution instead.\n",
      "  warnings.warn(\"Singular matrix in solving dual problem. Using \"\n"
     ]
    },
    {
     "name": "stdout",
     "output_type": "stream",
     "text": [
      "MAE: -0.007\n",
      "Config: {'alpha': 0.0}\n",
      "Predicted: 0.097\n",
      "\n",
      "\n",
      "split= 9\n",
      "state= ALASKA\n",
      "MAE: -0.003\n",
      "Config: {'alpha': 0.03}\n",
      "Predicted: 0.037\n",
      "\n",
      "\n",
      "split= 10\n",
      "state= ARIZONA\n"
     ]
    },
    {
     "name": "stderr",
     "output_type": "stream",
     "text": [
      "/Users/barbenshabat/opt/anaconda3/lib/python3.8/site-packages/sklearn/linear_model/_ridge.py:187: LinAlgWarning: Ill-conditioned matrix (rcond=4.09566e-17): result may not be accurate.\n",
      "  dual_coef = linalg.solve(K, y, sym_pos=True,\n"
     ]
    },
    {
     "name": "stdout",
     "output_type": "stream",
     "text": [
      "MAE: -0.010\n",
      "Config: {'alpha': 0.0}\n",
      "Predicted: 0.198\n",
      "\n",
      "\n",
      "split= 10\n",
      "state= ARKANSAS\n",
      "MAE: -0.005\n",
      "Config: {'alpha': 0.01}\n",
      "Predicted: 0.084\n",
      "\n",
      "\n",
      "split= 10\n",
      "state= CALIFORNIA\n"
     ]
    },
    {
     "name": "stderr",
     "output_type": "stream",
     "text": [
      "/Users/barbenshabat/opt/anaconda3/lib/python3.8/site-packages/sklearn/linear_model/_ridge.py:187: LinAlgWarning: Ill-conditioned matrix (rcond=1.93985e-18): result may not be accurate.\n",
      "  dual_coef = linalg.solve(K, y, sym_pos=True,\n"
     ]
    },
    {
     "name": "stdout",
     "output_type": "stream",
     "text": [
      "MAE: -0.012\n",
      "Config: {'alpha': 0.0}\n",
      "Predicted: 0.940\n",
      "\n",
      "\n",
      "split= 10\n",
      "state= COLORADO\n",
      "MAE: -0.005\n",
      "Config: {'alpha': 0.01}\n",
      "Predicted: 0.127\n",
      "\n",
      "\n",
      "split= 10\n",
      "state= CONNECTICUT\n",
      "MAE: -0.004\n",
      "Config: {'alpha': 0.37}\n",
      "Predicted: 0.053\n",
      "\n",
      "\n",
      "split= 10\n",
      "state= DELAWARE\n",
      "MAE: -0.001\n",
      "Config: {'alpha': 0.05}\n",
      "Predicted: 0.013\n",
      "\n",
      "\n",
      "split= 10\n",
      "state= DISTRICT OF COLUMBIA\n",
      "MAE: -0.004\n",
      "Config: {'alpha': 0.16}\n",
      "Predicted: 0.051\n",
      "\n",
      "\n",
      "split= 10\n",
      "state= FLORIDA\n",
      "MAE: -0.019\n",
      "Config: {'alpha': 0.08}\n",
      "Predicted: 0.325\n",
      "\n",
      "\n",
      "split= 8\n",
      "state= GEORGIA\n"
     ]
    },
    {
     "name": "stderr",
     "output_type": "stream",
     "text": [
      "/Users/barbenshabat/opt/anaconda3/lib/python3.8/site-packages/sklearn/linear_model/_ridge.py:190: UserWarning: Singular matrix in solving dual problem. Using least-squares solution instead.\n",
      "  warnings.warn(\"Singular matrix in solving dual problem. Using \"\n"
     ]
    },
    {
     "name": "stdout",
     "output_type": "stream",
     "text": [
      "MAE: -0.007\n",
      "Config: {'alpha': 0.0}\n",
      "Predicted: 0.108\n",
      "\n",
      "\n",
      "split= 6\n",
      "state= HAWAII\n",
      "MAE: -0.003\n",
      "Config: {'alpha': 0.99}\n",
      "Predicted: 0.018\n",
      "\n",
      "\n",
      "split= 10\n",
      "state= IDAHO\n",
      "MAE: -0.001\n",
      "Config: {'alpha': 0.03}\n",
      "Predicted: 0.017\n",
      "\n",
      "\n",
      "split= 10\n",
      "state= INDIANA\n"
     ]
    },
    {
     "name": "stderr",
     "output_type": "stream",
     "text": [
      "/Users/barbenshabat/opt/anaconda3/lib/python3.8/site-packages/sklearn/linear_model/_ridge.py:187: LinAlgWarning: Ill-conditioned matrix (rcond=4.18874e-17): result may not be accurate.\n",
      "  dual_coef = linalg.solve(K, y, sym_pos=True,\n"
     ]
    },
    {
     "name": "stdout",
     "output_type": "stream",
     "text": [
      "MAE: -0.011\n",
      "Config: {'alpha': 0.0}\n",
      "Predicted: 0.044\n",
      "\n",
      "\n",
      "split= 9\n",
      "state= IOWA\n",
      "MAE: -0.003\n",
      "Config: {'alpha': 0.01}\n",
      "Predicted: 0.059\n",
      "\n",
      "\n",
      "split= 10\n",
      "state= KANSAS\n"
     ]
    },
    {
     "name": "stderr",
     "output_type": "stream",
     "text": [
      "/Users/barbenshabat/opt/anaconda3/lib/python3.8/site-packages/sklearn/linear_model/_ridge.py:190: UserWarning: Singular matrix in solving dual problem. Using least-squares solution instead.\n",
      "  warnings.warn(\"Singular matrix in solving dual problem. Using \"\n"
     ]
    },
    {
     "name": "stdout",
     "output_type": "stream",
     "text": [
      "MAE: -0.007\n",
      "Config: {'alpha': 0.0}\n",
      "Predicted: 0.049\n",
      "\n",
      "\n",
      "split= 10\n",
      "state= KENTUCKY\n"
     ]
    },
    {
     "name": "stderr",
     "output_type": "stream",
     "text": [
      "/Users/barbenshabat/opt/anaconda3/lib/python3.8/site-packages/sklearn/linear_model/_ridge.py:190: UserWarning: Singular matrix in solving dual problem. Using least-squares solution instead.\n",
      "  warnings.warn(\"Singular matrix in solving dual problem. Using \"\n"
     ]
    },
    {
     "name": "stdout",
     "output_type": "stream",
     "text": [
      "MAE: -0.006\n",
      "Config: {'alpha': 0.0}\n",
      "Predicted: 0.044\n",
      "\n",
      "\n",
      "split= 10\n",
      "state= LOUISIANA\n"
     ]
    },
    {
     "name": "stderr",
     "output_type": "stream",
     "text": [
      "/Users/barbenshabat/opt/anaconda3/lib/python3.8/site-packages/sklearn/linear_model/_ridge.py:187: LinAlgWarning: Ill-conditioned matrix (rcond=2.81863e-17): result may not be accurate.\n",
      "  dual_coef = linalg.solve(K, y, sym_pos=True,\n"
     ]
    },
    {
     "name": "stdout",
     "output_type": "stream",
     "text": [
      "MAE: -0.007\n",
      "Config: {'alpha': 0.0}\n",
      "Predicted: 0.091\n",
      "\n",
      "\n",
      "split= 10\n",
      "state= MAINE\n",
      "MAE: -0.001\n",
      "Config: {'alpha': 0.24}\n",
      "Predicted: 0.006\n",
      "\n",
      "\n",
      "split= 10\n",
      "state= MARYLAND\n"
     ]
    },
    {
     "name": "stderr",
     "output_type": "stream",
     "text": [
      "/Users/barbenshabat/opt/anaconda3/lib/python3.8/site-packages/sklearn/linear_model/_ridge.py:187: LinAlgWarning: Ill-conditioned matrix (rcond=4.26814e-17): result may not be accurate.\n",
      "  dual_coef = linalg.solve(K, y, sym_pos=True,\n"
     ]
    },
    {
     "name": "stdout",
     "output_type": "stream",
     "text": [
      "MAE: -0.004\n",
      "Config: {'alpha': 0.0}\n",
      "Predicted: 0.107\n",
      "\n",
      "\n",
      "split= 10\n",
      "state= MASSACHUSETTS\n"
     ]
    },
    {
     "name": "stderr",
     "output_type": "stream",
     "text": [
      "/Users/barbenshabat/opt/anaconda3/lib/python3.8/site-packages/sklearn/linear_model/_ridge.py:190: UserWarning: Singular matrix in solving dual problem. Using least-squares solution instead.\n",
      "  warnings.warn(\"Singular matrix in solving dual problem. Using \"\n"
     ]
    },
    {
     "name": "stdout",
     "output_type": "stream",
     "text": [
      "MAE: -0.006\n",
      "Config: {'alpha': 0.0}\n",
      "Predicted: 0.143\n",
      "\n",
      "\n",
      "split= 10\n",
      "state= MICHIGAN\n"
     ]
    },
    {
     "name": "stderr",
     "output_type": "stream",
     "text": [
      "/Users/barbenshabat/opt/anaconda3/lib/python3.8/site-packages/sklearn/linear_model/_ridge.py:190: UserWarning: Singular matrix in solving dual problem. Using least-squares solution instead.\n",
      "  warnings.warn(\"Singular matrix in solving dual problem. Using \"\n"
     ]
    },
    {
     "name": "stdout",
     "output_type": "stream",
     "text": [
      "MAE: -0.009\n",
      "Config: {'alpha': 0.0}\n",
      "Predicted: 0.252\n",
      "\n",
      "\n",
      "split= 10\n",
      "state= MISSISSIPPI\n"
     ]
    },
    {
     "name": "stderr",
     "output_type": "stream",
     "text": [
      "/Users/barbenshabat/opt/anaconda3/lib/python3.8/site-packages/sklearn/linear_model/_ridge.py:187: LinAlgWarning: Ill-conditioned matrix (rcond=3.56877e-17): result may not be accurate.\n",
      "  dual_coef = linalg.solve(K, y, sym_pos=True,\n"
     ]
    },
    {
     "name": "stdout",
     "output_type": "stream",
     "text": [
      "MAE: -0.002\n",
      "Config: {'alpha': 0.0}\n",
      "Predicted: 0.010\n",
      "\n",
      "\n",
      "split= 10\n",
      "state= MISSOURI\n"
     ]
    },
    {
     "name": "stderr",
     "output_type": "stream",
     "text": [
      "/Users/barbenshabat/opt/anaconda3/lib/python3.8/site-packages/sklearn/linear_model/_ridge.py:187: LinAlgWarning: Ill-conditioned matrix (rcond=5.92325e-17): result may not be accurate.\n",
      "  dual_coef = linalg.solve(K, y, sym_pos=True,\n"
     ]
    },
    {
     "name": "stdout",
     "output_type": "stream",
     "text": [
      "MAE: -0.008\n",
      "Config: {'alpha': 0.0}\n",
      "Predicted: 0.172\n",
      "\n",
      "\n",
      "split= 9\n",
      "state= MONTANA\n",
      "MAE: -0.001\n",
      "Config: {'alpha': 0.02}\n",
      "Predicted: 0.010\n",
      "\n",
      "\n",
      "split= 10\n",
      "state= NEBRASKA\n",
      "MAE: -0.003\n",
      "Config: {'alpha': 0.99}\n",
      "Predicted: 0.030\n",
      "\n",
      "\n",
      "split= 10\n",
      "state= NEVADA\n",
      "MAE: -0.011\n",
      "Config: {'alpha': 0.02}\n",
      "Predicted: 0.119\n",
      "\n",
      "\n",
      "split= 10\n",
      "state= NEW HAMPSHIRE\n",
      "MAE: -0.001\n",
      "Config: {'alpha': 0.99}\n",
      "Predicted: 0.015\n",
      "\n",
      "\n",
      "split= 9\n",
      "state= NEW JERSEY\n"
     ]
    },
    {
     "name": "stderr",
     "output_type": "stream",
     "text": [
      "/Users/barbenshabat/opt/anaconda3/lib/python3.8/site-packages/sklearn/linear_model/_ridge.py:190: UserWarning: Singular matrix in solving dual problem. Using least-squares solution instead.\n",
      "  warnings.warn(\"Singular matrix in solving dual problem. Using \"\n"
     ]
    },
    {
     "name": "stdout",
     "output_type": "stream",
     "text": [
      "MAE: -0.003\n",
      "Config: {'alpha': 0.0}\n",
      "Predicted: 0.140\n",
      "\n",
      "\n",
      "split= 10\n",
      "state= NEW MEXICO\n"
     ]
    },
    {
     "name": "stderr",
     "output_type": "stream",
     "text": [
      "/Users/barbenshabat/opt/anaconda3/lib/python3.8/site-packages/sklearn/linear_model/_ridge.py:187: LinAlgWarning: Ill-conditioned matrix (rcond=2.66795e-17): result may not be accurate.\n",
      "  dual_coef = linalg.solve(K, y, sym_pos=True,\n"
     ]
    },
    {
     "name": "stdout",
     "output_type": "stream",
     "text": [
      "MAE: -0.009\n",
      "Config: {'alpha': 0.0}\n",
      "Predicted: 0.040\n",
      "\n",
      "\n",
      "split= 9\n",
      "state= NEW YORK\n"
     ]
    },
    {
     "name": "stderr",
     "output_type": "stream",
     "text": [
      "/Users/barbenshabat/opt/anaconda3/lib/python3.8/site-packages/sklearn/linear_model/_ridge.py:190: UserWarning: Singular matrix in solving dual problem. Using least-squares solution instead.\n",
      "  warnings.warn(\"Singular matrix in solving dual problem. Using \"\n"
     ]
    },
    {
     "name": "stdout",
     "output_type": "stream",
     "text": [
      "MAE: -0.006\n",
      "Config: {'alpha': 0.0}\n",
      "Predicted: 0.463\n",
      "\n",
      "\n",
      "split= 7\n",
      "state= NORTH CAROLINA\n"
     ]
    },
    {
     "name": "stderr",
     "output_type": "stream",
     "text": [
      "/Users/barbenshabat/opt/anaconda3/lib/python3.8/site-packages/sklearn/linear_model/_ridge.py:190: UserWarning: Singular matrix in solving dual problem. Using least-squares solution instead.\n",
      "  warnings.warn(\"Singular matrix in solving dual problem. Using \"\n"
     ]
    },
    {
     "name": "stdout",
     "output_type": "stream",
     "text": [
      "MAE: -0.010\n",
      "Config: {'alpha': 0.0}\n",
      "Predicted: 0.143\n",
      "\n",
      "\n",
      "split= 10\n",
      "state= NORTH DAKOTA\n",
      "MAE: -0.001\n",
      "Config: {'alpha': 0.03}\n",
      "Predicted: 0.009\n",
      "\n",
      "\n",
      "split= 10\n",
      "state= OHIO\n"
     ]
    },
    {
     "name": "stderr",
     "output_type": "stream",
     "text": [
      "/Users/barbenshabat/opt/anaconda3/lib/python3.8/site-packages/sklearn/linear_model/_ridge.py:190: UserWarning: Singular matrix in solving dual problem. Using least-squares solution instead.\n",
      "  warnings.warn(\"Singular matrix in solving dual problem. Using \"\n"
     ]
    },
    {
     "name": "stdout",
     "output_type": "stream",
     "text": [
      "MAE: -0.015\n",
      "Config: {'alpha': 0.0}\n",
      "Predicted: 0.140\n",
      "\n",
      "\n",
      "split= 10\n",
      "state= OKLAHOMA\n",
      "MAE: -0.003\n",
      "Config: {'alpha': 0.01}\n",
      "Predicted: 0.119\n",
      "\n",
      "\n",
      "split= 10\n",
      "state= PENNSYLVANIA\n",
      "MAE: -0.007\n",
      "Config: {'alpha': 0.01}\n",
      "Predicted: 0.212\n",
      "\n",
      "\n",
      "split= 10\n",
      "state= RHODE ISLAND\n",
      "MAE: -0.002\n",
      "Config: {'alpha': 0.01}\n",
      "Predicted: 0.017\n",
      "\n",
      "\n",
      "split= 10\n",
      "state= SOUTH CAROLINA\n"
     ]
    },
    {
     "name": "stderr",
     "output_type": "stream",
     "text": [
      "/Users/barbenshabat/opt/anaconda3/lib/python3.8/site-packages/sklearn/linear_model/_ridge.py:187: LinAlgWarning: Ill-conditioned matrix (rcond=5.6708e-17): result may not be accurate.\n",
      "  dual_coef = linalg.solve(K, y, sym_pos=True,\n"
     ]
    },
    {
     "name": "stdout",
     "output_type": "stream",
     "text": [
      "MAE: -0.006\n",
      "Config: {'alpha': 0.0}\n",
      "Predicted: 0.062\n",
      "\n",
      "\n",
      "split= 10\n",
      "state= SOUTH DAKOTA\n",
      "MAE: -0.002\n",
      "Config: {'alpha': 0.05}\n",
      "Predicted: 0.013\n",
      "\n",
      "\n",
      "split= 10\n",
      "state= TENNESSEE\n",
      "MAE: -0.004\n",
      "Config: {'alpha': 0.1}\n",
      "Predicted: 0.260\n",
      "\n",
      "\n",
      "split= 10\n",
      "state= TEXAS\n"
     ]
    },
    {
     "name": "stderr",
     "output_type": "stream",
     "text": [
      "/Users/barbenshabat/opt/anaconda3/lib/python3.8/site-packages/sklearn/linear_model/_ridge.py:190: UserWarning: Singular matrix in solving dual problem. Using least-squares solution instead.\n",
      "  warnings.warn(\"Singular matrix in solving dual problem. Using \"\n"
     ]
    },
    {
     "name": "stdout",
     "output_type": "stream",
     "text": [
      "MAE: -0.020\n",
      "Config: {'alpha': 0.0}\n",
      "Predicted: 0.660\n",
      "\n",
      "\n",
      "split= 10\n",
      "state= UTAH\n"
     ]
    },
    {
     "name": "stderr",
     "output_type": "stream",
     "text": [
      "/Users/barbenshabat/opt/anaconda3/lib/python3.8/site-packages/sklearn/linear_model/_ridge.py:190: UserWarning: Singular matrix in solving dual problem. Using least-squares solution instead.\n",
      "  warnings.warn(\"Singular matrix in solving dual problem. Using \"\n"
     ]
    },
    {
     "name": "stdout",
     "output_type": "stream",
     "text": [
      "MAE: -0.003\n",
      "Config: {'alpha': 0.0}\n",
      "Predicted: 0.043\n",
      "\n",
      "\n",
      "split= 10\n",
      "state= VERMONT\n",
      "MAE: -0.001\n",
      "Config: {'alpha': 0.1}\n",
      "Predicted: 0.002\n",
      "\n",
      "\n",
      "split= 10\n",
      "state= VIRGINIA\n",
      "MAE: -0.003\n",
      "Config: {'alpha': 0.77}\n",
      "Predicted: 0.068\n",
      "\n",
      "\n",
      "split= 10\n",
      "state= WASHINGTON\n",
      "MAE: -0.004\n",
      "Config: {'alpha': 0.09}\n",
      "Predicted: 0.126\n",
      "\n",
      "\n",
      "split= 9\n",
      "state= WEST VIRGINIA\n",
      "MAE: -0.003\n",
      "Config: {'alpha': 0.03}\n",
      "Predicted: 0.012\n",
      "\n",
      "\n",
      "split= 10\n",
      "state= WISCONSIN\n",
      "MAE: -0.005\n",
      "Config: {'alpha': 0.09}\n",
      "Predicted: 0.118\n",
      "\n",
      "\n",
      "split= 10\n",
      "state= WYOMING\n",
      "MAE: -0.000\n",
      "Config: {'alpha': 0.99}\n",
      "Predicted: 0.004\n",
      "\n",
      "\n",
      "split= 9\n",
      "state= ILLINOIS\n",
      "MAE: -0.039\n",
      "Config: {'alpha': 0.03}\n",
      "Predicted: 0.294\n",
      "\n",
      "\n",
      "split= 9\n",
      "state= OREGON\n"
     ]
    },
    {
     "name": "stderr",
     "output_type": "stream",
     "text": [
      "/Users/barbenshabat/opt/anaconda3/lib/python3.8/site-packages/sklearn/linear_model/_ridge.py:187: LinAlgWarning: Ill-conditioned matrix (rcond=2.93435e-17): result may not be accurate.\n",
      "  dual_coef = linalg.solve(K, y, sym_pos=True,\n"
     ]
    },
    {
     "name": "stdout",
     "output_type": "stream",
     "text": [
      "MAE: -0.006\n",
      "Config: {'alpha': 0.0}\n",
      "Predicted: 0.065\n",
      "\n",
      "\n",
      "split= 7\n",
      "state= MINNESOTA\n",
      "MAE: -0.004\n",
      "Config: {'alpha': 0.02}\n",
      "Predicted: 0.086\n",
      "\n",
      "\n",
      "---------crime--------------------------------- Murder and nonnegligent manslaughter\n",
      "split= 8\n",
      "state= ALABAMA\n"
     ]
    },
    {
     "name": "stderr",
     "output_type": "stream",
     "text": [
      "/Users/barbenshabat/opt/anaconda3/lib/python3.8/site-packages/sklearn/linear_model/_ridge.py:190: UserWarning: Singular matrix in solving dual problem. Using least-squares solution instead.\n",
      "  warnings.warn(\"Singular matrix in solving dual problem. Using \"\n"
     ]
    },
    {
     "name": "stdout",
     "output_type": "stream",
     "text": [
      "MAE: -0.014\n",
      "Config: {'alpha': 0.0}\n",
      "Predicted: 0.161\n",
      "\n",
      "\n",
      "split= 9\n",
      "state= ALASKA\n",
      "MAE: -0.005\n",
      "Config: {'alpha': 0.04}\n",
      "Predicted: 0.030\n",
      "\n",
      "\n",
      "split= 10\n",
      "state= ARIZONA\n"
     ]
    },
    {
     "name": "stderr",
     "output_type": "stream",
     "text": [
      "/Users/barbenshabat/opt/anaconda3/lib/python3.8/site-packages/sklearn/linear_model/_ridge.py:187: LinAlgWarning: Ill-conditioned matrix (rcond=5.32574e-17): result may not be accurate.\n",
      "  dual_coef = linalg.solve(K, y, sym_pos=True,\n"
     ]
    },
    {
     "name": "stdout",
     "output_type": "stream",
     "text": [
      "MAE: -0.012\n",
      "Config: {'alpha': 0.0}\n",
      "Predicted: 0.195\n",
      "\n",
      "\n",
      "split= 10\n",
      "state= ARKANSAS\n"
     ]
    },
    {
     "name": "stderr",
     "output_type": "stream",
     "text": [
      "/Users/barbenshabat/opt/anaconda3/lib/python3.8/site-packages/sklearn/linear_model/_ridge.py:190: UserWarning: Singular matrix in solving dual problem. Using least-squares solution instead.\n",
      "  warnings.warn(\"Singular matrix in solving dual problem. Using \"\n"
     ]
    },
    {
     "name": "stdout",
     "output_type": "stream",
     "text": [
      "MAE: -0.006\n",
      "Config: {'alpha': 0.0}\n",
      "Predicted: 0.094\n",
      "\n",
      "\n",
      "split= 10\n",
      "state= CALIFORNIA\n"
     ]
    },
    {
     "name": "stderr",
     "output_type": "stream",
     "text": [
      "/Users/barbenshabat/opt/anaconda3/lib/python3.8/site-packages/sklearn/linear_model/_ridge.py:187: LinAlgWarning: Ill-conditioned matrix (rcond=6.28375e-18): result may not be accurate.\n",
      "  dual_coef = linalg.solve(K, y, sym_pos=True,\n"
     ]
    },
    {
     "name": "stdout",
     "output_type": "stream",
     "text": [
      "MAE: -0.036\n",
      "Config: {'alpha': 0.0}\n",
      "Predicted: 0.680\n",
      "\n",
      "\n",
      "split= 10\n",
      "state= COLORADO\n",
      "MAE: -0.009\n",
      "Config: {'alpha': 0.02}\n",
      "Predicted: 0.119\n",
      "\n",
      "\n",
      "split= 10\n",
      "state= CONNECTICUT\n"
     ]
    },
    {
     "name": "stderr",
     "output_type": "stream",
     "text": [
      "/Users/barbenshabat/opt/anaconda3/lib/python3.8/site-packages/sklearn/linear_model/_ridge.py:187: LinAlgWarning: Ill-conditioned matrix (rcond=5.63286e-17): result may not be accurate.\n",
      "  dual_coef = linalg.solve(K, y, sym_pos=True,\n"
     ]
    },
    {
     "name": "stdout",
     "output_type": "stream",
     "text": [
      "MAE: -0.008\n",
      "Config: {'alpha': 0.0}\n",
      "Predicted: 0.053\n",
      "\n",
      "\n",
      "split= 10\n",
      "state= DELAWARE\n",
      "MAE: -0.003\n",
      "Config: {'alpha': 0.99}\n",
      "Predicted: 0.023\n",
      "\n",
      "\n",
      "split= 10\n",
      "state= DISTRICT OF COLUMBIA\n",
      "MAE: -0.018\n",
      "Config: {'alpha': 0.99}\n",
      "Predicted: 0.095\n",
      "\n",
      "\n",
      "split= 10\n",
      "state= FLORIDA\n"
     ]
    },
    {
     "name": "stderr",
     "output_type": "stream",
     "text": [
      "/Users/barbenshabat/opt/anaconda3/lib/python3.8/site-packages/sklearn/linear_model/_ridge.py:187: LinAlgWarning: Ill-conditioned matrix (rcond=1.7537e-17): result may not be accurate.\n",
      "  dual_coef = linalg.solve(K, y, sym_pos=True,\n"
     ]
    },
    {
     "name": "stdout",
     "output_type": "stream",
     "text": [
      "MAE: -0.028\n",
      "Config: {'alpha': 0.0}\n",
      "Predicted: 0.444\n",
      "\n",
      "\n",
      "split= 8\n",
      "state= GEORGIA\n",
      "MAE: -0.013\n",
      "Config: {'alpha': 0.03}\n",
      "Predicted: 0.200\n",
      "\n",
      "\n",
      "split= 6\n",
      "state= HAWAII\n"
     ]
    },
    {
     "name": "stderr",
     "output_type": "stream",
     "text": [
      "/Users/barbenshabat/opt/anaconda3/lib/python3.8/site-packages/sklearn/linear_model/_ridge.py:190: UserWarning: Singular matrix in solving dual problem. Using least-squares solution instead.\n",
      "  warnings.warn(\"Singular matrix in solving dual problem. Using \"\n"
     ]
    },
    {
     "name": "stdout",
     "output_type": "stream",
     "text": [
      "MAE: -0.004\n",
      "Config: {'alpha': 0.0}\n",
      "Predicted: 0.028\n",
      "\n",
      "\n",
      "split= 10\n",
      "state= IDAHO\n"
     ]
    },
    {
     "name": "stderr",
     "output_type": "stream",
     "text": [
      "/Users/barbenshabat/opt/anaconda3/lib/python3.8/site-packages/sklearn/linear_model/_ridge.py:190: UserWarning: Singular matrix in solving dual problem. Using least-squares solution instead.\n",
      "  warnings.warn(\"Singular matrix in solving dual problem. Using \"\n"
     ]
    },
    {
     "name": "stdout",
     "output_type": "stream",
     "text": [
      "MAE: -0.003\n",
      "Config: {'alpha': 0.0}\n",
      "Predicted: 0.016\n",
      "\n",
      "\n",
      "split= 10\n",
      "state= INDIANA\n"
     ]
    },
    {
     "name": "stderr",
     "output_type": "stream",
     "text": [
      "/Users/barbenshabat/opt/anaconda3/lib/python3.8/site-packages/sklearn/linear_model/_ridge.py:187: LinAlgWarning: Ill-conditioned matrix (rcond=1.63233e-17): result may not be accurate.\n",
      "  dual_coef = linalg.solve(K, y, sym_pos=True,\n"
     ]
    },
    {
     "name": "stdout",
     "output_type": "stream",
     "text": [
      "MAE: -0.015\n",
      "Config: {'alpha': 0.0}\n",
      "Predicted: 0.113\n",
      "\n",
      "\n",
      "split= 9\n",
      "state= IOWA\n",
      "MAE: -0.006\n",
      "Config: {'alpha': 0.01}\n",
      "Predicted: 0.055\n",
      "\n",
      "\n",
      "split= 10\n",
      "state= KANSAS\n",
      "MAE: -0.008\n",
      "Config: {'alpha': 0.02}\n",
      "Predicted: 0.053\n",
      "\n",
      "\n",
      "split= 10\n",
      "state= KENTUCKY\n",
      "MAE: -0.023\n",
      "Config: {'alpha': 0.01}\n",
      "Predicted: 0.088\n",
      "\n",
      "\n",
      "split= 10\n",
      "state= LOUISIANA\n",
      "MAE: -0.042\n",
      "Config: {'alpha': 0.01}\n",
      "Predicted: 0.244\n",
      "\n",
      "\n",
      "split= 10\n",
      "state= MAINE\n",
      "MAE: -0.002\n",
      "Config: {'alpha': 0.22}\n",
      "Predicted: 0.008\n",
      "\n",
      "\n",
      "split= 10\n",
      "state= MARYLAND\n",
      "MAE: -0.025\n",
      "Config: {'alpha': 0.23}\n",
      "Predicted: 0.260\n",
      "\n",
      "\n",
      "split= 10\n",
      "state= MASSACHUSETTS\n"
     ]
    },
    {
     "name": "stderr",
     "output_type": "stream",
     "text": [
      "/Users/barbenshabat/opt/anaconda3/lib/python3.8/site-packages/sklearn/linear_model/_ridge.py:190: UserWarning: Singular matrix in solving dual problem. Using least-squares solution instead.\n",
      "  warnings.warn(\"Singular matrix in solving dual problem. Using \"\n"
     ]
    },
    {
     "name": "stdout",
     "output_type": "stream",
     "text": [
      "MAE: -0.014\n",
      "Config: {'alpha': 0.0}\n",
      "Predicted: 0.111\n",
      "\n",
      "\n",
      "split= 10\n",
      "state= MICHIGAN\n",
      "MAE: -0.022\n",
      "Config: {'alpha': 0.9}\n",
      "Predicted: 0.344\n",
      "\n",
      "\n",
      "split= 10\n",
      "state= MISSISSIPPI\n",
      "MAE: -0.013\n",
      "Config: {'alpha': 0.02}\n",
      "Predicted: 0.028\n",
      "\n",
      "\n",
      "split= 10\n",
      "state= MISSOURI\n"
     ]
    },
    {
     "name": "stderr",
     "output_type": "stream",
     "text": [
      "/Users/barbenshabat/opt/anaconda3/lib/python3.8/site-packages/sklearn/linear_model/_ridge.py:187: LinAlgWarning: Ill-conditioned matrix (rcond=8.08393e-17): result may not be accurate.\n",
      "  dual_coef = linalg.solve(K, y, sym_pos=True,\n"
     ]
    },
    {
     "name": "stdout",
     "output_type": "stream",
     "text": [
      "MAE: -0.013\n",
      "Config: {'alpha': 0.0}\n",
      "Predicted: 0.359\n",
      "\n",
      "\n",
      "split= 9\n",
      "state= MONTANA\n",
      "MAE: -0.003\n",
      "Config: {'alpha': 0.99}\n",
      "Predicted: 0.009\n",
      "\n",
      "\n",
      "split= 10\n",
      "state= NEBRASKA\n",
      "MAE: -0.004\n",
      "Config: {'alpha': 0.01}\n",
      "Predicted: 0.024\n",
      "\n",
      "\n",
      "split= 10\n",
      "state= NEVADA\n",
      "MAE: -0.020\n",
      "Config: {'alpha': 0.02}\n",
      "Predicted: 0.146\n",
      "\n",
      "\n",
      "split= 10\n",
      "state= NEW HAMPSHIRE\n",
      "MAE: -0.002\n",
      "Config: {'alpha': 0.99}\n",
      "Predicted: 0.011\n",
      "\n",
      "\n",
      "split= 9\n",
      "state= NEW JERSEY\n"
     ]
    },
    {
     "name": "stderr",
     "output_type": "stream",
     "text": [
      "/Users/barbenshabat/opt/anaconda3/lib/python3.8/site-packages/sklearn/linear_model/_ridge.py:190: UserWarning: Singular matrix in solving dual problem. Using least-squares solution instead.\n",
      "  warnings.warn(\"Singular matrix in solving dual problem. Using \"\n"
     ]
    },
    {
     "name": "stdout",
     "output_type": "stream",
     "text": [
      "MAE: -0.011\n",
      "Config: {'alpha': 0.0}\n",
      "Predicted: 0.194\n",
      "\n",
      "\n",
      "split= 10\n",
      "state= NEW MEXICO\n"
     ]
    },
    {
     "name": "stderr",
     "output_type": "stream",
     "text": [
      "/Users/barbenshabat/opt/anaconda3/lib/python3.8/site-packages/sklearn/linear_model/_ridge.py:187: LinAlgWarning: Ill-conditioned matrix (rcond=2.07228e-17): result may not be accurate.\n",
      "  dual_coef = linalg.solve(K, y, sym_pos=True,\n"
     ]
    },
    {
     "name": "stdout",
     "output_type": "stream",
     "text": [
      "MAE: -0.011\n",
      "Config: {'alpha': 0.0}\n",
      "Predicted: 0.028\n",
      "\n",
      "\n",
      "split= 9\n",
      "state= NEW YORK\n"
     ]
    },
    {
     "name": "stderr",
     "output_type": "stream",
     "text": [
      "/Users/barbenshabat/opt/anaconda3/lib/python3.8/site-packages/sklearn/linear_model/_ridge.py:190: UserWarning: Singular matrix in solving dual problem. Using least-squares solution instead.\n",
      "  warnings.warn(\"Singular matrix in solving dual problem. Using \"\n"
     ]
    },
    {
     "name": "stdout",
     "output_type": "stream",
     "text": [
      "MAE: -0.040\n",
      "Config: {'alpha': 0.0}\n",
      "Predicted: 0.378\n",
      "\n",
      "\n",
      "split= 7\n",
      "state= NORTH CAROLINA\n",
      "MAE: -0.014\n",
      "Config: {'alpha': 0.17}\n",
      "Predicted: 0.220\n",
      "\n",
      "\n",
      "split= 10\n",
      "state= NORTH DAKOTA\n",
      "MAE: -0.002\n",
      "Config: {'alpha': 0.99}\n",
      "Predicted: 0.007\n",
      "\n",
      "\n",
      "split= 10\n",
      "state= OHIO\n"
     ]
    },
    {
     "name": "stderr",
     "output_type": "stream",
     "text": [
      "/Users/barbenshabat/opt/anaconda3/lib/python3.8/site-packages/sklearn/linear_model/_ridge.py:190: UserWarning: Singular matrix in solving dual problem. Using least-squares solution instead.\n",
      "  warnings.warn(\"Singular matrix in solving dual problem. Using \"\n"
     ]
    },
    {
     "name": "stdout",
     "output_type": "stream",
     "text": [
      "MAE: -0.039\n",
      "Config: {'alpha': 0.0}\n",
      "Predicted: 0.295\n",
      "\n",
      "\n",
      "split= 10\n",
      "state= OKLAHOMA\n",
      "MAE: -0.016\n",
      "Config: {'alpha': 0.99}\n",
      "Predicted: 0.132\n",
      "\n",
      "\n",
      "split= 10\n",
      "state= PENNSYLVANIA\n",
      "MAE: -0.030\n",
      "Config: {'alpha': 0.02}\n",
      "Predicted: 0.467\n",
      "\n",
      "\n",
      "split= 10\n",
      "state= RHODE ISLAND\n",
      "MAE: -0.006\n",
      "Config: {'alpha': 0.99}\n",
      "Predicted: 0.017\n",
      "\n",
      "\n",
      "split= 10\n",
      "state= SOUTH CAROLINA\n",
      "MAE: -0.010\n",
      "Config: {'alpha': 0.02}\n",
      "Predicted: 0.097\n",
      "\n",
      "\n",
      "split= 10\n",
      "state= SOUTH DAKOTA\n",
      "MAE: -0.002\n",
      "Config: {'alpha': 0.03}\n",
      "Predicted: 0.009\n",
      "\n",
      "\n",
      "split= 10\n",
      "state= TENNESSEE\n",
      "MAE: -0.018\n",
      "Config: {'alpha': 0.07}\n",
      "Predicted: 0.327\n",
      "\n",
      "\n",
      "split= 10\n",
      "state= TEXAS\n"
     ]
    },
    {
     "name": "stderr",
     "output_type": "stream",
     "text": [
      "/Users/barbenshabat/opt/anaconda3/lib/python3.8/site-packages/sklearn/linear_model/_ridge.py:190: UserWarning: Singular matrix in solving dual problem. Using least-squares solution instead.\n",
      "  warnings.warn(\"Singular matrix in solving dual problem. Using \"\n"
     ]
    },
    {
     "name": "stdout",
     "output_type": "stream",
     "text": [
      "MAE: -0.019\n",
      "Config: {'alpha': 0.0}\n",
      "Predicted: 0.731\n",
      "\n",
      "\n",
      "split= 10\n",
      "state= UTAH\n",
      "MAE: -0.003\n",
      "Config: {'alpha': 0.01}\n",
      "Predicted: 0.034\n",
      "\n",
      "\n",
      "split= 10\n",
      "state= VERMONT\n",
      "MAE: -0.001\n",
      "Config: {'alpha': 0.03}\n",
      "Predicted: 0.003\n",
      "\n",
      "\n",
      "split= 10\n",
      "state= VIRGINIA\n"
     ]
    },
    {
     "name": "stderr",
     "output_type": "stream",
     "text": [
      "/Users/barbenshabat/opt/anaconda3/lib/python3.8/site-packages/sklearn/linear_model/_ridge.py:187: LinAlgWarning: Ill-conditioned matrix (rcond=1.14444e-17): result may not be accurate.\n",
      "  dual_coef = linalg.solve(K, y, sym_pos=True,\n"
     ]
    },
    {
     "name": "stdout",
     "output_type": "stream",
     "text": [
      "MAE: -0.005\n",
      "Config: {'alpha': 0.0}\n",
      "Predicted: 0.176\n",
      "\n",
      "\n",
      "split= 10\n",
      "state= WASHINGTON\n",
      "MAE: -0.009\n",
      "Config: {'alpha': 0.01}\n",
      "Predicted: 0.119\n",
      "\n",
      "\n",
      "split= 9\n",
      "state= WEST VIRGINIA\n",
      "MAE: -0.005\n",
      "Config: {'alpha': 0.2}\n",
      "Predicted: 0.018\n",
      "\n",
      "\n",
      "split= 10\n",
      "state= WISCONSIN\n",
      "MAE: -0.016\n",
      "Config: {'alpha': 0.02}\n",
      "Predicted: 0.115\n",
      "\n",
      "\n",
      "split= 10\n",
      "state= WYOMING\n",
      "MAE: -0.002\n",
      "Config: {'alpha': 0.11}\n",
      "Predicted: 0.007\n",
      "\n",
      "\n",
      "split= 9\n",
      "state= ILLINOIS\n",
      "MAE: -0.057\n",
      "Config: {'alpha': 0.05}\n",
      "Predicted: 0.596\n",
      "\n",
      "\n",
      "split= 9\n",
      "state= OREGON\n",
      "MAE: -0.004\n",
      "Config: {'alpha': 0.99}\n",
      "Predicted: 0.038\n",
      "\n",
      "\n",
      "split= 7\n",
      "state= MINNESOTA\n",
      "MAE: -0.010\n",
      "Config: {'alpha': 0.99}\n",
      "Predicted: 0.066\n",
      "\n",
      "\n",
      "---------crime--------------------------------- Forcible rape\n",
      "split= 8\n",
      "state= ALABAMA\n"
     ]
    },
    {
     "name": "stderr",
     "output_type": "stream",
     "text": [
      "/Users/barbenshabat/opt/anaconda3/lib/python3.8/site-packages/sklearn/linear_model/_ridge.py:190: UserWarning: Singular matrix in solving dual problem. Using least-squares solution instead.\n",
      "  warnings.warn(\"Singular matrix in solving dual problem. Using \"\n"
     ]
    },
    {
     "name": "stdout",
     "output_type": "stream",
     "text": [
      "MAE: -0.012\n",
      "Config: {'alpha': 0.0}\n",
      "Predicted: 0.048\n",
      "\n",
      "\n",
      "split= 9\n",
      "state= ALASKA\n"
     ]
    },
    {
     "name": "stderr",
     "output_type": "stream",
     "text": [
      "/Users/barbenshabat/opt/anaconda3/lib/python3.8/site-packages/sklearn/linear_model/_ridge.py:187: LinAlgWarning: Ill-conditioned matrix (rcond=1.30993e-17): result may not be accurate.\n",
      "  dual_coef = linalg.solve(K, y, sym_pos=True,\n"
     ]
    },
    {
     "name": "stdout",
     "output_type": "stream",
     "text": [
      "MAE: -0.008\n",
      "Config: {'alpha': 0.0}\n",
      "Predicted: 0.068\n",
      "\n",
      "\n",
      "split= 10\n",
      "state= ARIZONA\n"
     ]
    },
    {
     "name": "stderr",
     "output_type": "stream",
     "text": [
      "/Users/barbenshabat/opt/anaconda3/lib/python3.8/site-packages/sklearn/linear_model/_ridge.py:187: LinAlgWarning: Ill-conditioned matrix (rcond=2.40055e-17): result may not be accurate.\n",
      "  dual_coef = linalg.solve(K, y, sym_pos=True,\n"
     ]
    },
    {
     "name": "stdout",
     "output_type": "stream",
     "text": [
      "MAE: -0.012\n",
      "Config: {'alpha': 0.0}\n",
      "Predicted: 0.249\n",
      "\n",
      "\n",
      "split= 10\n",
      "state= ARKANSAS\n",
      "MAE: -0.008\n",
      "Config: {'alpha': 0.01}\n",
      "Predicted: 0.110\n",
      "\n",
      "\n",
      "split= 10\n",
      "state= CALIFORNIA\n",
      "MAE: -0.030\n",
      "Config: {'alpha': 0.04}\n",
      "Predicted: 1.023\n",
      "\n",
      "\n",
      "split= 10\n",
      "state= COLORADO\n"
     ]
    },
    {
     "name": "stderr",
     "output_type": "stream",
     "text": [
      "/Users/barbenshabat/opt/anaconda3/lib/python3.8/site-packages/sklearn/linear_model/_ridge.py:190: UserWarning: Singular matrix in solving dual problem. Using least-squares solution instead.\n",
      "  warnings.warn(\"Singular matrix in solving dual problem. Using \"\n"
     ]
    },
    {
     "name": "stdout",
     "output_type": "stream",
     "text": [
      "MAE: -0.013\n",
      "Config: {'alpha': 0.0}\n",
      "Predicted: 0.265\n",
      "\n",
      "\n",
      "split= 10\n",
      "state= CONNECTICUT\n",
      "MAE: -0.006\n",
      "Config: {'alpha': 0.99}\n",
      "Predicted: 0.057\n",
      "\n",
      "\n",
      "split= 10\n",
      "state= DELAWARE\n",
      "MAE: -0.001\n",
      "Config: {'alpha': 0.99}\n",
      "Predicted: 0.007\n",
      "\n",
      "\n",
      "split= 10\n",
      "state= DISTRICT OF COLUMBIA\n",
      "MAE: -0.007\n",
      "Config: {'alpha': 0.03}\n",
      "Predicted: 0.038\n",
      "\n",
      "\n",
      "split= 10\n",
      "state= FLORIDA\n"
     ]
    },
    {
     "name": "stderr",
     "output_type": "stream",
     "text": [
      "/Users/barbenshabat/opt/anaconda3/lib/python3.8/site-packages/sklearn/linear_model/_ridge.py:187: LinAlgWarning: Ill-conditioned matrix (rcond=1.81057e-17): result may not be accurate.\n",
      "  dual_coef = linalg.solve(K, y, sym_pos=True,\n"
     ]
    },
    {
     "name": "stdout",
     "output_type": "stream",
     "text": [
      "MAE: -0.017\n",
      "Config: {'alpha': 0.0}\n",
      "Predicted: 0.358\n",
      "\n",
      "\n",
      "split= 8\n",
      "state= GEORGIA\n"
     ]
    },
    {
     "name": "stderr",
     "output_type": "stream",
     "text": [
      "/Users/barbenshabat/opt/anaconda3/lib/python3.8/site-packages/sklearn/linear_model/_ridge.py:190: UserWarning: Singular matrix in solving dual problem. Using least-squares solution instead.\n",
      "  warnings.warn(\"Singular matrix in solving dual problem. Using \"\n"
     ]
    },
    {
     "name": "stdout",
     "output_type": "stream",
     "text": [
      "MAE: -0.010\n",
      "Config: {'alpha': 0.0}\n",
      "Predicted: 0.067\n",
      "\n",
      "\n",
      "split= 6\n",
      "state= HAWAII\n"
     ]
    },
    {
     "name": "stderr",
     "output_type": "stream",
     "text": [
      "/Users/barbenshabat/opt/anaconda3/lib/python3.8/site-packages/sklearn/linear_model/_ridge.py:190: UserWarning: Singular matrix in solving dual problem. Using least-squares solution instead.\n",
      "  warnings.warn(\"Singular matrix in solving dual problem. Using \"\n"
     ]
    },
    {
     "name": "stdout",
     "output_type": "stream",
     "text": [
      "MAE: -0.004\n",
      "Config: {'alpha': 0.0}\n",
      "Predicted: 0.022\n",
      "\n",
      "\n",
      "split= 10\n",
      "state= IDAHO\n",
      "MAE: -0.004\n",
      "Config: {'alpha': 0.01}\n",
      "Predicted: 0.037\n",
      "\n",
      "\n",
      "split= 10\n",
      "state= INDIANA\n"
     ]
    },
    {
     "name": "stderr",
     "output_type": "stream",
     "text": [
      "/Users/barbenshabat/opt/anaconda3/lib/python3.8/site-packages/sklearn/linear_model/_ridge.py:187: LinAlgWarning: Ill-conditioned matrix (rcond=3.51873e-17): result may not be accurate.\n",
      "  dual_coef = linalg.solve(K, y, sym_pos=True,\n"
     ]
    },
    {
     "name": "stdout",
     "output_type": "stream",
     "text": [
      "MAE: -0.012\n",
      "Config: {'alpha': 0.0}\n",
      "Predicted: 0.075\n",
      "\n",
      "\n",
      "split= 9\n",
      "state= IOWA\n"
     ]
    },
    {
     "name": "stderr",
     "output_type": "stream",
     "text": [
      "/Users/barbenshabat/opt/anaconda3/lib/python3.8/site-packages/sklearn/linear_model/_ridge.py:187: LinAlgWarning: Ill-conditioned matrix (rcond=4.85064e-18): result may not be accurate.\n",
      "  dual_coef = linalg.solve(K, y, sym_pos=True,\n"
     ]
    },
    {
     "name": "stdout",
     "output_type": "stream",
     "text": [
      "MAE: -0.005\n",
      "Config: {'alpha': 0.0}\n",
      "Predicted: 0.092\n",
      "\n",
      "\n",
      "split= 10\n",
      "state= KANSAS\n",
      "MAE: -0.006\n",
      "Config: {'alpha': 0.01}\n",
      "Predicted: 0.076\n",
      "\n",
      "\n",
      "split= 10\n",
      "state= KENTUCKY\n",
      "MAE: -0.011\n",
      "Config: {'alpha': 0.01}\n",
      "Predicted: 0.075\n",
      "\n",
      "\n",
      "split= 10\n",
      "state= LOUISIANA\n",
      "MAE: -0.008\n",
      "Config: {'alpha': 0.01}\n",
      "Predicted: 0.096\n",
      "\n",
      "\n",
      "split= 10\n",
      "state= MAINE\n",
      "MAE: -0.004\n",
      "Config: {'alpha': 0.99}\n",
      "Predicted: 0.022\n",
      "\n",
      "\n",
      "split= 10\n",
      "state= MARYLAND\n"
     ]
    },
    {
     "name": "stderr",
     "output_type": "stream",
     "text": [
      "/Users/barbenshabat/opt/anaconda3/lib/python3.8/site-packages/sklearn/linear_model/_ridge.py:187: LinAlgWarning: Ill-conditioned matrix (rcond=3.73959e-17): result may not be accurate.\n",
      "  dual_coef = linalg.solve(K, y, sym_pos=True,\n"
     ]
    },
    {
     "name": "stdout",
     "output_type": "stream",
     "text": [
      "MAE: -0.002\n",
      "Config: {'alpha': 0.0}\n",
      "Predicted: 0.047\n",
      "\n",
      "\n",
      "split= 10\n",
      "state= MASSACHUSETTS\n",
      "MAE: -0.011\n",
      "Config: {'alpha': 0.65}\n",
      "Predicted: 0.161\n",
      "\n",
      "\n",
      "split= 10\n",
      "state= MICHIGAN\n",
      "MAE: -0.026\n",
      "Config: {'alpha': 0.3}\n",
      "Predicted: 0.341\n",
      "\n",
      "\n",
      "split= 10\n",
      "state= MISSISSIPPI\n"
     ]
    },
    {
     "name": "stderr",
     "output_type": "stream",
     "text": [
      "/Users/barbenshabat/opt/anaconda3/lib/python3.8/site-packages/sklearn/linear_model/_ridge.py:187: LinAlgWarning: Ill-conditioned matrix (rcond=4.30433e-17): result may not be accurate.\n",
      "  dual_coef = linalg.solve(K, y, sym_pos=True,\n"
     ]
    },
    {
     "name": "stdout",
     "output_type": "stream",
     "text": [
      "MAE: -0.004\n",
      "Config: {'alpha': 0.0}\n",
      "Predicted: 0.011\n",
      "\n",
      "\n",
      "split= 10\n",
      "state= MISSOURI\n",
      "MAE: -0.019\n",
      "Config: {'alpha': 0.01}\n",
      "Predicted: 0.165\n",
      "\n",
      "\n",
      "split= 9\n",
      "state= MONTANA\n",
      "MAE: -0.002\n",
      "Config: {'alpha': 0.01}\n",
      "Predicted: 0.023\n",
      "\n",
      "\n",
      "split= 10\n",
      "state= NEBRASKA\n",
      "MAE: -0.011\n",
      "Config: {'alpha': 0.99}\n",
      "Predicted: 0.052\n",
      "\n",
      "\n",
      "split= 10\n",
      "state= NEVADA\n",
      "MAE: -0.014\n",
      "Config: {'alpha': 0.02}\n",
      "Predicted: 0.148\n",
      "\n",
      "\n",
      "split= 10\n",
      "state= NEW HAMPSHIRE\n",
      "MAE: -0.006\n",
      "Config: {'alpha': 0.19}\n",
      "Predicted: 0.041\n",
      "\n",
      "\n",
      "split= 9\n",
      "state= NEW JERSEY\n"
     ]
    },
    {
     "name": "stderr",
     "output_type": "stream",
     "text": [
      "/Users/barbenshabat/opt/anaconda3/lib/python3.8/site-packages/sklearn/linear_model/_ridge.py:190: UserWarning: Singular matrix in solving dual problem. Using least-squares solution instead.\n",
      "  warnings.warn(\"Singular matrix in solving dual problem. Using \"\n"
     ]
    },
    {
     "name": "stdout",
     "output_type": "stream",
     "text": [
      "MAE: -0.004\n",
      "Config: {'alpha': 0.0}\n",
      "Predicted: 0.103\n",
      "\n",
      "\n",
      "split= 10\n",
      "state= NEW MEXICO\n"
     ]
    },
    {
     "name": "stderr",
     "output_type": "stream",
     "text": [
      "/Users/barbenshabat/opt/anaconda3/lib/python3.8/site-packages/sklearn/linear_model/_ridge.py:187: LinAlgWarning: Ill-conditioned matrix (rcond=1.34837e-17): result may not be accurate.\n",
      "  dual_coef = linalg.solve(K, y, sym_pos=True,\n"
     ]
    },
    {
     "name": "stdout",
     "output_type": "stream",
     "text": [
      "MAE: -0.008\n",
      "Config: {'alpha': 0.0}\n",
      "Predicted: 0.038\n",
      "\n",
      "\n",
      "split= 9\n",
      "state= NEW YORK\n"
     ]
    },
    {
     "name": "stderr",
     "output_type": "stream",
     "text": [
      "/Users/barbenshabat/opt/anaconda3/lib/python3.8/site-packages/sklearn/linear_model/_ridge.py:190: UserWarning: Singular matrix in solving dual problem. Using least-squares solution instead.\n",
      "  warnings.warn(\"Singular matrix in solving dual problem. Using \"\n"
     ]
    },
    {
     "name": "stdout",
     "output_type": "stream",
     "text": [
      "MAE: -0.021\n",
      "Config: {'alpha': 0.0}\n",
      "Predicted: 0.369\n",
      "\n",
      "\n",
      "split= 7\n",
      "state= NORTH CAROLINA\n"
     ]
    },
    {
     "name": "stderr",
     "output_type": "stream",
     "text": [
      "/Users/barbenshabat/opt/anaconda3/lib/python3.8/site-packages/sklearn/linear_model/_ridge.py:190: UserWarning: Singular matrix in solving dual problem. Using least-squares solution instead.\n",
      "  warnings.warn(\"Singular matrix in solving dual problem. Using \"\n"
     ]
    },
    {
     "name": "stdout",
     "output_type": "stream",
     "text": [
      "MAE: -0.004\n",
      "Config: {'alpha': 0.0}\n",
      "Predicted: 0.070\n",
      "\n",
      "\n",
      "split= 10\n",
      "state= NORTH DAKOTA\n",
      "MAE: -0.002\n",
      "Config: {'alpha': 0.02}\n",
      "Predicted: 0.020\n",
      "\n",
      "\n",
      "split= 10\n",
      "state= OHIO\n"
     ]
    },
    {
     "name": "stderr",
     "output_type": "stream",
     "text": [
      "/Users/barbenshabat/opt/anaconda3/lib/python3.8/site-packages/sklearn/linear_model/_ridge.py:187: LinAlgWarning: Ill-conditioned matrix (rcond=1.72661e-18): result may not be accurate.\n",
      "  dual_coef = linalg.solve(K, y, sym_pos=True,\n"
     ]
    },
    {
     "name": "stdout",
     "output_type": "stream",
     "text": [
      "MAE: -0.019\n",
      "Config: {'alpha': 0.0}\n",
      "Predicted: 0.264\n",
      "\n",
      "\n",
      "split= 10\n",
      "state= OKLAHOMA\n"
     ]
    },
    {
     "name": "stderr",
     "output_type": "stream",
     "text": [
      "/Users/barbenshabat/opt/anaconda3/lib/python3.8/site-packages/sklearn/linear_model/_ridge.py:187: LinAlgWarning: Ill-conditioned matrix (rcond=3.83559e-17): result may not be accurate.\n",
      "  dual_coef = linalg.solve(K, y, sym_pos=True,\n"
     ]
    },
    {
     "name": "stdout",
     "output_type": "stream",
     "text": [
      "MAE: -0.003\n",
      "Config: {'alpha': 0.0}\n",
      "Predicted: 0.163\n",
      "\n",
      "\n",
      "split= 10\n",
      "state= PENNSYLVANIA\n",
      "MAE: -0.010\n",
      "Config: {'alpha': 0.21}\n",
      "Predicted: 0.248\n",
      "\n",
      "\n",
      "split= 10\n",
      "state= RHODE ISLAND\n",
      "MAE: -0.003\n",
      "Config: {'alpha': 0.01}\n",
      "Predicted: 0.032\n",
      "\n",
      "\n",
      "split= 10\n",
      "state= SOUTH CAROLINA\n",
      "MAE: -0.007\n",
      "Config: {'alpha': 0.01}\n",
      "Predicted: 0.070\n",
      "\n",
      "\n",
      "split= 10\n",
      "state= SOUTH DAKOTA\n",
      "MAE: -0.003\n",
      "Config: {'alpha': 0.99}\n",
      "Predicted: 0.027\n",
      "\n",
      "\n",
      "split= 10\n",
      "state= TENNESSEE\n",
      "MAE: -0.009\n",
      "Config: {'alpha': 0.11}\n",
      "Predicted: 0.183\n",
      "\n",
      "\n",
      "split= 10\n",
      "state= TEXAS\n",
      "MAE: -0.021\n",
      "Config: {'alpha': 0.01}\n",
      "Predicted: 0.813\n",
      "\n",
      "\n",
      "split= 10\n",
      "state= UTAH\n"
     ]
    },
    {
     "name": "stderr",
     "output_type": "stream",
     "text": [
      "/Users/barbenshabat/opt/anaconda3/lib/python3.8/site-packages/sklearn/linear_model/_ridge.py:190: UserWarning: Singular matrix in solving dual problem. Using least-squares solution instead.\n",
      "  warnings.warn(\"Singular matrix in solving dual problem. Using \"\n"
     ]
    },
    {
     "name": "stdout",
     "output_type": "stream",
     "text": [
      "MAE: -0.008\n",
      "Config: {'alpha': 0.0}\n",
      "Predicted: 0.122\n",
      "\n",
      "\n",
      "split= 10\n",
      "state= VERMONT\n",
      "MAE: -0.002\n",
      "Config: {'alpha': 0.05}\n",
      "Predicted: 0.007\n",
      "\n",
      "\n",
      "split= 10\n",
      "state= VIRGINIA\n",
      "MAE: -0.009\n",
      "Config: {'alpha': 0.02}\n",
      "Predicted: 0.091\n",
      "\n",
      "\n",
      "split= 10\n",
      "state= WASHINGTON\n",
      "MAE: -0.015\n",
      "Config: {'alpha': 0.02}\n",
      "Predicted: 0.202\n",
      "\n",
      "\n",
      "split= 9\n",
      "state= WEST VIRGINIA\n",
      "MAE: -0.002\n",
      "Config: {'alpha': 0.03}\n",
      "Predicted: 0.015\n",
      "\n",
      "\n",
      "split= 10\n",
      "state= WISCONSIN\n",
      "MAE: -0.008\n",
      "Config: {'alpha': 0.03}\n",
      "Predicted: 0.141\n",
      "\n",
      "\n",
      "split= 10\n",
      "state= WYOMING\n",
      "MAE: -0.001\n",
      "Config: {'alpha': 0.04}\n",
      "Predicted: 0.010\n",
      "\n",
      "\n",
      "split= 9\n",
      "state= ILLINOIS\n",
      "MAE: -0.030\n",
      "Config: {'alpha': 0.12}\n",
      "Predicted: 0.296\n",
      "\n",
      "\n",
      "split= 9\n",
      "state= OREGON\n"
     ]
    },
    {
     "name": "stderr",
     "output_type": "stream",
     "text": [
      "/Users/barbenshabat/opt/anaconda3/lib/python3.8/site-packages/sklearn/linear_model/_ridge.py:187: LinAlgWarning: Ill-conditioned matrix (rcond=4.97826e-17): result may not be accurate.\n",
      "  dual_coef = linalg.solve(K, y, sym_pos=True,\n"
     ]
    },
    {
     "name": "stdout",
     "output_type": "stream",
     "text": [
      "MAE: -0.009\n",
      "Config: {'alpha': 0.0}\n",
      "Predicted: 0.122\n",
      "\n",
      "\n",
      "split= 7\n",
      "state= MINNESOTA\n"
     ]
    },
    {
     "name": "stderr",
     "output_type": "stream",
     "text": [
      "/Users/barbenshabat/opt/anaconda3/lib/python3.8/site-packages/sklearn/linear_model/_ridge.py:190: UserWarning: Singular matrix in solving dual problem. Using least-squares solution instead.\n",
      "  warnings.warn(\"Singular matrix in solving dual problem. Using \"\n"
     ]
    },
    {
     "name": "stdout",
     "output_type": "stream",
     "text": [
      "MAE: -0.007\n",
      "Config: {'alpha': 0.0}\n",
      "Predicted: 0.176\n",
      "\n",
      "\n",
      "---------crime--------------------------------- Robbery\n",
      "split= 8\n",
      "state= ALABAMA\n"
     ]
    },
    {
     "name": "stderr",
     "output_type": "stream",
     "text": [
      "/Users/barbenshabat/opt/anaconda3/lib/python3.8/site-packages/sklearn/linear_model/_ridge.py:190: UserWarning: Singular matrix in solving dual problem. Using least-squares solution instead.\n",
      "  warnings.warn(\"Singular matrix in solving dual problem. Using \"\n"
     ]
    },
    {
     "name": "stdout",
     "output_type": "stream",
     "text": [
      "MAE: -0.006\n",
      "Config: {'alpha': 0.0}\n",
      "Predicted: 0.061\n",
      "\n",
      "\n",
      "split= 9\n",
      "state= ALASKA\n",
      "MAE: -0.002\n",
      "Config: {'alpha': 0.04}\n",
      "Predicted: 0.019\n",
      "\n",
      "\n",
      "split= 10\n",
      "state= ARIZONA\n"
     ]
    },
    {
     "name": "stderr",
     "output_type": "stream",
     "text": [
      "/Users/barbenshabat/opt/anaconda3/lib/python3.8/site-packages/sklearn/linear_model/_ridge.py:187: LinAlgWarning: Ill-conditioned matrix (rcond=1.59471e-17): result may not be accurate.\n",
      "  dual_coef = linalg.solve(K, y, sym_pos=True,\n"
     ]
    },
    {
     "name": "stdout",
     "output_type": "stream",
     "text": [
      "MAE: -0.008\n",
      "Config: {'alpha': 0.0}\n",
      "Predicted: 0.118\n",
      "\n",
      "\n",
      "split= 10\n",
      "state= ARKANSAS\n",
      "MAE: -0.003\n",
      "Config: {'alpha': 0.04}\n",
      "Predicted: 0.037\n",
      "\n",
      "\n",
      "split= 10\n",
      "state= CALIFORNIA\n"
     ]
    },
    {
     "name": "stderr",
     "output_type": "stream",
     "text": [
      "/Users/barbenshabat/opt/anaconda3/lib/python3.8/site-packages/sklearn/linear_model/_ridge.py:190: UserWarning: Singular matrix in solving dual problem. Using least-squares solution instead.\n",
      "  warnings.warn(\"Singular matrix in solving dual problem. Using \"\n"
     ]
    },
    {
     "name": "stdout",
     "output_type": "stream",
     "text": [
      "MAE: -0.016\n",
      "Config: {'alpha': 0.0}\n",
      "Predicted: 0.872\n",
      "\n",
      "\n",
      "split= 10\n",
      "state= COLORADO\n"
     ]
    },
    {
     "name": "stderr",
     "output_type": "stream",
     "text": [
      "/Users/barbenshabat/opt/anaconda3/lib/python3.8/site-packages/sklearn/linear_model/_ridge.py:187: LinAlgWarning: Ill-conditioned matrix (rcond=1.1854e-17): result may not be accurate.\n",
      "  dual_coef = linalg.solve(K, y, sym_pos=True,\n"
     ]
    },
    {
     "name": "stdout",
     "output_type": "stream",
     "text": [
      "MAE: -0.002\n",
      "Config: {'alpha': 0.0}\n",
      "Predicted: 0.070\n",
      "\n",
      "\n",
      "split= 10\n",
      "state= CONNECTICUT\n",
      "MAE: -0.005\n",
      "Config: {'alpha': 0.2}\n",
      "Predicted: 0.052\n",
      "\n",
      "\n",
      "split= 10\n",
      "state= DELAWARE\n",
      "MAE: -0.001\n",
      "Config: {'alpha': 0.03}\n",
      "Predicted: 0.011\n",
      "\n",
      "\n",
      "split= 10\n",
      "state= DISTRICT OF COLUMBIA\n",
      "MAE: -0.004\n",
      "Config: {'alpha': 0.01}\n",
      "Predicted: 0.052\n",
      "\n",
      "\n",
      "split= 10\n",
      "state= FLORIDA\n"
     ]
    },
    {
     "name": "stderr",
     "output_type": "stream",
     "text": [
      "/Users/barbenshabat/opt/anaconda3/lib/python3.8/site-packages/sklearn/linear_model/_ridge.py:187: LinAlgWarning: Ill-conditioned matrix (rcond=1.34213e-17): result may not be accurate.\n",
      "  dual_coef = linalg.solve(K, y, sym_pos=True,\n"
     ]
    },
    {
     "name": "stdout",
     "output_type": "stream",
     "text": [
      "MAE: -0.015\n",
      "Config: {'alpha': 0.0}\n",
      "Predicted: 0.215\n",
      "\n",
      "\n",
      "split= 8\n",
      "state= GEORGIA\n"
     ]
    },
    {
     "name": "stderr",
     "output_type": "stream",
     "text": [
      "/Users/barbenshabat/opt/anaconda3/lib/python3.8/site-packages/sklearn/linear_model/_ridge.py:190: UserWarning: Singular matrix in solving dual problem. Using least-squares solution instead.\n",
      "  warnings.warn(\"Singular matrix in solving dual problem. Using \"\n"
     ]
    },
    {
     "name": "stdout",
     "output_type": "stream",
     "text": [
      "MAE: -0.008\n",
      "Config: {'alpha': 0.0}\n",
      "Predicted: 0.099\n",
      "\n",
      "\n",
      "split= 6\n",
      "state= HAWAII\n",
      "MAE: -0.001\n",
      "Config: {'alpha': 0.01}\n",
      "Predicted: 0.019\n",
      "\n",
      "\n",
      "split= 10\n",
      "state= IDAHO\n",
      "MAE: -0.000\n",
      "Config: {'alpha': 0.99}\n",
      "Predicted: 0.003\n",
      "\n",
      "\n",
      "split= 10\n",
      "state= INDIANA\n"
     ]
    },
    {
     "name": "stderr",
     "output_type": "stream",
     "text": [
      "/Users/barbenshabat/opt/anaconda3/lib/python3.8/site-packages/sklearn/linear_model/_ridge.py:187: LinAlgWarning: Ill-conditioned matrix (rcond=2.95719e-17): result may not be accurate.\n",
      "  dual_coef = linalg.solve(K, y, sym_pos=True,\n"
     ]
    },
    {
     "name": "stdout",
     "output_type": "stream",
     "text": [
      "MAE: -0.012\n",
      "Config: {'alpha': 0.0}\n",
      "Predicted: 0.002\n",
      "\n",
      "\n",
      "split= 9\n",
      "state= IOWA\n",
      "MAE: -0.002\n",
      "Config: {'alpha': 0.01}\n",
      "Predicted: 0.027\n",
      "\n",
      "\n",
      "split= 10\n",
      "state= KANSAS\n",
      "MAE: -0.006\n",
      "Config: {'alpha': 0.27}\n",
      "Predicted: 0.024\n",
      "\n",
      "\n",
      "split= 10\n",
      "state= KENTUCKY\n"
     ]
    },
    {
     "name": "stderr",
     "output_type": "stream",
     "text": [
      "/Users/barbenshabat/opt/anaconda3/lib/python3.8/site-packages/sklearn/linear_model/_ridge.py:190: UserWarning: Singular matrix in solving dual problem. Using least-squares solution instead.\n",
      "  warnings.warn(\"Singular matrix in solving dual problem. Using \"\n"
     ]
    },
    {
     "name": "stdout",
     "output_type": "stream",
     "text": [
      "MAE: -0.008\n",
      "Config: {'alpha': 0.0}\n",
      "Predicted: 0.045\n",
      "\n",
      "\n",
      "split= 10\n",
      "state= LOUISIANA\n"
     ]
    },
    {
     "name": "stderr",
     "output_type": "stream",
     "text": [
      "/Users/barbenshabat/opt/anaconda3/lib/python3.8/site-packages/sklearn/linear_model/_ridge.py:187: LinAlgWarning: Ill-conditioned matrix (rcond=2.58673e-17): result may not be accurate.\n",
      "  dual_coef = linalg.solve(K, y, sym_pos=True,\n"
     ]
    },
    {
     "name": "stdout",
     "output_type": "stream",
     "text": [
      "MAE: -0.006\n",
      "Config: {'alpha': 0.0}\n",
      "Predicted: 0.057\n",
      "\n",
      "\n",
      "split= 10\n",
      "state= MAINE\n",
      "MAE: -0.001\n",
      "Config: {'alpha': 0.13}\n",
      "Predicted: 0.004\n",
      "\n",
      "\n",
      "split= 10\n",
      "state= MARYLAND\n",
      "MAE: -0.007\n",
      "Config: {'alpha': 0.02}\n",
      "Predicted: 0.132\n",
      "\n",
      "\n",
      "split= 10\n",
      "state= MASSACHUSETTS\n",
      "MAE: -0.006\n",
      "Config: {'alpha': 0.14}\n",
      "Predicted: 0.096\n",
      "\n",
      "\n",
      "split= 10\n",
      "state= MICHIGAN\n"
     ]
    },
    {
     "name": "stderr",
     "output_type": "stream",
     "text": [
      "/Users/barbenshabat/opt/anaconda3/lib/python3.8/site-packages/sklearn/linear_model/_ridge.py:190: UserWarning: Singular matrix in solving dual problem. Using least-squares solution instead.\n",
      "  warnings.warn(\"Singular matrix in solving dual problem. Using \"\n"
     ]
    },
    {
     "name": "stdout",
     "output_type": "stream",
     "text": [
      "MAE: -0.011\n",
      "Config: {'alpha': 0.0}\n",
      "Predicted: 0.101\n",
      "\n",
      "\n",
      "split= 10\n",
      "state= MISSISSIPPI\n"
     ]
    },
    {
     "name": "stderr",
     "output_type": "stream",
     "text": [
      "/Users/barbenshabat/opt/anaconda3/lib/python3.8/site-packages/sklearn/linear_model/_ridge.py:187: LinAlgWarning: Ill-conditioned matrix (rcond=3.89013e-17): result may not be accurate.\n",
      "  dual_coef = linalg.solve(K, y, sym_pos=True,\n"
     ]
    },
    {
     "name": "stdout",
     "output_type": "stream",
     "text": [
      "MAE: -0.003\n",
      "Config: {'alpha': 0.0}\n",
      "Predicted: 0.015\n",
      "\n",
      "\n",
      "split= 10\n",
      "state= MISSOURI\n",
      "MAE: -0.010\n",
      "Config: {'alpha': 0.99}\n",
      "Predicted: 0.116\n",
      "\n",
      "\n",
      "split= 9\n",
      "state= MONTANA\n",
      "MAE: -0.001\n",
      "Config: {'alpha': 0.03}\n",
      "Predicted: 0.004\n",
      "\n",
      "\n",
      "split= 10\n",
      "state= NEBRASKA\n",
      "MAE: -0.002\n",
      "Config: {'alpha': 0.01}\n",
      "Predicted: 0.016\n",
      "\n",
      "\n",
      "split= 10\n",
      "state= NEVADA\n"
     ]
    },
    {
     "name": "stderr",
     "output_type": "stream",
     "text": [
      "/Users/barbenshabat/opt/anaconda3/lib/python3.8/site-packages/sklearn/linear_model/_ridge.py:190: UserWarning: Singular matrix in solving dual problem. Using least-squares solution instead.\n",
      "  warnings.warn(\"Singular matrix in solving dual problem. Using \"\n"
     ]
    },
    {
     "name": "stdout",
     "output_type": "stream",
     "text": [
      "MAE: -0.016\n",
      "Config: {'alpha': 0.0}\n",
      "Predicted: 0.075\n",
      "\n",
      "\n",
      "split= 10\n",
      "state= NEW HAMPSHIRE\n",
      "MAE: -0.001\n",
      "Config: {'alpha': 0.99}\n",
      "Predicted: 0.009\n",
      "\n",
      "\n",
      "split= 9\n",
      "state= NEW JERSEY\n"
     ]
    },
    {
     "name": "stderr",
     "output_type": "stream",
     "text": [
      "/Users/barbenshabat/opt/anaconda3/lib/python3.8/site-packages/sklearn/linear_model/_ridge.py:190: UserWarning: Singular matrix in solving dual problem. Using least-squares solution instead.\n",
      "  warnings.warn(\"Singular matrix in solving dual problem. Using \"\n"
     ]
    },
    {
     "name": "stdout",
     "output_type": "stream",
     "text": [
      "MAE: -0.006\n",
      "Config: {'alpha': 0.0}\n",
      "Predicted: 0.144\n",
      "\n",
      "\n",
      "split= 10\n",
      "state= NEW MEXICO\n"
     ]
    },
    {
     "name": "stderr",
     "output_type": "stream",
     "text": [
      "/Users/barbenshabat/opt/anaconda3/lib/python3.8/site-packages/sklearn/linear_model/_ridge.py:187: LinAlgWarning: Ill-conditioned matrix (rcond=1.84911e-17): result may not be accurate.\n",
      "  dual_coef = linalg.solve(K, y, sym_pos=True,\n"
     ]
    },
    {
     "name": "stdout",
     "output_type": "stream",
     "text": [
      "MAE: -0.006\n",
      "Config: {'alpha': 0.0}\n",
      "Predicted: 0.026\n",
      "\n",
      "\n",
      "split= 9\n",
      "state= NEW YORK\n"
     ]
    },
    {
     "name": "stderr",
     "output_type": "stream",
     "text": [
      "/Users/barbenshabat/opt/anaconda3/lib/python3.8/site-packages/sklearn/linear_model/_ridge.py:190: UserWarning: Singular matrix in solving dual problem. Using least-squares solution instead.\n",
      "  warnings.warn(\"Singular matrix in solving dual problem. Using \"\n"
     ]
    },
    {
     "name": "stdout",
     "output_type": "stream",
     "text": [
      "MAE: -0.015\n",
      "Config: {'alpha': 0.0}\n",
      "Predicted: 0.378\n",
      "\n",
      "\n",
      "split= 7\n",
      "state= NORTH CAROLINA\n",
      "MAE: -0.007\n",
      "Config: {'alpha': 0.01}\n",
      "Predicted: 0.118\n",
      "\n",
      "\n",
      "split= 10\n",
      "state= NORTH DAKOTA\n",
      "MAE: -0.000\n",
      "Config: {'alpha': 0.01}\n",
      "Predicted: 0.003\n",
      "\n",
      "\n",
      "split= 10\n",
      "state= OHIO\n",
      "MAE: -0.026\n",
      "Config: {'alpha': 0.33}\n",
      "Predicted: 0.144\n",
      "\n",
      "\n",
      "split= 10\n",
      "state= OKLAHOMA\n",
      "MAE: -0.003\n",
      "Config: {'alpha': 0.06}\n",
      "Predicted: 0.060\n",
      "\n",
      "\n",
      "split= 10\n",
      "state= PENNSYLVANIA\n"
     ]
    },
    {
     "name": "stderr",
     "output_type": "stream",
     "text": [
      "/Users/barbenshabat/opt/anaconda3/lib/python3.8/site-packages/sklearn/linear_model/_ridge.py:190: UserWarning: Singular matrix in solving dual problem. Using least-squares solution instead.\n",
      "  warnings.warn(\"Singular matrix in solving dual problem. Using \"\n"
     ]
    },
    {
     "name": "stdout",
     "output_type": "stream",
     "text": [
      "MAE: -0.011\n",
      "Config: {'alpha': 0.0}\n",
      "Predicted: 0.114\n",
      "\n",
      "\n",
      "split= 10\n",
      "state= RHODE ISLAND\n",
      "MAE: -0.002\n",
      "Config: {'alpha': 0.01}\n",
      "Predicted: 0.012\n",
      "\n",
      "\n",
      "split= 10\n",
      "state= SOUTH CAROLINA\n",
      "MAE: -0.004\n",
      "Config: {'alpha': 0.6900000000000001}\n",
      "Predicted: 0.040\n",
      "\n",
      "\n",
      "split= 10\n",
      "state= SOUTH DAKOTA\n"
     ]
    },
    {
     "name": "stderr",
     "output_type": "stream",
     "text": [
      "/Users/barbenshabat/opt/anaconda3/lib/python3.8/site-packages/sklearn/linear_model/_ridge.py:190: UserWarning: Singular matrix in solving dual problem. Using least-squares solution instead.\n",
      "  warnings.warn(\"Singular matrix in solving dual problem. Using \"\n"
     ]
    },
    {
     "name": "stdout",
     "output_type": "stream",
     "text": [
      "MAE: -0.000\n",
      "Config: {'alpha': 0.0}\n",
      "Predicted: 0.004\n",
      "\n",
      "\n",
      "split= 10\n",
      "state= TENNESSEE\n"
     ]
    },
    {
     "name": "stderr",
     "output_type": "stream",
     "text": [
      "/Users/barbenshabat/opt/anaconda3/lib/python3.8/site-packages/sklearn/linear_model/_ridge.py:187: LinAlgWarning: Ill-conditioned matrix (rcond=2.52839e-17): result may not be accurate.\n",
      "  dual_coef = linalg.solve(K, y, sym_pos=True,\n"
     ]
    },
    {
     "name": "stdout",
     "output_type": "stream",
     "text": [
      "MAE: -0.003\n",
      "Config: {'alpha': 0.0}\n",
      "Predicted: 0.153\n",
      "\n",
      "\n",
      "split= 10\n",
      "state= TEXAS\n"
     ]
    },
    {
     "name": "stderr",
     "output_type": "stream",
     "text": [
      "/Users/barbenshabat/opt/anaconda3/lib/python3.8/site-packages/sklearn/linear_model/_ridge.py:190: UserWarning: Singular matrix in solving dual problem. Using least-squares solution instead.\n",
      "  warnings.warn(\"Singular matrix in solving dual problem. Using \"\n"
     ]
    },
    {
     "name": "stdout",
     "output_type": "stream",
     "text": [
      "MAE: -0.034\n",
      "Config: {'alpha': 0.0}\n",
      "Predicted: 0.462\n",
      "\n",
      "\n",
      "split= 10\n",
      "state= UTAH\n",
      "MAE: -0.004\n",
      "Config: {'alpha': 0.01}\n",
      "Predicted: 0.024\n",
      "\n",
      "\n",
      "split= 10\n",
      "state= VERMONT\n"
     ]
    },
    {
     "name": "stderr",
     "output_type": "stream",
     "text": [
      "/Users/barbenshabat/opt/anaconda3/lib/python3.8/site-packages/sklearn/linear_model/_ridge.py:187: LinAlgWarning: Ill-conditioned matrix (rcond=3.11085e-17): result may not be accurate.\n",
      "  dual_coef = linalg.solve(K, y, sym_pos=True,\n"
     ]
    },
    {
     "name": "stdout",
     "output_type": "stream",
     "text": [
      "MAE: -0.000\n",
      "Config: {'alpha': 0.0}\n",
      "Predicted: 0.001\n",
      "\n",
      "\n",
      "split= 10\n",
      "state= VIRGINIA\n",
      "MAE: -0.005\n",
      "Config: {'alpha': 0.05}\n",
      "Predicted: 0.050\n",
      "\n",
      "\n",
      "split= 10\n",
      "state= WASHINGTON\n",
      "MAE: -0.003\n",
      "Config: {'alpha': 0.1}\n",
      "Predicted: 0.101\n",
      "\n",
      "\n",
      "split= 9\n",
      "state= WEST VIRGINIA\n",
      "MAE: -0.002\n",
      "Config: {'alpha': 0.03}\n",
      "Predicted: 0.006\n",
      "\n",
      "\n",
      "split= 10\n",
      "state= WISCONSIN\n"
     ]
    },
    {
     "name": "stderr",
     "output_type": "stream",
     "text": [
      "/Users/barbenshabat/opt/anaconda3/lib/python3.8/site-packages/sklearn/linear_model/_ridge.py:187: LinAlgWarning: Ill-conditioned matrix (rcond=2.90576e-17): result may not be accurate.\n",
      "  dual_coef = linalg.solve(K, y, sym_pos=True,\n"
     ]
    },
    {
     "name": "stdout",
     "output_type": "stream",
     "text": [
      "MAE: -0.007\n",
      "Config: {'alpha': 0.0}\n",
      "Predicted: 0.063\n",
      "\n",
      "\n",
      "split= 10\n",
      "state= WYOMING\n",
      "MAE: -0.000\n",
      "Config: {'alpha': 0.99}\n",
      "Predicted: 0.001\n",
      "\n",
      "\n",
      "split= 9\n",
      "state= ILLINOIS\n",
      "MAE: -0.023\n",
      "Config: {'alpha': 0.01}\n",
      "Predicted: 0.272\n",
      "\n",
      "\n",
      "split= 9\n",
      "state= OREGON\n",
      "MAE: -0.006\n",
      "Config: {'alpha': 0.01}\n",
      "Predicted: 0.046\n",
      "\n",
      "\n",
      "split= 7\n",
      "state= MINNESOTA\n",
      "MAE: -0.006\n",
      "Config: {'alpha': 0.05}\n",
      "Predicted: 0.072\n",
      "\n",
      "\n",
      "---------crime--------------------------------- Aggravated assault\n",
      "split= 8\n",
      "state= ALABAMA\n"
     ]
    },
    {
     "name": "stderr",
     "output_type": "stream",
     "text": [
      "/Users/barbenshabat/opt/anaconda3/lib/python3.8/site-packages/sklearn/linear_model/_ridge.py:190: UserWarning: Singular matrix in solving dual problem. Using least-squares solution instead.\n",
      "  warnings.warn(\"Singular matrix in solving dual problem. Using \"\n"
     ]
    },
    {
     "name": "stdout",
     "output_type": "stream",
     "text": [
      "MAE: -0.011\n",
      "Config: {'alpha': 0.0}\n",
      "Predicted: 0.122\n",
      "\n",
      "\n",
      "split= 9\n",
      "state= ALASKA\n",
      "MAE: -0.004\n",
      "Config: {'alpha': 0.04}\n",
      "Predicted: 0.043\n",
      "\n",
      "\n",
      "split= 10\n",
      "state= ARIZONA\n"
     ]
    },
    {
     "name": "stderr",
     "output_type": "stream",
     "text": [
      "/Users/barbenshabat/opt/anaconda3/lib/python3.8/site-packages/sklearn/linear_model/_ridge.py:187: LinAlgWarning: Ill-conditioned matrix (rcond=2.14382e-17): result may not be accurate.\n",
      "  dual_coef = linalg.solve(K, y, sym_pos=True,\n"
     ]
    },
    {
     "name": "stdout",
     "output_type": "stream",
     "text": [
      "MAE: -0.014\n",
      "Config: {'alpha': 0.0}\n",
      "Predicted: 0.239\n",
      "\n",
      "\n",
      "split= 10\n",
      "state= ARKANSAS\n"
     ]
    },
    {
     "name": "stderr",
     "output_type": "stream",
     "text": [
      "/Users/barbenshabat/opt/anaconda3/lib/python3.8/site-packages/sklearn/linear_model/_ridge.py:190: UserWarning: Singular matrix in solving dual problem. Using least-squares solution instead.\n",
      "  warnings.warn(\"Singular matrix in solving dual problem. Using \"\n"
     ]
    },
    {
     "name": "stdout",
     "output_type": "stream",
     "text": [
      "MAE: -0.006\n",
      "Config: {'alpha': 0.0}\n",
      "Predicted: 0.113\n",
      "\n",
      "\n",
      "split= 10\n",
      "state= CALIFORNIA\n"
     ]
    },
    {
     "name": "stderr",
     "output_type": "stream",
     "text": [
      "/Users/barbenshabat/opt/anaconda3/lib/python3.8/site-packages/sklearn/linear_model/_ridge.py:187: LinAlgWarning: Ill-conditioned matrix (rcond=1.21329e-17): result may not be accurate.\n",
      "  dual_coef = linalg.solve(K, y, sym_pos=True,\n"
     ]
    },
    {
     "name": "stdout",
     "output_type": "stream",
     "text": [
      "MAE: -0.018\n",
      "Config: {'alpha': 0.0}\n",
      "Predicted: 0.954\n",
      "\n",
      "\n",
      "split= 10\n",
      "state= COLORADO\n",
      "MAE: -0.006\n",
      "Config: {'alpha': 0.01}\n",
      "Predicted: 0.140\n",
      "\n",
      "\n",
      "split= 10\n",
      "state= CONNECTICUT\n",
      "MAE: -0.005\n",
      "Config: {'alpha': 0.06}\n",
      "Predicted: 0.052\n",
      "\n",
      "\n",
      "split= 10\n",
      "state= DELAWARE\n",
      "MAE: -0.001\n",
      "Config: {'alpha': 0.79}\n",
      "Predicted: 0.016\n",
      "\n",
      "\n",
      "split= 10\n",
      "state= DISTRICT OF COLUMBIA\n",
      "MAE: -0.003\n",
      "Config: {'alpha': 0.05}\n",
      "Predicted: 0.049\n",
      "\n",
      "\n",
      "split= 10\n",
      "state= FLORIDA\n",
      "MAE: -0.023\n",
      "Config: {'alpha': 0.1}\n",
      "Predicted: 0.375\n",
      "\n",
      "\n",
      "split= 8\n",
      "state= GEORGIA\n"
     ]
    },
    {
     "name": "stderr",
     "output_type": "stream",
     "text": [
      "/Users/barbenshabat/opt/anaconda3/lib/python3.8/site-packages/sklearn/linear_model/_ridge.py:190: UserWarning: Singular matrix in solving dual problem. Using least-squares solution instead.\n",
      "  warnings.warn(\"Singular matrix in solving dual problem. Using \"\n"
     ]
    },
    {
     "name": "stdout",
     "output_type": "stream",
     "text": [
      "MAE: -0.011\n",
      "Config: {'alpha': 0.0}\n",
      "Predicted: 0.117\n",
      "\n",
      "\n",
      "split= 6\n",
      "state= HAWAII\n",
      "MAE: -0.004\n",
      "Config: {'alpha': 0.02}\n",
      "Predicted: 0.014\n",
      "\n",
      "\n",
      "split= 10\n",
      "state= IDAHO\n",
      "MAE: -0.001\n",
      "Config: {'alpha': 0.02}\n",
      "Predicted: 0.022\n",
      "\n",
      "\n",
      "split= 10\n",
      "state= INDIANA\n"
     ]
    },
    {
     "name": "stderr",
     "output_type": "stream",
     "text": [
      "/Users/barbenshabat/opt/anaconda3/lib/python3.8/site-packages/sklearn/linear_model/_ridge.py:187: LinAlgWarning: Ill-conditioned matrix (rcond=2.62992e-17): result may not be accurate.\n",
      "  dual_coef = linalg.solve(K, y, sym_pos=True,\n"
     ]
    },
    {
     "name": "stdout",
     "output_type": "stream",
     "text": [
      "MAE: -0.009\n",
      "Config: {'alpha': 0.0}\n",
      "Predicted: 0.068\n",
      "\n",
      "\n",
      "split= 9\n",
      "state= IOWA\n",
      "MAE: -0.005\n",
      "Config: {'alpha': 0.08}\n",
      "Predicted: 0.068\n",
      "\n",
      "\n",
      "split= 10\n",
      "state= KANSAS\n"
     ]
    },
    {
     "name": "stderr",
     "output_type": "stream",
     "text": [
      "/Users/barbenshabat/opt/anaconda3/lib/python3.8/site-packages/sklearn/linear_model/_ridge.py:190: UserWarning: Singular matrix in solving dual problem. Using least-squares solution instead.\n",
      "  warnings.warn(\"Singular matrix in solving dual problem. Using \"\n"
     ]
    },
    {
     "name": "stdout",
     "output_type": "stream",
     "text": [
      "MAE: -0.012\n",
      "Config: {'alpha': 0.0}\n",
      "Predicted: 0.061\n",
      "\n",
      "\n",
      "split= 10\n",
      "state= KENTUCKY\n"
     ]
    },
    {
     "name": "stderr",
     "output_type": "stream",
     "text": [
      "/Users/barbenshabat/opt/anaconda3/lib/python3.8/site-packages/sklearn/linear_model/_ridge.py:190: UserWarning: Singular matrix in solving dual problem. Using least-squares solution instead.\n",
      "  warnings.warn(\"Singular matrix in solving dual problem. Using \"\n"
     ]
    },
    {
     "name": "stdout",
     "output_type": "stream",
     "text": [
      "MAE: -0.004\n",
      "Config: {'alpha': 0.0}\n",
      "Predicted: 0.036\n",
      "\n",
      "\n",
      "split= 10\n",
      "state= LOUISIANA\n",
      "MAE: -0.010\n",
      "Config: {'alpha': 0.01}\n",
      "Predicted: 0.114\n",
      "\n",
      "\n",
      "split= 10\n",
      "state= MAINE\n",
      "MAE: -0.001\n",
      "Config: {'alpha': 0.01}\n",
      "Predicted: 0.006\n",
      "\n",
      "\n",
      "split= 10\n",
      "state= MARYLAND\n"
     ]
    },
    {
     "name": "stderr",
     "output_type": "stream",
     "text": [
      "/Users/barbenshabat/opt/anaconda3/lib/python3.8/site-packages/sklearn/linear_model/_ridge.py:187: LinAlgWarning: Ill-conditioned matrix (rcond=3.88732e-17): result may not be accurate.\n",
      "  dual_coef = linalg.solve(K, y, sym_pos=True,\n"
     ]
    },
    {
     "name": "stdout",
     "output_type": "stream",
     "text": [
      "MAE: -0.005\n",
      "Config: {'alpha': 0.0}\n",
      "Predicted: 0.098\n",
      "\n",
      "\n",
      "split= 10\n",
      "state= MASSACHUSETTS\n"
     ]
    },
    {
     "name": "stderr",
     "output_type": "stream",
     "text": [
      "/Users/barbenshabat/opt/anaconda3/lib/python3.8/site-packages/sklearn/linear_model/_ridge.py:190: UserWarning: Singular matrix in solving dual problem. Using least-squares solution instead.\n",
      "  warnings.warn(\"Singular matrix in solving dual problem. Using \"\n"
     ]
    },
    {
     "name": "stdout",
     "output_type": "stream",
     "text": [
      "MAE: -0.011\n",
      "Config: {'alpha': 0.0}\n",
      "Predicted: 0.179\n",
      "\n",
      "\n",
      "split= 10\n",
      "state= MICHIGAN\n"
     ]
    },
    {
     "name": "stderr",
     "output_type": "stream",
     "text": [
      "/Users/barbenshabat/opt/anaconda3/lib/python3.8/site-packages/sklearn/linear_model/_ridge.py:190: UserWarning: Singular matrix in solving dual problem. Using least-squares solution instead.\n",
      "  warnings.warn(\"Singular matrix in solving dual problem. Using \"\n"
     ]
    },
    {
     "name": "stdout",
     "output_type": "stream",
     "text": [
      "MAE: -0.017\n",
      "Config: {'alpha': 0.0}\n",
      "Predicted: 0.323\n",
      "\n",
      "\n",
      "split= 10\n",
      "state= MISSISSIPPI\n"
     ]
    },
    {
     "name": "stderr",
     "output_type": "stream",
     "text": [
      "/Users/barbenshabat/opt/anaconda3/lib/python3.8/site-packages/sklearn/linear_model/_ridge.py:187: LinAlgWarning: Ill-conditioned matrix (rcond=4.55998e-17): result may not be accurate.\n",
      "  dual_coef = linalg.solve(K, y, sym_pos=True,\n"
     ]
    },
    {
     "name": "stdout",
     "output_type": "stream",
     "text": [
      "MAE: -0.002\n",
      "Config: {'alpha': 0.0}\n",
      "Predicted: 0.011\n",
      "\n",
      "\n",
      "split= 10\n",
      "state= MISSOURI\n"
     ]
    },
    {
     "name": "stderr",
     "output_type": "stream",
     "text": [
      "/Users/barbenshabat/opt/anaconda3/lib/python3.8/site-packages/sklearn/linear_model/_ridge.py:187: LinAlgWarning: Ill-conditioned matrix (rcond=5.52184e-17): result may not be accurate.\n",
      "  dual_coef = linalg.solve(K, y, sym_pos=True,\n"
     ]
    },
    {
     "name": "stdout",
     "output_type": "stream",
     "text": [
      "MAE: -0.010\n",
      "Config: {'alpha': 0.0}\n",
      "Predicted: 0.221\n",
      "\n",
      "\n",
      "split= 9\n",
      "state= MONTANA\n",
      "MAE: -0.001\n",
      "Config: {'alpha': 0.03}\n",
      "Predicted: 0.013\n",
      "\n",
      "\n",
      "split= 10\n",
      "state= NEBRASKA\n",
      "MAE: -0.003\n",
      "Config: {'alpha': 0.05}\n",
      "Predicted: 0.032\n",
      "\n",
      "\n",
      "split= 10\n",
      "state= NEVADA\n",
      "MAE: -0.012\n",
      "Config: {'alpha': 0.99}\n",
      "Predicted: 0.126\n",
      "\n",
      "\n",
      "split= 10\n",
      "state= NEW HAMPSHIRE\n",
      "MAE: -0.001\n",
      "Config: {'alpha': 0.89}\n",
      "Predicted: 0.016\n",
      "\n",
      "\n",
      "split= 9\n",
      "state= NEW JERSEY\n"
     ]
    },
    {
     "name": "stderr",
     "output_type": "stream",
     "text": [
      "/Users/barbenshabat/opt/anaconda3/lib/python3.8/site-packages/sklearn/linear_model/_ridge.py:190: UserWarning: Singular matrix in solving dual problem. Using least-squares solution instead.\n",
      "  warnings.warn(\"Singular matrix in solving dual problem. Using \"\n"
     ]
    },
    {
     "name": "stdout",
     "output_type": "stream",
     "text": [
      "MAE: -0.004\n",
      "Config: {'alpha': 0.0}\n",
      "Predicted: 0.140\n",
      "\n",
      "\n",
      "split= 10\n",
      "state= NEW MEXICO\n"
     ]
    },
    {
     "name": "stderr",
     "output_type": "stream",
     "text": [
      "/Users/barbenshabat/opt/anaconda3/lib/python3.8/site-packages/sklearn/linear_model/_ridge.py:187: LinAlgWarning: Ill-conditioned matrix (rcond=1.68195e-17): result may not be accurate.\n",
      "  dual_coef = linalg.solve(K, y, sym_pos=True,\n"
     ]
    },
    {
     "name": "stdout",
     "output_type": "stream",
     "text": [
      "MAE: -0.012\n",
      "Config: {'alpha': 0.0}\n",
      "Predicted: 0.048\n",
      "\n",
      "\n",
      "split= 9\n",
      "state= NEW YORK\n"
     ]
    },
    {
     "name": "stderr",
     "output_type": "stream",
     "text": [
      "/Users/barbenshabat/opt/anaconda3/lib/python3.8/site-packages/sklearn/linear_model/_ridge.py:190: UserWarning: Singular matrix in solving dual problem. Using least-squares solution instead.\n",
      "  warnings.warn(\"Singular matrix in solving dual problem. Using \"\n"
     ]
    },
    {
     "name": "stdout",
     "output_type": "stream",
     "text": [
      "MAE: -0.007\n",
      "Config: {'alpha': 0.0}\n",
      "Predicted: 0.527\n",
      "\n",
      "\n",
      "split= 7\n",
      "state= NORTH CAROLINA\n",
      "MAE: -0.013\n",
      "Config: {'alpha': 0.99}\n",
      "Predicted: 0.179\n",
      "\n",
      "\n",
      "split= 10\n",
      "state= NORTH DAKOTA\n",
      "MAE: -0.001\n",
      "Config: {'alpha': 0.03}\n",
      "Predicted: 0.011\n",
      "\n",
      "\n",
      "split= 10\n",
      "state= OHIO\n"
     ]
    },
    {
     "name": "stderr",
     "output_type": "stream",
     "text": [
      "/Users/barbenshabat/opt/anaconda3/lib/python3.8/site-packages/sklearn/linear_model/_ridge.py:187: LinAlgWarning: Ill-conditioned matrix (rcond=4.48624e-18): result may not be accurate.\n",
      "  dual_coef = linalg.solve(K, y, sym_pos=True,\n"
     ]
    },
    {
     "name": "stdout",
     "output_type": "stream",
     "text": [
      "MAE: -0.012\n",
      "Config: {'alpha': 0.0}\n",
      "Predicted: 0.147\n",
      "\n",
      "\n",
      "split= 10\n",
      "state= OKLAHOMA\n",
      "MAE: -0.005\n",
      "Config: {'alpha': 0.01}\n",
      "Predicted: 0.148\n",
      "\n",
      "\n",
      "split= 10\n",
      "state= PENNSYLVANIA\n"
     ]
    },
    {
     "name": "stderr",
     "output_type": "stream",
     "text": [
      "/Users/barbenshabat/opt/anaconda3/lib/python3.8/site-packages/sklearn/linear_model/_ridge.py:190: UserWarning: Singular matrix in solving dual problem. Using least-squares solution instead.\n",
      "  warnings.warn(\"Singular matrix in solving dual problem. Using \"\n"
     ]
    },
    {
     "name": "stdout",
     "output_type": "stream",
     "text": [
      "MAE: -0.008\n",
      "Config: {'alpha': 0.0}\n",
      "Predicted: 0.196\n",
      "\n",
      "\n",
      "split= 10\n",
      "state= RHODE ISLAND\n",
      "MAE: -0.002\n",
      "Config: {'alpha': 0.01}\n",
      "Predicted: 0.017\n",
      "\n",
      "\n",
      "split= 10\n",
      "state= SOUTH CAROLINA\n",
      "MAE: -0.008\n",
      "Config: {'alpha': 0.99}\n",
      "Predicted: 0.081\n",
      "\n",
      "\n",
      "split= 10\n",
      "state= SOUTH DAKOTA\n",
      "MAE: -0.002\n",
      "Config: {'alpha': 0.06}\n",
      "Predicted: 0.016\n",
      "\n",
      "\n",
      "split= 10\n",
      "state= TENNESSEE\n",
      "MAE: -0.006\n",
      "Config: {'alpha': 0.09}\n",
      "Predicted: 0.336\n",
      "\n",
      "\n",
      "split= 10\n",
      "state= TEXAS\n"
     ]
    },
    {
     "name": "stderr",
     "output_type": "stream",
     "text": [
      "/Users/barbenshabat/opt/anaconda3/lib/python3.8/site-packages/sklearn/linear_model/_ridge.py:190: UserWarning: Singular matrix in solving dual problem. Using least-squares solution instead.\n",
      "  warnings.warn(\"Singular matrix in solving dual problem. Using \"\n"
     ]
    },
    {
     "name": "stdout",
     "output_type": "stream",
     "text": [
      "MAE: -0.034\n",
      "Config: {'alpha': 0.0}\n",
      "Predicted: 0.735\n",
      "\n",
      "\n",
      "split= 10\n",
      "state= UTAH\n"
     ]
    },
    {
     "name": "stderr",
     "output_type": "stream",
     "text": [
      "/Users/barbenshabat/opt/anaconda3/lib/python3.8/site-packages/sklearn/linear_model/_ridge.py:190: UserWarning: Singular matrix in solving dual problem. Using least-squares solution instead.\n",
      "  warnings.warn(\"Singular matrix in solving dual problem. Using \"\n"
     ]
    },
    {
     "name": "stdout",
     "output_type": "stream",
     "text": [
      "MAE: -0.005\n",
      "Config: {'alpha': 0.0}\n",
      "Predicted: 0.045\n",
      "\n",
      "\n",
      "split= 10\n",
      "state= VERMONT\n",
      "MAE: -0.001\n",
      "Config: {'alpha': 0.99}\n",
      "Predicted: 0.002\n",
      "\n",
      "\n",
      "split= 10\n",
      "state= VIRGINIA\n",
      "MAE: -0.003\n",
      "Config: {'alpha': 0.99}\n",
      "Predicted: 0.070\n",
      "\n",
      "\n",
      "split= 10\n",
      "state= WASHINGTON\n"
     ]
    },
    {
     "name": "stderr",
     "output_type": "stream",
     "text": [
      "/Users/barbenshabat/opt/anaconda3/lib/python3.8/site-packages/sklearn/linear_model/_ridge.py:187: LinAlgWarning: Ill-conditioned matrix (rcond=6.12613e-18): result may not be accurate.\n",
      "  dual_coef = linalg.solve(K, y, sym_pos=True,\n"
     ]
    },
    {
     "name": "stdout",
     "output_type": "stream",
     "text": [
      "MAE: -0.004\n",
      "Config: {'alpha': 0.0}\n",
      "Predicted: 0.140\n",
      "\n",
      "\n",
      "split= 9\n",
      "state= WEST VIRGINIA\n",
      "MAE: -0.004\n",
      "Config: {'alpha': 0.03}\n",
      "Predicted: 0.016\n",
      "\n",
      "\n",
      "split= 10\n",
      "state= WISCONSIN\n",
      "MAE: -0.007\n",
      "Config: {'alpha': 0.03}\n",
      "Predicted: 0.136\n",
      "\n",
      "\n",
      "split= 10\n",
      "state= WYOMING\n",
      "MAE: -0.001\n",
      "Config: {'alpha': 0.04}\n",
      "Predicted: 0.005\n",
      "\n",
      "\n",
      "split= 9\n",
      "state= ILLINOIS\n"
     ]
    },
    {
     "name": "stderr",
     "output_type": "stream",
     "text": [
      "/Users/barbenshabat/opt/anaconda3/lib/python3.8/site-packages/sklearn/linear_model/_ridge.py:187: LinAlgWarning: Ill-conditioned matrix (rcond=3.22846e-17): result may not be accurate.\n",
      "  dual_coef = linalg.solve(K, y, sym_pos=True,\n"
     ]
    },
    {
     "name": "stdout",
     "output_type": "stream",
     "text": [
      "MAE: -0.015\n",
      "Config: {'alpha': 0.0}\n",
      "Predicted: 0.327\n",
      "\n",
      "\n",
      "split= 9\n",
      "state= OREGON\n",
      "MAE: -0.007\n",
      "Config: {'alpha': 0.01}\n",
      "Predicted: 0.065\n",
      "\n",
      "\n",
      "split= 7\n",
      "state= MINNESOTA\n",
      "MAE: -0.003\n",
      "Config: {'alpha': 0.02}\n",
      "Predicted: 0.081\n",
      "\n",
      "\n",
      "---------crime--------------------------------- Property crime\n",
      "split= 8\n",
      "state= ALABAMA\n"
     ]
    },
    {
     "name": "stderr",
     "output_type": "stream",
     "text": [
      "/Users/barbenshabat/opt/anaconda3/lib/python3.8/site-packages/sklearn/linear_model/_ridge.py:190: UserWarning: Singular matrix in solving dual problem. Using least-squares solution instead.\n",
      "  warnings.warn(\"Singular matrix in solving dual problem. Using \"\n"
     ]
    },
    {
     "name": "stdout",
     "output_type": "stream",
     "text": [
      "MAE: -0.006\n",
      "Config: {'alpha': 0.0}\n",
      "Predicted: 0.094\n",
      "\n",
      "\n",
      "split= 9\n",
      "state= ALASKA\n",
      "MAE: -0.002\n",
      "Config: {'alpha': 0.02}\n",
      "Predicted: 0.027\n",
      "\n",
      "\n",
      "split= 10\n",
      "state= ARIZONA\n",
      "MAE: -0.018\n",
      "Config: {'alpha': 0.99}\n",
      "Predicted: 0.210\n",
      "\n",
      "\n",
      "split= 10\n",
      "state= ARKANSAS\n"
     ]
    },
    {
     "name": "stderr",
     "output_type": "stream",
     "text": [
      "/Users/barbenshabat/opt/anaconda3/lib/python3.8/site-packages/sklearn/linear_model/_ridge.py:190: UserWarning: Singular matrix in solving dual problem. Using least-squares solution instead.\n",
      "  warnings.warn(\"Singular matrix in solving dual problem. Using \"\n"
     ]
    },
    {
     "name": "stdout",
     "output_type": "stream",
     "text": [
      "MAE: -0.003\n",
      "Config: {'alpha': 0.0}\n",
      "Predicted: 0.077\n",
      "\n",
      "\n",
      "split= 10\n",
      "state= CALIFORNIA\n"
     ]
    },
    {
     "name": "stderr",
     "output_type": "stream",
     "text": [
      "/Users/barbenshabat/opt/anaconda3/lib/python3.8/site-packages/sklearn/linear_model/_ridge.py:187: LinAlgWarning: Ill-conditioned matrix (rcond=9.66794e-19): result may not be accurate.\n",
      "  dual_coef = linalg.solve(K, y, sym_pos=True,\n"
     ]
    },
    {
     "name": "stdout",
     "output_type": "stream",
     "text": [
      "MAE: -0.025\n",
      "Config: {'alpha': 0.0}\n",
      "Predicted: 0.806\n",
      "\n",
      "\n",
      "split= 10\n",
      "state= COLORADO\n",
      "MAE: -0.005\n",
      "Config: {'alpha': 0.13}\n",
      "Predicted: 0.148\n",
      "\n",
      "\n",
      "split= 10\n",
      "state= CONNECTICUT\n",
      "MAE: -0.003\n",
      "Config: {'alpha': 0.12}\n",
      "Predicted: 0.071\n",
      "\n",
      "\n",
      "split= 10\n",
      "state= DELAWARE\n",
      "MAE: -0.001\n",
      "Config: {'alpha': 0.02}\n",
      "Predicted: 0.010\n",
      "\n",
      "\n",
      "split= 10\n",
      "state= DISTRICT OF COLUMBIA\n",
      "MAE: -0.002\n",
      "Config: {'alpha': 0.19}\n",
      "Predicted: 0.037\n",
      "\n",
      "\n",
      "split= 10\n",
      "state= FLORIDA\n",
      "MAE: -0.018\n",
      "Config: {'alpha': 0.1}\n",
      "Predicted: 0.361\n",
      "\n",
      "\n",
      "split= 8\n",
      "state= GEORGIA\n"
     ]
    },
    {
     "name": "stderr",
     "output_type": "stream",
     "text": [
      "/Users/barbenshabat/opt/anaconda3/lib/python3.8/site-packages/sklearn/linear_model/_ridge.py:190: UserWarning: Singular matrix in solving dual problem. Using least-squares solution instead.\n",
      "  warnings.warn(\"Singular matrix in solving dual problem. Using \"\n"
     ]
    },
    {
     "name": "stdout",
     "output_type": "stream",
     "text": [
      "MAE: -0.011\n",
      "Config: {'alpha': 0.0}\n",
      "Predicted: 0.134\n",
      "\n",
      "\n",
      "split= 6\n",
      "state= HAWAII\n",
      "MAE: -0.001\n",
      "Config: {'alpha': 0.01}\n",
      "Predicted: 0.033\n",
      "\n",
      "\n",
      "split= 10\n",
      "state= IDAHO\n",
      "MAE: -0.002\n",
      "Config: {'alpha': 0.12}\n",
      "Predicted: 0.026\n",
      "\n",
      "\n",
      "split= 10\n",
      "state= INDIANA\n"
     ]
    },
    {
     "name": "stderr",
     "output_type": "stream",
     "text": [
      "/Users/barbenshabat/opt/anaconda3/lib/python3.8/site-packages/sklearn/linear_model/_ridge.py:187: LinAlgWarning: Ill-conditioned matrix (rcond=7.26255e-18): result may not be accurate.\n",
      "  dual_coef = linalg.solve(K, y, sym_pos=True,\n"
     ]
    },
    {
     "name": "stdout",
     "output_type": "stream",
     "text": [
      "MAE: -0.010\n",
      "Config: {'alpha': 0.0}\n",
      "Predicted: 0.043\n",
      "\n",
      "\n",
      "split= 9\n",
      "state= IOWA\n",
      "MAE: -0.004\n",
      "Config: {'alpha': 0.99}\n",
      "Predicted: 0.067\n",
      "\n",
      "\n",
      "split= 10\n",
      "state= KANSAS\n"
     ]
    },
    {
     "name": "stderr",
     "output_type": "stream",
     "text": [
      "/Users/barbenshabat/opt/anaconda3/lib/python3.8/site-packages/sklearn/linear_model/_ridge.py:190: UserWarning: Singular matrix in solving dual problem. Using least-squares solution instead.\n",
      "  warnings.warn(\"Singular matrix in solving dual problem. Using \"\n"
     ]
    },
    {
     "name": "stdout",
     "output_type": "stream",
     "text": [
      "MAE: -0.009\n",
      "Config: {'alpha': 0.0}\n",
      "Predicted: 0.059\n",
      "\n",
      "\n",
      "split= 10\n",
      "state= KENTUCKY\n"
     ]
    },
    {
     "name": "stderr",
     "output_type": "stream",
     "text": [
      "/Users/barbenshabat/opt/anaconda3/lib/python3.8/site-packages/sklearn/linear_model/_ridge.py:190: UserWarning: Singular matrix in solving dual problem. Using least-squares solution instead.\n",
      "  warnings.warn(\"Singular matrix in solving dual problem. Using \"\n"
     ]
    },
    {
     "name": "stdout",
     "output_type": "stream",
     "text": [
      "MAE: -0.007\n",
      "Config: {'alpha': 0.0}\n",
      "Predicted: 0.076\n",
      "\n",
      "\n",
      "split= 10\n",
      "state= LOUISIANA\n"
     ]
    },
    {
     "name": "stderr",
     "output_type": "stream",
     "text": [
      "/Users/barbenshabat/opt/anaconda3/lib/python3.8/site-packages/sklearn/linear_model/_ridge.py:187: LinAlgWarning: Ill-conditioned matrix (rcond=3.24375e-17): result may not be accurate.\n",
      "  dual_coef = linalg.solve(K, y, sym_pos=True,\n"
     ]
    },
    {
     "name": "stdout",
     "output_type": "stream",
     "text": [
      "MAE: -0.008\n",
      "Config: {'alpha': 0.0}\n",
      "Predicted: 0.093\n",
      "\n",
      "\n",
      "split= 10\n",
      "state= MAINE\n",
      "MAE: -0.004\n",
      "Config: {'alpha': 0.08}\n",
      "Predicted: 0.016\n",
      "\n",
      "\n",
      "split= 10\n",
      "state= MARYLAND\n",
      "MAE: -0.002\n",
      "Config: {'alpha': 0.66}\n",
      "Predicted: 0.059\n",
      "\n",
      "\n",
      "split= 10\n",
      "state= MASSACHUSETTS\n"
     ]
    },
    {
     "name": "stderr",
     "output_type": "stream",
     "text": [
      "/Users/barbenshabat/opt/anaconda3/lib/python3.8/site-packages/sklearn/linear_model/_ridge.py:190: UserWarning: Singular matrix in solving dual problem. Using least-squares solution instead.\n",
      "  warnings.warn(\"Singular matrix in solving dual problem. Using \"\n"
     ]
    },
    {
     "name": "stdout",
     "output_type": "stream",
     "text": [
      "MAE: -0.006\n",
      "Config: {'alpha': 0.0}\n",
      "Predicted: 0.086\n",
      "\n",
      "\n",
      "split= 10\n",
      "state= MICHIGAN\n"
     ]
    },
    {
     "name": "stderr",
     "output_type": "stream",
     "text": [
      "/Users/barbenshabat/opt/anaconda3/lib/python3.8/site-packages/sklearn/linear_model/_ridge.py:190: UserWarning: Singular matrix in solving dual problem. Using least-squares solution instead.\n",
      "  warnings.warn(\"Singular matrix in solving dual problem. Using \"\n"
     ]
    },
    {
     "name": "stdout",
     "output_type": "stream",
     "text": [
      "MAE: -0.009\n",
      "Config: {'alpha': 0.0}\n",
      "Predicted: 0.146\n",
      "\n",
      "\n",
      "split= 10\n",
      "state= MISSISSIPPI\n"
     ]
    },
    {
     "name": "stderr",
     "output_type": "stream",
     "text": [
      "/Users/barbenshabat/opt/anaconda3/lib/python3.8/site-packages/sklearn/linear_model/_ridge.py:187: LinAlgWarning: Ill-conditioned matrix (rcond=4.36233e-17): result may not be accurate.\n",
      "  dual_coef = linalg.solve(K, y, sym_pos=True,\n"
     ]
    },
    {
     "name": "stdout",
     "output_type": "stream",
     "text": [
      "MAE: -0.004\n",
      "Config: {'alpha': 0.0}\n",
      "Predicted: 0.028\n",
      "\n",
      "\n",
      "split= 10\n",
      "state= MISSOURI\n",
      "MAE: -0.008\n",
      "Config: {'alpha': 0.04}\n",
      "Predicted: 0.163\n",
      "\n",
      "\n",
      "split= 9\n",
      "state= MONTANA\n",
      "MAE: -0.002\n",
      "Config: {'alpha': 0.03}\n",
      "Predicted: 0.019\n",
      "\n",
      "\n",
      "split= 10\n",
      "state= NEBRASKA\n",
      "MAE: -0.006\n",
      "Config: {'alpha': 0.03}\n",
      "Predicted: 0.037\n",
      "\n",
      "\n",
      "split= 10\n",
      "state= NEVADA\n",
      "MAE: -0.006\n",
      "Config: {'alpha': 0.07}\n",
      "Predicted: 0.086\n",
      "\n",
      "\n",
      "split= 10\n",
      "state= NEW HAMPSHIRE\n",
      "MAE: -0.002\n",
      "Config: {'alpha': 0.01}\n",
      "Predicted: 0.023\n",
      "\n",
      "\n",
      "split= 9\n",
      "state= NEW JERSEY\n",
      "MAE: -0.009\n",
      "Config: {'alpha': 0.01}\n",
      "Predicted: 0.158\n",
      "\n",
      "\n",
      "split= 10\n",
      "state= NEW MEXICO\n"
     ]
    },
    {
     "name": "stderr",
     "output_type": "stream",
     "text": [
      "/Users/barbenshabat/opt/anaconda3/lib/python3.8/site-packages/sklearn/linear_model/_ridge.py:187: LinAlgWarning: Ill-conditioned matrix (rcond=2.38717e-17): result may not be accurate.\n",
      "  dual_coef = linalg.solve(K, y, sym_pos=True,\n"
     ]
    },
    {
     "name": "stdout",
     "output_type": "stream",
     "text": [
      "MAE: -0.012\n",
      "Config: {'alpha': 0.0}\n",
      "Predicted: 0.050\n",
      "\n",
      "\n",
      "split= 9\n",
      "state= NEW YORK\n"
     ]
    },
    {
     "name": "stderr",
     "output_type": "stream",
     "text": [
      "/Users/barbenshabat/opt/anaconda3/lib/python3.8/site-packages/sklearn/linear_model/_ridge.py:190: UserWarning: Singular matrix in solving dual problem. Using least-squares solution instead.\n",
      "  warnings.warn(\"Singular matrix in solving dual problem. Using \"\n"
     ]
    },
    {
     "name": "stdout",
     "output_type": "stream",
     "text": [
      "MAE: -0.004\n",
      "Config: {'alpha': 0.0}\n",
      "Predicted: 0.283\n",
      "\n",
      "\n",
      "split= 7\n",
      "state= NORTH CAROLINA\n"
     ]
    },
    {
     "name": "stderr",
     "output_type": "stream",
     "text": [
      "/Users/barbenshabat/opt/anaconda3/lib/python3.8/site-packages/sklearn/linear_model/_ridge.py:190: UserWarning: Singular matrix in solving dual problem. Using least-squares solution instead.\n",
      "  warnings.warn(\"Singular matrix in solving dual problem. Using \"\n"
     ]
    },
    {
     "name": "stdout",
     "output_type": "stream",
     "text": [
      "MAE: -0.018\n",
      "Config: {'alpha': 0.0}\n",
      "Predicted: 0.155\n",
      "\n",
      "\n",
      "split= 10\n",
      "state= NORTH DAKOTA\n",
      "MAE: -0.001\n",
      "Config: {'alpha': 0.03}\n",
      "Predicted: 0.014\n",
      "\n",
      "\n",
      "split= 10\n",
      "state= OHIO\n"
     ]
    },
    {
     "name": "stderr",
     "output_type": "stream",
     "text": [
      "/Users/barbenshabat/opt/anaconda3/lib/python3.8/site-packages/sklearn/linear_model/_ridge.py:190: UserWarning: Singular matrix in solving dual problem. Using least-squares solution instead.\n",
      "  warnings.warn(\"Singular matrix in solving dual problem. Using \"\n"
     ]
    },
    {
     "name": "stdout",
     "output_type": "stream",
     "text": [
      "MAE: -0.013\n",
      "Config: {'alpha': 0.0}\n",
      "Predicted: 0.115\n",
      "\n",
      "\n",
      "split= 10\n",
      "state= OKLAHOMA\n",
      "MAE: -0.005\n",
      "Config: {'alpha': 0.03}\n",
      "Predicted: 0.119\n",
      "\n",
      "\n",
      "split= 10\n",
      "state= PENNSYLVANIA\n",
      "MAE: -0.007\n",
      "Config: {'alpha': 0.01}\n",
      "Predicted: 0.163\n",
      "\n",
      "\n",
      "split= 10\n",
      "state= RHODE ISLAND\n",
      "MAE: -0.004\n",
      "Config: {'alpha': 0.04}\n",
      "Predicted: 0.022\n",
      "\n",
      "\n",
      "split= 10\n",
      "state= SOUTH CAROLINA\n"
     ]
    },
    {
     "name": "stderr",
     "output_type": "stream",
     "text": [
      "/Users/barbenshabat/opt/anaconda3/lib/python3.8/site-packages/sklearn/linear_model/_ridge.py:187: LinAlgWarning: Ill-conditioned matrix (rcond=4.73382e-17): result may not be accurate.\n",
      "  dual_coef = linalg.solve(K, y, sym_pos=True,\n"
     ]
    },
    {
     "name": "stdout",
     "output_type": "stream",
     "text": [
      "MAE: -0.005\n",
      "Config: {'alpha': 0.0}\n",
      "Predicted: 0.073\n",
      "\n",
      "\n",
      "split= 10\n",
      "state= SOUTH DAKOTA\n",
      "MAE: -0.001\n",
      "Config: {'alpha': 0.99}\n",
      "Predicted: 0.014\n",
      "\n",
      "\n",
      "split= 10\n",
      "state= TENNESSEE\n"
     ]
    },
    {
     "name": "stderr",
     "output_type": "stream",
     "text": [
      "/Users/barbenshabat/opt/anaconda3/lib/python3.8/site-packages/sklearn/linear_model/_ridge.py:187: LinAlgWarning: Ill-conditioned matrix (rcond=1.44539e-17): result may not be accurate.\n",
      "  dual_coef = linalg.solve(K, y, sym_pos=True,\n"
     ]
    },
    {
     "name": "stdout",
     "output_type": "stream",
     "text": [
      "MAE: -0.006\n",
      "Config: {'alpha': 0.0}\n",
      "Predicted: 0.199\n",
      "\n",
      "\n",
      "split= 10\n",
      "state= TEXAS\n"
     ]
    },
    {
     "name": "stderr",
     "output_type": "stream",
     "text": [
      "/Users/barbenshabat/opt/anaconda3/lib/python3.8/site-packages/sklearn/linear_model/_ridge.py:190: UserWarning: Singular matrix in solving dual problem. Using least-squares solution instead.\n",
      "  warnings.warn(\"Singular matrix in solving dual problem. Using \"\n"
     ]
    },
    {
     "name": "stdout",
     "output_type": "stream",
     "text": [
      "MAE: -0.011\n",
      "Config: {'alpha': 0.0}\n",
      "Predicted: 0.634\n",
      "\n",
      "\n",
      "split= 10\n",
      "state= UTAH\n"
     ]
    },
    {
     "name": "stderr",
     "output_type": "stream",
     "text": [
      "/Users/barbenshabat/opt/anaconda3/lib/python3.8/site-packages/sklearn/linear_model/_ridge.py:190: UserWarning: Singular matrix in solving dual problem. Using least-squares solution instead.\n",
      "  warnings.warn(\"Singular matrix in solving dual problem. Using \"\n"
     ]
    },
    {
     "name": "stdout",
     "output_type": "stream",
     "text": [
      "MAE: -0.012\n",
      "Config: {'alpha': 0.0}\n",
      "Predicted: 0.067\n",
      "\n",
      "\n",
      "split= 10\n",
      "state= VERMONT\n",
      "MAE: -0.001\n",
      "Config: {'alpha': 0.33}\n",
      "Predicted: 0.006\n",
      "\n",
      "\n",
      "split= 10\n",
      "state= VIRGINIA\n",
      "MAE: -0.003\n",
      "Config: {'alpha': 0.03}\n",
      "Predicted: 0.088\n",
      "\n",
      "\n",
      "split= 10\n",
      "state= WASHINGTON\n"
     ]
    },
    {
     "name": "stderr",
     "output_type": "stream",
     "text": [
      "/Users/barbenshabat/opt/anaconda3/lib/python3.8/site-packages/sklearn/linear_model/_ridge.py:187: LinAlgWarning: Ill-conditioned matrix (rcond=7.7123e-18): result may not be accurate.\n",
      "  dual_coef = linalg.solve(K, y, sym_pos=True,\n"
     ]
    },
    {
     "name": "stdout",
     "output_type": "stream",
     "text": [
      "MAE: -0.009\n",
      "Config: {'alpha': 0.0}\n",
      "Predicted: 0.213\n",
      "\n",
      "\n",
      "split= 9\n",
      "state= WEST VIRGINIA\n",
      "MAE: -0.003\n",
      "Config: {'alpha': 0.06}\n",
      "Predicted: 0.013\n",
      "\n",
      "\n",
      "split= 10\n",
      "state= WISCONSIN\n",
      "MAE: -0.008\n",
      "Config: {'alpha': 0.06}\n",
      "Predicted: 0.107\n",
      "\n",
      "\n",
      "split= 10\n",
      "state= WYOMING\n"
     ]
    },
    {
     "name": "stderr",
     "output_type": "stream",
     "text": [
      "/Users/barbenshabat/opt/anaconda3/lib/python3.8/site-packages/sklearn/linear_model/_ridge.py:190: UserWarning: Singular matrix in solving dual problem. Using least-squares solution instead.\n",
      "  warnings.warn(\"Singular matrix in solving dual problem. Using \"\n"
     ]
    },
    {
     "name": "stdout",
     "output_type": "stream",
     "text": [
      "MAE: -0.001\n",
      "Config: {'alpha': 0.0}\n",
      "Predicted: 0.012\n",
      "\n",
      "\n",
      "split= 9\n",
      "state= ILLINOIS\n"
     ]
    },
    {
     "name": "stderr",
     "output_type": "stream",
     "text": [
      "/Users/barbenshabat/opt/anaconda3/lib/python3.8/site-packages/sklearn/linear_model/_ridge.py:187: LinAlgWarning: Ill-conditioned matrix (rcond=1.54612e-17): result may not be accurate.\n",
      "  dual_coef = linalg.solve(K, y, sym_pos=True,\n"
     ]
    },
    {
     "name": "stdout",
     "output_type": "stream",
     "text": [
      "MAE: -0.025\n",
      "Config: {'alpha': 0.0}\n",
      "Predicted: 0.217\n",
      "\n",
      "\n",
      "split= 9\n",
      "state= OREGON\n"
     ]
    },
    {
     "name": "stderr",
     "output_type": "stream",
     "text": [
      "/Users/barbenshabat/opt/anaconda3/lib/python3.8/site-packages/sklearn/linear_model/_ridge.py:187: LinAlgWarning: Ill-conditioned matrix (rcond=4.29862e-17): result may not be accurate.\n",
      "  dual_coef = linalg.solve(K, y, sym_pos=True,\n"
     ]
    },
    {
     "name": "stdout",
     "output_type": "stream",
     "text": [
      "MAE: -0.011\n",
      "Config: {'alpha': 0.0}\n",
      "Predicted: 0.119\n",
      "\n",
      "\n",
      "split= 7\n",
      "state= MINNESOTA\n",
      "MAE: -0.006\n",
      "Config: {'alpha': 0.99}\n",
      "Predicted: 0.129\n",
      "\n",
      "\n",
      "---------crime--------------------------------- Burglary\n",
      "split= 8\n",
      "state= ALABAMA\n",
      "MAE: -0.013\n",
      "Config: {'alpha': 0.01}\n",
      "Predicted: 0.086\n",
      "\n",
      "\n",
      "split= 9\n",
      "state= ALASKA\n",
      "MAE: -0.002\n",
      "Config: {'alpha': 0.03}\n",
      "Predicted: 0.015\n",
      "\n",
      "\n",
      "split= 10\n",
      "state= ARIZONA\n"
     ]
    },
    {
     "name": "stderr",
     "output_type": "stream",
     "text": [
      "/Users/barbenshabat/opt/anaconda3/lib/python3.8/site-packages/sklearn/linear_model/_ridge.py:187: LinAlgWarning: Ill-conditioned matrix (rcond=1.07646e-17): result may not be accurate.\n",
      "  dual_coef = linalg.solve(K, y, sym_pos=True,\n"
     ]
    },
    {
     "name": "stdout",
     "output_type": "stream",
     "text": [
      "MAE: -0.014\n",
      "Config: {'alpha': 0.0}\n",
      "Predicted: 0.090\n",
      "\n",
      "\n",
      "split= 10\n",
      "state= ARKANSAS\n"
     ]
    },
    {
     "name": "stderr",
     "output_type": "stream",
     "text": [
      "/Users/barbenshabat/opt/anaconda3/lib/python3.8/site-packages/sklearn/linear_model/_ridge.py:190: UserWarning: Singular matrix in solving dual problem. Using least-squares solution instead.\n",
      "  warnings.warn(\"Singular matrix in solving dual problem. Using \"\n"
     ]
    },
    {
     "name": "stdout",
     "output_type": "stream",
     "text": [
      "MAE: -0.006\n",
      "Config: {'alpha': 0.0}\n",
      "Predicted: 0.068\n",
      "\n",
      "\n",
      "split= 10\n",
      "state= CALIFORNIA\n"
     ]
    },
    {
     "name": "stderr",
     "output_type": "stream",
     "text": [
      "/Users/barbenshabat/opt/anaconda3/lib/python3.8/site-packages/sklearn/linear_model/_ridge.py:187: LinAlgWarning: Ill-conditioned matrix (rcond=2.7324e-17): result may not be accurate.\n",
      "  dual_coef = linalg.solve(K, y, sym_pos=True,\n"
     ]
    },
    {
     "name": "stdout",
     "output_type": "stream",
     "text": [
      "MAE: -0.014\n",
      "Config: {'alpha': 0.0}\n",
      "Predicted: 0.558\n",
      "\n",
      "\n",
      "split= 10\n",
      "state= COLORADO\n",
      "MAE: -0.004\n",
      "Config: {'alpha': 0.03}\n",
      "Predicted: 0.093\n",
      "\n",
      "\n",
      "split= 10\n",
      "state= CONNECTICUT\n",
      "MAE: -0.004\n",
      "Config: {'alpha': 0.1}\n",
      "Predicted: 0.039\n",
      "\n",
      "\n",
      "split= 10\n",
      "state= DELAWARE\n",
      "MAE: -0.001\n",
      "Config: {'alpha': 0.02}\n",
      "Predicted: 0.002\n",
      "\n",
      "\n",
      "split= 10\n",
      "state= DISTRICT OF COLUMBIA\n",
      "MAE: -0.002\n",
      "Config: {'alpha': 0.04}\n",
      "Predicted: 0.007\n",
      "\n",
      "\n",
      "split= 10\n",
      "state= FLORIDA\n",
      "MAE: -0.023\n",
      "Config: {'alpha': 0.03}\n",
      "Predicted: 0.200\n",
      "\n",
      "\n",
      "split= 8\n",
      "state= GEORGIA\n"
     ]
    },
    {
     "name": "stderr",
     "output_type": "stream",
     "text": [
      "/Users/barbenshabat/opt/anaconda3/lib/python3.8/site-packages/sklearn/linear_model/_ridge.py:190: UserWarning: Singular matrix in solving dual problem. Using least-squares solution instead.\n",
      "  warnings.warn(\"Singular matrix in solving dual problem. Using \"\n"
     ]
    },
    {
     "name": "stdout",
     "output_type": "stream",
     "text": [
      "MAE: -0.012\n",
      "Config: {'alpha': 0.0}\n",
      "Predicted: 0.086\n",
      "\n",
      "\n",
      "split= 6\n",
      "state= HAWAII\n",
      "MAE: -0.004\n",
      "Config: {'alpha': 0.03}\n",
      "Predicted: 0.016\n",
      "\n",
      "\n",
      "split= 10\n",
      "state= IDAHO\n",
      "MAE: -0.002\n",
      "Config: {'alpha': 0.07}\n",
      "Predicted: 0.019\n",
      "\n",
      "\n",
      "split= 10\n",
      "state= INDIANA\n",
      "MAE: -0.018\n",
      "Config: {'alpha': 0.01}\n",
      "Predicted: 0.020\n",
      "\n",
      "\n",
      "split= 9\n",
      "state= IOWA\n",
      "MAE: -0.005\n",
      "Config: {'alpha': 0.99}\n",
      "Predicted: 0.063\n",
      "\n",
      "\n",
      "split= 10\n",
      "state= KANSAS\n"
     ]
    },
    {
     "name": "stderr",
     "output_type": "stream",
     "text": [
      "/Users/barbenshabat/opt/anaconda3/lib/python3.8/site-packages/sklearn/linear_model/_ridge.py:190: UserWarning: Singular matrix in solving dual problem. Using least-squares solution instead.\n",
      "  warnings.warn(\"Singular matrix in solving dual problem. Using \"\n"
     ]
    },
    {
     "name": "stdout",
     "output_type": "stream",
     "text": [
      "MAE: -0.010\n",
      "Config: {'alpha': 0.0}\n",
      "Predicted: 0.036\n",
      "\n",
      "\n",
      "split= 10\n",
      "state= KENTUCKY\n"
     ]
    },
    {
     "name": "stderr",
     "output_type": "stream",
     "text": [
      "/Users/barbenshabat/opt/anaconda3/lib/python3.8/site-packages/sklearn/linear_model/_ridge.py:190: UserWarning: Singular matrix in solving dual problem. Using least-squares solution instead.\n",
      "  warnings.warn(\"Singular matrix in solving dual problem. Using \"\n"
     ]
    },
    {
     "name": "stdout",
     "output_type": "stream",
     "text": [
      "MAE: -0.009\n",
      "Config: {'alpha': 0.0}\n",
      "Predicted: 0.058\n",
      "\n",
      "\n",
      "split= 10\n",
      "state= LOUISIANA\n",
      "MAE: -0.011\n",
      "Config: {'alpha': 0.01}\n",
      "Predicted: 0.066\n",
      "\n",
      "\n",
      "split= 10\n",
      "state= MAINE\n",
      "MAE: -0.003\n",
      "Config: {'alpha': 0.03}\n",
      "Predicted: 0.008\n",
      "\n",
      "\n",
      "split= 10\n",
      "state= MARYLAND\n",
      "MAE: -0.004\n",
      "Config: {'alpha': 0.03}\n",
      "Predicted: 0.046\n",
      "\n",
      "\n",
      "split= 10\n",
      "state= MASSACHUSETTS\n"
     ]
    },
    {
     "name": "stderr",
     "output_type": "stream",
     "text": [
      "/Users/barbenshabat/opt/anaconda3/lib/python3.8/site-packages/sklearn/linear_model/_ridge.py:190: UserWarning: Singular matrix in solving dual problem. Using least-squares solution instead.\n",
      "  warnings.warn(\"Singular matrix in solving dual problem. Using \"\n"
     ]
    },
    {
     "name": "stdout",
     "output_type": "stream",
     "text": [
      "MAE: -0.007\n",
      "Config: {'alpha': 0.0}\n",
      "Predicted: 0.060\n",
      "\n",
      "\n",
      "split= 10\n",
      "state= MICHIGAN\n"
     ]
    },
    {
     "name": "stderr",
     "output_type": "stream",
     "text": [
      "/Users/barbenshabat/opt/anaconda3/lib/python3.8/site-packages/sklearn/linear_model/_ridge.py:190: UserWarning: Singular matrix in solving dual problem. Using least-squares solution instead.\n",
      "  warnings.warn(\"Singular matrix in solving dual problem. Using \"\n"
     ]
    },
    {
     "name": "stdout",
     "output_type": "stream",
     "text": [
      "MAE: -0.017\n",
      "Config: {'alpha': 0.0}\n",
      "Predicted: 0.115\n",
      "\n",
      "\n",
      "split= 10\n",
      "state= MISSISSIPPI\n"
     ]
    },
    {
     "name": "stderr",
     "output_type": "stream",
     "text": [
      "/Users/barbenshabat/opt/anaconda3/lib/python3.8/site-packages/sklearn/linear_model/_ridge.py:187: LinAlgWarning: Ill-conditioned matrix (rcond=3.44461e-17): result may not be accurate.\n",
      "  dual_coef = linalg.solve(K, y, sym_pos=True,\n"
     ]
    },
    {
     "name": "stdout",
     "output_type": "stream",
     "text": [
      "MAE: -0.007\n",
      "Config: {'alpha': 0.0}\n",
      "Predicted: 0.023\n",
      "\n",
      "\n",
      "split= 10\n",
      "state= MISSOURI\n",
      "MAE: -0.010\n",
      "Config: {'alpha': 0.11}\n",
      "Predicted: 0.112\n",
      "\n",
      "\n",
      "split= 9\n",
      "state= MONTANA\n",
      "MAE: -0.001\n",
      "Config: {'alpha': 0.99}\n",
      "Predicted: 0.008\n",
      "\n",
      "\n",
      "split= 10\n",
      "state= NEBRASKA\n",
      "MAE: -0.006\n",
      "Config: {'alpha': 0.01}\n",
      "Predicted: 0.017\n",
      "\n",
      "\n",
      "split= 10\n",
      "state= NEVADA\n",
      "MAE: -0.010\n",
      "Config: {'alpha': 0.01}\n",
      "Predicted: 0.096\n",
      "\n",
      "\n",
      "split= 10\n",
      "state= NEW HAMPSHIRE\n",
      "MAE: -0.002\n",
      "Config: {'alpha': 0.03}\n",
      "Predicted: 0.013\n",
      "\n",
      "\n",
      "split= 9\n",
      "state= NEW JERSEY\n",
      "MAE: -0.017\n",
      "Config: {'alpha': 0.01}\n",
      "Predicted: 0.107\n",
      "\n",
      "\n",
      "split= 10\n",
      "state= NEW MEXICO\n"
     ]
    },
    {
     "name": "stderr",
     "output_type": "stream",
     "text": [
      "/Users/barbenshabat/opt/anaconda3/lib/python3.8/site-packages/sklearn/linear_model/_ridge.py:187: LinAlgWarning: Ill-conditioned matrix (rcond=3.20988e-17): result may not be accurate.\n",
      "  dual_coef = linalg.solve(K, y, sym_pos=True,\n"
     ]
    },
    {
     "name": "stdout",
     "output_type": "stream",
     "text": [
      "MAE: -0.015\n",
      "Config: {'alpha': 0.0}\n",
      "Predicted: 0.050\n",
      "\n",
      "\n",
      "split= 9\n",
      "state= NEW YORK\n"
     ]
    },
    {
     "name": "stderr",
     "output_type": "stream",
     "text": [
      "/Users/barbenshabat/opt/anaconda3/lib/python3.8/site-packages/sklearn/linear_model/_ridge.py:190: UserWarning: Singular matrix in solving dual problem. Using least-squares solution instead.\n",
      "  warnings.warn(\"Singular matrix in solving dual problem. Using \"\n"
     ]
    },
    {
     "name": "stdout",
     "output_type": "stream",
     "text": [
      "MAE: -0.006\n",
      "Config: {'alpha': 0.0}\n",
      "Predicted: 0.140\n",
      "\n",
      "\n",
      "split= 7\n",
      "state= NORTH CAROLINA\n"
     ]
    },
    {
     "name": "stderr",
     "output_type": "stream",
     "text": [
      "/Users/barbenshabat/opt/anaconda3/lib/python3.8/site-packages/sklearn/linear_model/_ridge.py:190: UserWarning: Singular matrix in solving dual problem. Using least-squares solution instead.\n",
      "  warnings.warn(\"Singular matrix in solving dual problem. Using \"\n"
     ]
    },
    {
     "name": "stdout",
     "output_type": "stream",
     "text": [
      "MAE: -0.019\n",
      "Config: {'alpha': 0.0}\n",
      "Predicted: 0.148\n",
      "\n",
      "\n",
      "split= 10\n",
      "state= NORTH DAKOTA\n",
      "MAE: -0.001\n",
      "Config: {'alpha': 0.11}\n",
      "Predicted: 0.008\n",
      "\n",
      "\n",
      "split= 10\n",
      "state= OHIO\n"
     ]
    },
    {
     "name": "stderr",
     "output_type": "stream",
     "text": [
      "/Users/barbenshabat/opt/anaconda3/lib/python3.8/site-packages/sklearn/linear_model/_ridge.py:190: UserWarning: Singular matrix in solving dual problem. Using least-squares solution instead.\n",
      "  warnings.warn(\"Singular matrix in solving dual problem. Using \"\n"
     ]
    },
    {
     "name": "stdout",
     "output_type": "stream",
     "text": [
      "MAE: -0.027\n",
      "Config: {'alpha': 0.0}\n",
      "Predicted: 0.047\n",
      "\n",
      "\n",
      "split= 10\n",
      "state= OKLAHOMA\n",
      "MAE: -0.008\n",
      "Config: {'alpha': 0.04}\n",
      "Predicted: 0.120\n",
      "\n",
      "\n",
      "split= 10\n",
      "state= PENNSYLVANIA\n",
      "MAE: -0.010\n",
      "Config: {'alpha': 0.02}\n",
      "Predicted: 0.078\n",
      "\n",
      "\n",
      "split= 10\n",
      "state= RHODE ISLAND\n",
      "MAE: -0.003\n",
      "Config: {'alpha': 0.02}\n",
      "Predicted: 0.019\n",
      "\n",
      "\n",
      "split= 10\n",
      "state= SOUTH CAROLINA\n"
     ]
    },
    {
     "name": "stderr",
     "output_type": "stream",
     "text": [
      "/Users/barbenshabat/opt/anaconda3/lib/python3.8/site-packages/sklearn/linear_model/_ridge.py:187: LinAlgWarning: Ill-conditioned matrix (rcond=4.95875e-17): result may not be accurate.\n",
      "  dual_coef = linalg.solve(K, y, sym_pos=True,\n"
     ]
    },
    {
     "name": "stdout",
     "output_type": "stream",
     "text": [
      "MAE: -0.005\n",
      "Config: {'alpha': 0.0}\n",
      "Predicted: 0.040\n",
      "\n",
      "\n",
      "split= 10\n",
      "state= SOUTH DAKOTA\n",
      "MAE: -0.001\n",
      "Config: {'alpha': 0.08}\n",
      "Predicted: 0.008\n",
      "\n",
      "\n",
      "split= 10\n",
      "state= TENNESSEE\n"
     ]
    },
    {
     "name": "stderr",
     "output_type": "stream",
     "text": [
      "/Users/barbenshabat/opt/anaconda3/lib/python3.8/site-packages/sklearn/linear_model/_ridge.py:187: LinAlgWarning: Ill-conditioned matrix (rcond=1.20945e-17): result may not be accurate.\n",
      "  dual_coef = linalg.solve(K, y, sym_pos=True,\n"
     ]
    },
    {
     "name": "stdout",
     "output_type": "stream",
     "text": [
      "MAE: -0.007\n",
      "Config: {'alpha': 0.0}\n",
      "Predicted: 0.123\n",
      "\n",
      "\n",
      "split= 10\n",
      "state= TEXAS\n"
     ]
    },
    {
     "name": "stderr",
     "output_type": "stream",
     "text": [
      "/Users/barbenshabat/opt/anaconda3/lib/python3.8/site-packages/sklearn/linear_model/_ridge.py:190: UserWarning: Singular matrix in solving dual problem. Using least-squares solution instead.\n",
      "  warnings.warn(\"Singular matrix in solving dual problem. Using \"\n"
     ]
    },
    {
     "name": "stdout",
     "output_type": "stream",
     "text": [
      "MAE: -0.019\n",
      "Config: {'alpha': 0.0}\n",
      "Predicted: 0.502\n",
      "\n",
      "\n",
      "split= 10\n",
      "state= UTAH\n",
      "MAE: -0.008\n",
      "Config: {'alpha': 0.01}\n",
      "Predicted: 0.049\n",
      "\n",
      "\n",
      "split= 10\n",
      "state= VERMONT\n",
      "MAE: -0.002\n",
      "Config: {'alpha': 0.32}\n",
      "Predicted: 0.003\n",
      "\n",
      "\n",
      "split= 10\n",
      "state= VIRGINIA\n",
      "MAE: -0.003\n",
      "Config: {'alpha': 0.01}\n",
      "Predicted: 0.041\n",
      "\n",
      "\n",
      "split= 10\n",
      "state= WASHINGTON\n",
      "MAE: -0.010\n",
      "Config: {'alpha': 0.01}\n",
      "Predicted: 0.151\n",
      "\n",
      "\n",
      "split= 9\n",
      "state= WEST VIRGINIA\n",
      "MAE: -0.004\n",
      "Config: {'alpha': 0.1}\n",
      "Predicted: 0.010\n",
      "\n",
      "\n",
      "split= 10\n",
      "state= WISCONSIN\n",
      "MAE: -0.009\n",
      "Config: {'alpha': 0.01}\n",
      "Predicted: 0.064\n",
      "\n",
      "\n",
      "split= 10\n",
      "state= WYOMING\n"
     ]
    },
    {
     "name": "stderr",
     "output_type": "stream",
     "text": [
      "/Users/barbenshabat/opt/anaconda3/lib/python3.8/site-packages/sklearn/linear_model/_ridge.py:190: UserWarning: Singular matrix in solving dual problem. Using least-squares solution instead.\n",
      "  warnings.warn(\"Singular matrix in solving dual problem. Using \"\n"
     ]
    },
    {
     "name": "stdout",
     "output_type": "stream",
     "text": [
      "MAE: -0.001\n",
      "Config: {'alpha': 0.0}\n",
      "Predicted: 0.006\n",
      "\n",
      "\n",
      "split= 9\n",
      "state= ILLINOIS\n"
     ]
    },
    {
     "name": "stderr",
     "output_type": "stream",
     "text": [
      "/Users/barbenshabat/opt/anaconda3/lib/python3.8/site-packages/sklearn/linear_model/_ridge.py:187: LinAlgWarning: Ill-conditioned matrix (rcond=1.70463e-17): result may not be accurate.\n",
      "  dual_coef = linalg.solve(K, y, sym_pos=True,\n"
     ]
    },
    {
     "name": "stdout",
     "output_type": "stream",
     "text": [
      "MAE: -0.029\n",
      "Config: {'alpha': 0.0}\n",
      "Predicted: 0.145\n",
      "\n",
      "\n",
      "split= 9\n",
      "state= OREGON\n",
      "MAE: -0.007\n",
      "Config: {'alpha': 0.01}\n",
      "Predicted: 0.060\n",
      "\n",
      "\n",
      "split= 7\n",
      "state= MINNESOTA\n"
     ]
    },
    {
     "name": "stderr",
     "output_type": "stream",
     "text": [
      "/Users/barbenshabat/opt/anaconda3/lib/python3.8/site-packages/sklearn/linear_model/_ridge.py:187: LinAlgWarning: Ill-conditioned matrix (rcond=1.56329e-17): result may not be accurate.\n",
      "  dual_coef = linalg.solve(K, y, sym_pos=True,\n"
     ]
    },
    {
     "name": "stdout",
     "output_type": "stream",
     "text": [
      "MAE: -0.006\n",
      "Config: {'alpha': 0.0}\n",
      "Predicted: 0.074\n",
      "\n",
      "\n",
      "---------crime--------------------------------- Larceny-theft\n",
      "split= 8\n",
      "state= ALABAMA\n"
     ]
    },
    {
     "name": "stderr",
     "output_type": "stream",
     "text": [
      "/Users/barbenshabat/opt/anaconda3/lib/python3.8/site-packages/sklearn/linear_model/_ridge.py:190: UserWarning: Singular matrix in solving dual problem. Using least-squares solution instead.\n",
      "  warnings.warn(\"Singular matrix in solving dual problem. Using \"\n"
     ]
    },
    {
     "name": "stdout",
     "output_type": "stream",
     "text": [
      "MAE: -0.006\n",
      "Config: {'alpha': 0.0}\n",
      "Predicted: 0.090\n",
      "\n",
      "\n",
      "split= 9\n",
      "state= ALASKA\n",
      "MAE: -0.001\n",
      "Config: {'alpha': 0.01}\n",
      "Predicted: 0.027\n",
      "\n",
      "\n",
      "split= 10\n",
      "state= ARIZONA\n",
      "MAE: -0.021\n",
      "Config: {'alpha': 0.55}\n",
      "Predicted: 0.220\n",
      "\n",
      "\n",
      "split= 10\n",
      "state= ARKANSAS\n",
      "MAE: -0.003\n",
      "Config: {'alpha': 0.05}\n",
      "Predicted: 0.089\n",
      "\n",
      "\n",
      "split= 10\n",
      "state= CALIFORNIA\n"
     ]
    },
    {
     "name": "stderr",
     "output_type": "stream",
     "text": [
      "/Users/barbenshabat/opt/anaconda3/lib/python3.8/site-packages/sklearn/linear_model/_ridge.py:187: LinAlgWarning: Ill-conditioned matrix (rcond=1.16061e-17): result may not be accurate.\n",
      "  dual_coef = linalg.solve(K, y, sym_pos=True,\n"
     ]
    },
    {
     "name": "stdout",
     "output_type": "stream",
     "text": [
      "MAE: -0.025\n",
      "Config: {'alpha': 0.0}\n",
      "Predicted: 0.816\n",
      "\n",
      "\n",
      "split= 10\n",
      "state= COLORADO\n"
     ]
    },
    {
     "name": "stderr",
     "output_type": "stream",
     "text": [
      "/Users/barbenshabat/opt/anaconda3/lib/python3.8/site-packages/sklearn/linear_model/_ridge.py:187: LinAlgWarning: Ill-conditioned matrix (rcond=2.42494e-17): result may not be accurate.\n",
      "  dual_coef = linalg.solve(K, y, sym_pos=True,\n"
     ]
    },
    {
     "name": "stdout",
     "output_type": "stream",
     "text": [
      "MAE: -0.005\n",
      "Config: {'alpha': 0.0}\n",
      "Predicted: 0.150\n",
      "\n",
      "\n",
      "split= 10\n",
      "state= CONNECTICUT\n",
      "MAE: -0.003\n",
      "Config: {'alpha': 0.19}\n",
      "Predicted: 0.077\n",
      "\n",
      "\n",
      "split= 10\n",
      "state= DELAWARE\n",
      "MAE: -0.000\n",
      "Config: {'alpha': 0.08}\n",
      "Predicted: 0.012\n",
      "\n",
      "\n",
      "split= 10\n",
      "state= DISTRICT OF COLUMBIA\n"
     ]
    },
    {
     "name": "stderr",
     "output_type": "stream",
     "text": [
      "/Users/barbenshabat/opt/anaconda3/lib/python3.8/site-packages/sklearn/linear_model/_ridge.py:187: LinAlgWarning: Ill-conditioned matrix (rcond=7.31402e-19): result may not be accurate.\n",
      "  dual_coef = linalg.solve(K, y, sym_pos=True,\n"
     ]
    },
    {
     "name": "stdout",
     "output_type": "stream",
     "text": [
      "MAE: -0.002\n",
      "Config: {'alpha': 0.0}\n",
      "Predicted: 0.042\n",
      "\n",
      "\n",
      "split= 10\n",
      "state= FLORIDA\n",
      "MAE: -0.018\n",
      "Config: {'alpha': 0.01}\n",
      "Predicted: 0.403\n",
      "\n",
      "\n",
      "split= 8\n",
      "state= GEORGIA\n"
     ]
    },
    {
     "name": "stderr",
     "output_type": "stream",
     "text": [
      "/Users/barbenshabat/opt/anaconda3/lib/python3.8/site-packages/sklearn/linear_model/_ridge.py:190: UserWarning: Singular matrix in solving dual problem. Using least-squares solution instead.\n",
      "  warnings.warn(\"Singular matrix in solving dual problem. Using \"\n"
     ]
    },
    {
     "name": "stdout",
     "output_type": "stream",
     "text": [
      "MAE: -0.011\n",
      "Config: {'alpha': 0.0}\n",
      "Predicted: 0.149\n",
      "\n",
      "\n",
      "split= 6\n",
      "state= HAWAII\n",
      "MAE: -0.002\n",
      "Config: {'alpha': 0.24}\n",
      "Predicted: 0.037\n",
      "\n",
      "\n",
      "split= 10\n",
      "state= IDAHO\n",
      "MAE: -0.002\n",
      "Config: {'alpha': 0.06}\n",
      "Predicted: 0.028\n",
      "\n",
      "\n",
      "split= 10\n",
      "state= INDIANA\n"
     ]
    },
    {
     "name": "stderr",
     "output_type": "stream",
     "text": [
      "/Users/barbenshabat/opt/anaconda3/lib/python3.8/site-packages/sklearn/linear_model/_ridge.py:187: LinAlgWarning: Ill-conditioned matrix (rcond=1.89873e-17): result may not be accurate.\n",
      "  dual_coef = linalg.solve(K, y, sym_pos=True,\n"
     ]
    },
    {
     "name": "stdout",
     "output_type": "stream",
     "text": [
      "MAE: -0.010\n",
      "Config: {'alpha': 0.0}\n",
      "Predicted: 0.058\n",
      "\n",
      "\n",
      "split= 9\n",
      "state= IOWA\n",
      "MAE: -0.003\n",
      "Config: {'alpha': 0.99}\n",
      "Predicted: 0.070\n",
      "\n",
      "\n",
      "split= 10\n",
      "state= KANSAS\n"
     ]
    },
    {
     "name": "stderr",
     "output_type": "stream",
     "text": [
      "/Users/barbenshabat/opt/anaconda3/lib/python3.8/site-packages/sklearn/linear_model/_ridge.py:190: UserWarning: Singular matrix in solving dual problem. Using least-squares solution instead.\n",
      "  warnings.warn(\"Singular matrix in solving dual problem. Using \"\n"
     ]
    },
    {
     "name": "stdout",
     "output_type": "stream",
     "text": [
      "MAE: -0.009\n",
      "Config: {'alpha': 0.0}\n",
      "Predicted: 0.064\n",
      "\n",
      "\n",
      "split= 10\n",
      "state= KENTUCKY\n"
     ]
    },
    {
     "name": "stderr",
     "output_type": "stream",
     "text": [
      "/Users/barbenshabat/opt/anaconda3/lib/python3.8/site-packages/sklearn/linear_model/_ridge.py:190: UserWarning: Singular matrix in solving dual problem. Using least-squares solution instead.\n",
      "  warnings.warn(\"Singular matrix in solving dual problem. Using \"\n"
     ]
    },
    {
     "name": "stdout",
     "output_type": "stream",
     "text": [
      "MAE: -0.007\n",
      "Config: {'alpha': 0.0}\n",
      "Predicted: 0.083\n",
      "\n",
      "\n",
      "split= 10\n",
      "state= LOUISIANA\n"
     ]
    },
    {
     "name": "stderr",
     "output_type": "stream",
     "text": [
      "/Users/barbenshabat/opt/anaconda3/lib/python3.8/site-packages/sklearn/linear_model/_ridge.py:187: LinAlgWarning: Ill-conditioned matrix (rcond=2.6536e-17): result may not be accurate.\n",
      "  dual_coef = linalg.solve(K, y, sym_pos=True,\n"
     ]
    },
    {
     "name": "stdout",
     "output_type": "stream",
     "text": [
      "MAE: -0.009\n",
      "Config: {'alpha': 0.0}\n",
      "Predicted: 0.099\n",
      "\n",
      "\n",
      "split= 10\n",
      "state= MAINE\n",
      "MAE: -0.004\n",
      "Config: {'alpha': 0.11}\n",
      "Predicted: 0.020\n",
      "\n",
      "\n",
      "split= 10\n",
      "state= MARYLAND\n",
      "MAE: -0.001\n",
      "Config: {'alpha': 0.34}\n",
      "Predicted: 0.056\n",
      "\n",
      "\n",
      "split= 10\n",
      "state= MASSACHUSETTS\n",
      "MAE: -0.006\n",
      "Config: {'alpha': 0.02}\n",
      "Predicted: 0.112\n",
      "\n",
      "\n",
      "split= 10\n",
      "state= MICHIGAN\n"
     ]
    },
    {
     "name": "stderr",
     "output_type": "stream",
     "text": [
      "/Users/barbenshabat/opt/anaconda3/lib/python3.8/site-packages/sklearn/linear_model/_ridge.py:190: UserWarning: Singular matrix in solving dual problem. Using least-squares solution instead.\n",
      "  warnings.warn(\"Singular matrix in solving dual problem. Using \"\n"
     ]
    },
    {
     "name": "stdout",
     "output_type": "stream",
     "text": [
      "MAE: -0.005\n",
      "Config: {'alpha': 0.0}\n",
      "Predicted: 0.150\n",
      "\n",
      "\n",
      "split= 10\n",
      "state= MISSISSIPPI\n"
     ]
    },
    {
     "name": "stderr",
     "output_type": "stream",
     "text": [
      "/Users/barbenshabat/opt/anaconda3/lib/python3.8/site-packages/sklearn/linear_model/_ridge.py:187: LinAlgWarning: Ill-conditioned matrix (rcond=2.4138e-17): result may not be accurate.\n",
      "  dual_coef = linalg.solve(K, y, sym_pos=True,\n"
     ]
    },
    {
     "name": "stdout",
     "output_type": "stream",
     "text": [
      "MAE: -0.004\n",
      "Config: {'alpha': 0.0}\n",
      "Predicted: 0.030\n",
      "\n",
      "\n",
      "split= 10\n",
      "state= MISSOURI\n",
      "MAE: -0.008\n",
      "Config: {'alpha': 0.05}\n",
      "Predicted: 0.170\n",
      "\n",
      "\n",
      "split= 9\n",
      "state= MONTANA\n",
      "MAE: -0.002\n",
      "Config: {'alpha': 0.03}\n",
      "Predicted: 0.022\n",
      "\n",
      "\n",
      "split= 10\n",
      "state= NEBRASKA\n",
      "MAE: -0.006\n",
      "Config: {'alpha': 0.02}\n",
      "Predicted: 0.038\n",
      "\n",
      "\n",
      "split= 10\n",
      "state= NEVADA\n",
      "MAE: -0.005\n",
      "Config: {'alpha': 0.1}\n",
      "Predicted: 0.070\n",
      "\n",
      "\n",
      "split= 10\n",
      "state= NEW HAMPSHIRE\n",
      "MAE: -0.002\n",
      "Config: {'alpha': 0.01}\n",
      "Predicted: 0.027\n",
      "\n",
      "\n",
      "split= 9\n",
      "state= NEW JERSEY\n",
      "MAE: -0.006\n",
      "Config: {'alpha': 0.01}\n",
      "Predicted: 0.171\n",
      "\n",
      "\n",
      "split= 10\n",
      "state= NEW MEXICO\n"
     ]
    },
    {
     "name": "stderr",
     "output_type": "stream",
     "text": [
      "/Users/barbenshabat/opt/anaconda3/lib/python3.8/site-packages/sklearn/linear_model/_ridge.py:187: LinAlgWarning: Ill-conditioned matrix (rcond=8.16305e-18): result may not be accurate.\n",
      "  dual_coef = linalg.solve(K, y, sym_pos=True,\n"
     ]
    },
    {
     "name": "stdout",
     "output_type": "stream",
     "text": [
      "MAE: -0.012\n",
      "Config: {'alpha': 0.0}\n",
      "Predicted: 0.045\n",
      "\n",
      "\n",
      "split= 9\n",
      "state= NEW YORK\n",
      "MAE: -0.005\n",
      "Config: {'alpha': 0.01}\n",
      "Predicted: 0.338\n",
      "\n",
      "\n",
      "split= 7\n",
      "state= NORTH CAROLINA\n"
     ]
    },
    {
     "name": "stderr",
     "output_type": "stream",
     "text": [
      "/Users/barbenshabat/opt/anaconda3/lib/python3.8/site-packages/sklearn/linear_model/_ridge.py:190: UserWarning: Singular matrix in solving dual problem. Using least-squares solution instead.\n",
      "  warnings.warn(\"Singular matrix in solving dual problem. Using \"\n"
     ]
    },
    {
     "name": "stdout",
     "output_type": "stream",
     "text": [
      "MAE: -0.021\n",
      "Config: {'alpha': 0.0}\n",
      "Predicted: 0.162\n",
      "\n",
      "\n",
      "split= 10\n",
      "state= NORTH DAKOTA\n",
      "MAE: -0.001\n",
      "Config: {'alpha': 0.01}\n",
      "Predicted: 0.015\n",
      "\n",
      "\n",
      "split= 10\n",
      "state= OHIO\n"
     ]
    },
    {
     "name": "stderr",
     "output_type": "stream",
     "text": [
      "/Users/barbenshabat/opt/anaconda3/lib/python3.8/site-packages/sklearn/linear_model/_ridge.py:190: UserWarning: Singular matrix in solving dual problem. Using least-squares solution instead.\n",
      "  warnings.warn(\"Singular matrix in solving dual problem. Using \"\n"
     ]
    },
    {
     "name": "stdout",
     "output_type": "stream",
     "text": [
      "MAE: -0.016\n",
      "Config: {'alpha': 0.0}\n",
      "Predicted: 0.125\n",
      "\n",
      "\n",
      "split= 10\n",
      "state= OKLAHOMA\n",
      "MAE: -0.004\n",
      "Config: {'alpha': 0.02}\n",
      "Predicted: 0.111\n",
      "\n",
      "\n",
      "split= 10\n",
      "state= PENNSYLVANIA\n"
     ]
    },
    {
     "name": "stderr",
     "output_type": "stream",
     "text": [
      "/Users/barbenshabat/opt/anaconda3/lib/python3.8/site-packages/sklearn/linear_model/_ridge.py:190: UserWarning: Singular matrix in solving dual problem. Using least-squares solution instead.\n",
      "  warnings.warn(\"Singular matrix in solving dual problem. Using \"\n"
     ]
    },
    {
     "name": "stdout",
     "output_type": "stream",
     "text": [
      "MAE: -0.007\n",
      "Config: {'alpha': 0.0}\n",
      "Predicted: 0.153\n",
      "\n",
      "\n",
      "split= 10\n",
      "state= RHODE ISLAND\n",
      "MAE: -0.002\n",
      "Config: {'alpha': 0.02}\n",
      "Predicted: 0.024\n",
      "\n",
      "\n",
      "split= 10\n",
      "state= SOUTH CAROLINA\n"
     ]
    },
    {
     "name": "stderr",
     "output_type": "stream",
     "text": [
      "/Users/barbenshabat/opt/anaconda3/lib/python3.8/site-packages/sklearn/linear_model/_ridge.py:187: LinAlgWarning: Ill-conditioned matrix (rcond=4.23365e-17): result may not be accurate.\n",
      "  dual_coef = linalg.solve(K, y, sym_pos=True,\n"
     ]
    },
    {
     "name": "stdout",
     "output_type": "stream",
     "text": [
      "MAE: -0.005\n",
      "Config: {'alpha': 0.0}\n",
      "Predicted: 0.085\n",
      "\n",
      "\n",
      "split= 10\n",
      "state= SOUTH DAKOTA\n",
      "MAE: -0.001\n",
      "Config: {'alpha': 0.99}\n",
      "Predicted: 0.015\n",
      "\n",
      "\n",
      "split= 10\n",
      "state= TENNESSEE\n",
      "MAE: -0.005\n",
      "Config: {'alpha': 0.04}\n",
      "Predicted: 0.203\n",
      "\n",
      "\n",
      "split= 10\n",
      "state= TEXAS\n",
      "MAE: -0.019\n",
      "Config: {'alpha': 0.01}\n",
      "Predicted: 0.655\n",
      "\n",
      "\n",
      "split= 10\n",
      "state= UTAH\n",
      "MAE: -0.013\n",
      "Config: {'alpha': 0.99}\n",
      "Predicted: 0.083\n",
      "\n",
      "\n",
      "split= 10\n",
      "state= VERMONT\n",
      "MAE: -0.002\n",
      "Config: {'alpha': 0.99}\n",
      "Predicted: 0.007\n",
      "\n",
      "\n",
      "split= 10\n",
      "state= VIRGINIA\n",
      "MAE: -0.003\n",
      "Config: {'alpha': 0.03}\n",
      "Predicted: 0.103\n",
      "\n",
      "\n",
      "split= 10\n",
      "state= WASHINGTON\n"
     ]
    },
    {
     "name": "stderr",
     "output_type": "stream",
     "text": [
      "/Users/barbenshabat/opt/anaconda3/lib/python3.8/site-packages/sklearn/linear_model/_ridge.py:187: LinAlgWarning: Ill-conditioned matrix (rcond=2.04148e-18): result may not be accurate.\n",
      "  dual_coef = linalg.solve(K, y, sym_pos=True,\n"
     ]
    },
    {
     "name": "stdout",
     "output_type": "stream",
     "text": [
      "MAE: -0.009\n",
      "Config: {'alpha': 0.0}\n",
      "Predicted: 0.221\n",
      "\n",
      "\n",
      "split= 9\n",
      "state= WEST VIRGINIA\n",
      "MAE: -0.004\n",
      "Config: {'alpha': 0.04}\n",
      "Predicted: 0.015\n",
      "\n",
      "\n",
      "split= 10\n",
      "state= WISCONSIN\n",
      "MAE: -0.009\n",
      "Config: {'alpha': 0.05}\n",
      "Predicted: 0.114\n",
      "\n",
      "\n",
      "split= 10\n",
      "state= WYOMING\n"
     ]
    },
    {
     "name": "stderr",
     "output_type": "stream",
     "text": [
      "/Users/barbenshabat/opt/anaconda3/lib/python3.8/site-packages/sklearn/linear_model/_ridge.py:190: UserWarning: Singular matrix in solving dual problem. Using least-squares solution instead.\n",
      "  warnings.warn(\"Singular matrix in solving dual problem. Using \"\n"
     ]
    },
    {
     "name": "stdout",
     "output_type": "stream",
     "text": [
      "MAE: -0.001\n",
      "Config: {'alpha': 0.0}\n",
      "Predicted: 0.014\n",
      "\n",
      "\n",
      "split= 9\n",
      "state= ILLINOIS\n",
      "MAE: -0.025\n",
      "Config: {'alpha': 0.02}\n",
      "Predicted: 0.236\n",
      "\n",
      "\n",
      "split= 9\n",
      "state= OREGON\n",
      "MAE: -0.013\n",
      "Config: {'alpha': 0.01}\n",
      "Predicted: 0.126\n",
      "\n",
      "\n",
      "split= 7\n",
      "state= MINNESOTA\n",
      "MAE: -0.007\n",
      "Config: {'alpha': 0.99}\n",
      "Predicted: 0.143\n",
      "\n",
      "\n",
      "---------crime--------------------------------- Motor vehicle theft\n",
      "split= 8\n",
      "state= ALABAMA\n"
     ]
    },
    {
     "name": "stderr",
     "output_type": "stream",
     "text": [
      "/Users/barbenshabat/opt/anaconda3/lib/python3.8/site-packages/sklearn/linear_model/_ridge.py:187: LinAlgWarning: Ill-conditioned matrix (rcond=1.00724e-18): result may not be accurate.\n",
      "  dual_coef = linalg.solve(K, y, sym_pos=True,\n"
     ]
    },
    {
     "name": "stdout",
     "output_type": "stream",
     "text": [
      "MAE: -0.003\n",
      "Config: {'alpha': 0.0}\n",
      "Predicted: 0.037\n",
      "\n",
      "\n",
      "split= 9\n",
      "state= ALASKA\n",
      "MAE: -0.004\n",
      "Config: {'alpha': 0.02}\n",
      "Predicted: 0.029\n",
      "\n",
      "\n",
      "split= 10\n",
      "state= ARIZONA\n",
      "MAE: -0.008\n",
      "Config: {'alpha': 0.01}\n",
      "Predicted: 0.119\n",
      "\n",
      "\n",
      "split= 10\n",
      "state= ARKANSAS\n",
      "MAE: -0.003\n",
      "Config: {'alpha': 0.01}\n",
      "Predicted: 0.033\n",
      "\n",
      "\n",
      "split= 10\n",
      "state= CALIFORNIA\n"
     ]
    },
    {
     "name": "stderr",
     "output_type": "stream",
     "text": [
      "/Users/barbenshabat/opt/anaconda3/lib/python3.8/site-packages/sklearn/linear_model/_ridge.py:187: LinAlgWarning: Ill-conditioned matrix (rcond=1.64245e-17): result may not be accurate.\n",
      "  dual_coef = linalg.solve(K, y, sym_pos=True,\n"
     ]
    },
    {
     "name": "stdout",
     "output_type": "stream",
     "text": [
      "MAE: -0.037\n",
      "Config: {'alpha': 0.0}\n",
      "Predicted: 0.606\n",
      "\n",
      "\n",
      "split= 10\n",
      "state= COLORADO\n"
     ]
    },
    {
     "name": "stderr",
     "output_type": "stream",
     "text": [
      "/Users/barbenshabat/opt/anaconda3/lib/python3.8/site-packages/sklearn/linear_model/_ridge.py:187: LinAlgWarning: Ill-conditioned matrix (rcond=1.79943e-17): result may not be accurate.\n",
      "  dual_coef = linalg.solve(K, y, sym_pos=True,\n"
     ]
    },
    {
     "name": "stdout",
     "output_type": "stream",
     "text": [
      "MAE: -0.006\n",
      "Config: {'alpha': 0.0}\n",
      "Predicted: 0.123\n",
      "\n",
      "\n",
      "split= 10\n",
      "state= CONNECTICUT\n",
      "MAE: -0.002\n",
      "Config: {'alpha': 0.01}\n",
      "Predicted: 0.055\n",
      "\n",
      "\n",
      "split= 10\n",
      "state= DELAWARE\n",
      "MAE: -0.001\n",
      "Config: {'alpha': 0.99}\n",
      "Predicted: 0.005\n",
      "\n",
      "\n",
      "split= 10\n",
      "state= DISTRICT OF COLUMBIA\n",
      "MAE: -0.003\n",
      "Config: {'alpha': 0.07}\n",
      "Predicted: 0.019\n",
      "\n",
      "\n",
      "split= 10\n",
      "state= FLORIDA\n",
      "MAE: -0.008\n",
      "Config: {'alpha': 0.01}\n",
      "Predicted: 0.179\n",
      "\n",
      "\n",
      "split= 8\n",
      "state= GEORGIA\n",
      "MAE: -0.006\n",
      "Config: {'alpha': 0.01}\n",
      "Predicted: 0.069\n",
      "\n",
      "\n",
      "split= 6\n",
      "state= HAWAII\n"
     ]
    },
    {
     "name": "stderr",
     "output_type": "stream",
     "text": [
      "/Users/barbenshabat/opt/anaconda3/lib/python3.8/site-packages/sklearn/linear_model/_ridge.py:190: UserWarning: Singular matrix in solving dual problem. Using least-squares solution instead.\n",
      "  warnings.warn(\"Singular matrix in solving dual problem. Using \"\n"
     ]
    },
    {
     "name": "stdout",
     "output_type": "stream",
     "text": [
      "MAE: -0.001\n",
      "Config: {'alpha': 0.0}\n",
      "Predicted: 0.027\n",
      "\n",
      "\n",
      "split= 10\n",
      "state= IDAHO\n",
      "MAE: -0.001\n",
      "Config: {'alpha': 0.02}\n",
      "Predicted: 0.009\n",
      "\n",
      "\n",
      "split= 10\n",
      "state= INDIANA\n",
      "MAE: -0.006\n",
      "Config: {'alpha': 0.01}\n",
      "Predicted: 0.034\n",
      "\n",
      "\n",
      "split= 9\n",
      "state= IOWA\n",
      "MAE: -0.002\n",
      "Config: {'alpha': 0.01}\n",
      "Predicted: 0.034\n",
      "\n",
      "\n",
      "split= 10\n",
      "state= KANSAS\n"
     ]
    },
    {
     "name": "stderr",
     "output_type": "stream",
     "text": [
      "/Users/barbenshabat/opt/anaconda3/lib/python3.8/site-packages/sklearn/linear_model/_ridge.py:190: UserWarning: Singular matrix in solving dual problem. Using least-squares solution instead.\n",
      "  warnings.warn(\"Singular matrix in solving dual problem. Using \"\n"
     ]
    },
    {
     "name": "stdout",
     "output_type": "stream",
     "text": [
      "MAE: -0.004\n",
      "Config: {'alpha': 0.0}\n",
      "Predicted: 0.035\n",
      "\n",
      "\n",
      "split= 10\n",
      "state= KENTUCKY\n"
     ]
    },
    {
     "name": "stderr",
     "output_type": "stream",
     "text": [
      "/Users/barbenshabat/opt/anaconda3/lib/python3.8/site-packages/sklearn/linear_model/_ridge.py:190: UserWarning: Singular matrix in solving dual problem. Using least-squares solution instead.\n",
      "  warnings.warn(\"Singular matrix in solving dual problem. Using \"\n"
     ]
    },
    {
     "name": "stdout",
     "output_type": "stream",
     "text": [
      "MAE: -0.004\n",
      "Config: {'alpha': 0.0}\n",
      "Predicted: 0.048\n",
      "\n",
      "\n",
      "split= 10\n",
      "state= LOUISIANA\n"
     ]
    },
    {
     "name": "stderr",
     "output_type": "stream",
     "text": [
      "/Users/barbenshabat/opt/anaconda3/lib/python3.8/site-packages/sklearn/linear_model/_ridge.py:187: LinAlgWarning: Ill-conditioned matrix (rcond=1.83409e-17): result may not be accurate.\n",
      "  dual_coef = linalg.solve(K, y, sym_pos=True,\n"
     ]
    },
    {
     "name": "stdout",
     "output_type": "stream",
     "text": [
      "MAE: -0.004\n",
      "Config: {'alpha': 0.0}\n",
      "Predicted: 0.054\n",
      "\n",
      "\n",
      "split= 10\n",
      "state= MAINE\n",
      "MAE: -0.001\n",
      "Config: {'alpha': 0.14}\n",
      "Predicted: 0.003\n",
      "\n",
      "\n",
      "split= 10\n",
      "state= MARYLAND\n"
     ]
    },
    {
     "name": "stderr",
     "output_type": "stream",
     "text": [
      "/Users/barbenshabat/opt/anaconda3/lib/python3.8/site-packages/sklearn/linear_model/_ridge.py:187: LinAlgWarning: Ill-conditioned matrix (rcond=3.71817e-17): result may not be accurate.\n",
      "  dual_coef = linalg.solve(K, y, sym_pos=True,\n"
     ]
    },
    {
     "name": "stdout",
     "output_type": "stream",
     "text": [
      "MAE: -0.002\n",
      "Config: {'alpha': 0.0}\n",
      "Predicted: 0.042\n",
      "\n",
      "\n",
      "split= 10\n",
      "state= MASSACHUSETTS\n"
     ]
    },
    {
     "name": "stderr",
     "output_type": "stream",
     "text": [
      "/Users/barbenshabat/opt/anaconda3/lib/python3.8/site-packages/sklearn/linear_model/_ridge.py:190: UserWarning: Singular matrix in solving dual problem. Using least-squares solution instead.\n",
      "  warnings.warn(\"Singular matrix in solving dual problem. Using \"\n"
     ]
    },
    {
     "name": "stdout",
     "output_type": "stream",
     "text": [
      "MAE: -0.003\n",
      "Config: {'alpha': 0.0}\n",
      "Predicted: 0.043\n",
      "\n",
      "\n",
      "split= 10\n",
      "state= MICHIGAN\n",
      "MAE: -0.014\n",
      "Config: {'alpha': 0.06}\n",
      "Predicted: 0.120\n",
      "\n",
      "\n",
      "split= 10\n",
      "state= MISSISSIPPI\n"
     ]
    },
    {
     "name": "stderr",
     "output_type": "stream",
     "text": [
      "/Users/barbenshabat/opt/anaconda3/lib/python3.8/site-packages/sklearn/linear_model/_ridge.py:187: LinAlgWarning: Ill-conditioned matrix (rcond=4.24517e-17): result may not be accurate.\n",
      "  dual_coef = linalg.solve(K, y, sym_pos=True,\n"
     ]
    },
    {
     "name": "stdout",
     "output_type": "stream",
     "text": [
      "MAE: -0.001\n",
      "Config: {'alpha': 0.0}\n",
      "Predicted: 0.009\n",
      "\n",
      "\n",
      "split= 10\n",
      "state= MISSOURI\n",
      "MAE: -0.004\n",
      "Config: {'alpha': 0.16}\n",
      "Predicted: 0.115\n",
      "\n",
      "\n",
      "split= 9\n",
      "state= MONTANA\n",
      "MAE: -0.001\n",
      "Config: {'alpha': 0.03}\n",
      "Predicted: 0.010\n",
      "\n",
      "\n",
      "split= 10\n",
      "state= NEBRASKA\n",
      "MAE: -0.003\n",
      "Config: {'alpha': 0.99}\n",
      "Predicted: 0.028\n",
      "\n",
      "\n",
      "split= 10\n",
      "state= NEVADA\n",
      "MAE: -0.006\n",
      "Config: {'alpha': 0.01}\n",
      "Predicted: 0.081\n",
      "\n",
      "\n",
      "split= 10\n",
      "state= NEW HAMPSHIRE\n",
      "MAE: -0.000\n",
      "Config: {'alpha': 0.01}\n",
      "Predicted: 0.006\n",
      "\n",
      "\n",
      "split= 9\n",
      "state= NEW JERSEY\n"
     ]
    },
    {
     "name": "stderr",
     "output_type": "stream",
     "text": [
      "/Users/barbenshabat/opt/anaconda3/lib/python3.8/site-packages/sklearn/linear_model/_ridge.py:190: UserWarning: Singular matrix in solving dual problem. Using least-squares solution instead.\n",
      "  warnings.warn(\"Singular matrix in solving dual problem. Using \"\n"
     ]
    },
    {
     "name": "stdout",
     "output_type": "stream",
     "text": [
      "MAE: -0.009\n",
      "Config: {'alpha': 0.0}\n",
      "Predicted: 0.080\n",
      "\n",
      "\n",
      "split= 10\n",
      "state= NEW MEXICO\n"
     ]
    },
    {
     "name": "stderr",
     "output_type": "stream",
     "text": [
      "/Users/barbenshabat/opt/anaconda3/lib/python3.8/site-packages/sklearn/linear_model/_ridge.py:187: LinAlgWarning: Ill-conditioned matrix (rcond=2.83599e-17): result may not be accurate.\n",
      "  dual_coef = linalg.solve(K, y, sym_pos=True,\n"
     ]
    },
    {
     "name": "stdout",
     "output_type": "stream",
     "text": [
      "MAE: -0.004\n",
      "Config: {'alpha': 0.0}\n",
      "Predicted: 0.024\n",
      "\n",
      "\n",
      "split= 9\n",
      "state= NEW YORK\n"
     ]
    },
    {
     "name": "stderr",
     "output_type": "stream",
     "text": [
      "/Users/barbenshabat/opt/anaconda3/lib/python3.8/site-packages/sklearn/linear_model/_ridge.py:190: UserWarning: Singular matrix in solving dual problem. Using least-squares solution instead.\n",
      "  warnings.warn(\"Singular matrix in solving dual problem. Using \"\n"
     ]
    },
    {
     "name": "stdout",
     "output_type": "stream",
     "text": [
      "MAE: -0.005\n",
      "Config: {'alpha': 0.0}\n",
      "Predicted: 0.083\n",
      "\n",
      "\n",
      "split= 7\n",
      "state= NORTH CAROLINA\n",
      "MAE: -0.006\n",
      "Config: {'alpha': 0.01}\n",
      "Predicted: 0.047\n",
      "\n",
      "\n",
      "split= 10\n",
      "state= NORTH DAKOTA\n",
      "MAE: -0.001\n",
      "Config: {'alpha': 0.02}\n",
      "Predicted: 0.009\n",
      "\n",
      "\n",
      "split= 10\n",
      "state= OHIO\n"
     ]
    },
    {
     "name": "stderr",
     "output_type": "stream",
     "text": [
      "/Users/barbenshabat/opt/anaconda3/lib/python3.8/site-packages/sklearn/linear_model/_ridge.py:190: UserWarning: Singular matrix in solving dual problem. Using least-squares solution instead.\n",
      "  warnings.warn(\"Singular matrix in solving dual problem. Using \"\n"
     ]
    },
    {
     "name": "stdout",
     "output_type": "stream",
     "text": [
      "MAE: -0.013\n",
      "Config: {'alpha': 0.0}\n",
      "Predicted: 0.080\n",
      "\n",
      "\n",
      "split= 10\n",
      "state= OKLAHOMA\n",
      "MAE: -0.004\n",
      "Config: {'alpha': 0.01}\n",
      "Predicted: 0.083\n",
      "\n",
      "\n",
      "split= 10\n",
      "state= PENNSYLVANIA\n",
      "MAE: -0.005\n",
      "Config: {'alpha': 0.01}\n",
      "Predicted: 0.077\n",
      "\n",
      "\n",
      "split= 10\n",
      "state= RHODE ISLAND\n",
      "MAE: -0.003\n",
      "Config: {'alpha': 0.03}\n",
      "Predicted: 0.011\n",
      "\n",
      "\n",
      "split= 10\n",
      "state= SOUTH CAROLINA\n"
     ]
    },
    {
     "name": "stderr",
     "output_type": "stream",
     "text": [
      "/Users/barbenshabat/opt/anaconda3/lib/python3.8/site-packages/sklearn/linear_model/_ridge.py:187: LinAlgWarning: Ill-conditioned matrix (rcond=4.83236e-17): result may not be accurate.\n",
      "  dual_coef = linalg.solve(K, y, sym_pos=True,\n"
     ]
    },
    {
     "name": "stdout",
     "output_type": "stream",
     "text": [
      "MAE: -0.002\n",
      "Config: {'alpha': 0.0}\n",
      "Predicted: 0.035\n",
      "\n",
      "\n",
      "split= 10\n",
      "state= SOUTH DAKOTA\n",
      "MAE: -0.001\n",
      "Config: {'alpha': 0.01}\n",
      "Predicted: 0.007\n",
      "\n",
      "\n",
      "split= 10\n",
      "state= TENNESSEE\n"
     ]
    },
    {
     "name": "stderr",
     "output_type": "stream",
     "text": [
      "/Users/barbenshabat/opt/anaconda3/lib/python3.8/site-packages/sklearn/linear_model/_ridge.py:187: LinAlgWarning: Ill-conditioned matrix (rcond=1.2434e-17): result may not be accurate.\n",
      "  dual_coef = linalg.solve(K, y, sym_pos=True,\n"
     ]
    },
    {
     "name": "stdout",
     "output_type": "stream",
     "text": [
      "MAE: -0.005\n",
      "Config: {'alpha': 0.0}\n",
      "Predicted: 0.132\n",
      "\n",
      "\n",
      "split= 10\n",
      "state= TEXAS\n",
      "MAE: -0.016\n",
      "Config: {'alpha': 0.11}\n",
      "Predicted: 0.359\n",
      "\n",
      "\n",
      "split= 10\n",
      "state= UTAH\n"
     ]
    },
    {
     "name": "stderr",
     "output_type": "stream",
     "text": [
      "/Users/barbenshabat/opt/anaconda3/lib/python3.8/site-packages/sklearn/linear_model/_ridge.py:190: UserWarning: Singular matrix in solving dual problem. Using least-squares solution instead.\n",
      "  warnings.warn(\"Singular matrix in solving dual problem. Using \"\n"
     ]
    },
    {
     "name": "stdout",
     "output_type": "stream",
     "text": [
      "MAE: -0.007\n",
      "Config: {'alpha': 0.0}\n",
      "Predicted: 0.038\n",
      "\n",
      "\n",
      "split= 10\n",
      "state= VERMONT\n",
      "MAE: -0.000\n",
      "Config: {'alpha': 0.08}\n",
      "Predicted: 0.000\n",
      "\n",
      "\n",
      "split= 10\n",
      "state= VIRGINIA\n"
     ]
    },
    {
     "name": "stderr",
     "output_type": "stream",
     "text": [
      "/Users/barbenshabat/opt/anaconda3/lib/python3.8/site-packages/sklearn/linear_model/_ridge.py:187: LinAlgWarning: Ill-conditioned matrix (rcond=3.51543e-17): result may not be accurate.\n",
      "  dual_coef = linalg.solve(K, y, sym_pos=True,\n"
     ]
    },
    {
     "name": "stdout",
     "output_type": "stream",
     "text": [
      "MAE: -0.003\n",
      "Config: {'alpha': 0.0}\n",
      "Predicted: 0.041\n",
      "\n",
      "\n",
      "split= 10\n",
      "state= WASHINGTON\n",
      "MAE: -0.012\n",
      "Config: {'alpha': 0.04}\n",
      "Predicted: 0.170\n",
      "\n",
      "\n",
      "split= 9\n",
      "state= WEST VIRGINIA\n",
      "MAE: -0.001\n",
      "Config: {'alpha': 0.07}\n",
      "Predicted: 0.005\n",
      "\n",
      "\n",
      "split= 10\n",
      "state= WISCONSIN\n",
      "MAE: -0.006\n",
      "Config: {'alpha': 0.01}\n",
      "Predicted: 0.058\n",
      "\n",
      "\n",
      "split= 10\n",
      "state= WYOMING\n",
      "MAE: -0.000\n",
      "Config: {'alpha': 0.02}\n",
      "Predicted: 0.003\n",
      "\n",
      "\n",
      "split= 9\n",
      "state= ILLINOIS\n",
      "MAE: -0.014\n",
      "Config: {'alpha': 0.06}\n",
      "Predicted: 0.117\n",
      "\n",
      "\n",
      "split= 9\n",
      "state= OREGON\n"
     ]
    },
    {
     "name": "stderr",
     "output_type": "stream",
     "text": [
      "/Users/barbenshabat/opt/anaconda3/lib/python3.8/site-packages/sklearn/linear_model/_ridge.py:187: LinAlgWarning: Ill-conditioned matrix (rcond=4.81036e-17): result may not be accurate.\n",
      "  dual_coef = linalg.solve(K, y, sym_pos=True,\n"
     ]
    },
    {
     "name": "stdout",
     "output_type": "stream",
     "text": [
      "MAE: -0.008\n",
      "Config: {'alpha': 0.0}\n",
      "Predicted: 0.112\n",
      "\n",
      "\n",
      "split= 7\n",
      "state= MINNESOTA\n",
      "MAE: -0.005\n",
      "Config: {'alpha': 0.01}\n",
      "Predicted: 0.068\n",
      "\n",
      "\n",
      "---------crime--------------------------------- Arson1\n",
      "split= 8\n",
      "state= ALABAMA\n",
      "MAE: -0.014\n",
      "Config: {'alpha': 0.27}\n",
      "Predicted: 0.013\n",
      "\n",
      "\n",
      "split= 9\n",
      "state= ALASKA\n",
      "MAE: -0.002\n",
      "Config: {'alpha': 0.01}\n",
      "Predicted: 0.010\n",
      "\n",
      "\n",
      "split= 10\n",
      "state= ARIZONA\n"
     ]
    },
    {
     "name": "stderr",
     "output_type": "stream",
     "text": [
      "/Users/barbenshabat/opt/anaconda3/lib/python3.8/site-packages/sklearn/linear_model/_ridge.py:187: LinAlgWarning: Ill-conditioned matrix (rcond=3.01871e-17): result may not be accurate.\n",
      "  dual_coef = linalg.solve(K, y, sym_pos=True,\n"
     ]
    },
    {
     "name": "stdout",
     "output_type": "stream",
     "text": [
      "MAE: -0.005\n",
      "Config: {'alpha': 0.0}\n",
      "Predicted: 0.135\n",
      "\n",
      "\n",
      "split= 10\n",
      "state= ARKANSAS\n"
     ]
    },
    {
     "name": "stderr",
     "output_type": "stream",
     "text": [
      "/Users/barbenshabat/opt/anaconda3/lib/python3.8/site-packages/sklearn/linear_model/_ridge.py:190: UserWarning: Singular matrix in solving dual problem. Using least-squares solution instead.\n",
      "  warnings.warn(\"Singular matrix in solving dual problem. Using \"\n"
     ]
    },
    {
     "name": "stdout",
     "output_type": "stream",
     "text": [
      "MAE: -0.003\n",
      "Config: {'alpha': 0.0}\n",
      "Predicted: 0.047\n",
      "\n",
      "\n",
      "split= 10\n",
      "state= CALIFORNIA\n",
      "MAE: -0.026\n",
      "Config: {'alpha': 0.07}\n",
      "Predicted: 1.026\n",
      "\n",
      "\n",
      "split= 10\n",
      "state= COLORADO\n"
     ]
    },
    {
     "name": "stderr",
     "output_type": "stream",
     "text": [
      "/Users/barbenshabat/opt/anaconda3/lib/python3.8/site-packages/sklearn/linear_model/_ridge.py:187: LinAlgWarning: Ill-conditioned matrix (rcond=4.31616e-18): result may not be accurate.\n",
      "  dual_coef = linalg.solve(K, y, sym_pos=True,\n"
     ]
    },
    {
     "name": "stdout",
     "output_type": "stream",
     "text": [
      "MAE: -0.007\n",
      "Config: {'alpha': 0.0}\n",
      "Predicted: 0.106\n",
      "\n",
      "\n",
      "split= 10\n",
      "state= CONNECTICUT\n",
      "MAE: -0.008\n",
      "Config: {'alpha': 0.05}\n",
      "Predicted: 0.041\n",
      "\n",
      "\n",
      "split= 10\n",
      "state= DELAWARE\n",
      "MAE: -0.001\n",
      "Config: {'alpha': 0.99}\n",
      "Predicted: 0.002\n",
      "\n",
      "\n",
      "split= 10\n",
      "state= DISTRICT OF COLUMBIA\n",
      "MAE: -0.002\n",
      "Config: {'alpha': 0.03}\n",
      "Predicted: -0.000\n",
      "\n",
      "\n",
      "split= 10\n",
      "state= FLORIDA\n"
     ]
    },
    {
     "name": "stderr",
     "output_type": "stream",
     "text": [
      "/Users/barbenshabat/opt/anaconda3/lib/python3.8/site-packages/sklearn/linear_model/_ridge.py:187: LinAlgWarning: Ill-conditioned matrix (rcond=1.95933e-17): result may not be accurate.\n",
      "  dual_coef = linalg.solve(K, y, sym_pos=True,\n"
     ]
    },
    {
     "name": "stdout",
     "output_type": "stream",
     "text": [
      "MAE: -0.009\n",
      "Config: {'alpha': 0.0}\n",
      "Predicted: 0.089\n",
      "\n",
      "\n",
      "split= 8\n",
      "state= GEORGIA\n"
     ]
    },
    {
     "name": "stderr",
     "output_type": "stream",
     "text": [
      "/Users/barbenshabat/opt/anaconda3/lib/python3.8/site-packages/sklearn/linear_model/_ridge.py:190: UserWarning: Singular matrix in solving dual problem. Using least-squares solution instead.\n",
      "  warnings.warn(\"Singular matrix in solving dual problem. Using \"\n"
     ]
    },
    {
     "name": "stdout",
     "output_type": "stream",
     "text": [
      "MAE: -0.008\n",
      "Config: {'alpha': 0.0}\n",
      "Predicted: 0.037\n",
      "\n",
      "\n",
      "split= 6\n",
      "state= HAWAII\n"
     ]
    },
    {
     "name": "stderr",
     "output_type": "stream",
     "text": [
      "/Users/barbenshabat/opt/anaconda3/lib/python3.8/site-packages/sklearn/linear_model/_ridge.py:190: UserWarning: Singular matrix in solving dual problem. Using least-squares solution instead.\n",
      "  warnings.warn(\"Singular matrix in solving dual problem. Using \"\n"
     ]
    },
    {
     "name": "stdout",
     "output_type": "stream",
     "text": [
      "MAE: -0.008\n",
      "Config: {'alpha': 0.0}\n",
      "Predicted: 0.057\n",
      "\n",
      "\n",
      "split= 10\n",
      "state= IDAHO\n",
      "MAE: -0.003\n",
      "Config: {'alpha': 0.99}\n",
      "Predicted: 0.023\n",
      "\n",
      "\n",
      "split= 10\n",
      "state= INDIANA\n"
     ]
    },
    {
     "name": "stderr",
     "output_type": "stream",
     "text": [
      "/Users/barbenshabat/opt/anaconda3/lib/python3.8/site-packages/sklearn/linear_model/_ridge.py:187: LinAlgWarning: Ill-conditioned matrix (rcond=1.78628e-17): result may not be accurate.\n",
      "  dual_coef = linalg.solve(K, y, sym_pos=True,\n"
     ]
    },
    {
     "name": "stdout",
     "output_type": "stream",
     "text": [
      "MAE: -0.017\n",
      "Config: {'alpha': 0.0}\n",
      "Predicted: 0.044\n",
      "\n",
      "\n",
      "split= 9\n",
      "state= IOWA\n",
      "MAE: -0.004\n",
      "Config: {'alpha': 0.04}\n",
      "Predicted: 0.049\n",
      "\n",
      "\n",
      "split= 10\n",
      "state= KANSAS\n",
      "MAE: -0.010\n",
      "Config: {'alpha': 0.02}\n",
      "Predicted: 0.047\n",
      "\n",
      "\n",
      "split= 10\n",
      "state= KENTUCKY\n",
      "MAE: -0.007\n",
      "Config: {'alpha': 0.02}\n",
      "Predicted: 0.027\n",
      "\n",
      "\n",
      "split= 10\n",
      "state= LOUISIANA\n",
      "MAE: -0.012\n",
      "Config: {'alpha': 0.15}\n",
      "Predicted: 0.048\n",
      "\n",
      "\n",
      "split= 10\n",
      "state= MAINE\n",
      "MAE: -0.002\n",
      "Config: {'alpha': 0.15}\n",
      "Predicted: 0.008\n",
      "\n",
      "\n",
      "split= 10\n",
      "state= MARYLAND\n",
      "MAE: -0.010\n",
      "Config: {'alpha': 0.01}\n",
      "Predicted: 0.034\n",
      "\n",
      "\n",
      "split= 10\n",
      "state= MASSACHUSETTS\n",
      "MAE: -0.008\n",
      "Config: {'alpha': 0.35000000000000003}\n",
      "Predicted: 0.051\n",
      "\n",
      "\n",
      "split= 10\n",
      "state= MICHIGAN\n"
     ]
    },
    {
     "name": "stderr",
     "output_type": "stream",
     "text": [
      "/Users/barbenshabat/opt/anaconda3/lib/python3.8/site-packages/sklearn/linear_model/_ridge.py:190: UserWarning: Singular matrix in solving dual problem. Using least-squares solution instead.\n",
      "  warnings.warn(\"Singular matrix in solving dual problem. Using \"\n"
     ]
    },
    {
     "name": "stdout",
     "output_type": "stream",
     "text": [
      "MAE: -0.031\n",
      "Config: {'alpha': 0.0}\n",
      "Predicted: 0.189\n",
      "\n",
      "\n",
      "split= 10\n",
      "state= MISSISSIPPI\n",
      "MAE: -0.010\n",
      "Config: {'alpha': 0.02}\n",
      "Predicted: 0.006\n",
      "\n",
      "\n",
      "split= 10\n",
      "state= MISSOURI\n",
      "MAE: -0.012\n",
      "Config: {'alpha': 0.02}\n",
      "Predicted: 0.111\n",
      "\n",
      "\n",
      "split= 9\n",
      "state= MONTANA\n",
      "MAE: -0.003\n",
      "Config: {'alpha': 0.08}\n",
      "Predicted: 0.011\n",
      "\n",
      "\n",
      "split= 10\n",
      "state= NEBRASKA\n",
      "MAE: -0.008\n",
      "Config: {'alpha': 0.01}\n",
      "Predicted: 0.002\n",
      "\n",
      "\n",
      "split= 10\n",
      "state= NEVADA\n",
      "MAE: -0.004\n",
      "Config: {'alpha': 0.02}\n",
      "Predicted: 0.027\n",
      "\n",
      "\n",
      "split= 10\n",
      "state= NEW HAMPSHIRE\n",
      "MAE: -0.005\n",
      "Config: {'alpha': 0.05}\n",
      "Predicted: 0.024\n",
      "\n",
      "\n",
      "split= 9\n",
      "state= NEW JERSEY\n"
     ]
    },
    {
     "name": "stderr",
     "output_type": "stream",
     "text": [
      "/Users/barbenshabat/opt/anaconda3/lib/python3.8/site-packages/sklearn/linear_model/_ridge.py:190: UserWarning: Singular matrix in solving dual problem. Using least-squares solution instead.\n",
      "  warnings.warn(\"Singular matrix in solving dual problem. Using \"\n"
     ]
    },
    {
     "name": "stdout",
     "output_type": "stream",
     "text": [
      "MAE: -0.007\n",
      "Config: {'alpha': 0.0}\n",
      "Predicted: 0.071\n",
      "\n",
      "\n",
      "split= 10\n",
      "state= NEW MEXICO\n"
     ]
    },
    {
     "name": "stderr",
     "output_type": "stream",
     "text": [
      "/Users/barbenshabat/opt/anaconda3/lib/python3.8/site-packages/sklearn/linear_model/_ridge.py:187: LinAlgWarning: Ill-conditioned matrix (rcond=3.8136e-17): result may not be accurate.\n",
      "  dual_coef = linalg.solve(K, y, sym_pos=True,\n"
     ]
    },
    {
     "name": "stdout",
     "output_type": "stream",
     "text": [
      "MAE: -0.008\n",
      "Config: {'alpha': 0.0}\n",
      "Predicted: 0.021\n",
      "\n",
      "\n",
      "split= 9\n",
      "state= NEW YORK\n",
      "MAE: -0.023\n",
      "Config: {'alpha': 0.05}\n",
      "Predicted: 0.104\n",
      "\n",
      "\n",
      "split= 7\n",
      "state= NORTH CAROLINA\n"
     ]
    },
    {
     "name": "stderr",
     "output_type": "stream",
     "text": [
      "/Users/barbenshabat/opt/anaconda3/lib/python3.8/site-packages/sklearn/linear_model/_ridge.py:190: UserWarning: Singular matrix in solving dual problem. Using least-squares solution instead.\n",
      "  warnings.warn(\"Singular matrix in solving dual problem. Using \"\n"
     ]
    },
    {
     "name": "stdout",
     "output_type": "stream",
     "text": [
      "MAE: -0.017\n",
      "Config: {'alpha': 0.0}\n",
      "Predicted: 0.094\n",
      "\n",
      "\n",
      "split= 10\n",
      "state= NORTH DAKOTA\n",
      "MAE: -0.002\n",
      "Config: {'alpha': 0.14}\n",
      "Predicted: 0.007\n",
      "\n",
      "\n",
      "split= 10\n",
      "state= OHIO\n",
      "MAE: -0.070\n",
      "Config: {'alpha': 0.07}\n",
      "Predicted: 0.066\n",
      "\n",
      "\n",
      "split= 10\n",
      "state= OKLAHOMA\n",
      "MAE: -0.007\n",
      "Config: {'alpha': 0.07}\n",
      "Predicted: 0.078\n",
      "\n",
      "\n",
      "split= 10\n",
      "state= PENNSYLVANIA\n",
      "MAE: -0.014\n",
      "Config: {'alpha': 0.99}\n",
      "Predicted: 0.172\n",
      "\n",
      "\n",
      "split= 10\n",
      "state= RHODE ISLAND\n",
      "MAE: -0.003\n",
      "Config: {'alpha': 0.01}\n",
      "Predicted: 0.021\n",
      "\n",
      "\n",
      "split= 10\n",
      "state= SOUTH CAROLINA\n",
      "MAE: -0.002\n",
      "Config: {'alpha': 0.32}\n",
      "Predicted: 0.030\n",
      "\n",
      "\n",
      "split= 10\n",
      "state= SOUTH DAKOTA\n",
      "MAE: -0.002\n",
      "Config: {'alpha': 0.01}\n",
      "Predicted: 0.010\n",
      "\n",
      "\n",
      "split= 10\n",
      "state= TENNESSEE\n"
     ]
    },
    {
     "name": "stderr",
     "output_type": "stream",
     "text": [
      "/Users/barbenshabat/opt/anaconda3/lib/python3.8/site-packages/sklearn/linear_model/_ridge.py:187: LinAlgWarning: Ill-conditioned matrix (rcond=1.70594e-17): result may not be accurate.\n",
      "  dual_coef = linalg.solve(K, y, sym_pos=True,\n"
     ]
    },
    {
     "name": "stdout",
     "output_type": "stream",
     "text": [
      "MAE: -0.007\n",
      "Config: {'alpha': 0.0}\n",
      "Predicted: 0.067\n",
      "\n",
      "\n",
      "split= 10\n",
      "state= TEXAS\n"
     ]
    },
    {
     "name": "stderr",
     "output_type": "stream",
     "text": [
      "/Users/barbenshabat/opt/anaconda3/lib/python3.8/site-packages/sklearn/linear_model/_ridge.py:190: UserWarning: Singular matrix in solving dual problem. Using least-squares solution instead.\n",
      "  warnings.warn(\"Singular matrix in solving dual problem. Using \"\n"
     ]
    },
    {
     "name": "stdout",
     "output_type": "stream",
     "text": [
      "MAE: -0.026\n",
      "Config: {'alpha': 0.0}\n",
      "Predicted: 0.283\n",
      "\n",
      "\n",
      "split= 10\n",
      "state= UTAH\n"
     ]
    },
    {
     "name": "stderr",
     "output_type": "stream",
     "text": [
      "/Users/barbenshabat/opt/anaconda3/lib/python3.8/site-packages/sklearn/linear_model/_ridge.py:190: UserWarning: Singular matrix in solving dual problem. Using least-squares solution instead.\n",
      "  warnings.warn(\"Singular matrix in solving dual problem. Using \"\n"
     ]
    },
    {
     "name": "stdout",
     "output_type": "stream",
     "text": [
      "MAE: -0.004\n",
      "Config: {'alpha': 0.0}\n",
      "Predicted: 0.020\n",
      "\n",
      "\n",
      "split= 10\n",
      "state= VERMONT\n",
      "MAE: -0.001\n",
      "Config: {'alpha': 0.99}\n",
      "Predicted: 0.003\n",
      "\n",
      "\n",
      "split= 10\n",
      "state= VIRGINIA\n",
      "MAE: -0.005\n",
      "Config: {'alpha': 0.02}\n",
      "Predicted: 0.047\n",
      "\n",
      "\n",
      "split= 10\n",
      "state= WASHINGTON\n"
     ]
    },
    {
     "name": "stderr",
     "output_type": "stream",
     "text": [
      "/Users/barbenshabat/opt/anaconda3/lib/python3.8/site-packages/sklearn/linear_model/_ridge.py:187: LinAlgWarning: Ill-conditioned matrix (rcond=1.33904e-17): result may not be accurate.\n",
      "  dual_coef = linalg.solve(K, y, sym_pos=True,\n"
     ]
    },
    {
     "name": "stdout",
     "output_type": "stream",
     "text": [
      "MAE: -0.004\n",
      "Config: {'alpha': 0.0}\n",
      "Predicted: 0.099\n",
      "\n",
      "\n",
      "split= 9\n",
      "state= WEST VIRGINIA\n",
      "MAE: -0.002\n",
      "Config: {'alpha': 0.03}\n",
      "Predicted: 0.012\n",
      "\n",
      "\n",
      "split= 10\n",
      "state= WISCONSIN\n"
     ]
    },
    {
     "name": "stderr",
     "output_type": "stream",
     "text": [
      "/Users/barbenshabat/opt/anaconda3/lib/python3.8/site-packages/sklearn/linear_model/_ridge.py:187: LinAlgWarning: Ill-conditioned matrix (rcond=3.64092e-17): result may not be accurate.\n",
      "  dual_coef = linalg.solve(K, y, sym_pos=True,\n"
     ]
    },
    {
     "name": "stdout",
     "output_type": "stream",
     "text": [
      "MAE: -0.009\n",
      "Config: {'alpha': 0.0}\n",
      "Predicted: 0.079\n",
      "\n",
      "\n",
      "split= 10\n",
      "state= WYOMING\n",
      "MAE: -0.002\n",
      "Config: {'alpha': 0.99}\n",
      "Predicted: 0.006\n",
      "\n",
      "\n",
      "split= 9\n",
      "state= ILLINOIS\n"
     ]
    },
    {
     "name": "stderr",
     "output_type": "stream",
     "text": [
      "/Users/barbenshabat/opt/anaconda3/lib/python3.8/site-packages/sklearn/linear_model/_ridge.py:187: LinAlgWarning: Ill-conditioned matrix (rcond=2.4335e-17): result may not be accurate.\n",
      "  dual_coef = linalg.solve(K, y, sym_pos=True,\n"
     ]
    },
    {
     "name": "stdout",
     "output_type": "stream",
     "text": [
      "MAE: -0.012\n",
      "Config: {'alpha': 0.0}\n",
      "Predicted: 0.138\n",
      "\n",
      "\n",
      "split= 9\n",
      "state= OREGON\n",
      "MAE: -0.024\n",
      "Config: {'alpha': 0.01}\n",
      "Predicted: 0.075\n",
      "\n",
      "\n",
      "split= 7\n",
      "state= MINNESOTA\n",
      "MAE: -0.010\n",
      "Config: {'alpha': 0.0}\n",
      "Predicted: 0.059\n",
      "\n",
      "\n"
     ]
    },
    {
     "name": "stderr",
     "output_type": "stream",
     "text": [
      "/Users/barbenshabat/opt/anaconda3/lib/python3.8/site-packages/sklearn/linear_model/_ridge.py:187: LinAlgWarning: Ill-conditioned matrix (rcond=1.17769e-17): result may not be accurate.\n",
      "  dual_coef = linalg.solve(K, y, sym_pos=True,\n"
     ]
    }
   ],
   "source": [
    "\n",
    "\n",
    "# Get data\n",
    "path='/Users/barbenshabat/Downloads/KFF_handling/'\n",
    "name='df_Y_S_KFF.xlsx'\n",
    "df_kff=pd.read_excel(path+name, index_col=0) # read each file in the folder\n",
    "df_kff.shape\n",
    "\n",
    "# Copy the data\n",
    "df_sklearn = df_kff.copy()\n",
    "\n",
    "# Apply normalization techniques\n",
    "cols=df_kff.drop({'Governor Political Affiliation'},axis=1).iloc[:,2:].columns #all relevant numeric\n",
    "\n",
    "  \n",
    "# Normlize\n",
    "for column in cols: \n",
    "    df_sklearn[column] = MinMaxScaler().fit_transform(np.array(df_sklearn[column]).reshape(-1,1))\n",
    "\n",
    "crime_list = df_kff.iloc[:,3:13].columns\n",
    "states=[]\n",
    "list_of_prediction_lists = []\n",
    "\n",
    "#List of states in the US\n",
    "for state in df_kff.State:\n",
    "    if state in states:\n",
    "        continue\n",
    "    else:\n",
    "        states.append(state)\n",
    "\n",
    "for crime in crime_list:\n",
    "    print(\"---------crime---------------------------------\", crime)\n",
    "    list_of_prediction_lists.append(preper_for_ridge(df_sklearn,states,crime))\n",
    "\n"
   ]
  },
  {
   "cell_type": "code",
   "execution_count": 238,
   "metadata": {
    "scrolled": true
   },
   "outputs": [
    {
     "name": "stderr",
     "output_type": "stream",
     "text": [
      "/Users/barbenshabat/opt/anaconda3/lib/python3.8/site-packages/ipykernel/ipkernel.py:287: DeprecationWarning: `should_run_async` will not call `transform_cell` automatically in the future. Please pass the result to `transformed_cell` argument and any exception that happen during thetransform in `preprocessing_exc_tuple` in IPython 7.17 and above.\n",
      "  and should_run_async(code)\n"
     ]
    }
   ],
   "source": [
    "predictions_df = pd.DataFrame(states, columns =['State'])\n",
    "df19 = df_sklearn[df_sklearn['Year']== 2019] #shape (48,100)\n",
    "\n",
    "for idx,crime in enumerate(crime_list):\n",
    "    pred = list_of_prediction_lists[idx]\n",
    "    actu = df19.loc[:,crime]\n",
    "    predictions_df.insert(len(predictions_df.columns),\"Pred \"+crime,pred) #shape (51,11)\n",
    "    \n",
    "    \n",
    "x = list(set(states).difference(df19['State']))\n",
    "y_48_11=predictions_df.copy()\n",
    "\n",
    "predictions_df[\"Sum pred\"] = predictions_df.sum(axis=1)\n",
    "\n",
    "for val in x:\n",
    "    y_48_11.drop(y_48_11.loc[y_48_11['State']==val].index, inplace=True)#shape (48,11)\n",
    "    \n",
    "y_48_11[\"Sum pred\"] = y_48_11.sum(axis=1)\n",
    "\n",
    "map_df = pd.DataFrame(y_48_11, columns =['State']) #shape (48,1)\n",
    "\n",
    "for idx,crime in enumerate(crime_list):\n",
    "    pred = y_48_11.iloc[:,idx+1]\n",
    "    actu = list(df19.iloc[:,idx+2])\n",
    "    map_df.insert(len(map_df.columns),\"Pred \"+crime,pred)\n",
    "    map_df.insert(len(map_df.columns),\"Actual \"+crime,actu)    \n",
    "    map_df.insert(len(map_df.columns),\"deviation \"+crime,abs(actu-pred))\n",
    "    div = (map_df[\"deviation \"+crime] / map_df[\"deviation \"+crime].sum()) * 100\n",
    "    map_df.insert(len(map_df.columns),\"deviation \"+crime+\" %\",div)\n",
    "    \n",
    "for i in range (3):\n",
    "    entry = predictions_df.loc[predictions_df['State'] == x[i]]\n",
    "    map_df = pd.concat([map_df,entry])\n",
    "    \n",
    "map_df[\"Sum pred\"] = predictions_df[\"Sum pred\"]\n",
    "map_df=map_df.round(decimals=3)\n",
    "map_df=map_df.sort_values(by=[map_df.columns[0]])\n",
    "map_df.to_excel('Ridge model all crime.xlsx',engine='xlsxwriter')\n",
    "map_df.head()"
   ]
  },
  {
   "cell_type": "code",
   "execution_count": null,
   "metadata": {},
   "outputs": [],
   "source": [
    "divper = pd.DataFrame(map_df, columns = ['deviation Violent crime %',\n",
    " 'deviation Murder and nonnegligent manslaughter %',\n",
    " 'deviation Forcible rape %',\n",
    " 'deviation Robbery %',\n",
    " 'deviation Aggravated assault %',\n",
    " 'deviation Property crime %',\n",
    " 'deviation Burglary %',\n",
    " 'deviation Larceny-theft %',\n",
    " 'deviation Motor vehicle theft %',\n",
    " 'deviation Arson1 %'])\n",
    "divper.describe()"
   ]
  }
 ],
 "metadata": {
  "kernelspec": {
   "display_name": "Python 3",
   "language": "python",
   "name": "python3"
  },
  "language_info": {
   "codemirror_mode": {
    "name": "ipython",
    "version": 3
   },
   "file_extension": ".py",
   "mimetype": "text/x-python",
   "name": "python",
   "nbconvert_exporter": "python",
   "pygments_lexer": "ipython3",
   "version": "3.8.8"
  }
 },
 "nbformat": 4,
 "nbformat_minor": 4
}
